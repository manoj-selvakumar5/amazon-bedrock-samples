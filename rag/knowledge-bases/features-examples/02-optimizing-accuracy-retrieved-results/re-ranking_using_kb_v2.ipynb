{
 "cells": [
  {
   "cell_type": "markdown",
   "id": "15c08f81",
   "metadata": {},
   "source": [
    "# Re-ranking\n",
    "\n",
    "Amazon Bedrock provides access to reranker models that you can use when querying to improve the relevance of the retrieved results.  reranker model calculates the relevance of chunks to a query and reorders the results based on the scores that it calculates. By using a reranker model, you can return responses that are better suited to answering the query. \n",
    "\n",
    "Reranker models are trained to identify relevance signals based on a query and then use those signals to rank documents. Because of this, the models can provide more relevant, more accurate results.\n",
    "\n",
    "If you're using `Amazon Bedrock Knowledge Bases` for building your Retrieval Augmented Generation (RAG) application, use a reranker model while calling the `Retrieve` or `RetrieveAndGenerate operation`. The results from reranking override the default ranking that Amazon Bedrock Knowledge Bases determines.\n",
    "\n",
    "This notebook demonstrates the use of **reranking model** with Amazon Bedrock Knowledge Bases, through the Rerank API which will help to further improve the accuracy and relevance of RAG applications. With a reranker model, you can retrieve fewer, but more relevant, results. By feeding these results to the foundation model that you use to generate a response, you can also decrease cost and latency.\n",
    "\n",
    "Let's explore how to implement and utilize reranking models with Amazon Bedrock Knowledge Bases for an example use case."
   ]
  },
  {
   "cell_type": "markdown",
   "id": "ece99ba7",
   "metadata": {},
   "source": [
    "## 1. Setup\n",
    "Before running the rest of this notebook, you'll need to run the cells below to (ensure necessary libraries are installed and) connect to Bedrock.\n",
    "\n",
    "Please ignore any pip dependency error (if you see any while installing libraries)"
   ]
  },
  {
   "cell_type": "code",
   "execution_count": null,
   "id": "dc89fe3a",
   "metadata": {},
   "outputs": [
    {
     "name": "stdout",
     "output_type": "stream",
     "text": [
      "\u001b[31mERROR: pip's dependency resolver does not currently take into account all the packages that are installed. This behaviour is the source of the following dependency conflicts.\n",
      "aiobotocore 2.12.0 requires botocore<1.34.52,>=1.34.41, but you have botocore 1.35.79 which is incompatible.\n",
      "sagemaker 2.208.0 requires attrs<24,>=23.1.0, but you have attrs 24.2.0 which is incompatible.\n",
      "tokenizers 0.14.1 requires huggingface_hub<0.18,>=0.16.4, but you have huggingface-hub 0.26.5 which is incompatible.\u001b[0m\u001b[31m\n",
      "\u001b[0mNote: you may need to restart the kernel to use updated packages.\n"
     ]
    }
   ],
   "source": [
    "# %pip install --force-reinstall -q -r utils/requirements.txt --quiet"
   ]
  },
  {
   "cell_type": "code",
   "execution_count": null,
   "id": "57056c5d",
   "metadata": {},
   "outputs": [
    {
     "name": "stdout",
     "output_type": "stream",
     "text": [
      "Requirement already satisfied: boto3 in /opt/homebrew/Caskroom/miniforge/base/envs/genai-on-aws-p3.8/lib/python3.8/site-packages (1.35.79)\n",
      "Requirement already satisfied: botocore<1.36.0,>=1.35.79 in /opt/homebrew/Caskroom/miniforge/base/envs/genai-on-aws-p3.8/lib/python3.8/site-packages (from boto3) (1.35.79)\n",
      "Requirement already satisfied: jmespath<2.0.0,>=0.7.1 in /opt/homebrew/Caskroom/miniforge/base/envs/genai-on-aws-p3.8/lib/python3.8/site-packages (from boto3) (1.0.1)\n",
      "Requirement already satisfied: s3transfer<0.11.0,>=0.10.0 in /opt/homebrew/Caskroom/miniforge/base/envs/genai-on-aws-p3.8/lib/python3.8/site-packages (from boto3) (0.10.4)\n",
      "Requirement already satisfied: python-dateutil<3.0.0,>=2.1 in /opt/homebrew/Caskroom/miniforge/base/envs/genai-on-aws-p3.8/lib/python3.8/site-packages (from botocore<1.36.0,>=1.35.79->boto3) (2.9.0.post0)\n",
      "Requirement already satisfied: urllib3<1.27,>=1.25.4 in /opt/homebrew/Caskroom/miniforge/base/envs/genai-on-aws-p3.8/lib/python3.8/site-packages (from botocore<1.36.0,>=1.35.79->boto3) (1.26.20)\n",
      "Requirement already satisfied: six>=1.5 in /opt/homebrew/Caskroom/miniforge/base/envs/genai-on-aws-p3.8/lib/python3.8/site-packages (from python-dateutil<3.0.0,>=2.1->botocore<1.36.0,>=1.35.79->boto3) (1.17.0)\n",
      "Note: you may need to restart the kernel to use updated packages.\n"
     ]
    }
   ],
   "source": [
    "# %pip install --upgrade boto3"
   ]
  },
  {
   "cell_type": "code",
   "execution_count": null,
   "id": "165e5495",
   "metadata": {},
   "outputs": [
    {
     "data": {
      "text/html": [
       "<script>Jupyter.notebook.kernel.restart()</script>"
      ],
      "text/plain": [
       "<IPython.core.display.HTML object>"
      ]
     },
     "execution_count": 3,
     "metadata": {},
     "output_type": "execute_result"
    }
   ],
   "source": [
    "# # restart kernel\n",
    "# from IPython.core.display import HTML\n",
    "# HTML(\"<script>Jupyter.notebook.kernel.restart()</script>\")"
   ]
  },
  {
   "cell_type": "code",
   "execution_count": 1,
   "id": "7c1c0eb1",
   "metadata": {},
   "outputs": [
    {
     "name": "stdout",
     "output_type": "stream",
     "text": [
      "1.35.79\n"
     ]
    }
   ],
   "source": [
    "import boto3\n",
    "print(boto3.__version__)"
   ]
  },
  {
   "cell_type": "code",
   "execution_count": 2,
   "id": "7173b4bf",
   "metadata": {},
   "outputs": [],
   "source": [
    "import warnings\n",
    "warnings.filterwarnings('ignore')"
   ]
  },
  {
   "cell_type": "code",
   "execution_count": 3,
   "id": "84241929",
   "metadata": {},
   "outputs": [],
   "source": [
    "import os\n",
    "import time\n",
    "import boto3\n",
    "import logging\n",
    "import pprint\n",
    "import json\n",
    "\n",
    "from utils.knowledge_base import BedrockKnowledgeBase"
   ]
  },
  {
   "cell_type": "code",
   "execution_count": 4,
   "id": "cda1c18f",
   "metadata": {},
   "outputs": [
    {
     "data": {
      "text/plain": [
       "('us-west-2', '533267284022')"
      ]
     },
     "execution_count": 4,
     "metadata": {},
     "output_type": "execute_result"
    }
   ],
   "source": [
    "#Clients\n",
    "s3_client = boto3.client('s3')\n",
    "sts_client = boto3.client('sts')\n",
    "session = boto3.session.Session(region_name = 'us-west-2')\n",
    "region =  session.region_name\n",
    "account_id = sts_client.get_caller_identity()[\"Account\"]\n",
    "bedrock_agent_client = boto3.client('bedrock-agent')\n",
    "bedrock_agent_runtime_client = boto3.client('bedrock-agent-runtime') \n",
    "logging.basicConfig(format='[%(asctime)s] p%(process)s {%(filename)s:%(lineno)d} %(levelname)s - %(message)s', level=logging.INFO)\n",
    "logger = logging.getLogger(__name__)\n",
    "region, account_id"
   ]
  },
  {
   "cell_type": "code",
   "execution_count": 5,
   "id": "5d74b5be",
   "metadata": {},
   "outputs": [],
   "source": [
    "import time\n",
    "\n",
    "# Get the current timestamp\n",
    "current_time = time.time()\n",
    "\n",
    "# Format the timestamp as a string\n",
    "timestamp_str = time.strftime(\"%Y%m%d%H%M%S\", time.localtime(current_time))[-7:]\n",
    "# Create the suffix using the timestamp\n",
    "suffix = f\"{timestamp_str}\"\n",
    "knowledge_base_name = 'reranking-kb'\n",
    "knowledge_base_description = \"Knowledge Base for re-ranking.\"\n",
    "bucket_name = f'{knowledge_base_name}-{suffix}'\n",
    "foundation_model = \"anthropic.claude-3-sonnet-20240229-v1:0\""
   ]
  },
  {
   "cell_type": "markdown",
   "id": "e5142d7f",
   "metadata": {},
   "source": [
    "## 2 - Create knowledge bases with fixed chunking strategy\n",
    "Let's start by creating a [Knowledge Base for Amazon Bedrock](https://aws.amazon.com/bedrock/knowledge-bases/) to store video games data in csv format. Knowledge Bases allow you to integrate with different vector databases including [Amazon OpenSearch Serverless](https://aws.amazon.com/opensearch-service/features/serverless/), [Amazon Aurora](https://aws.amazon.com/rds/aurora/), [Pinecone](http://app.pinecone.io/bedrock-integration), [Redis Enterprise]() and [MongoDB Atlas](). For this example, we will integrate the knowledge base with Amazon OpenSearch Serverless. To do so, we will use the helper class `BedrockKnowledgeBase` which will create the knowledge base and all of its pre-requisites:\n",
    "1. IAM roles and policies\n",
    "2. S3 bucket\n",
    "3. Amazon OpenSearch Serverless encryption, network and data access policies\n",
    "4. Amazon OpenSearch Serverless collection\n",
    "5. Amazon OpenSearch Serverless vector index\n",
    "6. Knowledge base\n",
    "7. Knowledge base data source"
   ]
  },
  {
   "cell_type": "markdown",
   "id": "8283567d",
   "metadata": {},
   "source": [
    "We will create a knowledge base using fixed chunking strategy. \n",
    "\n",
    "You can chhose different chunking strategies by changing the below parameter values: \n",
    "```\n",
    "\"chunkingStrategy\": \"FIXED_SIZE | NONE | HIERARCHICAL | SEMANTIC\"\n",
    "```"
   ]
  },
  {
   "cell_type": "code",
   "execution_count": 6,
   "id": "258fbb58",
   "metadata": {},
   "outputs": [
    {
     "name": "stderr",
     "output_type": "stream",
     "text": [
      "[2024-12-12 21:28:41,821] p33632 {credentials.py:1278} INFO - Found credentials in shared credentials file: ~/.aws/credentials\n",
      "[2024-12-12 21:28:42,579] p33632 {credentials.py:1278} INFO - Found credentials in shared credentials file: ~/.aws/credentials\n"
     ]
    },
    {
     "name": "stdout",
     "output_type": "stream",
     "text": [
      "========================================================================================\n",
      "\n",
      " Region:  us-west-2\n",
      "Step 1 - Creating or retrieving S3 bucket(s) for Knowledge Base documents\n",
      "['reranking-kb-2212840']\n",
      "Creating bucket reranking-kb-2212840\n",
      "========================================================================================\n",
      "Step 2 - Creating Knowledge Base Execution Role (AmazonBedrockExecutionRoleForKnowledgeBase_2212840) and Policies\n",
      "========================================================================================\n",
      "Step 3 - Creating OSS encryption, network and data access policies\n",
      "========================================================================================\n",
      "Step 4 - Creating OSS Collection (this step takes a couple of minutes to complete)\n",
      "{ 'ResponseMetadata': { 'HTTPHeaders': { 'connection': 'keep-alive',\n",
      "                                         'content-length': '318',\n",
      "                                         'content-type': 'application/x-amz-json-1.0',\n",
      "                                         'date': 'Fri, 13 Dec 2024 05:28:45 '\n",
      "                                                 'GMT',\n",
      "                                         'x-amzn-requestid': '80315462-38a7-4d15-b8e7-f5ae09454dff'},\n",
      "                        'HTTPStatusCode': 200,\n",
      "                        'RequestId': '80315462-38a7-4d15-b8e7-f5ae09454dff',\n",
      "                        'RetryAttempts': 0},\n",
      "  'createCollectionDetail': { 'arn': 'arn:aws:aoss:us-west-2:533267284022:collection/z0nkxqky44v6l09fuh92',\n",
      "                              'createdDate': 1734067725200,\n",
      "                              'id': 'z0nkxqky44v6l09fuh92',\n",
      "                              'kmsKeyArn': 'auto',\n",
      "                              'lastModifiedDate': 1734067725200,\n",
      "                              'name': 'bedrock-sample-rag-2212840',\n",
      "                              'standbyReplicas': 'ENABLED',\n",
      "                              'status': 'CREATING',\n",
      "                              'type': 'VECTORSEARCH'}}\n",
      "z0nkxqky44v6l09fuh92.us-west-2.aoss.amazonaws.com\n",
      "Creating collection...\n",
      "..............................\n",
      "Collection successfully created:\n",
      "[ { 'arn': 'arn:aws:aoss:us-west-2:533267284022:collection/z0nkxqky44v6l09fuh92',\n",
      "    'collectionEndpoint': 'https://z0nkxqky44v6l09fuh92.us-west-2.aoss.amazonaws.com',\n",
      "    'createdDate': 1734067725200,\n",
      "    'dashboardEndpoint': 'https://z0nkxqky44v6l09fuh92.us-west-2.aoss.amazonaws.com/_dashboards',\n",
      "    'id': 'z0nkxqky44v6l09fuh92',\n",
      "    'kmsKeyArn': 'auto',\n",
      "    'lastModifiedDate': 1734067748171,\n",
      "    'name': 'bedrock-sample-rag-2212840',\n",
      "    'standbyReplicas': 'ENABLED',\n",
      "    'status': 'ACTIVE',\n",
      "    'type': 'VECTORSEARCH'}]\n",
      "Opensearch serverless arn:  arn:aws:iam::533267284022:policy/AmazonBedrockOSSPolicyForKnowledgeBase_2212840\n",
      "Sleeping for a minute to ensure data access rules have been enforced\n",
      "========================================================================================\n",
      "Step 5 - Creating OSS Vector Index\n"
     ]
    },
    {
     "name": "stderr",
     "output_type": "stream",
     "text": [
      "[2024-12-12 21:30:16,759] p33632 {base.py:258} INFO - PUT https://z0nkxqky44v6l09fuh92.us-west-2.aoss.amazonaws.com:443/bedrock-sample-rag-index-2212840 [status:200 request:0.667s]\n"
     ]
    },
    {
     "name": "stdout",
     "output_type": "stream",
     "text": [
      "\n",
      "Creating index:\n",
      "{ 'acknowledged': True,\n",
      "  'index': 'bedrock-sample-rag-index-2212840',\n",
      "  'shards_acknowledged': True}\n",
      "========================================================================================\n",
      "Step 6 - Will create Lambda Function if chunking strategy selected as CUSTOM\n",
      "Not creating lambda function as chunking strategy is FIXED_SIZE\n",
      "========================================================================================\n",
      "Step 7 - Creating Knowledge Base\n",
      "Creating KB with chunking strategy - FIXED_SIZE\n",
      "============Chunking config========\n",
      " {'chunkingConfiguration': {'chunkingStrategy': 'FIXED_SIZE', 'fixedSizeChunkingConfiguration': {'maxTokens': 300, 'overlapPercentage': 20}}}\n",
      "{ 'createdAt': datetime.datetime(2024, 12, 13, 5, 31, 17, 221066, tzinfo=tzutc()),\n",
      "  'description': 'Knowledge Base for re-ranking.',\n",
      "  'knowledgeBaseArn': 'arn:aws:bedrock:us-west-2:533267284022:knowledge-base/B7QMABTNFK',\n",
      "  'knowledgeBaseConfiguration': { 'type': 'VECTOR',\n",
      "                                  'vectorKnowledgeBaseConfiguration': { 'embeddingModelArn': 'arn:aws:bedrock:us-west-2::foundation-model/amazon.titan-embed-text-v2:0'}},\n",
      "  'knowledgeBaseId': 'B7QMABTNFK',\n",
      "  'name': 'reranking-kb-2212840',\n",
      "  'roleArn': 'arn:aws:iam::533267284022:role/AmazonBedrockExecutionRoleForKnowledgeBase_2212840',\n",
      "  'status': 'CREATING',\n",
      "  'storageConfiguration': { 'opensearchServerlessConfiguration': { 'collectionArn': 'arn:aws:aoss:us-west-2:533267284022:collection/z0nkxqky44v6l09fuh92',\n",
      "                                                                   'fieldMapping': { 'metadataField': 'text-metadata',\n",
      "                                                                                     'textField': 'text',\n",
      "                                                                                     'vectorField': 'vector'},\n",
      "                                                                   'vectorIndexName': 'bedrock-sample-rag-index-2212840'},\n",
      "                            'type': 'OPENSEARCH_SERVERLESS'},\n",
      "  'updatedAt': datetime.datetime(2024, 12, 13, 5, 31, 17, 221066, tzinfo=tzutc())}\n",
      "reranking-kb-2212840\n",
      "B7QMABTNFK\n",
      "{'bucketArn': 'arn:aws:s3:::reranking-kb-2212840'}\n",
      "{ 'createdAt': datetime.datetime(2024, 12, 13, 5, 31, 17, 660986, tzinfo=tzutc()),\n",
      "  'dataDeletionPolicy': 'RETAIN',\n",
      "  'dataSourceConfiguration': { 's3Configuration': { 'bucketArn': 'arn:aws:s3:::reranking-kb-2212840'},\n",
      "                               'type': 'S3'},\n",
      "  'dataSourceId': 'VAR0ZJI07S',\n",
      "  'description': 'Knowledge Base for re-ranking.',\n",
      "  'knowledgeBaseId': 'B7QMABTNFK',\n",
      "  'name': 'reranking-kb-2212840',\n",
      "  'status': 'AVAILABLE',\n",
      "  'updatedAt': datetime.datetime(2024, 12, 13, 5, 31, 17, 660986, tzinfo=tzutc()),\n",
      "  'vectorIngestionConfiguration': { 'chunkingConfiguration': { 'chunkingStrategy': 'FIXED_SIZE',\n",
      "                                                               'fixedSizeChunkingConfiguration': { 'maxTokens': 300,\n",
      "                                                                                                   'overlapPercentage': 20}}}}\n",
      "========================================================================================\n"
     ]
    }
   ],
   "source": [
    "knowledge_base_reranking = BedrockKnowledgeBase(\n",
    "    kb_name=f'{knowledge_base_name}-{suffix}',\n",
    "    kb_description=knowledge_base_description,\n",
    "    data_bucket_name=bucket_name, \n",
    "    chunking_strategy = \"FIXED_SIZE\", \n",
    "    suffix = suffix\n",
    ")"
   ]
  },
  {
   "cell_type": "markdown",
   "id": "c79183c7",
   "metadata": {},
   "source": [
    "### 2.1 Download Amazon 2019, 2020, 2021, 2022, & 2023 annual reports and upload it to Amazon S3\n",
    "\n",
    "Now that we have created the knowledge base, let's populate it with the `sec-10-k reports` dataset to KB. This data is being downloaded from [here](https://ir.aboutamazon.com/annual-reports-proxies-and-shareholder-letters/default.aspx). This data is about Amazon's annual reports, proxies and shareholder letters."
   ]
  },
  {
   "cell_type": "code",
   "execution_count": 7,
   "id": "c758da68",
   "metadata": {},
   "outputs": [
    {
     "name": "stdout",
     "output_type": "stream",
     "text": [
      "Directory 'sec-10-k' created successfully.\n"
     ]
    }
   ],
   "source": [
    "import os\n",
    "\n",
    "def create_directory(directory_name):    \n",
    "    if not os.path.exists(directory_name):\n",
    "        os.makedirs(directory_name)\n",
    "        print(f\"Directory '{directory_name}' created successfully.\")\n",
    "    else:\n",
    "        print(f\"Directory '{directory_name}' already exists.\")\n",
    "\n",
    "# Call the function to create the directory\n",
    "create_directory(\"sec-10-k\")"
   ]
  },
  {
   "cell_type": "code",
   "execution_count": 8,
   "id": "a2bf67c7",
   "metadata": {},
   "outputs": [
    {
     "name": "stdout",
     "output_type": "stream",
     "text": [
      "File downloaded successfully: ./sec-10-k/Amazon-com-Inc-2023-Annual-Report.pdf\n",
      "File downloaded successfully: ./sec-10-k/Amazon-2022-Annual-Report.pdf\n",
      "File downloaded successfully: ./sec-10-k/Amazon-2021-Annual-Report.pdf\n",
      "File downloaded successfully: ./sec-10-k/Amazon-2020-Annual-Report.pdf\n",
      "File downloaded successfully: ./sec-10-k/2019-Annual-Report.pdf\n"
     ]
    }
   ],
   "source": [
    "import requests\n",
    "\n",
    "def download_file(url, filename):\n",
    "    # Send a GET request to the URL\n",
    "    response = requests.get(url)\n",
    "    \n",
    "    # Check if the request was successful\n",
    "    if response.status_code == 200:\n",
    "        # Open the file in write-binary mode\n",
    "        with open(filename, 'wb') as file:\n",
    "            # Write the content of the response to the file\n",
    "            file.write(response.content)\n",
    "        print(f\"File downloaded successfully: {filename}\")\n",
    "    else:\n",
    "        print(f\"Failed to download file. Status code: {response.status_code}\")\n",
    "\n",
    "# URL of the files to download\n",
    "urls = [\"https://s2.q4cdn.com/299287126/files/doc_financials/2024/ar/Amazon-com-Inc-2023-Annual-Report.pdf\",\n",
    "        \"https://s2.q4cdn.com/299287126/files/doc_financials/2023/ar/Amazon-2022-Annual-Report.pdf\",\n",
    "        \"https://s2.q4cdn.com/299287126/files/doc_financials/2022/ar/Amazon-2021-Annual-Report.pdf\",\n",
    "        \"https://s2.q4cdn.com/299287126/files/doc_financials/2021/ar/Amazon-2020-Annual-Report.pdf\",\n",
    "        \"https://s2.q4cdn.com/299287126/files/doc_financials/2020/ar/2019-Annual-Report.pdf\"]\n",
    "\n",
    "\n",
    "for url in urls:\n",
    "    # Name for the downloaded file\n",
    "    filename = url.split('/')[-1]\n",
    "\n",
    "    # Path to save the downloaded file\n",
    "    filepath = f\"./sec-10-k/{filename}\"\n",
    "\n",
    "    # Call the function to download the file\n",
    "    download_file(url, filepath)"
   ]
  },
  {
   "cell_type": "markdown",
   "id": "70b83f68",
   "metadata": {},
   "source": [
    "Let's upload the annual reports data available in the `sec-10-k` folder to s3."
   ]
  },
  {
   "cell_type": "code",
   "execution_count": 9,
   "id": "40e12fc8",
   "metadata": {},
   "outputs": [
    {
     "name": "stdout",
     "output_type": "stream",
     "text": [
      "uploading file sec-10-k/Amazon-2022-Annual-Report.pdf to reranking-kb-2212840\n",
      "uploading file sec-10-k/2019-Annual-Report.pdf to reranking-kb-2212840\n",
      "uploading file sec-10-k/Amazon-2020-Annual-Report.pdf to reranking-kb-2212840\n",
      "uploading file sec-10-k/Amazon-com-Inc-2023-Annual-Report.pdf to reranking-kb-2212840\n",
      "uploading file sec-10-k/Amazon-2021-Annual-Report.pdf to reranking-kb-2212840\n"
     ]
    }
   ],
   "source": [
    "def upload_directory(path, bucket_name):\n",
    "        for root,dirs,files in os.walk(path):\n",
    "            for file in files:\n",
    "                if not file.startswith('.DS_Store'):\n",
    "                    file_to_upload = os.path.join(root,file)\n",
    "                    print(f\"uploading file {file_to_upload} to {bucket_name}\")\n",
    "                    s3_client.upload_file(file_to_upload,bucket_name,file)\n",
    "\n",
    "# upload metadata file to S3\n",
    "upload_directory(\"sec-10-k\", bucket_name)"
   ]
  },
  {
   "cell_type": "markdown",
   "id": "b70a4b4b",
   "metadata": {},
   "source": [
    "Now start the ingestion job. Since, we are using the same documents as used for fixed chunking, we are skipping the step to upload documents to s3 bucket. "
   ]
  },
  {
   "cell_type": "code",
   "execution_count": 10,
   "id": "241a6ab9",
   "metadata": {},
   "outputs": [
    {
     "name": "stdout",
     "output_type": "stream",
     "text": [
      "{ 'dataSourceId': 'VAR0ZJI07S',\n",
      "  'ingestionJobId': 'TEUE04FIEU',\n",
      "  'knowledgeBaseId': 'B7QMABTNFK',\n",
      "  'startedAt': datetime.datetime(2024, 12, 13, 5, 33, 8, 710968, tzinfo=tzutc()),\n",
      "  'statistics': { 'numberOfDocumentsDeleted': 0,\n",
      "                  'numberOfDocumentsFailed': 0,\n",
      "                  'numberOfDocumentsScanned': 0,\n",
      "                  'numberOfMetadataDocumentsModified': 0,\n",
      "                  'numberOfMetadataDocumentsScanned': 0,\n",
      "                  'numberOfModifiedDocumentsIndexed': 0,\n",
      "                  'numberOfNewDocumentsIndexed': 0},\n",
      "  'status': 'STARTING',\n",
      "  'updatedAt': datetime.datetime(2024, 12, 13, 5, 33, 8, 710968, tzinfo=tzutc())}\n",
      "{ 'dataSourceId': 'VAR0ZJI07S',\n",
      "  'ingestionJobId': 'TEUE04FIEU',\n",
      "  'knowledgeBaseId': 'B7QMABTNFK',\n",
      "  'startedAt': datetime.datetime(2024, 12, 13, 5, 33, 8, 710968, tzinfo=tzutc()),\n",
      "  'statistics': { 'numberOfDocumentsDeleted': 0,\n",
      "                  'numberOfDocumentsFailed': 0,\n",
      "                  'numberOfDocumentsScanned': 5,\n",
      "                  'numberOfMetadataDocumentsModified': 0,\n",
      "                  'numberOfMetadataDocumentsScanned': 0,\n",
      "                  'numberOfModifiedDocumentsIndexed': 0,\n",
      "                  'numberOfNewDocumentsIndexed': 5},\n",
      "  'status': 'COMPLETE',\n",
      "  'updatedAt': datetime.datetime(2024, 12, 13, 5, 33, 56, 421662, tzinfo=tzutc())}\n",
      "........................................\r"
     ]
    }
   ],
   "source": [
    "# ensure that the kb is available\n",
    "time.sleep(30)\n",
    "# sync knowledge base\n",
    "knowledge_base_reranking.start_ingestion_job()"
   ]
  },
  {
   "cell_type": "markdown",
   "id": "bad55ab6",
   "metadata": {},
   "source": [
    "Finally we save the Knowledge Base Id to test the solution at a later stage. "
   ]
  },
  {
   "cell_type": "code",
   "execution_count": 11,
   "id": "677c97ce",
   "metadata": {},
   "outputs": [
    {
     "name": "stdout",
     "output_type": "stream",
     "text": [
      "'B7QMABTNFK'\n"
     ]
    }
   ],
   "source": [
    "kb_id = knowledge_base_reranking.get_knowledge_base_id()"
   ]
  },
  {
   "cell_type": "markdown",
   "id": "fcc80032",
   "metadata": {},
   "source": [
    "## 3. Evaluate the relevance of query responses with and without Re-ranking (using Ragas)"
   ]
  },
  {
   "cell_type": "markdown",
   "id": "1cea8edf",
   "metadata": {},
   "source": [
    "Define models for generation, evaluation and re-ranking"
   ]
  },
  {
   "cell_type": "code",
   "execution_count": 90,
   "id": "bfa5a6bb",
   "metadata": {},
   "outputs": [],
   "source": [
    "from langchain.llms.bedrock import Bedrock\n",
    "from langchain_aws import ChatBedrock\n",
    "from langchain_aws import BedrockEmbeddings\n",
    "\n",
    "bedrock_client = boto3.client('bedrock-runtime')\n",
    "\n",
    "TEXT_GENERATION_MODEL_ID = \"anthropic.claude-3-haiku-20240307-v1:0\"\n",
    "EVALUATION_MODEL_ID = \"anthropic.claude-3-sonnet-20240229-v1:0\"\n",
    "EMBEDDING_MODEL_ID = \"amazon.titan-embed-text-v2:0\"\n",
    "\n",
    "# Reranker model: there are two reranker models available at launch\n",
    "AMAZON_RERANKER_MODEL_ID = \"amazon.rerank-v1:0\"\n",
    "COHERE_RERANKER_MODEL_ID = \"cohere.rerank-v3-5:0\"\n",
    "\n",
    "\n",
    "llm_for_evaluation = ChatBedrock(model_id=EVALUATION_MODEL_ID, client=bedrock_client)\n",
    "bedrock_embeddings = BedrockEmbeddings(model_id=EMBEDDING_MODEL_ID, client=bedrock_client)\n"
   ]
  },
  {
   "cell_type": "markdown",
   "id": "1c336de9",
   "metadata": {},
   "source": [
    "#### 3.1 Update Knowledge Bases execution role"
   ]
  },
  {
   "cell_type": "code",
   "execution_count": 13,
   "id": "aeac148b",
   "metadata": {},
   "outputs": [],
   "source": [
    "# Before using autogenerated filters - update the knowledge base execution IAM role with right permissions\n",
    "\n",
    "iam = boto3.resource('iam')\n",
    "client = boto3.client('iam')\n",
    "\n",
    "def get_attached_policies(role_name):\n",
    "    response = client.list_attached_role_policies(RoleName=role_name)\n",
    "    attached_policies = response['AttachedPolicies']\n",
    "    return attached_policies\n",
    "\n",
    "# get the knowledge base IAM role name\n",
    "get_kb_response = bedrock_agent_client.get_knowledge_base(knowledgeBaseId = kb_id)\n",
    "role_arn = get_kb_response['knowledgeBase']['roleArn']\n",
    "role_name = role_arn.split('/')[-1]\n",
    "\n",
    "# get attached policies\n",
    "attached_policies = get_attached_policies(role_name)\n",
    "attached_policies\n",
    "\n",
    "def update_kb_execution_role(attached_policies, region_name):\n",
    "    \n",
    "    for policy in attached_policies:\n",
    "\n",
    "        print(policy['PolicyArn'])\n",
    "        policy_name = policy['PolicyName']\n",
    "        policy_arn = policy['PolicyArn']\n",
    "\n",
    "        if 'FoundationModel' in policy_arn:\n",
    "            print('Updating FoundationModel policy: ',policy_arn)\n",
    "            policy = iam.Policy(policy_arn)\n",
    "            version = policy.default_version\n",
    "            policyJson = version.document\n",
    "            policyJson['Statement'][0]['Resource'].append(f'arn:aws:bedrock:{region}::foundation-model/{TEXT_GENERATION_MODEL_ID}')\n",
    "            policyJson['Statement'][0]['Resource'].append(f'arn:aws:bedrock:{region}::foundation-model/{EVALUATION_MODEL_ID}')  \n",
    "            policyJson['Statement'][0]['Resource'].append(f'arn:aws:bedrock:{region}::foundation-model/{AMAZON_RERANKER_MODEL_ID}') \n",
    "            policyJson['Statement'][0]['Resource'].append(f'arn:aws:bedrock:{region}::foundation-model/{COHERE_RERANKER_MODEL_ID}') \n",
    "        \n",
    "            client.detach_role_policy(RoleName=role_name,\n",
    "                PolicyArn=policy_arn)\n",
    "            \n",
    "            response = client.delete_policy(\n",
    "                PolicyArn=policy_arn\n",
    "            )\n",
    "            print(response)\n",
    "           \n",
    "            response = client.create_policy(\n",
    "            PolicyName= policy_name,\n",
    "            PolicyDocument=json.dumps(policyJson)\n",
    "            )\n",
    "            print(response)\n",
    "        \n",
    "        client.attach_role_policy(\n",
    "            RoleName=role_name,\n",
    "            PolicyArn=policy_arn\n",
    "        )"
   ]
  },
  {
   "cell_type": "code",
   "execution_count": 14,
   "id": "b3521cb4",
   "metadata": {},
   "outputs": [
    {
     "name": "stdout",
     "output_type": "stream",
     "text": [
      "arn:aws:iam::533267284022:policy/AmazonBedrockFoundationModelPolicyForKnowledgeBase_2212840\n",
      "Updating FoundationModel policy:  arn:aws:iam::533267284022:policy/AmazonBedrockFoundationModelPolicyForKnowledgeBase_2212840\n",
      "{'ResponseMetadata': {'RequestId': 'a2112544-4c1f-4992-8da5-18d7a22aaf05', 'HTTPStatusCode': 200, 'HTTPHeaders': {'date': 'Fri, 13 Dec 2024 05:48:57 GMT', 'x-amzn-requestid': 'a2112544-4c1f-4992-8da5-18d7a22aaf05', 'content-type': 'text/xml', 'content-length': '204'}, 'RetryAttempts': 0}}\n",
      "{'Policy': {'PolicyName': 'AmazonBedrockFoundationModelPolicyForKnowledgeBase_2212840', 'PolicyId': 'ANPAXYKJVAA3M5KTPSREJ', 'Arn': 'arn:aws:iam::533267284022:policy/AmazonBedrockFoundationModelPolicyForKnowledgeBase_2212840', 'Path': '/', 'DefaultVersionId': 'v1', 'AttachmentCount': 0, 'PermissionsBoundaryUsageCount': 0, 'IsAttachable': True, 'CreateDate': datetime.datetime(2024, 12, 13, 5, 48, 58, tzinfo=tzutc()), 'UpdateDate': datetime.datetime(2024, 12, 13, 5, 48, 58, tzinfo=tzutc())}, 'ResponseMetadata': {'RequestId': '4b834882-1926-4830-9fed-cc064b403d11', 'HTTPStatusCode': 200, 'HTTPHeaders': {'date': 'Fri, 13 Dec 2024 05:48:58 GMT', 'x-amzn-requestid': '4b834882-1926-4830-9fed-cc064b403d11', 'content-type': 'text/xml', 'content-length': '851'}, 'RetryAttempts': 0}}\n",
      "arn:aws:iam::533267284022:policy/AmazonBedrockS3PolicyForKnowledgeBase_2212840\n",
      "arn:aws:iam::533267284022:policy/AmazonBedrockOSSPolicyForKnowledgeBase_2212840\n",
      "arn:aws:iam::533267284022:policy/AmazonBedrockCloudWatchPolicyForKnowledgeBase_2212840\n"
     ]
    }
   ],
   "source": [
    "update_kb_execution_role(attached_policies, region)\n",
    "# time.sleep(30)"
   ]
  },
  {
   "cell_type": "markdown",
   "id": "529118c5",
   "metadata": {},
   "source": [
    "#### 3.2 Customize retrieve and generate configuraion"
   ]
  },
  {
   "cell_type": "code",
   "execution_count": 168,
   "id": "df68891d",
   "metadata": {},
   "outputs": [],
   "source": [
    "def retrieve_and_generate(query, reranker_model=None, kb_id=None, TEXT_GENERATION_MODEL_ID=None, metadata_filters=None):\n",
    "    \n",
    "    # Prepare retrieval configuration\n",
    "    retrieval_config = {\n",
    "        \"vectorSearchConfiguration\": {\n",
    "            \"numberOfResults\": 50 if reranker_model else 3\n",
    "        }\n",
    "    }\n",
    "\n",
    "    if reranker_model:\n",
    "        retrieval_config[\"vectorSearchConfiguration\"][\"rerankingConfiguration\"] = {\n",
    "            \"type\": \"BEDROCK_RERANKING_MODEL\",\n",
    "            \"bedrockRerankingConfiguration\": {\n",
    "                \"modelConfiguration\": {\n",
    "                    \"modelArn\": f'arn:aws:bedrock:{region}::foundation-model/{reranker_model}',\n",
    "                },\n",
    "                \"numberOfRerankedResults\": 3\n",
    "            }\n",
    "        }\n",
    "\n",
    "        if metadata_filters:\n",
    "            retrieval_config[\"vectorSearchConfiguration\"][\"rerankingConfiguration\"][\"bedrockRerankingConfiguration\"][\"metadataConfiguration\"] = {\n",
    "                                                                \"selectionMode\" : \"SELECTIVE\",\n",
    "                                                                \"selectiveModeConfiguration\" : {\n",
    "                                                                    \"fieldsToInclude\": [{\n",
    "                                                                        \"fieldName\": \"year\",\n",
    "                                                                    }]\n",
    "                                                                }\n",
    "                                                            }\n",
    "                    \n",
    "\n",
    "    # Call the retrieve and generate API\n",
    "    start = time.time()\n",
    "    response = bedrock_agent_runtime_client.retrieve_and_generate(\n",
    "        input={'text': query},\n",
    "        retrieveAndGenerateConfiguration={\n",
    "            'type': 'KNOWLEDGE_BASE',\n",
    "            'knowledgeBaseConfiguration': {\n",
    "                'knowledgeBaseId': kb_id,\n",
    "                'modelArn': f'arn:aws:bedrock:{region}::foundation-model/{TEXT_GENERATION_MODEL_ID}',\n",
    "                'retrievalConfiguration': retrieval_config,\n",
    "            },\n",
    "        }\n",
    "    )\n",
    "    time_spent = time.time() - start\n",
    "\n",
    "    print(f\"[Response] : {response['output']['text']}\\n\")\n",
    "    print(f\"[Invocation time] : {time_spent}\\n\")\n",
    "\n",
    "    return response\n"
   ]
  },
  {
   "cell_type": "markdown",
   "id": "fdc724b4",
   "metadata": {},
   "source": [
    "#### 3.3 Prepare dataset for evaluation"
   ]
  },
  {
   "cell_type": "code",
   "execution_count": 169,
   "id": "b086554a",
   "metadata": {},
   "outputs": [],
   "source": [
    "from datasets import Dataset\n",
    "from ragas import evaluate\n",
    "from ragas.metrics import (\n",
    "    context_relevancy,\n",
    "    context_recall,\n",
    "    context_precision,\n",
    "    context_entity_recall,\n",
    "    answer_correctness,\n",
    ")\n",
    "\n",
    "#specify the metrics here\n",
    "metrics = [\n",
    "    context_relevancy,\n",
    "    context_recall,\n",
    "    context_precision,\n",
    "    context_entity_recall,\n",
    "    answer_correctness,\n",
    "]\n",
    "\n",
    "\n",
    "# questions = [\n",
    "#     \"How many jobs did Amazon create in 2020, and what was its total global workforce after this expansion?\",\n",
    "#     \"What lessons from Amazon’s early retail model influenced its later development of AWS?\",\n",
    "#     \"What were the main sustainability milestones Amazon achieved from 2019 to 2021?\",\n",
    "#     \"What was Amazon's operating income in 2023, and how did it compare to 2022?\",\n",
    "#     \"How does Amazon's investment in proprietary chips strengthen its competitive positioning in the cloud computing market?\",\n",
    "#     \"What trends can be observed in Amazon's investments in infrastructure from 2022?\",\n",
    "#     \"What are the key factors that have influenced Amazon's net sales growth rate in 2023?\"\n",
    "\n",
    "# ]\n",
    "\n",
    "# ground_truths = [\n",
    "#     \"Amazon added 500,000 jobs in 2020, bringing its total workforce to approximately 1.3 million employees worldwide.\",\n",
    "#     \"One of the most significant lessons from Amazon's early retail model that influenced the development of AWS was a relentless focus on customer needs and value. From the beginning, Amazon aimed to provide compelling value to customers through features like vast selection, easy-to-use interfaces, low prices, and fast delivery. This customer-centricity translated into AWS, where the focus shifted from offering monolithic solutions to developing a set of flexible and granular services (primitives) that catered to the diverse needs of developers and businesses. This approach allowed AWS to adapt to the specific requirements of its users, fostering rapid innovation and adoption. By prioritizing customer needs and delivering tailored solutions, AWS mirrored the core philosophy that drove Amazon's success in the retail space.\",\n",
    "#     \"From 2019 to 2021, Amazon made significant strides in its sustainability journey. Key achievements included co-founding The Climate Pledge, committing to net-zero carbon by 2040, and becoming the world's largest corporate buyer of renewable energy. They made progress towards their ambitious renewable energy targets and expanded their renewable energy infrastructure with numerous wind and solar projects globally. In addition to these milestones, Amazon continued its Frustration-Free Packaging program, promoting recyclable packaging and reducing waste. These efforts demonstrate Amazon's dedication to sustainable practices and minimizing its environmental impact.\",\n",
    "#     \"Amazon reported an operating income of $36.9 billion in 2023. This represents a substantial improvement, marking a 201% increase from their 2022 operating income of $12.2 billion.\",\n",
    "#     \"Amazon has made a smart move by developing its own chips for cloud computing. Their main chips - Graviton, Trainium, and Inferentia - are giving them a real edge in the market. These aren't just regular chips; they're specially designed to work better and cost less than what's typically available. The numbers really show why this matters. For example, their Graviton2 chip performs 40% better for the price compared to traditional x86 processors. Even more impressive is their Trainium chip, which can handle machine learning tasks 140% faster while cutting costs by 70%. This kind of performance is attracting big names in AI, like Anthropic, to use AWS. What's also clever about this strategy is that by making their own chips, Amazon doesn't have to rely on other companies for supply. This means they can keep their prices competitive and offer better deals to their customers in the long run. It's really helping them stay ahead in the cloud computing business, which keeps getting more competitive every year.\",\n",
    "#     \"In 2022, Amazon's infrastructure investments showed a clear focus on adapting to economic challenges while positioning for long-term growth. The company prioritized streamlining costs and improving efficiency in its fulfillment and transportation networks, redesigning processes to lower costs and speed up deliveries. In AWS, Amazon doubled down on innovation, investing heavily in proprietary technologies like Graviton3 and Inferentia2 chips to enhance performance and cost savings for customers, strengthening its competitive edge in the cloud market. Additionally, Amazon diversified its investments into emerging areas like Amazon Business, Healthcare, and the Kuiper satellite program, signaling a commitment to exploring new growth opportunities.\",\n",
    "#     \"Amazon achieved an impressive 12% net sales growth in 2023, driven by strategic initiatives and favorable market conditions. A key factor was the expansion of its product selection, supported by its thriving third-party seller ecosystem. This was paired with significant investments in customer experience, particularly in speeding up delivery times, resulting in record-breaking same-day and next-day deliveries. The company also benefited from the strong performance of its advertising business and continued growth in subscription services like Amazon Prime. Despite ongoing macroeconomic uncertainties, the minimal impact of foreign exchange fluctuations in 2023 highlights the strength of these growth drivers in overcoming external challenges.\"\n",
    "\n",
    "# ]\n",
    "\n",
    "\n",
    "questions = [\n",
    "    \"How many jobs did Amazon create in 2020, and what was its total global workforce after this expansion?\",\n",
    "    \"How does the 2023 net sales mix reflect Amazon's global priorities and strategic investments across segments?\",\n",
    "    \"How did foreign exchange rate fluctuations impact Amazon's net sales and the corresponding segment's performance in 2023?\",\n",
    "    \"What is the cumulative growth contribution of AWS and Advertising segments to Amazon's 2022 consolidated revenue?\",\n",
    "    \"How did Amazon's investments in technology infrastructure and fulfillment operations affect its cash flows and operating expenses in 2022?\",\n",
    "    \"What types of securities does Amazon invest its excess cash in 2019 and how are these investments classified in the balance sheet?\",\n",
    "    \"How has Amazon's approach to product delivery speed evolved from 2019 to 2023?\",\n",
    "    \"How has Amazon’s investment in green energy influenced its overall operational efficiency?\"\n",
    "]\n",
    "\n",
    "ground_truths = [\n",
    "    \"Amazon added 500,000 jobs in 2020, bringing its total workforce to approximately 1.3 million employees worldwide.\",\n",
    "    \"Amazon's 2023 net sales mix highlights its global priorities, with North America contributing 61%, International 23%, and AWS 16% of total sales. Year-over-year growth in each segment—12% for North America, 11% for International, and 13% for AWS—was driven by increased unit sales, advertising services, and subscription offerings. These trends reflect Amazon's balanced approach to expanding its core markets, strengthening its international presence, and investing in AWS's innovative cloud services to sustain long-term growth.\",\n",
    "    \"In 2023, foreign exchange rate fluctuations had a mixed impact on Amazon's financial performance. While these changes reduced consolidated net sales by $71 million, they positively influenced the International segment, increasing its net sales by $88 million. This highlights the nuanced effects of currency fluctuations, where gains in specific regions, such as the International segment, helped offset broader challenges at the consolidated level.\",\n",
    "    \"In 2022, AWS achieved a 29% year-over-year revenue growth, increasing from $62.2 billion in 2021 to $80.1 billion. Similarly, the Advertising segment experienced a 25% year-over-year growth, reaching $31 billion in revenue for the year. Together, these segments contributed significantly to Amazon's total consolidated revenue of $434 billion. AWS accounted for 19.59%, while Advertising contributed 7.14%, resulting in a cumulative contribution of approximately 26.73%.\",\n",
    "    \"In 2022, Amazon's substantial investments in technology infrastructure and fulfillment operations significantly impacted its cash flows and operating expenses. The company allocated $58.3 billion in cash capital expenditures to support AWS growth and expand its fulfillment network, resulting in a 31% increase in technology and content expenses due to higher payroll costs for technical teams and infrastructure spending on servers, networking equipment, and data centers. Fulfillment costs rose by 12%, driven by increased product sales volume, inventory levels, and wage rate incentives. These investments led to a decline in free cash flow to $(11,569) million, compared to $(9,069) million in 2021. Despite the higher costs, these expenditures were crucial for scaling operations, enhancing the customer experience, and sustaining long-term growth, particularly in AWS and global fulfillment capacity, highlighting Amazon’s commitment to maintaining its competitive edge in a rapidly evolving market.\",\n",
    "    \"Amazon typically invests its excess cash in AAA-rated money market funds and investment-grade short- to intermediate-term fixed income securities, which are classified as either Cash and cash equivalents or Marketable securities on its consolidated balance sheets. In 2019, Amazon's marketable securities portfolio included a variety of assets such as money market funds, equity securities, foreign government and agency securities, U.S. government and agency securities, corporate debt securities, asset-backed securities, and other fixed income securities. These marketable securities were categorized as either Level 1 or Level 2 securities on the balance sheet.\",\n",
    "    \"From 2019 to 2023, Amazon significantly enhanced delivery speeds by adopting a regionalized fulfillment network, reducing transportation distances and improving inventory placement accuracy. The company expanded its same-day and next-day delivery infrastructure, achieving record speeds with over 7 billion items delivered in 2023, supported by advanced machine learning for demand forecasting and inventory optimization. Investments in fulfillment centers, delivery stations, and Amazon Air further streamlined operations, while a customer-centric approach solidified fast delivery as a key feature of Amazon Prime, driving customer satisfaction and loyalty.\",\n",
    "    \"Amazon's investment in green energy, including large-scale wind and solar projects, has significantly enhanced operational efficiency by reducing energy costs and supporting its commitment to sustainability. By achieving 100% renewable energy usage five years ahead of its original 2030 target, Amazon has lowered its carbon footprint and energy expenses across its operations, particularly in energy-intensive areas like AWS data centers. These efforts align with The Climate Pledge and demonstrate how sustainability initiatives can simultaneously drive cost savings and long-term resilience. \"\n",
    "]\n"
   ]
  },
  {
   "cell_type": "code",
   "execution_count": 170,
   "id": "5a3b5398",
   "metadata": {},
   "outputs": [],
   "source": [
    "# query = \"How many days has Amazon asked employees to come to work in office in 2022?\"\n",
    "\n",
    "# from IPython.display import Markdown, display\n",
    "\n",
    "# def print_markdown(text):\n",
    "#     display(Markdown(text))\n",
    "\n",
    "# def evaluate_single_query_and_print_as_markdown(query, kb_id=None, TEXT_GENERATION_MODEL_ID=None, reranker_model=None):\n",
    "#     # Prepare results dictionary\n",
    "#     results = {}\n",
    "\n",
    "#     # Retrieve and generate response without the reranker model\n",
    "#     response_without_reranker = retrieve_and_generate(\n",
    "#         query=query,\n",
    "#         kb_id=kb_id,\n",
    "#         TEXT_GENERATION_MODEL_ID=TEXT_GENERATION_MODEL_ID,\n",
    "#         reranker_model=None  # No reranker\n",
    "#     )\n",
    "#     final_response_without_reranker = response_without_reranker[\"output\"][\"text\"]\n",
    "#     contexts_without_reranker = [\n",
    "#         ref[\"content\"][\"text\"]\n",
    "#         for citation in response_without_reranker[\"citations\"]\n",
    "#         for ref in citation[\"retrievedReferences\"]\n",
    "#         if \"content\" in ref and \"text\" in ref[\"content\"]\n",
    "#     ]\n",
    "\n",
    "#     # Store results without reranker\n",
    "#     results[\"without_reranker\"] = {\n",
    "#         \"query\": query,\n",
    "#         \"final_response\": final_response_without_reranker,\n",
    "#         \"contexts\": contexts_without_reranker,\n",
    "#     }\n",
    "\n",
    "#     # Retrieve and generate response with the reranker model, if provided\n",
    "#     if reranker_model is not None:\n",
    "#         response_with_reranker = retrieve_and_generate(\n",
    "#             query=query,\n",
    "#             kb_id=kb_id,\n",
    "#             TEXT_GENERATION_MODEL_ID=TEXT_GENERATION_MODEL_ID,\n",
    "#             reranker_model=reranker_model  # With reranker\n",
    "#         )\n",
    "#         final_response_with_reranker = response_with_reranker[\"output\"][\"text\"]\n",
    "#         contexts_with_reranker = [\n",
    "#             ref[\"content\"][\"text\"]\n",
    "#             for citation in response_with_reranker[\"citations\"]\n",
    "#             for ref in citation[\"retrievedReferences\"]\n",
    "#             if \"content\" in ref and \"text\" in ref[\"content\"]\n",
    "#         ]\n",
    "\n",
    "#         # Store results with reranker\n",
    "#         results[\"with_reranker\"] = {\n",
    "#             \"query\": query,\n",
    "#             \"final_response\": final_response_with_reranker,\n",
    "#             \"contexts\": contexts_with_reranker,\n",
    "#         }\n",
    "\n",
    "#     # Print results as Markdown using print_markdown\n",
    "#     markdown_text = \"### Results Without Reranker\\n\\n\"\n",
    "#     markdown_text += f\"**Query:**\\n{results['without_reranker']['query']}\\n\\n\"\n",
    "#     markdown_text += f\"**Final Response:**\\n{results['without_reranker']['final_response']}\\n\\n\"\n",
    "#     markdown_text += \"**Contexts:**\\n\"\n",
    "#     for context in results['without_reranker']['contexts']:\n",
    "#         markdown_text += f\"- {context}\\n\"\n",
    "\n",
    "#     if \"with_reranker\" in results:\n",
    "#         markdown_text += \"\\n### Results With Reranker\\n\\n\"\n",
    "#         markdown_text += f\"**Query:**\\n{results['with_reranker']['query']}\\n\\n\"\n",
    "#         markdown_text += f\"**Final Response:**\\n{results['with_reranker']['final_response']}\\n\\n\"\n",
    "#         markdown_text += \"**Contexts:**\\n\"\n",
    "#         for context in results['with_reranker']['contexts']:\n",
    "#             markdown_text += f\"- {context}\\n\"\n",
    "\n",
    "#     print_markdown(markdown_text)\n"
   ]
  },
  {
   "cell_type": "code",
   "execution_count": 171,
   "id": "bb02fbe7",
   "metadata": {},
   "outputs": [],
   "source": [
    "# # Evaluate with and without reranker model\n",
    "# evaluate_single_query_and_print_as_markdown(\n",
    "#     query,\n",
    "#     kb_id=kb_id,\n",
    "#     TEXT_GENERATION_MODEL_ID=TEXT_GENERATION_MODEL_ID,\n",
    "#     reranker_model=AMAZON_RERANKER_MODEL_ID\n",
    "# )"
   ]
  },
  {
   "cell_type": "code",
   "execution_count": 172,
   "id": "4ff26dda",
   "metadata": {},
   "outputs": [],
   "source": [
    "def prepare_eval_dataset(questions, ground_truths, kb_id=None, TEXT_GENERATION_MODEL_ID=None, reranker_model=None, metadata_filters = None):\n",
    "    answers = []\n",
    "    contexts = []\n",
    "    \n",
    "    for query in questions:\n",
    "        response = retrieve_and_generate(\n",
    "            query,\n",
    "            reranker_model=reranker_model,\n",
    "            kb_id=kb_id,\n",
    "            TEXT_GENERATION_MODEL_ID=TEXT_GENERATION_MODEL_ID,\n",
    "            metadata_filters=metadata_filters\n",
    "        )\n",
    "        \n",
    "        answers.append(response[\"output\"][\"text\"])\n",
    "        \n",
    "        context_group = []\n",
    "        for citation in response[\"citations\"]:\n",
    "            context_group.extend([\n",
    "                ref[\"content\"][\"text\"]\n",
    "                for ref in citation[\"retrievedReferences\"]\n",
    "                if \"content\" in ref and \"text\" in ref[\"content\"]\n",
    "            ])\n",
    "        contexts.append(context_group)\n",
    "        time.sleep(15)\n",
    "\n",
    "    # Create dictionary\n",
    "    data = {\n",
    "        \"question\": questions,\n",
    "        \"answer\": answers,\n",
    "        \"contexts\": contexts,\n",
    "        \"ground_truth\": ground_truths\n",
    "    }\n",
    "\n",
    "    # Convert dict to dataset\n",
    "    dataset = Dataset.from_dict(data)\n",
    "    return dataset\n"
   ]
  },
  {
   "cell_type": "markdown",
   "id": "9c51b09a",
   "metadata": {},
   "source": [
    "#### 3.4 Evaluate dataset - without re-ranker"
   ]
  },
  {
   "cell_type": "code",
   "execution_count": 173,
   "id": "84dc3d78",
   "metadata": {},
   "outputs": [
    {
     "name": "stdout",
     "output_type": "stream",
     "text": [
      "[Response] : According to the search results, Amazon directly and indirectly supports nearly 4 million jobs globally. This includes over 680,000 jobs created by Amazon's investments in areas like construction, logistics, and professional services, as well as another 830,000 jobs created by small and medium-sized businesses selling on Amazon.\n",
      "\n",
      "[Invocation time] : 1.6154890060424805\n",
      "\n",
      "[Response] : According to the search results, Amazon's 2023 net sales guidance reflects several key priorities and strategic investments:\n",
      "\n",
      "1) Expanding selection and lowering prices internationally to drive more purchases, with a focus on emerging markets like India, Brazil, Australia, Mexico, the Middle East, and Africa. These new geographies are expected to continue growing and becoming profitable in the long run.\n",
      "\n",
      "2) Investing in speed improvements and lowering the \"cost to serve\" customers, which allows Amazon to offer more selection at lower prices.\n",
      "\n",
      "3) Continued strong growth in Amazon's Advertising business, with sponsored ads driving a 24% year-over-year increase in advertising revenue from $38 billion in 2022 to $47 billion in 2023.\n",
      "\n",
      "[Invocation time] : 2.7843708992004395\n",
      "\n",
      "[Response] : According to the search results, foreign exchange rate fluctuations had the following impact on Amazon's net sales and operating income in 2023:\n",
      "\n",
      "- Net sales in 2023 were expected to be between $121.0 billion and $126.0 billion, with an unfavorable impact of approximately 210 basis points from foreign exchange rates.\n",
      "- Operating income in 2023 was expected to be between $0 and $4.0 billion, compared to $3.7 billion in the first quarter of 2022.\n",
      "\n",
      "[Invocation time] : 1.9408020973205566\n",
      "\n",
      "[Response] : According to the search results, Amazon's AWS revenue grew 13% year-over-year from $80 billion in 2022 to $91 billion in 2023. Additionally, Amazon's Advertising revenue grew 24% year-over-year from $38 billion in 2022 to $47 billion in 2023.\n",
      "\n",
      "[Invocation time] : 1.860931158065796\n",
      "\n",
      "[Response] : According to the search results, Amazon's investments in technology infrastructure and fulfillment operations led to increased operating expenses in 2022. Specifically:\n",
      "\n",
      "- Technology and content costs increased due to investments in research and development, product and service development, and infrastructure costs to support AWS and other Amazon businesses. (Source 1, Source 3)\n",
      "\n",
      "- Fulfillment costs increased in 2022 compared to the prior year due to investments in expanding the fulfillment network, increased wage rates and incentives, and fulfillment network inefficiencies resulting from a constrained labor market and global supply chain constraints. (Source 1, Source 2, Source 3)\n",
      "\n",
      "[Invocation time] : 2.3113582134246826\n",
      "\n",
      "[Response] : According to the search results, Amazon generally invests its excess cash in AAA-rated money market funds and investment grade short- to intermediate-term marketable debt securities. These investments are included in \"Cash and cash equivalents\" or \"Marketable securities\" on Amazon's consolidated balance sheets.\n",
      "\n",
      "[Invocation time] : 1.8347361087799072\n",
      "\n",
      "[Response] : According to the search results, Amazon has made substantial progress in improving its delivery speeds for customers over the past few years. In 2023, Amazon delivered more than 7 billion items to Prime members at the fastest speeds ever, including over 4 billion in the U.S. and over 2 billion in Europe. This was achieved through two key efforts: 1) Regionalization, where Amazon re-architected its network to store items closer to customers, and 2) Expansion of same-day delivery facilities, which increased the number of items delivered same-day or overnight by nearly 70% year-over-year in 2023. These improvements have allowed Amazon to reduce its cost to serve per unit, which has enabled further investments in speed and selection.\n",
      "\n",
      "[Invocation time] : 2.770514726638794\n",
      "\n",
      "[Response] : Amazon's investments in renewable energy have improved its overall operational efficiency in several ways: 1) Amazon has committed to reaching 80% renewable energy by 2024 and 100% renewable energy by 2030, which will significantly reduce the carbon footprint of its operations. (Source 1)\n",
      "2) Amazon's use of renewable energy, along with its efforts to increase the energy efficiency of its data centers and facilities, have enabled AWS to have an 88% lower carbon footprint compared to traditional data centers. (Source 3)\n",
      "\n",
      "[Invocation time] : 2.4214940071105957\n",
      "\n"
     ]
    }
   ],
   "source": [
    "without_reranker_dataset = prepare_eval_dataset(questions, ground_truths, kb_id, TEXT_GENERATION_MODEL_ID, reranker_model=None)"
   ]
  },
  {
   "cell_type": "code",
   "execution_count": 174,
   "id": "f9250cce",
   "metadata": {},
   "outputs": [
    {
     "data": {
      "application/vnd.jupyter.widget-view+json": {
       "model_id": "4f3e914e3bdd4e3e8b4c2f2b5ac1dd88",
       "version_major": 2,
       "version_minor": 0
      },
      "text/plain": [
       "Evaluating:   0%|          | 0/40 [00:00<?, ?it/s]"
      ]
     },
     "metadata": {},
     "output_type": "display_data"
    },
    {
     "name": "stderr",
     "output_type": "stream",
     "text": [
      "[2024-12-13 12:09:00,567] p33632 {connectionpool.py:323} WARNING - Connection pool is full, discarding connection: bedrock-runtime.us-west-2.amazonaws.com. Connection pool size: 10\n",
      "[2024-12-13 12:09:00,726] p33632 {connectionpool.py:323} WARNING - Connection pool is full, discarding connection: bedrock-runtime.us-west-2.amazonaws.com. Connection pool size: 10\n",
      "[2024-12-13 12:09:01,801] p33632 {connectionpool.py:323} WARNING - Connection pool is full, discarding connection: bedrock-runtime.us-west-2.amazonaws.com. Connection pool size: 10\n",
      "[2024-12-13 12:09:03,135] p33632 {connectionpool.py:323} WARNING - Connection pool is full, discarding connection: bedrock-runtime.us-west-2.amazonaws.com. Connection pool size: 10\n"
     ]
    }
   ],
   "source": [
    "without_reranker_result = evaluate(\n",
    "    dataset=without_reranker_dataset,\n",
    "    metrics=metrics,\n",
    "    llm=llm_for_evaluation,\n",
    "    embeddings=bedrock_embeddings,\n",
    ")\n",
    "\n",
    "without_reranker_result_df = without_reranker_result.to_pandas()"
   ]
  },
  {
   "cell_type": "markdown",
   "id": "61243e2d",
   "metadata": {},
   "source": [
    "#### 3.5 Evaluate dataset - with re-ranker"
   ]
  },
  {
   "cell_type": "code",
   "execution_count": 175,
   "id": "92591600",
   "metadata": {},
   "outputs": [
    {
     "name": "stdout",
     "output_type": "stream",
     "text": [
      "[Response] : According to the search results, in 2020 Amazon hired 500,000 new employees, bringing its total global workforce to 1.3 million people around the world.\n",
      "\n",
      "[Invocation time] : 2.356968879699707\n",
      "\n",
      "[Response] : According to the search results, Amazon's 2023 net sales mix shows that North America accounted for 61% of total net sales, International accounted for 23%, and AWS accounted for 16%. This reflects Amazon's strategic priorities and investments across its major business segments: - The North America segment, which includes the company's e-commerce operations in the United States and Canada, remains Amazon's largest and most important market, accounting for the majority of net sales.\n",
      "- The International segment, which includes e-commerce operations outside of North America, accounts for a smaller but still significant portion of net sales, indicating Amazon's focus on expanding its global reach.\n",
      "- AWS, Amazon's cloud computing and web services business, accounts for a growing share of net sales, reflecting the company's strategic investments in this high-growth and high-margin segment.\n",
      "\n",
      "[Invocation time] : 8.897923707962036\n",
      "\n",
      "[Response] : According to the search results, changes in foreign exchange rates reduced Amazon's net sales by $71 million in 2023. The International segment, which accounted for 23% of Amazon's consolidated revenues in 2023, was impacted by foreign exchange rate fluctuations. Specifically, the search results state that \"as a result of fluctuations in foreign exchange rates throughout the year compared to rates in effect the prior year, International segment net sales increased by $88 million in comparison with the prior year.\"\n",
      "\n",
      "[Invocation time] : 2.911158800125122\n",
      "\n",
      "[Response] : According to the search results, Amazon's Advertising segment grew 24% year-over-year from $38 billion in 2022 to $47 billion in 2023, primarily driven by sponsored ads. Additionally, Amazon's AWS segment grew 29% year-over-year in 2022.\n",
      "\n",
      "[Invocation time] : 8.760966062545776\n",
      "\n",
      "[Response] : Amazon's investments in technology infrastructure and fulfillment operations had the following effects on its cash flows and operating expenses in 2022:\n",
      "\n",
      "- Cash provided by (used in) investing activities was $(58.2) billion in 2022, primarily reflecting investments in technology infrastructure (the majority of which was to support AWS business growth) and additional capacity to support Amazon's fulfillment network. Cash capital expenditures were $58.3 billion in 2022. - The increase in fulfillment costs in 2022 compared to the prior year was primarily due to increased investments in Amazon's fulfillment network, as well as increased variable costs corresponding with higher product and service sales volume and inventory levels, and increased wage rates and incentives. - Technology and content costs, which include costs related to the development and maintenance of Amazon's online stores and infrastructure, increased to $73.2 billion in 2022, up from $56.1 billion in 2021.\n",
      "\n",
      "[Invocation time] : 4.150575876235962\n",
      "\n",
      "[Response] : According to the search results, Amazon generally invests its excess cash in AAA-rated money market funds and investment grade short- to intermediate-term fixed income securities. These investments are included in \"Cash and cash equivalents\" or \"Marketable securities\" on Amazon's consolidated balance sheets.\n",
      "\n",
      "[Invocation time] : 3.522294044494629\n",
      "\n",
      "[Response] : According to the search results, Amazon has made significant improvements to its delivery speeds from 2019 to 2023. In 2023, Amazon delivered more than 7 billion items to Prime members at the fastest speeds ever, including over 4 billion in the U.S. and over 2 billion in Europe. This was achieved through two key efforts: 1) Regionalization, where Amazon re-architected its network to store items closer to customers, and 2) Expansion of same-day delivery facilities, which increased the number of items delivered same-day or overnight by nearly 70% year-over-year in 2023. These improvements have allowed Amazon to reduce its cost to serve per unit, which in turn has enabled the company to invest in faster delivery speeds and add more selection at lower prices.\n",
      "\n",
      "[Invocation time] : 3.840667247772217\n",
      "\n",
      "[Response] : Amazon's investment in renewable energy has improved the energy efficiency of its operations in several ways: 1) AWS, Amazon's cloud computing division, operates at much higher server utilization rates than traditional data centers, which enables it to do the same tasks with 88% lower carbon emissions. 2) Amazon has also made its data centers more energy efficient by using more efficient evaporative cooling systems instead of traditional air conditioning, which a study found makes AWS infrastructure 3.6 times more energy efficient than the average U.S. enterprise data center. 3) Amazon's investments in renewable energy projects, including 62 utility-scale wind and solar projects and 125 solar rooftops, have the capacity to generate over 6.9 gigawatts of renewable energy annually, helping to power its operations with clean energy.\n",
      "\n",
      "[Invocation time] : 4.442451000213623\n",
      "\n"
     ]
    }
   ],
   "source": [
    "with_reranker_dataset = prepare_eval_dataset(questions, ground_truths, kb_id, TEXT_GENERATION_MODEL_ID, reranker_model=AMAZON_RERANKER_MODEL_ID)"
   ]
  },
  {
   "cell_type": "code",
   "execution_count": 176,
   "id": "d9e78450",
   "metadata": {},
   "outputs": [
    {
     "data": {
      "application/vnd.jupyter.widget-view+json": {
       "model_id": "b2dcb29137fc4a3cb8d59683f80c65a7",
       "version_major": 2,
       "version_minor": 0
      },
      "text/plain": [
       "Evaluating:   0%|          | 0/40 [00:00<?, ?it/s]"
      ]
     },
     "metadata": {},
     "output_type": "display_data"
    },
    {
     "name": "stderr",
     "output_type": "stream",
     "text": [
      "[2024-12-13 12:12:25,168] p33632 {connectionpool.py:323} WARNING - Connection pool is full, discarding connection: bedrock-runtime.us-west-2.amazonaws.com. Connection pool size: 10\n",
      "[2024-12-13 12:12:54,711] p33632 {connectionpool.py:323} WARNING - Connection pool is full, discarding connection: bedrock-runtime.us-west-2.amazonaws.com. Connection pool size: 10\n",
      "[2024-12-13 12:12:56,409] p33632 {connectionpool.py:323} WARNING - Connection pool is full, discarding connection: bedrock-runtime.us-west-2.amazonaws.com. Connection pool size: 10\n",
      "[2024-12-13 12:12:58,490] p33632 {connectionpool.py:323} WARNING - Connection pool is full, discarding connection: bedrock-runtime.us-west-2.amazonaws.com. Connection pool size: 10\n"
     ]
    }
   ],
   "source": [
    "with_reranker_result = evaluate(\n",
    "dataset=with_reranker_dataset,\n",
    "metrics=metrics,\n",
    "llm=llm_for_evaluation,\n",
    "embeddings=bedrock_embeddings,\n",
    ")\n",
    "\n",
    "with_reranker_result_df = with_reranker_result.to_pandas()"
   ]
  },
  {
   "cell_type": "code",
   "execution_count": 64,
   "id": "c44a9f9b",
   "metadata": {},
   "outputs": [],
   "source": [
    "# with_reranker_result_df"
   ]
  },
  {
   "cell_type": "markdown",
   "id": "a2f2f965",
   "metadata": {},
   "source": [
    "#### 3.4 Evaluate dataset - with re-ranker + metadata configuration"
   ]
  },
  {
   "cell_type": "code",
   "execution_count": null,
   "id": "02036921",
   "metadata": {},
   "outputs": [],
   "source": [
    "# knowledge_base_name = 'reranking-kb-with-metadata'\n",
    "# knowledge_base_description = \"Knowledge Base for re-ranking with metadata.\"\n",
    "# bucket_name = f'{knowledge_base_name}-{suffix}'"
   ]
  },
  {
   "cell_type": "markdown",
   "id": "29c85464",
   "metadata": {},
   "source": [
    "##### 3.4.1 Prepare metadata for ingestion\n"
   ]
  },
  {
   "cell_type": "code",
   "execution_count": 42,
   "id": "17fe7e6c",
   "metadata": {},
   "outputs": [],
   "source": [
    "import json\n",
    "import re\n",
    "\n",
    "def generate_matadata(data_dir):\n",
    "    \n",
    "    # Loop through all PDF files in the directory\n",
    "    for filename in os.listdir(data_dir):\n",
    "        if not filename.startswith('.DS_Store'):\n",
    "            # Define the metadata dictionary\n",
    "            metadata ={}\n",
    "            \n",
    "            filename= f'{data_dir}/{filename}'\n",
    "            print(filename)\n",
    "            \n",
    "            # Create metadata\n",
    "            metadata[\"company\"] = \"Amazon\"\n",
    "            metadata[\"ticker\"] = \"AMZN\"\n",
    "            metadata[\"year\"] = re.search(r'\\d+', filename.split('/')[-1]).group(0)\n",
    "\n",
    "            # Create a JSON object\n",
    "            json_data = {\"metadataAttributes\": metadata}\n",
    "\n",
    "            # print(json_data)\n",
    "\n",
    "            # Write the JSON object to a file\n",
    "            with open(f\"{filename.replace('.pdf', '.pdf.metadata.json')}\", \"w\") as f:\n",
    "                json.dump(json_data, f)\n"
   ]
  },
  {
   "cell_type": "code",
   "execution_count": 23,
   "id": "69a16a17",
   "metadata": {},
   "outputs": [
    {
     "name": "stdout",
     "output_type": "stream",
     "text": [
      "./sec-10-k/Amazon-2022-Annual-Report.pdf\n",
      "./sec-10-k/2019-Annual-Report.pdf\n",
      "./sec-10-k/Amazon-2020-Annual-Report.pdf\n",
      "./sec-10-k/Amazon-com-Inc-2023-Annual-Report.pdf\n",
      "./sec-10-k/Amazon-2021-Annual-Report.pdf\n"
     ]
    }
   ],
   "source": [
    "data_dir = './sec-10-k'\n",
    "generate_matadata(data_dir)"
   ]
  },
  {
   "cell_type": "code",
   "execution_count": 24,
   "id": "4ca6d8c0",
   "metadata": {},
   "outputs": [
    {
     "name": "stdout",
     "output_type": "stream",
     "text": [
      "uploading file sec-10-k/2019-Annual-Report.pdf.metadata.json to reranking-kb-2212840\n",
      "uploading file sec-10-k/Amazon-com-Inc-2023-Annual-Report.pdf.metadata.json to reranking-kb-2212840\n",
      "uploading file sec-10-k/Amazon-2020-Annual-Report.pdf.metadata.json to reranking-kb-2212840\n",
      "uploading file sec-10-k/Amazon-2022-Annual-Report.pdf to reranking-kb-2212840\n",
      "uploading file sec-10-k/Amazon-2021-Annual-Report.pdf.metadata.json to reranking-kb-2212840\n",
      "uploading file sec-10-k/2019-Annual-Report.pdf to reranking-kb-2212840\n",
      "uploading file sec-10-k/Amazon-2020-Annual-Report.pdf to reranking-kb-2212840\n",
      "uploading file sec-10-k/Amazon-2022-Annual-Report.pdf.metadata.json to reranking-kb-2212840\n",
      "uploading file sec-10-k/Amazon-com-Inc-2023-Annual-Report.pdf to reranking-kb-2212840\n",
      "uploading file sec-10-k/Amazon-2021-Annual-Report.pdf to reranking-kb-2212840\n"
     ]
    }
   ],
   "source": [
    "# upload metadata file to S3\n",
    "upload_directory(\"sec-10-k\", bucket_name)"
   ]
  },
  {
   "cell_type": "markdown",
   "id": "c503656e",
   "metadata": {},
   "source": [
    "##### 3.4.2 Ingest metadata into Knowledge Bases\n"
   ]
  },
  {
   "cell_type": "markdown",
   "id": "576f6fe6",
   "metadata": {},
   "source": [
    "Now start the ingestion job. Since, we are using the same documents as used for fixed chunking, we are skipping the step to upload documents to s3 bucket. "
   ]
  },
  {
   "cell_type": "code",
   "execution_count": 25,
   "id": "bdfb5938",
   "metadata": {},
   "outputs": [
    {
     "name": "stdout",
     "output_type": "stream",
     "text": [
      "{ 'dataSourceId': 'VAR0ZJI07S',\n",
      "  'ingestionJobId': 'VEPIYD3ALK',\n",
      "  'knowledgeBaseId': 'B7QMABTNFK',\n",
      "  'startedAt': datetime.datetime(2024, 12, 13, 5, 56, 43, 24505, tzinfo=tzutc()),\n",
      "  'statistics': { 'numberOfDocumentsDeleted': 0,\n",
      "                  'numberOfDocumentsFailed': 0,\n",
      "                  'numberOfDocumentsScanned': 0,\n",
      "                  'numberOfMetadataDocumentsModified': 0,\n",
      "                  'numberOfMetadataDocumentsScanned': 0,\n",
      "                  'numberOfModifiedDocumentsIndexed': 0,\n",
      "                  'numberOfNewDocumentsIndexed': 0},\n",
      "  'status': 'STARTING',\n",
      "  'updatedAt': datetime.datetime(2024, 12, 13, 5, 56, 43, 24505, tzinfo=tzutc())}\n",
      "{ 'dataSourceId': 'VAR0ZJI07S',\n",
      "  'ingestionJobId': 'VEPIYD3ALK',\n",
      "  'knowledgeBaseId': 'B7QMABTNFK',\n",
      "  'startedAt': datetime.datetime(2024, 12, 13, 5, 56, 43, 24505, tzinfo=tzutc()),\n",
      "  'statistics': { 'numberOfDocumentsDeleted': 0,\n",
      "                  'numberOfDocumentsFailed': 0,\n",
      "                  'numberOfDocumentsScanned': 5,\n",
      "                  'numberOfMetadataDocumentsModified': 5,\n",
      "                  'numberOfMetadataDocumentsScanned': 5,\n",
      "                  'numberOfModifiedDocumentsIndexed': 0,\n",
      "                  'numberOfNewDocumentsIndexed': 0},\n",
      "  'status': 'COMPLETE',\n",
      "  'updatedAt': datetime.datetime(2024, 12, 13, 5, 57, 10, 888878, tzinfo=tzutc())}\n",
      "........................................\r"
     ]
    }
   ],
   "source": [
    "# ensure that the kb is available\n",
    "time.sleep(30)\n",
    "# sync knowledge base\n",
    "knowledge_base_reranking.start_ingestion_job()"
   ]
  },
  {
   "cell_type": "code",
   "execution_count": 177,
   "id": "12589fe6",
   "metadata": {},
   "outputs": [
    {
     "name": "stdout",
     "output_type": "stream",
     "text": [
      "[Response] : According to the search results, in 2020 Amazon hired 500,000 new employees, bringing its total global workforce to 1.3 million people around the world.\n",
      "\n",
      "[Invocation time] : 2.2121191024780273\n",
      "\n",
      "[Response] : According to the search results, Amazon's 2023 net sales mix shows that North America accounted for 61% of total net sales, International accounted for 23%, and AWS accounted for 16%. This sales mix reflects Amazon's strategic priorities and investments across its key business segments: - The North America segment, which includes Amazon's online and physical stores in the US and Canada, remains Amazon's largest and most important market, accounting for the majority of net sales. This indicates that Amazon continues to prioritize and invest heavily in its core retail business in North America. - The International segment, which includes Amazon's online and physical stores outside of North America, accounts for a smaller but still significant portion of net sales at 23%. This suggests that while Amazon continues to expand globally, its international operations are not yet as large or as profitable as its North American business. - AWS, Amazon's cloud computing and web services business, accounts for 16% of net sales. This indicates that while AWS is a rapidly growing and highly profitable part of Amazon's business, it is still smaller than the company's core retail operations in terms of net sales.\n",
      "\n",
      "[Invocation time] : 4.730234861373901\n",
      "\n",
      "[Response] : According to the search results, changes in foreign exchange rates reduced Amazon's net sales by $71 million in 2023. The International segment, which accounted for 23% of Amazon's consolidated revenues in 2023, is exposed to foreign exchange rate fluctuations. The results of operations and intercompany balances associated with Amazon's internationally-focused stores and AWS are exposed to foreign exchange rate fluctuations, and upon consolidation, net sales and other operating results may differ materially from expectations due to these fluctuations. The search results also indicate that as a result of fluctuations in foreign exchange rates throughout the year compared to the prior year, the International segment's net sales increased by $88 million in comparison with the prior year.\n",
      "\n",
      "[Invocation time] : 3.419130802154541\n",
      "\n",
      "[Response] : According to the search results, the AWS segment contributed $80,096 million in revenue in 2022, which represents a 29% year-over-year growth. The Advertising services segment contributed $31,160 million in revenue in 2022, which represents a 57% year-over-year growth. Together, the AWS and Advertising segments contributed $111,256 million in revenue to Amazon's 2022 consolidated revenue of $513,983 million, which represents a cumulative growth contribution of approximately 22%.\n",
      "\n",
      "[Invocation time] : 3.0234920978546143\n",
      "\n",
      "[Response] : According to the search results, Amazon's investments in technology infrastructure and fulfillment operations had the following effects on its cash flows and operating expenses in 2022:\n",
      "\n",
      "- Cash provided by (used in) investing activities was $58.2 billion, primarily reflecting investments in technology infrastructure (the majority of which was to support AWS business growth) and additional capacity to support Amazon's fulfillment network. Cash capital expenditures were $58.3 billion in 2022, up from $55.4 billion in 2021. - The increase in fulfillment costs in absolute dollars in 2022 was primarily due to increased investments in Amazon's fulfillment network, as well as increased variable costs corresponding with increased product and service sales volume and inventory levels, and increased wage rates and incentives. - Technology and content costs, which include costs related to the development and maintenance of Amazon's online stores and infrastructure, increased to $73.2 billion in 2022, up from $56.1 billion in 2021.\n",
      "\n",
      "[Invocation time] : 4.342406272888184\n",
      "\n",
      "[Response] : According to the search results, Amazon generally invests its excess cash in AAA-rated money market funds and investment grade short- to intermediate-term fixed income securities. These investments are included in \"Cash and cash equivalents\" or \"Marketable securities\" on Amazon's consolidated balance sheets.\n",
      "\n",
      "[Invocation time] : 2.396291732788086\n",
      "\n",
      "[Response] : According to the search results, Amazon has made significant improvements to its delivery speeds from 2019 to 2023. In 2023, Amazon delivered more than 7 billion items to Prime members at same-day or next-day speeds, including over 4 billion in the U.S. and over 2 billion in Europe. This represents a major increase in delivery speed compared to previous years. The search results attribute this improvement in delivery speeds to two key factors. First, Amazon has re-architected its fulfillment network to store items closer to customers, a process called \"regionalization\". Second, Amazon has expanded its same-day delivery facilities, increasing the number of items delivered same-day or overnight by nearly 70% year-over-year in 2023.\n",
      "\n",
      "[Invocation time] : 3.6026501655578613\n",
      "\n",
      "[Response] : Amazon's investment in renewable energy has significantly improved the energy efficiency of its operations. According to the search results, Amazon's infrastructure is 3.6 times more energy efficient than the median U.S. enterprise data center, and the company's use of renewable energy has enabled it to achieve an 88% lower carbon footprint compared to traditional data centers. Additionally, Amazon has made significant investments in renewable energy projects, including 62 utility-scale wind and solar projects and 125 solar rooftops on its fulfillment and sort centers globally. These projects have the capacity to generate over 6.9 gigawatts and deliver more than 20 million megawatt-hours of energy annually, which helps power Amazon's operations in a more sustainable way.\n",
      "\n",
      "[Invocation time] : 3.2376959323883057\n",
      "\n"
     ]
    }
   ],
   "source": [
    "with_reranker_metadata_filters_dataset = prepare_eval_dataset(questions, ground_truths, kb_id, TEXT_GENERATION_MODEL_ID, reranker_model=AMAZON_RERANKER_MODEL_ID, metadata_filters=True)\n"
   ]
  },
  {
   "cell_type": "code",
   "execution_count": 178,
   "id": "a7662435",
   "metadata": {},
   "outputs": [
    {
     "data": {
      "text/plain": [
       "{'question': \"How does the 2023 net sales mix reflect Amazon's global priorities and strategic investments across segments?\",\n",
       " 'answer': \"According to the search results, Amazon's 2023 net sales mix shows that North America accounted for 61% of total net sales, International accounted for 23%, and AWS accounted for 16%. This sales mix reflects Amazon's strategic priorities and investments across its key business segments: - The North America segment, which includes Amazon's online and physical stores in the US and Canada, remains Amazon's largest and most important market, accounting for the majority of net sales. This indicates that Amazon continues to prioritize and invest heavily in its core retail business in North America. - The International segment, which includes Amazon's online and physical stores outside of North America, accounts for a smaller but still significant portion of net sales at 23%. This suggests that while Amazon continues to expand globally, its international operations are not yet as large or as profitable as its North American business. - AWS, Amazon's cloud computing and web services business, accounts for 16% of net sales. This indicates that while AWS is a rapidly growing and highly profitable part of Amazon's business, it is still smaller than the company's core retail operations in terms of net sales.\",\n",
       " 'contexts': ['Service sales primarily represent third-party seller fees, which includes commissions and any related fulfillment and shipping fees, AWS sales, advertising services, Amazon Prime membership fees, and certain digital media content subscriptions. Net sales information is as follows (in millions):      Year Ended December 31, 2022 2023     Net Sales: North America $ 315,880 $ 352,828 International 118,007 131,200 AWS 80,096 90,757     Consolidated $ 513,983 $ 574,785 Year-over-year Percentage Growth (Decline):     North America 13 % 12 % International (8) 11 AWS 29 13     Consolidated 9 12 Year-over-year Percentage Growth, excluding the effect of foreign exchange rates:     North America 13 % 12 % International 4 11 AWS 29 13     Consolidated 13 12 Net Sales Mix:     North America 61 % 61 % International 23 23 AWS 16 16     Consolidated 100 % 100 %     Sales increased 12% in 2023, compared to the prior year. Changes in foreign exchange rates reduced net sales by $71 million in 2023. For a discussion of the effect of foreign exchange rates on sales growth, see “Effect of Foreign Exchange Rates” below.     North America sales increased 12% in 2023, compared to the prior year.',\n",
       "  'Form 10-K Summary 77 Signatures 78     2AMAZON.COM, INC.     PART I     Item 1. Business     This Annual Report on Form 10-K and the documents incorporated herein by reference contain forward-looking statements based on expectations, estimates, and projections as of the date of this filing. Actual results and outcomes may differ materially from those expressed in forward-looking statements. See Item 1A of Part I — “Risk Factors.” As used herein, “Amazon.com,” “we,” “our,” and similar terms include Amazon.com, Inc. and its subsidiaries, unless the context indicates otherwise.     General     We seek to be Earth’s most customer-centric company. We are guided by four principles: customer obsession rather than competitor focus, passion for invention, commitment to operational excellence, and long-term thinking. In each of our segments, we serve our primary customer sets, consisting of consumers, sellers, developers, enterprises, content creators, advertisers, and employees.     We have organized our operations into three segments: North America, International, and Amazon Web Services (“AWS”). These segments reflect the way the Company evaluates its business performance and manages its operations. Information on our net sales is contained in Item 8 of Part II, “Financial Statements and Supplementary Data — Note 10 — Segment Information.”     Consumers     We serve consumers through our online and physical stores and focus on selection, price, and convenience.',\n",
       "  'Service sales primarily represent third-party seller fees, which includes commissions and any related fulfillment and shipping fees, AWS sales, advertising services, Amazon Prime membership fees, and certain digital media content subscriptions. Net sales information is as follows (in millions):      Year Ended December 31, 2022 2023     Net Sales: North America $ 315,880 $ 352,828 International 118,007 131,200 AWS 80,096 90,757     Consolidated $ 513,983 $ 574,785 Year-over-year Percentage Growth (Decline):     North America 13 % 12 % International (8) 11 AWS 29 13     Consolidated 9 12 Year-over-year Percentage Growth, excluding the effect of foreign exchange rates:     North America 13 % 12 % International 4 11 AWS 29 13     Consolidated 13 12 Net Sales Mix:     North America 61 % 61 % International 23 23 AWS 16 16     Consolidated 100 % 100 %     Sales increased 12% in 2023, compared to the prior year. Changes in foreign exchange rates reduced net sales by $71 million in 2023. For a discussion of the effect of foreign exchange rates on sales growth, see “Effect of Foreign Exchange Rates” below.     North America sales increased 12% in 2023, compared to the prior year.',\n",
       "  'Service sales primarily represent third-party seller fees, which includes commissions and any related fulfillment and shipping fees, AWS sales, advertising services, Amazon Prime membership fees, and certain digital media content subscriptions. Net sales information is as follows (in millions):      Year Ended December 31, 2022 2023     Net Sales: North America $ 315,880 $ 352,828 International 118,007 131,200 AWS 80,096 90,757     Consolidated $ 513,983 $ 574,785 Year-over-year Percentage Growth (Decline):     North America 13 % 12 % International (8) 11 AWS 29 13     Consolidated 9 12 Year-over-year Percentage Growth, excluding the effect of foreign exchange rates:     North America 13 % 12 % International 4 11 AWS 29 13     Consolidated 13 12 Net Sales Mix:     North America 61 % 61 % International 23 23 AWS 16 16     Consolidated 100 % 100 %     Sales increased 12% in 2023, compared to the prior year. Changes in foreign exchange rates reduced net sales by $71 million in 2023. For a discussion of the effect of foreign exchange rates on sales growth, see “Effect of Foreign Exchange Rates” below.     North America sales increased 12% in 2023, compared to the prior year.'],\n",
       " 'ground_truth': \"Amazon's 2023 net sales mix highlights its global priorities, with North America contributing 61%, International 23%, and AWS 16% of total sales. Year-over-year growth in each segment—12% for North America, 11% for International, and 13% for AWS—was driven by increased unit sales, advertising services, and subscription offerings. These trends reflect Amazon's balanced approach to expanding its core markets, strengthening its international presence, and investing in AWS's innovative cloud services to sustain long-term growth.\"}"
      ]
     },
     "execution_count": 178,
     "metadata": {},
     "output_type": "execute_result"
    }
   ],
   "source": [
    "with_reranker_metadata_filters_dataset[1]"
   ]
  },
  {
   "cell_type": "code",
   "execution_count": 179,
   "id": "21463f6f",
   "metadata": {},
   "outputs": [
    {
     "data": {
      "application/vnd.jupyter.widget-view+json": {
       "model_id": "04961bf877394978901152350779b9f5",
       "version_major": 2,
       "version_minor": 0
      },
      "text/plain": [
       "Evaluating:   0%|          | 0/40 [00:00<?, ?it/s]"
      ]
     },
     "metadata": {},
     "output_type": "display_data"
    },
    {
     "name": "stderr",
     "output_type": "stream",
     "text": [
      "[2024-12-13 12:16:01,629] p33632 {connectionpool.py:323} WARNING - Connection pool is full, discarding connection: bedrock-runtime.us-west-2.amazonaws.com. Connection pool size: 10\n",
      "[2024-12-13 12:16:01,856] p33632 {connectionpool.py:323} WARNING - Connection pool is full, discarding connection: bedrock-runtime.us-west-2.amazonaws.com. Connection pool size: 10\n",
      "[2024-12-13 12:16:03,789] p33632 {connectionpool.py:323} WARNING - Connection pool is full, discarding connection: bedrock-runtime.us-west-2.amazonaws.com. Connection pool size: 10\n"
     ]
    }
   ],
   "source": [
    "with_reranker_metadata_filters_result = evaluate(\n",
    "dataset=with_reranker_metadata_filters_dataset,\n",
    "metrics=metrics,\n",
    "llm=llm_for_evaluation,\n",
    "embeddings=bedrock_embeddings,\n",
    ")\n",
    "\n",
    "with_reranker_metadata_filters_result_df = with_reranker_metadata_filters_result.to_pandas()"
   ]
  },
  {
   "cell_type": "code",
   "execution_count": null,
   "id": "0cc21c3d",
   "metadata": {},
   "outputs": [],
   "source": [
    "# with_reranker_metadata_filters_result_df\n",
    "\n",
    "I stopped here"
   ]
  },
  {
   "cell_type": "markdown",
   "id": "c44ec665",
   "metadata": {},
   "source": [
    "#### 3.5 Prepare Comparison data frame"
   ]
  },
  {
   "cell_type": "code",
   "execution_count": 180,
   "id": "f5ca9fc4",
   "metadata": {},
   "outputs": [],
   "source": [
    "import pandas as pd\n",
    "\n",
    "# Create the side-by-side DataFrame\n",
    "comparison_df = pd.DataFrame({\n",
    "    'question': without_reranker_result_df['question'],\n",
    "    'ground_truth': without_reranker_result_df['ground_truth'],\n",
    "    'without_reranker_answer': without_reranker_result_df['answer'],\n",
    "    'with_reranker_answer': with_reranker_result_df['answer'],\n",
    "    'with_reranker_metadata_answer': with_reranker_metadata_filters_result_df['answer'],\n",
    "    \n",
    "    'without_reranker_answer_correctness': without_reranker_result_df['answer_correctness'],\n",
    "    'with_reranker_answer_correctness': with_reranker_result_df['answer_correctness'],\n",
    "    'with_reranker_metadata_correctness': with_reranker_metadata_filters_result_df['answer_correctness'],\n",
    "    })"
   ]
  },
  {
   "cell_type": "code",
   "execution_count": 181,
   "id": "30363097",
   "metadata": {},
   "outputs": [
    {
     "data": {
      "text/html": [
       "<div>\n",
       "<style scoped>\n",
       "    .dataframe tbody tr th:only-of-type {\n",
       "        vertical-align: middle;\n",
       "    }\n",
       "\n",
       "    .dataframe tbody tr th {\n",
       "        vertical-align: top;\n",
       "    }\n",
       "\n",
       "    .dataframe thead th {\n",
       "        text-align: right;\n",
       "    }\n",
       "</style>\n",
       "<table border=\"1\" class=\"dataframe\">\n",
       "  <thead>\n",
       "    <tr style=\"text-align: right;\">\n",
       "      <th></th>\n",
       "      <th>question</th>\n",
       "      <th>ground_truth</th>\n",
       "      <th>without_reranker_answer</th>\n",
       "      <th>with_reranker_answer</th>\n",
       "      <th>with_reranker_metadata_answer</th>\n",
       "      <th>without_reranker_answer_correctness</th>\n",
       "      <th>with_reranker_answer_correctness</th>\n",
       "      <th>with_reranker_metadata_correctness</th>\n",
       "    </tr>\n",
       "  </thead>\n",
       "  <tbody>\n",
       "    <tr>\n",
       "      <th>0</th>\n",
       "      <td>How many jobs did Amazon create in 2020, and what was its total global workforce after this expansion?</td>\n",
       "      <td>Amazon added 500,000 jobs in 2020, bringing its total workforce to approximately 1.3 million employees worldwide.</td>\n",
       "      <td>According to the search results, Amazon directly and indirectly supports nearly 4 million jobs globally. This includes over 680,000 jobs created by Amazon's investments in areas like construction, logistics, and professional services, as well as another 830,000 jobs created by small and medium-sized businesses selling on Amazon.</td>\n",
       "      <td>According to the search results, in 2020 Amazon hired 500,000 new employees, bringing its total global workforce to 1.3 million people around the world.</td>\n",
       "      <td>According to the search results, in 2020 Amazon hired 500,000 new employees, bringing its total global workforce to 1.3 million people around the world.</td>\n",
       "      <td>0.180119</td>\n",
       "      <td>0.988601</td>\n",
       "      <td>0.988601</td>\n",
       "    </tr>\n",
       "    <tr>\n",
       "      <th>1</th>\n",
       "      <td>How does the 2023 net sales mix reflect Amazon's global priorities and strategic investments across segments?</td>\n",
       "      <td>Amazon's 2023 net sales mix highlights its global priorities, with North America contributing 61%, International 23%, and AWS 16% of total sales. Year-over-year growth in each segment—12% for North America, 11% for International, and 13% for AWS—was driven by increased unit sales, advertising services, and subscription offerings. These trends reflect Amazon's balanced approach to expanding its core markets, strengthening its international presence, and investing in AWS's innovative cloud services to sustain long-term growth.</td>\n",
       "      <td>According to the search results, Amazon's 2023 net sales guidance reflects several key priorities and strategic investments:\\n\\n1) Expanding selection and lowering prices internationally to drive more purchases, with a focus on emerging markets like India, Brazil, Australia, Mexico, the Middle East, and Africa. These new geographies are expected to continue growing and becoming profitable in the long run.\\n\\n2) Investing in speed improvements and lowering the \"cost to serve\" customers, which allows Amazon to offer more selection at lower prices.\\n\\n3) Continued strong growth in Amazon's Advertising business, with sponsored ads driving a 24% year-over-year increase in advertising revenue from $38 billion in 2022 to $47 billion in 2023.</td>\n",
       "      <td>According to the search results, Amazon's 2023 net sales mix shows that North America accounted for 61% of total net sales, International accounted for 23%, and AWS accounted for 16%. This reflects Amazon's strategic priorities and investments across its major business segments: - The North America segment, which includes the company's e-commerce operations in the United States and Canada, remains Amazon's largest and most important market, accounting for the majority of net sales.\\n- The International segment, which includes e-commerce operations outside of North America, accounts for a smaller but still significant portion of net sales, indicating Amazon's focus on expanding its global reach.\\n- AWS, Amazon's cloud computing and web services business, accounts for a growing share of net sales, reflecting the company's strategic investments in this high-growth and high-margin segment.</td>\n",
       "      <td>According to the search results, Amazon's 2023 net sales mix shows that North America accounted for 61% of total net sales, International accounted for 23%, and AWS accounted for 16%. This sales mix reflects Amazon's strategic priorities and investments across its key business segments: - The North America segment, which includes Amazon's online and physical stores in the US and Canada, remains Amazon's largest and most important market, accounting for the majority of net sales. This indicates that Amazon continues to prioritize and invest heavily in its core retail business in North America. - The International segment, which includes Amazon's online and physical stores outside of North America, accounts for a smaller but still significant portion of net sales at 23%. This suggests that while Amazon continues to expand globally, its international operations are not yet as large or as profitable as its North American business. - AWS, Amazon's cloud computing and web services busine...</td>\n",
       "      <td>0.374597</td>\n",
       "      <td>0.597556</td>\n",
       "      <td>0.463611</td>\n",
       "    </tr>\n",
       "    <tr>\n",
       "      <th>2</th>\n",
       "      <td>How did foreign exchange rate fluctuations impact Amazon's net sales and the corresponding segment's performance in 2023?</td>\n",
       "      <td>In 2023, foreign exchange rate fluctuations had a mixed impact on Amazon's financial performance. While these changes reduced consolidated net sales by $71 million, they positively influenced the International segment, increasing its net sales by $88 million. This highlights the nuanced effects of currency fluctuations, where gains in specific regions, such as the International segment, helped offset broader challenges at the consolidated level.</td>\n",
       "      <td>According to the search results, foreign exchange rate fluctuations had the following impact on Amazon's net sales and operating income in 2023:\\n\\n- Net sales in 2023 were expected to be between $121.0 billion and $126.0 billion, with an unfavorable impact of approximately 210 basis points from foreign exchange rates.\\n- Operating income in 2023 was expected to be between $0 and $4.0 billion, compared to $3.7 billion in the first quarter of 2022.</td>\n",
       "      <td>According to the search results, changes in foreign exchange rates reduced Amazon's net sales by $71 million in 2023. The International segment, which accounted for 23% of Amazon's consolidated revenues in 2023, was impacted by foreign exchange rate fluctuations. Specifically, the search results state that \"as a result of fluctuations in foreign exchange rates throughout the year compared to rates in effect the prior year, International segment net sales increased by $88 million in comparison with the prior year.\"</td>\n",
       "      <td>According to the search results, changes in foreign exchange rates reduced Amazon's net sales by $71 million in 2023. The International segment, which accounted for 23% of Amazon's consolidated revenues in 2023, is exposed to foreign exchange rate fluctuations. The results of operations and intercompany balances associated with Amazon's internationally-focused stores and AWS are exposed to foreign exchange rate fluctuations, and upon consolidation, net sales and other operating results may differ materially from expectations due to these fluctuations. The search results also indicate that as a result of fluctuations in foreign exchange rates throughout the year compared to the prior year, the International segment's net sales increased by $88 million in comparison with the prior year.</td>\n",
       "      <td>0.418284</td>\n",
       "      <td>0.721676</td>\n",
       "      <td>0.493232</td>\n",
       "    </tr>\n",
       "    <tr>\n",
       "      <th>3</th>\n",
       "      <td>What is the cumulative growth contribution of AWS and Advertising segments to Amazon's 2022 consolidated revenue?</td>\n",
       "      <td>In 2022, AWS achieved a 29% year-over-year revenue growth, increasing from $62.2 billion in 2021 to $80.1 billion. Similarly, the Advertising segment experienced a 25% year-over-year growth, reaching $31 billion in revenue for the year. Together, these segments contributed significantly to Amazon's total consolidated revenue of $434 billion. AWS accounted for 19.59%, while Advertising contributed 7.14%, resulting in a cumulative contribution of approximately 26.73%.</td>\n",
       "      <td>According to the search results, Amazon's AWS revenue grew 13% year-over-year from $80 billion in 2022 to $91 billion in 2023. Additionally, Amazon's Advertising revenue grew 24% year-over-year from $38 billion in 2022 to $47 billion in 2023.</td>\n",
       "      <td>According to the search results, Amazon's Advertising segment grew 24% year-over-year from $38 billion in 2022 to $47 billion in 2023, primarily driven by sponsored ads. Additionally, Amazon's AWS segment grew 29% year-over-year in 2022.</td>\n",
       "      <td>According to the search results, the AWS segment contributed $80,096 million in revenue in 2022, which represents a 29% year-over-year growth. The Advertising services segment contributed $31,160 million in revenue in 2022, which represents a 57% year-over-year growth. Together, the AWS and Advertising segments contributed $111,256 million in revenue to Amazon's 2022 consolidated revenue of $513,983 million, which represents a cumulative growth contribution of approximately 22%.</td>\n",
       "      <td>0.455440</td>\n",
       "      <td>0.341036</td>\n",
       "      <td>0.743560</td>\n",
       "    </tr>\n",
       "    <tr>\n",
       "      <th>4</th>\n",
       "      <td>How did Amazon's investments in technology infrastructure and fulfillment operations affect its cash flows and operating expenses in 2022?</td>\n",
       "      <td>In 2022, Amazon's substantial investments in technology infrastructure and fulfillment operations significantly impacted its cash flows and operating expenses. The company allocated $58.3 billion in cash capital expenditures to support AWS growth and expand its fulfillment network, resulting in a 31% increase in technology and content expenses due to higher payroll costs for technical teams and infrastructure spending on servers, networking equipment, and data centers. Fulfillment costs rose by 12%, driven by increased product sales volume, inventory levels, and wage rate incentives. These investments led to a decline in free cash flow to $(11,569) million, compared to $(9,069) million in 2021. Despite the higher costs, these expenditures were crucial for scaling operations, enhancing the customer experience, and sustaining long-term growth, particularly in AWS and global fulfillment capacity, highlighting Amazon’s commitment to maintaining its competitive edge in a rapidly evolvin...</td>\n",
       "      <td>According to the search results, Amazon's investments in technology infrastructure and fulfillment operations led to increased operating expenses in 2022. Specifically:\\n\\n- Technology and content costs increased due to investments in research and development, product and service development, and infrastructure costs to support AWS and other Amazon businesses. (Source 1, Source 3)\\n\\n- Fulfillment costs increased in 2022 compared to the prior year due to investments in expanding the fulfillment network, increased wage rates and incentives, and fulfillment network inefficiencies resulting from a constrained labor market and global supply chain constraints. (Source 1, Source 2, Source 3)</td>\n",
       "      <td>Amazon's investments in technology infrastructure and fulfillment operations had the following effects on its cash flows and operating expenses in 2022:\\n\\n- Cash provided by (used in) investing activities was $(58.2) billion in 2022, primarily reflecting investments in technology infrastructure (the majority of which was to support AWS business growth) and additional capacity to support Amazon's fulfillment network. Cash capital expenditures were $58.3 billion in 2022. - The increase in fulfillment costs in 2022 compared to the prior year was primarily due to increased investments in Amazon's fulfillment network, as well as increased variable costs corresponding with higher product and service sales volume and inventory levels, and increased wage rates and incentives. - Technology and content costs, which include costs related to the development and maintenance of Amazon's online stores and infrastructure, increased to $73.2 billion in 2022, up from $56.1 billion in 2021.</td>\n",
       "      <td>According to the search results, Amazon's investments in technology infrastructure and fulfillment operations had the following effects on its cash flows and operating expenses in 2022:\\n\\n- Cash provided by (used in) investing activities was $58.2 billion, primarily reflecting investments in technology infrastructure (the majority of which was to support AWS business growth) and additional capacity to support Amazon's fulfillment network. Cash capital expenditures were $58.3 billion in 2022, up from $55.4 billion in 2021. - The increase in fulfillment costs in absolute dollars in 2022 was primarily due to increased investments in Amazon's fulfillment network, as well as increased variable costs corresponding with increased product and service sales volume and inventory levels, and increased wage rates and incentives. - Technology and content costs, which include costs related to the development and maintenance of Amazon's online stores and infrastructure, increased to $73.2 billio...</td>\n",
       "      <td>0.717208</td>\n",
       "      <td>0.882850</td>\n",
       "      <td>0.899463</td>\n",
       "    </tr>\n",
       "    <tr>\n",
       "      <th>5</th>\n",
       "      <td>What types of securities does Amazon invest its excess cash in 2019 and how are these investments classified in the balance sheet?</td>\n",
       "      <td>Amazon typically invests its excess cash in AAA-rated money market funds and investment-grade short- to intermediate-term fixed income securities, which are classified as either Cash and cash equivalents or Marketable securities on its consolidated balance sheets. In 2019, Amazon's marketable securities portfolio included a variety of assets such as money market funds, equity securities, foreign government and agency securities, U.S. government and agency securities, corporate debt securities, asset-backed securities, and other fixed income securities. These marketable securities were categorized as either Level 1 or Level 2 securities on the balance sheet.</td>\n",
       "      <td>According to the search results, Amazon generally invests its excess cash in AAA-rated money market funds and investment grade short- to intermediate-term marketable debt securities. These investments are included in \"Cash and cash equivalents\" or \"Marketable securities\" on Amazon's consolidated balance sheets.</td>\n",
       "      <td>According to the search results, Amazon generally invests its excess cash in AAA-rated money market funds and investment grade short- to intermediate-term fixed income securities. These investments are included in \"Cash and cash equivalents\" or \"Marketable securities\" on Amazon's consolidated balance sheets.</td>\n",
       "      <td>According to the search results, Amazon generally invests its excess cash in AAA-rated money market funds and investment grade short- to intermediate-term fixed income securities. These investments are included in \"Cash and cash equivalents\" or \"Marketable securities\" on Amazon's consolidated balance sheets.</td>\n",
       "      <td>0.484926</td>\n",
       "      <td>0.537099</td>\n",
       "      <td>0.486016</td>\n",
       "    </tr>\n",
       "    <tr>\n",
       "      <th>6</th>\n",
       "      <td>How has Amazon's approach to product delivery speed evolved from 2019 to 2023?</td>\n",
       "      <td>From 2019 to 2023, Amazon significantly enhanced delivery speeds by adopting a regionalized fulfillment network, reducing transportation distances and improving inventory placement accuracy. The company expanded its same-day and next-day delivery infrastructure, achieving record speeds with over 7 billion items delivered in 2023, supported by advanced machine learning for demand forecasting and inventory optimization. Investments in fulfillment centers, delivery stations, and Amazon Air further streamlined operations, while a customer-centric approach solidified fast delivery as a key feature of Amazon Prime, driving customer satisfaction and loyalty.</td>\n",
       "      <td>According to the search results, Amazon has made substantial progress in improving its delivery speeds for customers over the past few years. In 2023, Amazon delivered more than 7 billion items to Prime members at the fastest speeds ever, including over 4 billion in the U.S. and over 2 billion in Europe. This was achieved through two key efforts: 1) Regionalization, where Amazon re-architected its network to store items closer to customers, and 2) Expansion of same-day delivery facilities, which increased the number of items delivered same-day or overnight by nearly 70% year-over-year in 2023. These improvements have allowed Amazon to reduce its cost to serve per unit, which has enabled further investments in speed and selection.</td>\n",
       "      <td>According to the search results, Amazon has made significant improvements to its delivery speeds from 2019 to 2023. In 2023, Amazon delivered more than 7 billion items to Prime members at the fastest speeds ever, including over 4 billion in the U.S. and over 2 billion in Europe. This was achieved through two key efforts: 1) Regionalization, where Amazon re-architected its network to store items closer to customers, and 2) Expansion of same-day delivery facilities, which increased the number of items delivered same-day or overnight by nearly 70% year-over-year in 2023. These improvements have allowed Amazon to reduce its cost to serve per unit, which in turn has enabled the company to invest in faster delivery speeds and add more selection at lower prices.</td>\n",
       "      <td>According to the search results, Amazon has made significant improvements to its delivery speeds from 2019 to 2023. In 2023, Amazon delivered more than 7 billion items to Prime members at same-day or next-day speeds, including over 4 billion in the U.S. and over 2 billion in Europe. This represents a major increase in delivery speed compared to previous years. The search results attribute this improvement in delivery speeds to two key factors. First, Amazon has re-architected its fulfillment network to store items closer to customers, a process called \"regionalization\". Second, Amazon has expanded its same-day delivery facilities, increasing the number of items delivered same-day or overnight by nearly 70% year-over-year in 2023.</td>\n",
       "      <td>0.527368</td>\n",
       "      <td>0.514164</td>\n",
       "      <td>0.580355</td>\n",
       "    </tr>\n",
       "    <tr>\n",
       "      <th>7</th>\n",
       "      <td>How has Amazon’s investment in green energy influenced its overall operational efficiency?</td>\n",
       "      <td>Amazon's investment in green energy, including large-scale wind and solar projects, has significantly enhanced operational efficiency by reducing energy costs and supporting its commitment to sustainability. By achieving 100% renewable energy usage five years ahead of its original 2030 target, Amazon has lowered its carbon footprint and energy expenses across its operations, particularly in energy-intensive areas like AWS data centers. These efforts align with The Climate Pledge and demonstrate how sustainability initiatives can simultaneously drive cost savings and long-term resilience.</td>\n",
       "      <td>Amazon's investments in renewable energy have improved its overall operational efficiency in several ways: 1) Amazon has committed to reaching 80% renewable energy by 2024 and 100% renewable energy by 2030, which will significantly reduce the carbon footprint of its operations. (Source 1)\\n2) Amazon's use of renewable energy, along with its efforts to increase the energy efficiency of its data centers and facilities, have enabled AWS to have an 88% lower carbon footprint compared to traditional data centers. (Source 3)</td>\n",
       "      <td>Amazon's investment in renewable energy has improved the energy efficiency of its operations in several ways: 1) AWS, Amazon's cloud computing division, operates at much higher server utilization rates than traditional data centers, which enables it to do the same tasks with 88% lower carbon emissions. 2) Amazon has also made its data centers more energy efficient by using more efficient evaporative cooling systems instead of traditional air conditioning, which a study found makes AWS infrastructure 3.6 times more energy efficient than the average U.S. enterprise data center. 3) Amazon's investments in renewable energy projects, including 62 utility-scale wind and solar projects and 125 solar rooftops, have the capacity to generate over 6.9 gigawatts of renewable energy annually, helping to power its operations with clean energy.</td>\n",
       "      <td>Amazon's investment in renewable energy has significantly improved the energy efficiency of its operations. According to the search results, Amazon's infrastructure is 3.6 times more energy efficient than the median U.S. enterprise data center, and the company's use of renewable energy has enabled it to achieve an 88% lower carbon footprint compared to traditional data centers. Additionally, Amazon has made significant investments in renewable energy projects, including 62 utility-scale wind and solar projects and 125 solar rooftops on its fulfillment and sort centers globally. These projects have the capacity to generate over 6.9 gigawatts and deliver more than 20 million megawatt-hours of energy annually, which helps power Amazon's operations in a more sustainable way.</td>\n",
       "      <td>0.557134</td>\n",
       "      <td>0.483885</td>\n",
       "      <td>0.682079</td>\n",
       "    </tr>\n",
       "  </tbody>\n",
       "</table>\n",
       "</div>"
      ],
      "text/plain": [
       "                                                                                                                                     question  \\\n",
       "0                                      How many jobs did Amazon create in 2020, and what was its total global workforce after this expansion?   \n",
       "1                               How does the 2023 net sales mix reflect Amazon's global priorities and strategic investments across segments?   \n",
       "2                   How did foreign exchange rate fluctuations impact Amazon's net sales and the corresponding segment's performance in 2023?   \n",
       "3                           What is the cumulative growth contribution of AWS and Advertising segments to Amazon's 2022 consolidated revenue?   \n",
       "4  How did Amazon's investments in technology infrastructure and fulfillment operations affect its cash flows and operating expenses in 2022?   \n",
       "5          What types of securities does Amazon invest its excess cash in 2019 and how are these investments classified in the balance sheet?   \n",
       "6                                                              How has Amazon's approach to product delivery speed evolved from 2019 to 2023?   \n",
       "7                                                  How has Amazon’s investment in green energy influenced its overall operational efficiency?   \n",
       "\n",
       "                                                                                                                                                                                                                                                                                                                                                                                                                                                                                                                                                                                                                                                                                                                                                                                                                                                                                                                                                                                                                              ground_truth  \\\n",
       "0                                                                                                                                                                                                                                                                                                                                                                                                                                                                                                                                                                                                                                                                                                                                                                                                                                                                                                                        Amazon added 500,000 jobs in 2020, bringing its total workforce to approximately 1.3 million employees worldwide.   \n",
       "1                                                                                                                                                                                                                                                                                                                                                                                                                                                                                       Amazon's 2023 net sales mix highlights its global priorities, with North America contributing 61%, International 23%, and AWS 16% of total sales. Year-over-year growth in each segment—12% for North America, 11% for International, and 13% for AWS—was driven by increased unit sales, advertising services, and subscription offerings. These trends reflect Amazon's balanced approach to expanding its core markets, strengthening its international presence, and investing in AWS's innovative cloud services to sustain long-term growth.   \n",
       "2                                                                                                                                                                                                                                                                                                                                                                                                                                                                                                                                                                        In 2023, foreign exchange rate fluctuations had a mixed impact on Amazon's financial performance. While these changes reduced consolidated net sales by $71 million, they positively influenced the International segment, increasing its net sales by $88 million. This highlights the nuanced effects of currency fluctuations, where gains in specific regions, such as the International segment, helped offset broader challenges at the consolidated level.   \n",
       "3                                                                                                                                                                                                                                                                                                                                                                                                                                                                                                                                                   In 2022, AWS achieved a 29% year-over-year revenue growth, increasing from $62.2 billion in 2021 to $80.1 billion. Similarly, the Advertising segment experienced a 25% year-over-year growth, reaching $31 billion in revenue for the year. Together, these segments contributed significantly to Amazon's total consolidated revenue of $434 billion. AWS accounted for 19.59%, while Advertising contributed 7.14%, resulting in a cumulative contribution of approximately 26.73%.   \n",
       "4  In 2022, Amazon's substantial investments in technology infrastructure and fulfillment operations significantly impacted its cash flows and operating expenses. The company allocated $58.3 billion in cash capital expenditures to support AWS growth and expand its fulfillment network, resulting in a 31% increase in technology and content expenses due to higher payroll costs for technical teams and infrastructure spending on servers, networking equipment, and data centers. Fulfillment costs rose by 12%, driven by increased product sales volume, inventory levels, and wage rate incentives. These investments led to a decline in free cash flow to $(11,569) million, compared to $(9,069) million in 2021. Despite the higher costs, these expenditures were crucial for scaling operations, enhancing the customer experience, and sustaining long-term growth, particularly in AWS and global fulfillment capacity, highlighting Amazon’s commitment to maintaining its competitive edge in a rapidly evolvin...   \n",
       "5                                                                                                                                                                                                                                                                                                                                                Amazon typically invests its excess cash in AAA-rated money market funds and investment-grade short- to intermediate-term fixed income securities, which are classified as either Cash and cash equivalents or Marketable securities on its consolidated balance sheets. In 2019, Amazon's marketable securities portfolio included a variety of assets such as money market funds, equity securities, foreign government and agency securities, U.S. government and agency securities, corporate debt securities, asset-backed securities, and other fixed income securities. These marketable securities were categorized as either Level 1 or Level 2 securities on the balance sheet.   \n",
       "6                                                                                                                                                                                                                                                                                                                                                      From 2019 to 2023, Amazon significantly enhanced delivery speeds by adopting a regionalized fulfillment network, reducing transportation distances and improving inventory placement accuracy. The company expanded its same-day and next-day delivery infrastructure, achieving record speeds with over 7 billion items delivered in 2023, supported by advanced machine learning for demand forecasting and inventory optimization. Investments in fulfillment centers, delivery stations, and Amazon Air further streamlined operations, while a customer-centric approach solidified fast delivery as a key feature of Amazon Prime, driving customer satisfaction and loyalty.   \n",
       "7                                                                                                                                                                                                                                                                                                                                                                                                                      Amazon's investment in green energy, including large-scale wind and solar projects, has significantly enhanced operational efficiency by reducing energy costs and supporting its commitment to sustainability. By achieving 100% renewable energy usage five years ahead of its original 2030 target, Amazon has lowered its carbon footprint and energy expenses across its operations, particularly in energy-intensive areas like AWS data centers. These efforts align with The Climate Pledge and demonstrate how sustainability initiatives can simultaneously drive cost savings and long-term resilience.    \n",
       "\n",
       "                                                                                                                                                                                                                                                                                                                                                                                                                                                                                                                                                                                                                                                                                                                                                    without_reranker_answer  \\\n",
       "0                                                                                                                                                                                                                                                                                                                                                                                                                                According to the search results, Amazon directly and indirectly supports nearly 4 million jobs globally. This includes over 680,000 jobs created by Amazon's investments in areas like construction, logistics, and professional services, as well as another 830,000 jobs created by small and medium-sized businesses selling on Amazon.   \n",
       "1  According to the search results, Amazon's 2023 net sales guidance reflects several key priorities and strategic investments:\\n\\n1) Expanding selection and lowering prices internationally to drive more purchases, with a focus on emerging markets like India, Brazil, Australia, Mexico, the Middle East, and Africa. These new geographies are expected to continue growing and becoming profitable in the long run.\\n\\n2) Investing in speed improvements and lowering the \"cost to serve\" customers, which allows Amazon to offer more selection at lower prices.\\n\\n3) Continued strong growth in Amazon's Advertising business, with sponsored ads driving a 24% year-over-year increase in advertising revenue from $38 billion in 2022 to $47 billion in 2023.   \n",
       "2                                                                                                                                                                                                                                                                                                       According to the search results, foreign exchange rate fluctuations had the following impact on Amazon's net sales and operating income in 2023:\\n\\n- Net sales in 2023 were expected to be between $121.0 billion and $126.0 billion, with an unfavorable impact of approximately 210 basis points from foreign exchange rates.\\n- Operating income in 2023 was expected to be between $0 and $4.0 billion, compared to $3.7 billion in the first quarter of 2022.   \n",
       "3                                                                                                                                                                                                                                                                                                                                                                                                                                                                                                                        According to the search results, Amazon's AWS revenue grew 13% year-over-year from $80 billion in 2022 to $91 billion in 2023. Additionally, Amazon's Advertising revenue grew 24% year-over-year from $38 billion in 2022 to $47 billion in 2023.   \n",
       "4                                                    According to the search results, Amazon's investments in technology infrastructure and fulfillment operations led to increased operating expenses in 2022. Specifically:\\n\\n- Technology and content costs increased due to investments in research and development, product and service development, and infrastructure costs to support AWS and other Amazon businesses. (Source 1, Source 3)\\n\\n- Fulfillment costs increased in 2022 compared to the prior year due to investments in expanding the fulfillment network, increased wage rates and incentives, and fulfillment network inefficiencies resulting from a constrained labor market and global supply chain constraints. (Source 1, Source 2, Source 3)   \n",
       "5                                                                                                                                                                                                                                                                                                                                                                                                                                                  According to the search results, Amazon generally invests its excess cash in AAA-rated money market funds and investment grade short- to intermediate-term marketable debt securities. These investments are included in \"Cash and cash equivalents\" or \"Marketable securities\" on Amazon's consolidated balance sheets.   \n",
       "6       According to the search results, Amazon has made substantial progress in improving its delivery speeds for customers over the past few years. In 2023, Amazon delivered more than 7 billion items to Prime members at the fastest speeds ever, including over 4 billion in the U.S. and over 2 billion in Europe. This was achieved through two key efforts: 1) Regionalization, where Amazon re-architected its network to store items closer to customers, and 2) Expansion of same-day delivery facilities, which increased the number of items delivered same-day or overnight by nearly 70% year-over-year in 2023. These improvements have allowed Amazon to reduce its cost to serve per unit, which has enabled further investments in speed and selection.   \n",
       "7                                                                                                                                                                                                                              Amazon's investments in renewable energy have improved its overall operational efficiency in several ways: 1) Amazon has committed to reaching 80% renewable energy by 2024 and 100% renewable energy by 2030, which will significantly reduce the carbon footprint of its operations. (Source 1)\\n2) Amazon's use of renewable energy, along with its efforts to increase the energy efficiency of its data centers and facilities, have enabled AWS to have an 88% lower carbon footprint compared to traditional data centers. (Source 3)   \n",
       "\n",
       "                                                                                                                                                                                                                                                                                                                                                                                                                                                                                                                                                                                                                                                                                                                                                                                                                                                                                                                                                                                                          with_reranker_answer  \\\n",
       "0                                                                                                                                                                                                                                                                                                                                                                                                                                                                                                                                                                                                                                                                                                                                                                                                                                                                     According to the search results, in 2020 Amazon hired 500,000 new employees, bringing its total global workforce to 1.3 million people around the world.   \n",
       "1                                                                                           According to the search results, Amazon's 2023 net sales mix shows that North America accounted for 61% of total net sales, International accounted for 23%, and AWS accounted for 16%. This reflects Amazon's strategic priorities and investments across its major business segments: - The North America segment, which includes the company's e-commerce operations in the United States and Canada, remains Amazon's largest and most important market, accounting for the majority of net sales.\\n- The International segment, which includes e-commerce operations outside of North America, accounts for a smaller but still significant portion of net sales, indicating Amazon's focus on expanding its global reach.\\n- AWS, Amazon's cloud computing and web services business, accounts for a growing share of net sales, reflecting the company's strategic investments in this high-growth and high-margin segment.   \n",
       "2                                                                                                                                                                                                                                                                                                                                                                                                                                                                                      According to the search results, changes in foreign exchange rates reduced Amazon's net sales by $71 million in 2023. The International segment, which accounted for 23% of Amazon's consolidated revenues in 2023, was impacted by foreign exchange rate fluctuations. Specifically, the search results state that \"as a result of fluctuations in foreign exchange rates throughout the year compared to rates in effect the prior year, International segment net sales increased by $88 million in comparison with the prior year.\"   \n",
       "3                                                                                                                                                                                                                                                                                                                                                                                                                                                                                                                                                                                                                                                                                                                                                                                According to the search results, Amazon's Advertising segment grew 24% year-over-year from $38 billion in 2022 to $47 billion in 2023, primarily driven by sponsored ads. Additionally, Amazon's AWS segment grew 29% year-over-year in 2022.   \n",
       "4  Amazon's investments in technology infrastructure and fulfillment operations had the following effects on its cash flows and operating expenses in 2022:\\n\\n- Cash provided by (used in) investing activities was $(58.2) billion in 2022, primarily reflecting investments in technology infrastructure (the majority of which was to support AWS business growth) and additional capacity to support Amazon's fulfillment network. Cash capital expenditures were $58.3 billion in 2022. - The increase in fulfillment costs in 2022 compared to the prior year was primarily due to increased investments in Amazon's fulfillment network, as well as increased variable costs corresponding with higher product and service sales volume and inventory levels, and increased wage rates and incentives. - Technology and content costs, which include costs related to the development and maintenance of Amazon's online stores and infrastructure, increased to $73.2 billion in 2022, up from $56.1 billion in 2021.   \n",
       "5                                                                                                                                                                                                                                                                                                                                                                                                                                                                                                                                                                                                                                                                                                        According to the search results, Amazon generally invests its excess cash in AAA-rated money market funds and investment grade short- to intermediate-term fixed income securities. These investments are included in \"Cash and cash equivalents\" or \"Marketable securities\" on Amazon's consolidated balance sheets.   \n",
       "6                                                                                                                                                                                                                                According to the search results, Amazon has made significant improvements to its delivery speeds from 2019 to 2023. In 2023, Amazon delivered more than 7 billion items to Prime members at the fastest speeds ever, including over 4 billion in the U.S. and over 2 billion in Europe. This was achieved through two key efforts: 1) Regionalization, where Amazon re-architected its network to store items closer to customers, and 2) Expansion of same-day delivery facilities, which increased the number of items delivered same-day or overnight by nearly 70% year-over-year in 2023. These improvements have allowed Amazon to reduce its cost to serve per unit, which in turn has enabled the company to invest in faster delivery speeds and add more selection at lower prices.   \n",
       "7                                                                                                                                                    Amazon's investment in renewable energy has improved the energy efficiency of its operations in several ways: 1) AWS, Amazon's cloud computing division, operates at much higher server utilization rates than traditional data centers, which enables it to do the same tasks with 88% lower carbon emissions. 2) Amazon has also made its data centers more energy efficient by using more efficient evaporative cooling systems instead of traditional air conditioning, which a study found makes AWS infrastructure 3.6 times more energy efficient than the average U.S. enterprise data center. 3) Amazon's investments in renewable energy projects, including 62 utility-scale wind and solar projects and 125 solar rooftops, have the capacity to generate over 6.9 gigawatts of renewable energy annually, helping to power its operations with clean energy.   \n",
       "\n",
       "                                                                                                                                                                                                                                                                                                                                                                                                                                                                                                                                                                                                                                                                                                                                                                                                                                                                                                                                                                                                             with_reranker_metadata_answer  \\\n",
       "0                                                                                                                                                                                                                                                                                                                                                                                                                                                                                                                                                                                                                                                                                                                                                                                                                                                                                 According to the search results, in 2020 Amazon hired 500,000 new employees, bringing its total global workforce to 1.3 million people around the world.   \n",
       "1  According to the search results, Amazon's 2023 net sales mix shows that North America accounted for 61% of total net sales, International accounted for 23%, and AWS accounted for 16%. This sales mix reflects Amazon's strategic priorities and investments across its key business segments: - The North America segment, which includes Amazon's online and physical stores in the US and Canada, remains Amazon's largest and most important market, accounting for the majority of net sales. This indicates that Amazon continues to prioritize and invest heavily in its core retail business in North America. - The International segment, which includes Amazon's online and physical stores outside of North America, accounts for a smaller but still significant portion of net sales at 23%. This suggests that while Amazon continues to expand globally, its international operations are not yet as large or as profitable as its North American business. - AWS, Amazon's cloud computing and web services busine...   \n",
       "2                                                                                                                                                                                                              According to the search results, changes in foreign exchange rates reduced Amazon's net sales by $71 million in 2023. The International segment, which accounted for 23% of Amazon's consolidated revenues in 2023, is exposed to foreign exchange rate fluctuations. The results of operations and intercompany balances associated with Amazon's internationally-focused stores and AWS are exposed to foreign exchange rate fluctuations, and upon consolidation, net sales and other operating results may differ materially from expectations due to these fluctuations. The search results also indicate that as a result of fluctuations in foreign exchange rates throughout the year compared to the prior year, the International segment's net sales increased by $88 million in comparison with the prior year.   \n",
       "3                                                                                                                                                                                                                                                                                                                                                                                                                                                                                                                                      According to the search results, the AWS segment contributed $80,096 million in revenue in 2022, which represents a 29% year-over-year growth. The Advertising services segment contributed $31,160 million in revenue in 2022, which represents a 57% year-over-year growth. Together, the AWS and Advertising segments contributed $111,256 million in revenue to Amazon's 2022 consolidated revenue of $513,983 million, which represents a cumulative growth contribution of approximately 22%.   \n",
       "4  According to the search results, Amazon's investments in technology infrastructure and fulfillment operations had the following effects on its cash flows and operating expenses in 2022:\\n\\n- Cash provided by (used in) investing activities was $58.2 billion, primarily reflecting investments in technology infrastructure (the majority of which was to support AWS business growth) and additional capacity to support Amazon's fulfillment network. Cash capital expenditures were $58.3 billion in 2022, up from $55.4 billion in 2021. - The increase in fulfillment costs in absolute dollars in 2022 was primarily due to increased investments in Amazon's fulfillment network, as well as increased variable costs corresponding with increased product and service sales volume and inventory levels, and increased wage rates and incentives. - Technology and content costs, which include costs related to the development and maintenance of Amazon's online stores and infrastructure, increased to $73.2 billio...   \n",
       "5                                                                                                                                                                                                                                                                                                                                                                                                                                                                                                                                                                                                                                                                                                                    According to the search results, Amazon generally invests its excess cash in AAA-rated money market funds and investment grade short- to intermediate-term fixed income securities. These investments are included in \"Cash and cash equivalents\" or \"Marketable securities\" on Amazon's consolidated balance sheets.   \n",
       "6                                                                                                                                                                                                                                                                      According to the search results, Amazon has made significant improvements to its delivery speeds from 2019 to 2023. In 2023, Amazon delivered more than 7 billion items to Prime members at same-day or next-day speeds, including over 4 billion in the U.S. and over 2 billion in Europe. This represents a major increase in delivery speed compared to previous years. The search results attribute this improvement in delivery speeds to two key factors. First, Amazon has re-architected its fulfillment network to store items closer to customers, a process called \"regionalization\". Second, Amazon has expanded its same-day delivery facilities, increasing the number of items delivered same-day or overnight by nearly 70% year-over-year in 2023.   \n",
       "7                                                                                                                                                                                                                            Amazon's investment in renewable energy has significantly improved the energy efficiency of its operations. According to the search results, Amazon's infrastructure is 3.6 times more energy efficient than the median U.S. enterprise data center, and the company's use of renewable energy has enabled it to achieve an 88% lower carbon footprint compared to traditional data centers. Additionally, Amazon has made significant investments in renewable energy projects, including 62 utility-scale wind and solar projects and 125 solar rooftops on its fulfillment and sort centers globally. These projects have the capacity to generate over 6.9 gigawatts and deliver more than 20 million megawatt-hours of energy annually, which helps power Amazon's operations in a more sustainable way.   \n",
       "\n",
       "   without_reranker_answer_correctness  with_reranker_answer_correctness  \\\n",
       "0                             0.180119                          0.988601   \n",
       "1                             0.374597                          0.597556   \n",
       "2                             0.418284                          0.721676   \n",
       "3                             0.455440                          0.341036   \n",
       "4                             0.717208                          0.882850   \n",
       "5                             0.484926                          0.537099   \n",
       "6                             0.527368                          0.514164   \n",
       "7                             0.557134                          0.483885   \n",
       "\n",
       "   with_reranker_metadata_correctness  \n",
       "0                            0.988601  \n",
       "1                            0.463611  \n",
       "2                            0.493232  \n",
       "3                            0.743560  \n",
       "4                            0.899463  \n",
       "5                            0.486016  \n",
       "6                            0.580355  \n",
       "7                            0.682079  "
      ]
     },
     "execution_count": 181,
     "metadata": {},
     "output_type": "execute_result"
    }
   ],
   "source": [
    "pd.options.display.max_colwidth = 1000\n",
    "comparison_df"
   ]
  },
  {
   "cell_type": "code",
   "execution_count": 71,
   "id": "b4d45529",
   "metadata": {},
   "outputs": [],
   "source": [
    "# output the results to a csv file\n",
    "# comparison_df.to_csv('comparison_df.csv', index=False)"
   ]
  },
  {
   "cell_type": "code",
   "execution_count": 182,
   "id": "a3e83ab3",
   "metadata": {},
   "outputs": [
    {
     "name": "stdout",
     "output_type": "stream",
     "text": [
      "\n",
      "Average Correctness without Reranker: 0.4644\n",
      "Average Correctness with Reranker: 0.6334\n",
      "Average Correctness with Reranker and metadata filter: 0.6671\n"
     ]
    }
   ],
   "source": [
    "# Calculate average correctness\n",
    "without_reranker_avg_correctness = without_reranker_result_df['answer_correctness'].mean()\n",
    "with_reranker_avg_correctness = with_reranker_result_df['answer_correctness'].mean()\n",
    "with_reranker_metadata_avg_correctness = with_reranker_metadata_filters_result_df['answer_correctness'].mean()\n",
    "\n",
    "print(f\"\\nAverage Correctness without Reranker: {without_reranker_avg_correctness:.4f}\")\n",
    "print(f\"Average Correctness with Reranker: {with_reranker_avg_correctness:.4f}\")\n",
    "print(f\"Average Correctness with Reranker and metadata filter: {with_reranker_metadata_avg_correctness:.4f}\")"
   ]
  },
  {
   "cell_type": "code",
   "execution_count": 80,
   "id": "01744e9b",
   "metadata": {},
   "outputs": [],
   "source": [
    "from IPython.display import Markdown, display\n",
    "\n",
    "def print_markdown(text):\n",
    "    display(Markdown(text))\n"
   ]
  },
  {
   "cell_type": "code",
   "execution_count": 93,
   "id": "ef89867f",
   "metadata": {},
   "outputs": [
    {
     "name": "stdout",
     "output_type": "stream",
     "text": [
      "[Response] : According to the search results, Amazon's net sales are organized into three segments: North America, International, and Amazon Web Services (AWS). The search results indicate that Amazon is focused on expanding its presence in emerging international markets like India, Brazil, Australia, Mexico, the Middle East, and Africa. These emerging markets are expected to continue growing and becoming profitable for Amazon in the long run. Additionally, Amazon's advertising business, which is primarily driven by sponsored ads, is also seeing strong growth, increasing from $38 billion in 2022 to $47 billion in 2023.\n",
      "\n",
      "[Invocation time] : 2.1336922645568848\n",
      "\n",
      "[Response] : According to the search results, Amazon's 2023 net sales mix shows that the North America segment accounted for 61% of total net sales, the International segment accounted for 23%, and the AWS segment accounted for 16%. This sales mix reflects Amazon's strategic priorities and investments across its different business segments. The search results indicate that Amazon's North America segment, which includes its online and physical stores in the US and Canada, is its largest and most important segment, accounting for the majority of its total net sales. This suggests that the North American market remains a key strategic focus and priority for Amazon. The International segment, which includes Amazon's operations outside of North America, accounts for a smaller but still significant portion of total net sales, indicating that international expansion is also an important part of Amazon's global strategy. Finally, the AWS segment, which provides cloud computing services, accounts for 16% of total net sales, reflecting Amazon's significant investments and strategic focus on its cloud computing business.\n",
      "\n",
      "[Invocation time] : 3.981003999710083\n",
      "\n",
      "[Response] : The 2023 net sales mix reflects Amazon's global priorities and strategic investments across its three main segments:\n",
      "\n",
      "- North America segment: 61% of total net sales in 2023, indicating this remains Amazon's largest and highest priority market. The 12% year-over-year growth in North America sales suggests continued strategic investments and focus in this region. - International segment: 23% of total net sales in 2023, reflecting Amazon's ongoing strategic investments and focus on growing its international presence, with 11% year-over-year sales growth in this segment. - AWS segment: 16% of total net sales in 2023, indicating Amazon's continued strategic priority and investments in its cloud computing business, which grew 13% year-over-year.\n",
      "\n",
      "[Invocation time] : 4.396399736404419\n",
      "\n"
     ]
    },
    {
     "data": {
      "text/markdown": [
       "## Without Reranker:\n",
       "According to the search results, Amazon's net sales are organized into three segments: North America, International, and Amazon Web Services (AWS). The search results indicate that Amazon is focused on expanding its presence in emerging international markets like India, Brazil, Australia, Mexico, the Middle East, and Africa. These emerging markets are expected to continue growing and becoming profitable for Amazon in the long run. Additionally, Amazon's advertising business, which is primarily driven by sponsored ads, is also seeing strong growth, increasing from $38 billion in 2022 to $47 billion in 2023."
      ],
      "text/plain": [
       "<IPython.core.display.Markdown object>"
      ]
     },
     "metadata": {},
     "output_type": "display_data"
    },
    {
     "data": {
      "text/markdown": [
       "## With Reranker:\n",
       "According to the search results, Amazon's 2023 net sales mix shows that the North America segment accounted for 61% of total net sales, the International segment accounted for 23%, and the AWS segment accounted for 16%. This sales mix reflects Amazon's strategic priorities and investments across its different business segments. The search results indicate that Amazon's North America segment, which includes its online and physical stores in the US and Canada, is its largest and most important segment, accounting for the majority of its total net sales. This suggests that the North American market remains a key strategic focus and priority for Amazon. The International segment, which includes Amazon's operations outside of North America, accounts for a smaller but still significant portion of total net sales, indicating that international expansion is also an important part of Amazon's global strategy. Finally, the AWS segment, which provides cloud computing services, accounts for 16% of total net sales, reflecting Amazon's significant investments and strategic focus on its cloud computing business."
      ],
      "text/plain": [
       "<IPython.core.display.Markdown object>"
      ]
     },
     "metadata": {},
     "output_type": "display_data"
    },
    {
     "data": {
      "text/markdown": [
       "## With Reranker and Metadata Filters:\n",
       "The 2023 net sales mix reflects Amazon's global priorities and strategic investments across its three main segments:\n",
       "\n",
       "- North America segment: 61% of total net sales in 2023, indicating this remains Amazon's largest and highest priority market. The 12% year-over-year growth in North America sales suggests continued strategic investments and focus in this region. - International segment: 23% of total net sales in 2023, reflecting Amazon's ongoing strategic investments and focus on growing its international presence, with 11% year-over-year sales growth in this segment. - AWS segment: 16% of total net sales in 2023, indicating Amazon's continued strategic priority and investments in its cloud computing business, which grew 13% year-over-year."
      ],
      "text/plain": [
       "<IPython.core.display.Markdown object>"
      ]
     },
     "metadata": {},
     "output_type": "display_data"
    }
   ],
   "source": [
    "def retrieve_and_generate(query, reranker_model=None, kb_id=None, TEXT_GENERATION_MODEL_ID=None, metadata_filters=None):\n",
    "    # Prepare retrieval configuration\n",
    "    retrieval_config = {\n",
    "        \"vectorSearchConfiguration\": {\n",
    "            \"numberOfResults\": 30 if reranker_model else 5\n",
    "        }\n",
    "    }\n",
    "\n",
    "    if reranker_model:\n",
    "        retrieval_config[\"vectorSearchConfiguration\"][\"rerankingConfiguration\"] = {\n",
    "            \"type\": \"BEDROCK_RERANKING_MODEL\",\n",
    "            \"bedrockRerankingConfiguration\": {\n",
    "                \"modelConfiguration\": {\n",
    "                    \"modelArn\": f'arn:aws:bedrock:{region}::foundation-model/{reranker_model}',\n",
    "                },\n",
    "                \"numberOfRerankedResults\": 5\n",
    "            }\n",
    "        }\n",
    "\n",
    "        if metadata_filters:\n",
    "            retrieval_config[\"vectorSearchConfiguration\"][\"rerankingConfiguration\"][\"bedrockRerankingConfiguration\"][\"metadataConfiguration\"] = {\n",
    "                \"selectionMode\": \"SELECTIVE\",\n",
    "                \"selectiveModeConfiguration\": {\n",
    "                    \"fieldsToInclude\": [{\n",
    "                        \"fieldName\": \"year\",\n",
    "                    }]\n",
    "                }\n",
    "            }\n",
    "\n",
    "    # Call the retrieve and generate API\n",
    "    start = time.time()\n",
    "    response = bedrock_agent_runtime_client.retrieve_and_generate(\n",
    "        input={'text': query},\n",
    "        retrieveAndGenerateConfiguration={\n",
    "            'type': 'KNOWLEDGE_BASE',\n",
    "            'knowledgeBaseConfiguration': {\n",
    "                'knowledgeBaseId': kb_id,\n",
    "                'modelArn': f'arn:aws:bedrock:{region}::foundation-model/{TEXT_GENERATION_MODEL_ID}',\n",
    "                'retrievalConfiguration': retrieval_config,\n",
    "            },\n",
    "        }\n",
    "    )\n",
    "    time_spent = time.time() - start\n",
    "\n",
    "    print(f\"[Response] : {response['output']['text']}\\n\")\n",
    "    print(f\"[Invocation time] : {time_spent}\\n\")\n",
    "\n",
    "    return response\n",
    "\n",
    "# Example usage\n",
    "# query = \"What lessons from Amazon’s early retail model influenced its later development of AWS?\"\n",
    "# query = \"How did macroeconomic factors impact different segment's performance in 2023?\"\n",
    "query = \"How does the 2023 net sales mix reflect Amazon's global priorities and strategic investments across segments?\"\n",
    "\n",
    "# Without reranker\n",
    "response_without_reranker = retrieve_and_generate(\n",
    "    query=query,\n",
    "    kb_id=kb_id,\n",
    "    TEXT_GENERATION_MODEL_ID=TEXT_GENERATION_MODEL_ID,\n",
    "    reranker_model=None  # No reranker\n",
    ")\n",
    "\n",
    "# With reranker\n",
    "response_with_reranker = retrieve_and_generate(\n",
    "    query=query,\n",
    "    kb_id=kb_id,\n",
    "    TEXT_GENERATION_MODEL_ID=TEXT_GENERATION_MODEL_ID,\n",
    "    reranker_model=AMAZON_RERANKER_MODEL_ID  # With reranker\n",
    ")\n",
    "\n",
    "# With reranker and metadata filters\n",
    "response_with_reranker_metadata = retrieve_and_generate(\n",
    "    query=query,\n",
    "    kb_id=kb_id,\n",
    "    TEXT_GENERATION_MODEL_ID=TEXT_GENERATION_MODEL_ID,\n",
    "    reranker_model=AMAZON_RERANKER_MODEL_ID,  # With reranker\n",
    "    metadata_filters=True  # With metadata filters\n",
    ")\n",
    "\n",
    "# Print responses to compare\n",
    "# Print responses to compare\n",
    "print_markdown(\"## Without Reranker:\\n\" + response_without_reranker['output']['text'])\n",
    "print_markdown(\"## With Reranker:\\n\" + response_with_reranker['output']['text'])\n",
    "print_markdown(\"## With Reranker and Metadata Filters:\\n\" + response_with_reranker_metadata['output']['text'])"
   ]
  },
  {
   "cell_type": "code",
   "execution_count": null,
   "id": "d081a153",
   "metadata": {},
   "outputs": [],
   "source": []
  },
  {
   "cell_type": "code",
   "execution_count": null,
   "id": "f385b74c",
   "metadata": {},
   "outputs": [],
   "source": []
  },
  {
   "cell_type": "code",
   "execution_count": null,
   "id": "898044d8",
   "metadata": {},
   "outputs": [],
   "source": []
  },
  {
   "cell_type": "markdown",
   "id": "5577ab01-5239-4a19-9042-a263e8a3de6b",
   "metadata": {},
   "source": [
    "### 2.7 Clean up\n",
    "Please make sure to uncomment and run below cells to delete the resources created in this notebook."
   ]
  },
  {
   "cell_type": "code",
   "execution_count": 183,
   "id": "33f8a07a",
   "metadata": {},
   "outputs": [
    {
     "name": "stdout",
     "output_type": "stream",
     "text": [
      "Directory 'sec-10-k' and its contents have been deleted successfully.\n"
     ]
    }
   ],
   "source": [
    "# delete local directory\n",
    "import shutil\n",
    "\n",
    "dir_path = \"sec-10-k\" # Replace with the actual path\n",
    "\n",
    "try:\n",
    "    shutil.rmtree(dir_path)\n",
    "    print(f\"Directory '{dir_path}' and its contents have been deleted successfully.\")\n",
    "except FileNotFoundError:\n",
    "    print(f\"Directory '{dir_path}' not found.\")\n",
    "except Exception as e:\n",
    "        print(f\"An error occurred: {e}\")"
   ]
  },
  {
   "cell_type": "code",
   "execution_count": 184,
   "id": "9ab05eb1-76c9-47b7-8d28-16ee720966d9",
   "metadata": {
    "tags": []
   },
   "outputs": [
    {
     "data": {
      "text/plain": [
       "{'ResponseMetadata': {'RequestId': '7DJKBQMMTNAN2Z9J',\n",
       "  'HostId': 'IxqcyoXqVMVnRabLNA10QmQK7iwkmVQBlTeCbVpOJLe8oENYjpDNhWeXqQ9sSEJQD9GzvALAMEo=',\n",
       "  'HTTPStatusCode': 204,\n",
       "  'HTTPHeaders': {'x-amz-id-2': 'IxqcyoXqVMVnRabLNA10QmQK7iwkmVQBlTeCbVpOJLe8oENYjpDNhWeXqQ9sSEJQD9GzvALAMEo=',\n",
       "   'x-amz-request-id': '7DJKBQMMTNAN2Z9J',\n",
       "   'date': 'Fri, 13 Dec 2024 20:19:52 GMT',\n",
       "   'server': 'AmazonS3'},\n",
       "  'RetryAttempts': 0}}"
      ]
     },
     "execution_count": 184,
     "metadata": {},
     "output_type": "execute_result"
    }
   ],
   "source": [
    "## Empty and delete S3 Bucket\n",
    "\n",
    "objects = s3_client.list_objects(Bucket=bucket_name)  \n",
    "if 'Contents' in objects:\n",
    "    for obj in objects['Contents']:\n",
    "        s3_client.delete_object(Bucket=bucket_name, Key=obj['Key']) \n",
    "s3_client.delete_bucket(Bucket=bucket_name)"
   ]
  },
  {
   "cell_type": "code",
   "execution_count": 185,
   "id": "a0cab3a2-e121-4d65-9254-4d318cf428f1",
   "metadata": {
    "tags": []
   },
   "outputs": [
    {
     "name": "stdout",
     "output_type": "stream",
     "text": [
      "===============================Knowledge base==============================\n",
      "======== Vector Index, collection and associated policies deleted =========\n",
      "======== Knowledge base and data source deleted =========\n",
      "An error occurred (NoSuchBucket) when calling the ListObjects operation: The specified bucket does not exist\n",
      "No intermediate bucket found\n",
      "Found role AmazonBedrockExecutionRoleForKnowledgeBase_2212840\n",
      "======Attached policies with role AmazonBedrockExecutionRoleForKnowledgeBase_2212840========\n",
      " [{'PolicyName': 'AmazonBedrockS3PolicyForKnowledgeBase_2212840', 'PolicyArn': 'arn:aws:iam::533267284022:policy/AmazonBedrockS3PolicyForKnowledgeBase_2212840'}, {'PolicyName': 'AmazonBedrockOSSPolicyForKnowledgeBase_2212840', 'PolicyArn': 'arn:aws:iam::533267284022:policy/AmazonBedrockOSSPolicyForKnowledgeBase_2212840'}, {'PolicyName': 'AmazonBedrockCloudWatchPolicyForKnowledgeBase_2212840', 'PolicyArn': 'arn:aws:iam::533267284022:policy/AmazonBedrockCloudWatchPolicyForKnowledgeBase_2212840'}, {'PolicyName': 'AmazonBedrockFoundationModelPolicyForKnowledgeBase_2212840', 'PolicyArn': 'arn:aws:iam::533267284022:policy/AmazonBedrockFoundationModelPolicyForKnowledgeBase_2212840'}]\n",
      "Detached policy AmazonBedrockS3PolicyForKnowledgeBase_2212840 from role AmazonBedrockExecutionRoleForKnowledgeBase_2212840\n",
      "Deleted policy AmazonBedrockS3PolicyForKnowledgeBase_2212840 from role AmazonBedrockExecutionRoleForKnowledgeBase_2212840\n",
      "Detached policy AmazonBedrockOSSPolicyForKnowledgeBase_2212840 from role AmazonBedrockExecutionRoleForKnowledgeBase_2212840\n",
      "Deleted policy AmazonBedrockOSSPolicyForKnowledgeBase_2212840 from role AmazonBedrockExecutionRoleForKnowledgeBase_2212840\n",
      "Detached policy AmazonBedrockCloudWatchPolicyForKnowledgeBase_2212840 from role AmazonBedrockExecutionRoleForKnowledgeBase_2212840\n",
      "Deleted policy AmazonBedrockCloudWatchPolicyForKnowledgeBase_2212840 from role AmazonBedrockExecutionRoleForKnowledgeBase_2212840\n",
      "Detached policy AmazonBedrockFoundationModelPolicyForKnowledgeBase_2212840 from role AmazonBedrockExecutionRoleForKnowledgeBase_2212840\n",
      "Deleted policy AmazonBedrockFoundationModelPolicyForKnowledgeBase_2212840 from role AmazonBedrockExecutionRoleForKnowledgeBase_2212840\n",
      "Deleted role AmazonBedrockExecutionRoleForKnowledgeBase_2212840\n",
      "======== All IAM roles and policies deleted =========\n"
     ]
    }
   ],
   "source": [
    "print(\"===============================Knowledge base==============================\")\n",
    "knowledge_base_reranking.delete_kb(delete_s3_bucket=True, delete_iam_roles_and_policies=True)"
   ]
  },
  {
   "cell_type": "code",
   "execution_count": null,
   "id": "90166cae",
   "metadata": {},
   "outputs": [],
   "source": []
  },
  {
   "cell_type": "code",
   "execution_count": null,
   "id": "50c633ef",
   "metadata": {},
   "outputs": [
    {
     "name": "stdout",
     "output_type": "stream",
     "text": [
      "retrieval_config: {'vectorSearchConfiguration': {'numberOfResults': 5}}\n",
      "retrieval_config: {'vectorSearchConfiguration': {'numberOfResults': 30, 'rerankingConfiguration': {'type': 'BEDROCK_RERANKING_MODEL', 'bedrockRerankingConfiguration': {'modelConfiguration': {'modelArn': 'arn:aws:bedrock:us-west-2::foundation-model/amazon.rerank-v1:0'}, 'numberOfRerankedResults': 5}}}}\n",
      "retrieval_config: {'vectorSearchConfiguration': {'numberOfResults': 30, 'rerankingConfiguration': {'type': 'BEDROCK_RERANKING_MODEL', 'bedrockRerankingConfiguration': {'modelConfiguration': {'modelArn': 'arn:aws:bedrock:us-west-2::foundation-model/amazon.rerank-v1:0'}, 'numberOfRerankedResults': 5, 'metadataConfiguration': {'selectionMode': 'SELECTIVE', 'selectiveModeConfiguration': {'fieldsToInclude': [{'fieldName': 'year'}]}}}}}}\n"
     ]
    },
    {
     "data": {
      "application/vnd.jupyter.widget-view+json": {
       "model_id": "c26143209cea4280a9a3fbce4be612e2",
       "version_major": 2,
       "version_minor": 0
      },
      "text/plain": [
       "Evaluating:   0%|          | 0/3 [00:00<?, ?it/s]"
      ]
     },
     "metadata": {},
     "output_type": "display_data"
    },
    {
     "data": {
      "text/html": [
       "<div>\n",
       "<style scoped>\n",
       "    .dataframe tbody tr th:only-of-type {\n",
       "        vertical-align: middle;\n",
       "    }\n",
       "\n",
       "    .dataframe tbody tr th {\n",
       "        vertical-align: top;\n",
       "    }\n",
       "\n",
       "    .dataframe thead th {\n",
       "        text-align: right;\n",
       "    }\n",
       "</style>\n",
       "<table border=\"1\" class=\"dataframe\">\n",
       "  <thead>\n",
       "    <tr style=\"text-align: right;\">\n",
       "      <th></th>\n",
       "      <th>question</th>\n",
       "      <th>answer</th>\n",
       "      <th>ground_truth</th>\n",
       "      <th>answer_correctness</th>\n",
       "    </tr>\n",
       "  </thead>\n",
       "  <tbody>\n",
       "    <tr>\n",
       "      <th>0</th>\n",
       "      <td>What types of securities does Amazon invest its excess cash in 2019 and how these investments are classified in the balance sheet?</td>\n",
       "      <td>According to the search results, Amazon generally invests its excess cash in AAA-rated money market funds and investment grade short- to intermediate-term marketable debt securities. These investments are classified as \"Cash and cash equivalents\" or \"Marketable securities\" on Amazon's consolidated balance sheets. The search results also show that Amazon's marketable debt securities are classified as available-for-sale and reported at fair value, with unrealized gains and losses included in \"Accumulated other comprehensive income (loss)\" on the balance sheet.</td>\n",
       "      <td>Amazon typically invests its excess cash in AAA-rated money market funds and investment-grade short- to intermediate-term fixed income securities, which are classified as either Cash and cash equivalents or Marketable securities on its consolidated balance sheets. In 2019, Amazon's marketable securities portfolio included a variety of assets such as money market funds, equity securities, foreign government and agency securities, U.S. government and agency securities, corporate debt securities, asset-backed securities, and other fixed income securities. These marketable securities were categorized as either Level 1 or Level 2 securities on the balance sheet</td>\n",
       "      <td>0.544217</td>\n",
       "    </tr>\n",
       "    <tr>\n",
       "      <th>1</th>\n",
       "      <td>What types of securities does Amazon invest its excess cash in 2019 and how these investments are classified in the balance sheet?</td>\n",
       "      <td>According to the information provided, Amazon generally invests its excess cash in AAA-rated money market funds and investment grade short- to intermediate-term fixed income securities. These investments are included in the \"Cash and cash equivalents\" or \"Marketable securities\" line items on Amazon's consolidated balance sheet. The marketable fixed income securities are classified as available-for-sale and reported at fair value, with unrealized gains and losses included in the \"Accumulated other comprehensive income (loss)\" on the balance sheet.</td>\n",
       "      <td>Amazon typically invests its excess cash in AAA-rated money market funds and investment-grade short- to intermediate-term fixed income securities, which are classified as either Cash and cash equivalents or Marketable securities on its consolidated balance sheets. In 2019, Amazon's marketable securities portfolio included a variety of assets such as money market funds, equity securities, foreign government and agency securities, U.S. government and agency securities, corporate debt securities, asset-backed securities, and other fixed income securities. These marketable securities were categorized as either Level 1 or Level 2 securities on the balance sheet</td>\n",
       "      <td>0.702039</td>\n",
       "    </tr>\n",
       "    <tr>\n",
       "      <th>2</th>\n",
       "      <td>What types of securities does Amazon invest its excess cash in 2019 and how these investments are classified in the balance sheet?</td>\n",
       "      <td>According to the search results, Amazon generally invests its excess cash in AAA-rated money market funds and investment grade short- to intermediate-term fixed income securities. These investments are classified as \"Cash and cash equivalents\" or \"Marketable securities\" on Amazon's consolidated balance sheets. Specifically for 2019, the search results show that Amazon's marketable securities included money market funds, equity securities, foreign government and agency securities, U.S. government and agency securities, corporate debt securities, asset-backed securities, and other fixed income securities. The marketable securities are classified as either Level 1 or Level 2 securities based on the fair value hierarchy.</td>\n",
       "      <td>Amazon typically invests its excess cash in AAA-rated money market funds and investment-grade short- to intermediate-term fixed income securities, which are classified as either Cash and cash equivalents or Marketable securities on its consolidated balance sheets. In 2019, Amazon's marketable securities portfolio included a variety of assets such as money market funds, equity securities, foreign government and agency securities, U.S. government and agency securities, corporate debt securities, asset-backed securities, and other fixed income securities. These marketable securities were categorized as either Level 1 or Level 2 securities on the balance sheet</td>\n",
       "      <td>0.963452</td>\n",
       "    </tr>\n",
       "  </tbody>\n",
       "</table>\n",
       "</div>"
      ],
      "text/plain": [
       "                                                                                                                             question  \\\n",
       "0  What types of securities does Amazon invest its excess cash in 2019 and how these investments are classified in the balance sheet?   \n",
       "1  What types of securities does Amazon invest its excess cash in 2019 and how these investments are classified in the balance sheet?   \n",
       "2  What types of securities does Amazon invest its excess cash in 2019 and how these investments are classified in the balance sheet?   \n",
       "\n",
       "                                                                                                                                                                                                                                                                                                                                                                                                                                                                                                                                                                                                                                                                                                                                                   answer  \\\n",
       "0                                                                                                                                                                    According to the search results, Amazon generally invests its excess cash in AAA-rated money market funds and investment grade short- to intermediate-term marketable debt securities. These investments are classified as \"Cash and cash equivalents\" or \"Marketable securities\" on Amazon's consolidated balance sheets. The search results also show that Amazon's marketable debt securities are classified as available-for-sale and reported at fair value, with unrealized gains and losses included in \"Accumulated other comprehensive income (loss)\" on the balance sheet.   \n",
       "1                                                                                                                                                                                According to the information provided, Amazon generally invests its excess cash in AAA-rated money market funds and investment grade short- to intermediate-term fixed income securities. These investments are included in the \"Cash and cash equivalents\" or \"Marketable securities\" line items on Amazon's consolidated balance sheet. The marketable fixed income securities are classified as available-for-sale and reported at fair value, with unrealized gains and losses included in the \"Accumulated other comprehensive income (loss)\" on the balance sheet.   \n",
       "2  According to the search results, Amazon generally invests its excess cash in AAA-rated money market funds and investment grade short- to intermediate-term fixed income securities. These investments are classified as \"Cash and cash equivalents\" or \"Marketable securities\" on Amazon's consolidated balance sheets. Specifically for 2019, the search results show that Amazon's marketable securities included money market funds, equity securities, foreign government and agency securities, U.S. government and agency securities, corporate debt securities, asset-backed securities, and other fixed income securities. The marketable securities are classified as either Level 1 or Level 2 securities based on the fair value hierarchy.   \n",
       "\n",
       "                                                                                                                                                                                                                                                                                                                                                                                                                                                                                                                                                                                                                                                                               ground_truth  \\\n",
       "0  Amazon typically invests its excess cash in AAA-rated money market funds and investment-grade short- to intermediate-term fixed income securities, which are classified as either Cash and cash equivalents or Marketable securities on its consolidated balance sheets. In 2019, Amazon's marketable securities portfolio included a variety of assets such as money market funds, equity securities, foreign government and agency securities, U.S. government and agency securities, corporate debt securities, asset-backed securities, and other fixed income securities. These marketable securities were categorized as either Level 1 or Level 2 securities on the balance sheet   \n",
       "1  Amazon typically invests its excess cash in AAA-rated money market funds and investment-grade short- to intermediate-term fixed income securities, which are classified as either Cash and cash equivalents or Marketable securities on its consolidated balance sheets. In 2019, Amazon's marketable securities portfolio included a variety of assets such as money market funds, equity securities, foreign government and agency securities, U.S. government and agency securities, corporate debt securities, asset-backed securities, and other fixed income securities. These marketable securities were categorized as either Level 1 or Level 2 securities on the balance sheet   \n",
       "2  Amazon typically invests its excess cash in AAA-rated money market funds and investment-grade short- to intermediate-term fixed income securities, which are classified as either Cash and cash equivalents or Marketable securities on its consolidated balance sheets. In 2019, Amazon's marketable securities portfolio included a variety of assets such as money market funds, equity securities, foreign government and agency securities, U.S. government and agency securities, corporate debt securities, asset-backed securities, and other fixed income securities. These marketable securities were categorized as either Level 1 or Level 2 securities on the balance sheet   \n",
       "\n",
       "   answer_correctness  \n",
       "0            0.544217  \n",
       "1            0.702039  \n",
       "2            0.963452  "
      ]
     },
     "execution_count": 132,
     "metadata": {},
     "output_type": "execute_result"
    }
   ],
   "source": [
    "from ragas import evaluate\n",
    "from ragas.metrics import (answer_correctness)\n",
    "\n",
    "REGION = region\n",
    "# Initialize the Bedrock client and the evaluation model\n",
    "bedrock_client = boto3.client('bedrock-runtime')\n",
    "llm_for_evaluation = ChatBedrock(model_id=EVALUATION_MODEL_ID, client=bedrock_client)\n",
    "bedrock_embeddings = BedrockEmbeddings(model_id=EMBEDDING_MODEL_ID, client=bedrock_client)\n",
    "\n",
    "# Define the function to retrieve responses and evaluate them\n",
    "def evaluate_responses_with_scores(question, ground_truth):\n",
    "    def retrieve_and_generate(query, reranker_model=None, kb_id=None, TEXT_GENERATION_MODEL_ID=None, metadata_filters=None):\n",
    "        # Prepare retrieval configuration\n",
    "        retrieval_config = {\n",
    "            \"vectorSearchConfiguration\": {\n",
    "                \"numberOfResults\": 30 if reranker_model else 5\n",
    "            }\n",
    "        }\n",
    "\n",
    "        if reranker_model:\n",
    "            retrieval_config[\"vectorSearchConfiguration\"][\"rerankingConfiguration\"] = {\n",
    "                \"type\": \"BEDROCK_RERANKING_MODEL\",\n",
    "                \"bedrockRerankingConfiguration\": {\n",
    "                    \"modelConfiguration\": {\n",
    "                        \"modelArn\": f'arn:aws:bedrock:{REGION}::foundation-model/{reranker_model}',\n",
    "                    },\n",
    "                    \"numberOfRerankedResults\": 5\n",
    "                }\n",
    "            }\n",
    "\n",
    "            if metadata_filters:\n",
    "                retrieval_config[\"vectorSearchConfiguration\"][\"rerankingConfiguration\"][\"bedrockRerankingConfiguration\"][\"metadataConfiguration\"] = {\n",
    "                    \"selectionMode\": \"SELECTIVE\",\n",
    "                    \"selectiveModeConfiguration\": {\n",
    "                        \"fieldsToInclude\": [{\n",
    "                            \"fieldName\": \"year\",\n",
    "                        }]\n",
    "                    }\n",
    "                }\n",
    "        \n",
    "        print(f\"retrieval_config: {retrieval_config}\")\n",
    "        # Call the retrieve and generate API\n",
    "        start = time.time()\n",
    "        response = bedrock_agent_runtime_client.retrieve_and_generate(\n",
    "            input={'text': query},\n",
    "            retrieveAndGenerateConfiguration={\n",
    "                'type': 'KNOWLEDGE_BASE',\n",
    "                'knowledgeBaseConfiguration': {\n",
    "                    'knowledgeBaseId': kb_id,\n",
    "                    'modelArn': f'arn:aws:bedrock:{REGION}::foundation-model/{TEXT_GENERATION_MODEL_ID}',\n",
    "                    'retrievalConfiguration': retrieval_config,\n",
    "                },\n",
    "            }\n",
    "        )\n",
    "        time_spent = time.time() - start\n",
    "\n",
    "        # print(f\"[Response] : {response['output']['text']}\\n\")\n",
    "        # print(f\"[Invocation time] : {time_spent}\\n\")\n",
    "\n",
    "        return response\n",
    "\n",
    "    # Retrieve responses with different configurations\n",
    "    response_without_reranker = retrieve_and_generate(\n",
    "        query=question,\n",
    "        kb_id=kb_id,\n",
    "        TEXT_GENERATION_MODEL_ID=EVALUATION_MODEL_ID,\n",
    "        reranker_model=None  # No reranker\n",
    "    )\n",
    "\n",
    "    response_with_reranker = retrieve_and_generate(\n",
    "        query=question,\n",
    "        kb_id=kb_id,\n",
    "        TEXT_GENERATION_MODEL_ID=EVALUATION_MODEL_ID,\n",
    "        reranker_model=\"amazon.rerank-v1:0\"  # With reranker\n",
    "    )\n",
    "\n",
    "    response_with_reranker_metadata = retrieve_and_generate(\n",
    "        query=question,\n",
    "        kb_id=kb_id,\n",
    "        TEXT_GENERATION_MODEL_ID=EVALUATION_MODEL_ID,\n",
    "        reranker_model=\"amazon.rerank-v1:0\",  # With reranker\n",
    "        metadata_filters=True  # With metadata filters\n",
    "    )\n",
    "\n",
    "    # Prepare dataset for evaluation\n",
    "    data = {\n",
    "        \"question\": [question] * 3,\n",
    "        \"answer\": [\n",
    "            response_without_reranker['output']['text'],\n",
    "            response_with_reranker['output']['text'],\n",
    "            response_with_reranker_metadata['output']['text']\n",
    "        ],\n",
    "        \"ground_truth\": [ground_truth] * 3\n",
    "    }\n",
    "    dataset = Dataset.from_dict(data)\n",
    "\n",
    "    result_df = evaluate(dataset=dataset, metrics=[answer_correctness], llm=llm_for_evaluation, embeddings=bedrock_embeddings).to_pandas()\n",
    "\n",
    "    # # Evaluate the responses using the `answer_correctness` metric\n",
    "    # metrics = [answer_correctness]\n",
    "    # result = evaluate(\n",
    "    #     dataset=dataset,\n",
    "    #     metrics=metrics,\n",
    "    #     llm=llm_for_evaluation,\n",
    "    #     embeddings = bedrock_embeddings,\n",
    "    # )\n",
    "\n",
    "    # # Convert the results to a Pandas DataFrame for better readability\n",
    "    # result_df = result.to_pandas()\n",
    "\n",
    "    # # Generate markdown output\n",
    "    # markdown_output = \"\"\"## Evaluation Results\\n\\n\"\"\"\n",
    "    # categories = [\"Without Reranker\", \"With Reranker\", \"With Reranker and Metadata Filters\"]\n",
    "    # for i, category in enumerate(categories):\n",
    "    #     markdown_output += f\"### {category}:\\n\\nResponse:\\n{data['answer'][i]}\\n\\nScore: {result_df.iloc[i]['score']}\\n\\n\"\n",
    "\n",
    "    # return markdown_output\n",
    "    return result_df\n",
    "\n",
    "# Example usage\n",
    "# question = \"How many jobs did Amazon create in 2020, and what was its total global workforce after this expansion?\"\n",
    "# ground_truth = \"Amazon added 500,000 jobs in 2020, bringing its total workforce to approximately 1.3 million employees worldwide.\"\n",
    "\n",
    "# question = \"How does the 2023 net sales mix reflect Amazon's global priorities and strategic investments across segments?\"\n",
    "# ground_truth = \"Amazon's 2023 net sales mix highlights its global priorities, with North America contributing 61%, International 23%, and AWS 16% of total sales. Year-over-year growth in each segment—12% for North America, 11% for International, and 13% for AWS—was driven by increased unit sales, advertising services, and subscription offerings. These trends reflect Amazon's balanced approach to expanding its core markets, strengthening its international presence, and investing in AWS's innovative cloud services to sustain long-term growth.\"\n",
    "\n",
    "# question = \"How did foreign exchange rate fluctuations impact Amazon's net sales and the corresponding segment's performance in 2023?\"\n",
    "# ground_truth = \"In 2023, foreign exchange rate fluctuations had a mixed impact on Amazon's financial performance. While these changes reduced consolidated net sales by $71 million, they positively influenced the International segment, increasing its net sales by $88 million. This highlights the nuanced effects of currency fluctuations, where gains in specific regions, such as the International segment, helped offset broader challenges at the consolidated level.\"\n",
    "\n",
    "# question = \"What is the cumulative growth contribution of AWS and Advertising segments to Amazon's 2022 consolidated revenue?\"\n",
    "# ground_truth = \"In 2022, AWS achieved a 29% year-over-year revenue growth, increasing from $62.2 billion in 2021 to $80.1 billion. Similarly, the Advertising segment experienced a 25% year-over-year growth, reaching $31 billion in revenue for the year. Together, these segments contributed significantly to Amazon's total consolidated revenue of $434 billion. AWS accounted for 19.59%, while Advertising contributed 7.14%, resulting in a cumulative contribution of approximately 26.73%.\"\n",
    "\n",
    "\n",
    "# question = \"How did Amazon's investments in technology infrastructure and fulfillment operations affect its cash flows and operating expenses in 2022?\"\n",
    "# ground_truth = \"In 2022, Amazon's substantial investments in technology infrastructure and fulfillment operations significantly impacted its cash flows and operating expenses. The company allocated $58.3 billion in cash capital expenditures to support AWS growth and expand its fulfillment network, resulting in a 31% increase in technology and content expenses due to higher payroll costs for technical teams and infrastructure spending on servers, networking equipment, and data centers. Fulfillment costs rose by 12%, driven by increased product sales volume, inventory levels, and wage rate incentives. These investments led to a decline in free cash flow to $(11,569) million, compared to $(9,069) million in 2021. Despite the higher costs, these expenditures were crucial for scaling operations, enhancing the customer experience, and sustaining long-term growth, particularly in AWS and global fulfillment capacity, highlighting Amazon’s commitment to maintaining its competitive edge in a rapidly evolving market.\"\n",
    "\n",
    "\n",
    "question = \"What types of securities does Amazon invest its excess cash in 2019 and how these investments are classified in the balance sheet?\"\n",
    "ground_truth = \"Amazon typically invests its excess cash in AAA-rated money market funds and investment-grade short- to intermediate-term fixed income securities, which are classified as either Cash and cash equivalents or Marketable securities on its consolidated balance sheets. In 2019, Amazon's marketable securities portfolio included a variety of assets such as money market funds, equity securities, foreign government and agency securities, U.S. government and agency securities, corporate debt securities, asset-backed securities, and other fixed income securities. These marketable securities were categorized as either Level 1 or Level 2 securities on the balance sheet\"\n",
    "\n",
    "\n",
    "output = evaluate_responses_with_scores(question, ground_truth)\n",
    "output\n"
   ]
  },
  {
   "cell_type": "code",
   "execution_count": 113,
   "id": "828c8fd4",
   "metadata": {},
   "outputs": [],
   "source": [
    "# evaluate(dataset=output, metrics=[answer_correctness], llm=llm_for_evaluation, embeddings=bedrock_embeddings).to_pandas()"
   ]
  },
  {
   "cell_type": "markdown",
   "id": "c818aa26",
   "metadata": {},
   "source": []
  },
  {
   "cell_type": "code",
   "execution_count": null,
   "id": "f4e9279a",
   "metadata": {},
   "outputs": [],
   "source": []
  },
  {
   "cell_type": "code",
   "execution_count": null,
   "id": "9ba68c76",
   "metadata": {},
   "outputs": [],
   "source": []
  },
  {
   "cell_type": "code",
   "execution_count": null,
   "id": "78bea7f6",
   "metadata": {},
   "outputs": [],
   "source": []
  },
  {
   "cell_type": "code",
   "execution_count": null,
   "id": "132b7c90",
   "metadata": {},
   "outputs": [],
   "source": []
  },
  {
   "cell_type": "code",
   "execution_count": null,
   "id": "dc4d1539",
   "metadata": {},
   "outputs": [],
   "source": []
  },
  {
   "cell_type": "code",
   "execution_count": null,
   "id": "3e98715e",
   "metadata": {},
   "outputs": [],
   "source": []
  },
  {
   "cell_type": "code",
   "execution_count": null,
   "id": "d2321e04",
   "metadata": {},
   "outputs": [],
   "source": []
  },
  {
   "cell_type": "code",
   "execution_count": null,
   "id": "d799d90c",
   "metadata": {},
   "outputs": [],
   "source": []
  },
  {
   "cell_type": "code",
   "execution_count": null,
   "id": "8602efc2",
   "metadata": {},
   "outputs": [],
   "source": []
  },
  {
   "cell_type": "code",
   "execution_count": null,
   "id": "eff14de5",
   "metadata": {},
   "outputs": [],
   "source": []
  },
  {
   "cell_type": "code",
   "execution_count": null,
   "id": "138c71bc",
   "metadata": {},
   "outputs": [],
   "source": []
  },
  {
   "cell_type": "code",
   "execution_count": null,
   "id": "42dd0710",
   "metadata": {},
   "outputs": [],
   "source": []
  },
  {
   "cell_type": "code",
   "execution_count": null,
   "id": "3ae87cf5",
   "metadata": {},
   "outputs": [],
   "source": []
  },
  {
   "cell_type": "code",
   "execution_count": null,
   "id": "2f90ad8f",
   "metadata": {},
   "outputs": [],
   "source": []
  },
  {
   "cell_type": "code",
   "execution_count": null,
   "id": "99741801",
   "metadata": {},
   "outputs": [],
   "source": []
  },
  {
   "cell_type": "code",
   "execution_count": null,
   "id": "74bb4aba",
   "metadata": {},
   "outputs": [],
   "source": []
  },
  {
   "cell_type": "code",
   "execution_count": null,
   "id": "e4501a2e",
   "metadata": {},
   "outputs": [],
   "source": []
  },
  {
   "cell_type": "code",
   "execution_count": null,
   "id": "0caa8f4f",
   "metadata": {},
   "outputs": [],
   "source": []
  },
  {
   "cell_type": "code",
   "execution_count": null,
   "id": "80993aa3",
   "metadata": {},
   "outputs": [],
   "source": []
  },
  {
   "cell_type": "code",
   "execution_count": null,
   "id": "b57267ca",
   "metadata": {},
   "outputs": [],
   "source": []
  },
  {
   "cell_type": "code",
   "execution_count": null,
   "id": "62822a3e",
   "metadata": {},
   "outputs": [],
   "source": []
  },
  {
   "cell_type": "code",
   "execution_count": null,
   "id": "5783a7ee",
   "metadata": {},
   "outputs": [],
   "source": []
  },
  {
   "cell_type": "code",
   "execution_count": null,
   "id": "5c9e1925",
   "metadata": {},
   "outputs": [],
   "source": []
  },
  {
   "cell_type": "code",
   "execution_count": null,
   "id": "d14de920",
   "metadata": {},
   "outputs": [],
   "source": []
  },
  {
   "cell_type": "code",
   "execution_count": null,
   "id": "0415deed",
   "metadata": {},
   "outputs": [],
   "source": []
  },
  {
   "cell_type": "code",
   "execution_count": null,
   "id": "21f22997",
   "metadata": {},
   "outputs": [],
   "source": []
  },
  {
   "cell_type": "code",
   "execution_count": null,
   "id": "1633313b",
   "metadata": {},
   "outputs": [],
   "source": []
  },
  {
   "cell_type": "code",
   "execution_count": null,
   "id": "f0f19588",
   "metadata": {},
   "outputs": [],
   "source": []
  },
  {
   "cell_type": "code",
   "execution_count": null,
   "id": "0f610017",
   "metadata": {},
   "outputs": [],
   "source": []
  },
  {
   "cell_type": "code",
   "execution_count": null,
   "id": "d679af7c",
   "metadata": {},
   "outputs": [],
   "source": []
  },
  {
   "cell_type": "code",
   "execution_count": null,
   "id": "e2005723",
   "metadata": {},
   "outputs": [],
   "source": []
  },
  {
   "cell_type": "code",
   "execution_count": null,
   "id": "c4ba76c6",
   "metadata": {},
   "outputs": [],
   "source": []
  },
  {
   "cell_type": "code",
   "execution_count": null,
   "id": "644a671f",
   "metadata": {},
   "outputs": [],
   "source": []
  },
  {
   "cell_type": "code",
   "execution_count": null,
   "id": "6fec89d2",
   "metadata": {},
   "outputs": [],
   "source": []
  },
  {
   "cell_type": "code",
   "execution_count": null,
   "id": "10629020",
   "metadata": {},
   "outputs": [],
   "source": []
  },
  {
   "cell_type": "code",
   "execution_count": null,
   "id": "159ea940",
   "metadata": {},
   "outputs": [],
   "source": []
  },
  {
   "cell_type": "code",
   "execution_count": null,
   "id": "41003cc7",
   "metadata": {},
   "outputs": [],
   "source": []
  },
  {
   "cell_type": "code",
   "execution_count": null,
   "id": "b09750be",
   "metadata": {},
   "outputs": [],
   "source": []
  },
  {
   "cell_type": "code",
   "execution_count": null,
   "id": "8a2e19a2",
   "metadata": {},
   "outputs": [],
   "source": []
  },
  {
   "cell_type": "code",
   "execution_count": null,
   "id": "54c86c73",
   "metadata": {},
   "outputs": [],
   "source": []
  },
  {
   "cell_type": "code",
   "execution_count": null,
   "id": "612e688d",
   "metadata": {},
   "outputs": [],
   "source": []
  },
  {
   "cell_type": "code",
   "execution_count": null,
   "id": "593e5a99",
   "metadata": {},
   "outputs": [],
   "source": []
  },
  {
   "cell_type": "code",
   "execution_count": null,
   "id": "ac94b9b4",
   "metadata": {},
   "outputs": [],
   "source": []
  },
  {
   "cell_type": "code",
   "execution_count": null,
   "id": "cb8d3788",
   "metadata": {},
   "outputs": [],
   "source": []
  },
  {
   "cell_type": "code",
   "execution_count": null,
   "id": "8dc269fd",
   "metadata": {},
   "outputs": [],
   "source": []
  },
  {
   "cell_type": "code",
   "execution_count": null,
   "id": "bca5db09",
   "metadata": {},
   "outputs": [],
   "source": []
  },
  {
   "cell_type": "code",
   "execution_count": null,
   "id": "5cdd4e67",
   "metadata": {},
   "outputs": [],
   "source": []
  },
  {
   "cell_type": "code",
   "execution_count": null,
   "id": "d8a822e2",
   "metadata": {},
   "outputs": [],
   "source": []
  },
  {
   "cell_type": "code",
   "execution_count": null,
   "id": "479eb3f4",
   "metadata": {},
   "outputs": [],
   "source": []
  },
  {
   "cell_type": "code",
   "execution_count": null,
   "id": "296e027b",
   "metadata": {},
   "outputs": [],
   "source": []
  },
  {
   "cell_type": "code",
   "execution_count": null,
   "id": "88301a5c",
   "metadata": {},
   "outputs": [],
   "source": []
  },
  {
   "cell_type": "code",
   "execution_count": null,
   "id": "5a57f0e5",
   "metadata": {},
   "outputs": [],
   "source": []
  },
  {
   "cell_type": "code",
   "execution_count": null,
   "id": "5d4ece4c",
   "metadata": {},
   "outputs": [],
   "source": []
  },
  {
   "cell_type": "code",
   "execution_count": null,
   "id": "86b052d6",
   "metadata": {},
   "outputs": [],
   "source": []
  },
  {
   "cell_type": "code",
   "execution_count": null,
   "id": "1dacdf3b",
   "metadata": {},
   "outputs": [],
   "source": []
  },
  {
   "cell_type": "code",
   "execution_count": null,
   "id": "c883ba09",
   "metadata": {},
   "outputs": [],
   "source": []
  },
  {
   "cell_type": "code",
   "execution_count": null,
   "id": "7df6b954",
   "metadata": {},
   "outputs": [],
   "source": []
  },
  {
   "cell_type": "code",
   "execution_count": null,
   "id": "77f981aa",
   "metadata": {},
   "outputs": [],
   "source": []
  },
  {
   "cell_type": "code",
   "execution_count": null,
   "id": "c28252a4",
   "metadata": {},
   "outputs": [],
   "source": []
  },
  {
   "cell_type": "code",
   "execution_count": null,
   "id": "47b05c95",
   "metadata": {},
   "outputs": [],
   "source": []
  },
  {
   "cell_type": "code",
   "execution_count": null,
   "id": "0f8e94b6",
   "metadata": {},
   "outputs": [],
   "source": []
  },
  {
   "cell_type": "code",
   "execution_count": null,
   "id": "3dd05773",
   "metadata": {},
   "outputs": [],
   "source": []
  },
  {
   "cell_type": "code",
   "execution_count": null,
   "id": "eb9906a9",
   "metadata": {},
   "outputs": [],
   "source": []
  },
  {
   "cell_type": "code",
   "execution_count": null,
   "id": "1ad234fd",
   "metadata": {},
   "outputs": [],
   "source": []
  },
  {
   "cell_type": "code",
   "execution_count": null,
   "id": "ab3cb751",
   "metadata": {},
   "outputs": [],
   "source": []
  },
  {
   "cell_type": "code",
   "execution_count": null,
   "id": "4d73850b",
   "metadata": {},
   "outputs": [],
   "source": []
  },
  {
   "cell_type": "code",
   "execution_count": null,
   "id": "0cabb3e7",
   "metadata": {},
   "outputs": [],
   "source": []
  },
  {
   "cell_type": "code",
   "execution_count": null,
   "id": "affd5458",
   "metadata": {},
   "outputs": [],
   "source": []
  },
  {
   "cell_type": "code",
   "execution_count": null,
   "id": "8f0cfe98",
   "metadata": {},
   "outputs": [],
   "source": []
  },
  {
   "cell_type": "code",
   "execution_count": null,
   "id": "4439e4a7",
   "metadata": {},
   "outputs": [],
   "source": []
  },
  {
   "cell_type": "code",
   "execution_count": null,
   "id": "365af276",
   "metadata": {},
   "outputs": [],
   "source": []
  },
  {
   "cell_type": "code",
   "execution_count": null,
   "id": "00b56065",
   "metadata": {},
   "outputs": [],
   "source": []
  },
  {
   "cell_type": "code",
   "execution_count": null,
   "id": "eaf6d6f6",
   "metadata": {},
   "outputs": [],
   "source": []
  },
  {
   "cell_type": "code",
   "execution_count": null,
   "id": "cc747557",
   "metadata": {},
   "outputs": [],
   "source": []
  },
  {
   "cell_type": "code",
   "execution_count": null,
   "id": "68416f02",
   "metadata": {},
   "outputs": [],
   "source": []
  },
  {
   "cell_type": "code",
   "execution_count": null,
   "id": "e6d86202",
   "metadata": {},
   "outputs": [],
   "source": []
  },
  {
   "cell_type": "code",
   "execution_count": null,
   "id": "7fa96a38",
   "metadata": {},
   "outputs": [],
   "source": []
  },
  {
   "cell_type": "code",
   "execution_count": null,
   "id": "9a200d2b",
   "metadata": {},
   "outputs": [],
   "source": []
  },
  {
   "cell_type": "code",
   "execution_count": null,
   "id": "be5f70e2",
   "metadata": {},
   "outputs": [],
   "source": []
  },
  {
   "cell_type": "code",
   "execution_count": null,
   "id": "f82d483e",
   "metadata": {},
   "outputs": [],
   "source": []
  },
  {
   "cell_type": "code",
   "execution_count": null,
   "id": "0e25b26a",
   "metadata": {},
   "outputs": [],
   "source": []
  },
  {
   "cell_type": "code",
   "execution_count": null,
   "id": "042914de",
   "metadata": {},
   "outputs": [],
   "source": []
  },
  {
   "cell_type": "code",
   "execution_count": null,
   "id": "50ed2357",
   "metadata": {},
   "outputs": [],
   "source": []
  },
  {
   "cell_type": "code",
   "execution_count": null,
   "id": "5971c72d",
   "metadata": {},
   "outputs": [],
   "source": []
  },
  {
   "cell_type": "code",
   "execution_count": null,
   "id": "ae7e9668",
   "metadata": {},
   "outputs": [],
   "source": []
  },
  {
   "cell_type": "code",
   "execution_count": null,
   "id": "ffb74fd4",
   "metadata": {},
   "outputs": [],
   "source": []
  },
  {
   "cell_type": "code",
   "execution_count": null,
   "id": "2ac05625",
   "metadata": {},
   "outputs": [],
   "source": []
  },
  {
   "cell_type": "code",
   "execution_count": null,
   "id": "4cf1198a",
   "metadata": {},
   "outputs": [],
   "source": []
  },
  {
   "cell_type": "code",
   "execution_count": null,
   "id": "5304b63c",
   "metadata": {},
   "outputs": [],
   "source": []
  },
  {
   "cell_type": "code",
   "execution_count": null,
   "id": "a0d4fea3",
   "metadata": {},
   "outputs": [],
   "source": []
  },
  {
   "cell_type": "code",
   "execution_count": null,
   "id": "4f5be6f1",
   "metadata": {},
   "outputs": [],
   "source": []
  },
  {
   "cell_type": "code",
   "execution_count": null,
   "id": "edb2bd1b",
   "metadata": {},
   "outputs": [],
   "source": []
  },
  {
   "cell_type": "code",
   "execution_count": null,
   "id": "d58603ad",
   "metadata": {},
   "outputs": [],
   "source": []
  },
  {
   "cell_type": "code",
   "execution_count": null,
   "id": "ee027ed0",
   "metadata": {},
   "outputs": [],
   "source": []
  },
  {
   "cell_type": "code",
   "execution_count": null,
   "id": "6757a255",
   "metadata": {},
   "outputs": [],
   "source": []
  },
  {
   "cell_type": "code",
   "execution_count": null,
   "id": "3e96dda5",
   "metadata": {},
   "outputs": [],
   "source": []
  },
  {
   "cell_type": "code",
   "execution_count": null,
   "id": "7b1fcffa",
   "metadata": {},
   "outputs": [],
   "source": []
  },
  {
   "cell_type": "code",
   "execution_count": null,
   "id": "94dfa07d",
   "metadata": {},
   "outputs": [],
   "source": []
  },
  {
   "cell_type": "code",
   "execution_count": null,
   "id": "1c069182",
   "metadata": {},
   "outputs": [],
   "source": []
  },
  {
   "cell_type": "code",
   "execution_count": null,
   "id": "2e01e73d",
   "metadata": {},
   "outputs": [],
   "source": []
  },
  {
   "cell_type": "code",
   "execution_count": null,
   "id": "29fdc7ca",
   "metadata": {},
   "outputs": [],
   "source": []
  },
  {
   "cell_type": "code",
   "execution_count": null,
   "id": "9d2cad35",
   "metadata": {},
   "outputs": [],
   "source": []
  },
  {
   "cell_type": "code",
   "execution_count": null,
   "id": "c154678b",
   "metadata": {},
   "outputs": [],
   "source": []
  },
  {
   "cell_type": "code",
   "execution_count": null,
   "id": "7ad3bef6",
   "metadata": {},
   "outputs": [],
   "source": []
  },
  {
   "cell_type": "code",
   "execution_count": null,
   "id": "aba16c86",
   "metadata": {},
   "outputs": [],
   "source": []
  },
  {
   "cell_type": "code",
   "execution_count": null,
   "id": "b828e4a0",
   "metadata": {},
   "outputs": [],
   "source": []
  },
  {
   "cell_type": "code",
   "execution_count": null,
   "id": "beb1e95c",
   "metadata": {},
   "outputs": [],
   "source": []
  },
  {
   "cell_type": "code",
   "execution_count": null,
   "id": "c3a46cc5",
   "metadata": {},
   "outputs": [],
   "source": []
  },
  {
   "cell_type": "code",
   "execution_count": null,
   "id": "25584e46",
   "metadata": {},
   "outputs": [],
   "source": []
  },
  {
   "cell_type": "code",
   "execution_count": null,
   "id": "3a448520",
   "metadata": {},
   "outputs": [],
   "source": []
  },
  {
   "cell_type": "code",
   "execution_count": null,
   "id": "8cde2836",
   "metadata": {},
   "outputs": [],
   "source": []
  },
  {
   "cell_type": "code",
   "execution_count": null,
   "id": "61b3576d",
   "metadata": {},
   "outputs": [],
   "source": []
  },
  {
   "cell_type": "code",
   "execution_count": null,
   "id": "629a3443",
   "metadata": {},
   "outputs": [],
   "source": []
  },
  {
   "cell_type": "code",
   "execution_count": null,
   "id": "68551a1b",
   "metadata": {},
   "outputs": [],
   "source": []
  },
  {
   "cell_type": "code",
   "execution_count": null,
   "id": "e2a3aec1",
   "metadata": {},
   "outputs": [],
   "source": []
  },
  {
   "cell_type": "code",
   "execution_count": null,
   "id": "14555ccb",
   "metadata": {},
   "outputs": [],
   "source": []
  },
  {
   "cell_type": "code",
   "execution_count": null,
   "id": "cb6f0506",
   "metadata": {},
   "outputs": [],
   "source": []
  },
  {
   "cell_type": "code",
   "execution_count": null,
   "id": "b37c8943",
   "metadata": {},
   "outputs": [],
   "source": []
  },
  {
   "cell_type": "code",
   "execution_count": null,
   "id": "b78bbb6a",
   "metadata": {},
   "outputs": [],
   "source": []
  },
  {
   "cell_type": "code",
   "execution_count": null,
   "id": "d4075426",
   "metadata": {},
   "outputs": [],
   "source": []
  },
  {
   "cell_type": "code",
   "execution_count": null,
   "id": "3cb5451c",
   "metadata": {},
   "outputs": [],
   "source": []
  },
  {
   "cell_type": "code",
   "execution_count": null,
   "id": "51fcb652",
   "metadata": {},
   "outputs": [],
   "source": []
  },
  {
   "cell_type": "code",
   "execution_count": null,
   "id": "4cac4e98",
   "metadata": {},
   "outputs": [],
   "source": []
  },
  {
   "cell_type": "code",
   "execution_count": null,
   "id": "fd7dc0a5",
   "metadata": {},
   "outputs": [],
   "source": []
  },
  {
   "cell_type": "code",
   "execution_count": null,
   "id": "52235a9b",
   "metadata": {},
   "outputs": [],
   "source": []
  },
  {
   "cell_type": "code",
   "execution_count": null,
   "id": "3d5dd9f6",
   "metadata": {},
   "outputs": [],
   "source": []
  },
  {
   "cell_type": "code",
   "execution_count": null,
   "id": "4f5b2d6f",
   "metadata": {},
   "outputs": [],
   "source": []
  },
  {
   "cell_type": "code",
   "execution_count": null,
   "id": "4f2e6dd5",
   "metadata": {},
   "outputs": [],
   "source": []
  },
  {
   "cell_type": "code",
   "execution_count": null,
   "id": "41f41add",
   "metadata": {},
   "outputs": [],
   "source": []
  },
  {
   "cell_type": "code",
   "execution_count": null,
   "id": "b5b8dad0",
   "metadata": {},
   "outputs": [],
   "source": []
  },
  {
   "cell_type": "code",
   "execution_count": null,
   "id": "6af119b1",
   "metadata": {},
   "outputs": [],
   "source": []
  },
  {
   "cell_type": "code",
   "execution_count": null,
   "id": "f443579c",
   "metadata": {},
   "outputs": [],
   "source": []
  },
  {
   "cell_type": "code",
   "execution_count": null,
   "id": "ec63313c",
   "metadata": {},
   "outputs": [],
   "source": []
  },
  {
   "cell_type": "code",
   "execution_count": null,
   "id": "0cd0fa9e",
   "metadata": {},
   "outputs": [],
   "source": []
  },
  {
   "cell_type": "code",
   "execution_count": null,
   "id": "7c8dfc2c",
   "metadata": {},
   "outputs": [],
   "source": []
  },
  {
   "cell_type": "code",
   "execution_count": null,
   "id": "eef6e6e2",
   "metadata": {},
   "outputs": [],
   "source": []
  },
  {
   "cell_type": "code",
   "execution_count": null,
   "id": "6a61d20c",
   "metadata": {},
   "outputs": [],
   "source": []
  },
  {
   "cell_type": "code",
   "execution_count": null,
   "id": "ee8676fe",
   "metadata": {},
   "outputs": [],
   "source": []
  },
  {
   "cell_type": "code",
   "execution_count": null,
   "id": "2cf00e00",
   "metadata": {},
   "outputs": [],
   "source": []
  },
  {
   "cell_type": "code",
   "execution_count": null,
   "id": "552dd2e7",
   "metadata": {},
   "outputs": [],
   "source": []
  },
  {
   "cell_type": "code",
   "execution_count": null,
   "id": "09818023",
   "metadata": {},
   "outputs": [],
   "source": []
  },
  {
   "cell_type": "code",
   "execution_count": null,
   "id": "7de9d014",
   "metadata": {},
   "outputs": [],
   "source": []
  },
  {
   "cell_type": "code",
   "execution_count": null,
   "id": "268d394d",
   "metadata": {},
   "outputs": [],
   "source": []
  },
  {
   "cell_type": "code",
   "execution_count": null,
   "id": "897de688",
   "metadata": {},
   "outputs": [],
   "source": []
  },
  {
   "cell_type": "code",
   "execution_count": null,
   "id": "82f3a246",
   "metadata": {},
   "outputs": [],
   "source": []
  },
  {
   "cell_type": "code",
   "execution_count": null,
   "id": "c4f61e4e",
   "metadata": {},
   "outputs": [],
   "source": []
  },
  {
   "cell_type": "code",
   "execution_count": null,
   "id": "b85b0d3d",
   "metadata": {},
   "outputs": [],
   "source": []
  },
  {
   "cell_type": "code",
   "execution_count": null,
   "id": "1535b913",
   "metadata": {},
   "outputs": [],
   "source": []
  },
  {
   "cell_type": "code",
   "execution_count": null,
   "id": "71fa93ac",
   "metadata": {},
   "outputs": [],
   "source": []
  },
  {
   "cell_type": "code",
   "execution_count": null,
   "id": "aeb2b513",
   "metadata": {},
   "outputs": [],
   "source": []
  },
  {
   "cell_type": "code",
   "execution_count": null,
   "id": "d6799675",
   "metadata": {},
   "outputs": [],
   "source": []
  },
  {
   "cell_type": "code",
   "execution_count": null,
   "id": "49c62d9b",
   "metadata": {},
   "outputs": [],
   "source": []
  },
  {
   "cell_type": "code",
   "execution_count": null,
   "id": "6e8a030d",
   "metadata": {},
   "outputs": [],
   "source": []
  },
  {
   "cell_type": "code",
   "execution_count": null,
   "id": "e24b2966",
   "metadata": {},
   "outputs": [],
   "source": []
  },
  {
   "cell_type": "code",
   "execution_count": null,
   "id": "02367c0e",
   "metadata": {},
   "outputs": [],
   "source": []
  },
  {
   "cell_type": "code",
   "execution_count": null,
   "id": "a9c4dc39",
   "metadata": {},
   "outputs": [],
   "source": []
  },
  {
   "cell_type": "code",
   "execution_count": null,
   "id": "9939f0ce",
   "metadata": {},
   "outputs": [],
   "source": []
  },
  {
   "cell_type": "code",
   "execution_count": null,
   "id": "37b7179e",
   "metadata": {},
   "outputs": [],
   "source": []
  },
  {
   "cell_type": "code",
   "execution_count": null,
   "id": "df43aae3",
   "metadata": {},
   "outputs": [],
   "source": []
  },
  {
   "cell_type": "code",
   "execution_count": null,
   "id": "45857fff",
   "metadata": {},
   "outputs": [],
   "source": []
  },
  {
   "cell_type": "code",
   "execution_count": null,
   "id": "f99f5a2a",
   "metadata": {},
   "outputs": [],
   "source": []
  },
  {
   "cell_type": "code",
   "execution_count": null,
   "id": "4d1bafcd",
   "metadata": {},
   "outputs": [],
   "source": []
  },
  {
   "cell_type": "code",
   "execution_count": null,
   "id": "04282a45",
   "metadata": {},
   "outputs": [],
   "source": []
  },
  {
   "cell_type": "code",
   "execution_count": null,
   "id": "b9cbb3bb",
   "metadata": {},
   "outputs": [],
   "source": []
  },
  {
   "cell_type": "code",
   "execution_count": null,
   "id": "98505063",
   "metadata": {},
   "outputs": [],
   "source": []
  },
  {
   "cell_type": "code",
   "execution_count": null,
   "id": "12c34e8a",
   "metadata": {},
   "outputs": [],
   "source": []
  },
  {
   "cell_type": "code",
   "execution_count": null,
   "id": "fd59c0bf",
   "metadata": {},
   "outputs": [],
   "source": []
  },
  {
   "cell_type": "code",
   "execution_count": null,
   "id": "85ae1df7",
   "metadata": {},
   "outputs": [],
   "source": []
  },
  {
   "cell_type": "code",
   "execution_count": null,
   "id": "394a08d2",
   "metadata": {},
   "outputs": [],
   "source": []
  },
  {
   "cell_type": "code",
   "execution_count": null,
   "id": "170b0f94",
   "metadata": {},
   "outputs": [],
   "source": []
  },
  {
   "cell_type": "code",
   "execution_count": null,
   "id": "35f0858b",
   "metadata": {},
   "outputs": [],
   "source": []
  },
  {
   "cell_type": "code",
   "execution_count": null,
   "id": "7a23ab7b",
   "metadata": {},
   "outputs": [],
   "source": []
  },
  {
   "cell_type": "code",
   "execution_count": null,
   "id": "a0ad4917",
   "metadata": {},
   "outputs": [],
   "source": []
  },
  {
   "cell_type": "code",
   "execution_count": null,
   "id": "b3003554",
   "metadata": {},
   "outputs": [],
   "source": []
  },
  {
   "cell_type": "code",
   "execution_count": null,
   "id": "1ffe0064",
   "metadata": {},
   "outputs": [],
   "source": []
  },
  {
   "cell_type": "code",
   "execution_count": null,
   "id": "20502c8e",
   "metadata": {},
   "outputs": [],
   "source": []
  },
  {
   "cell_type": "code",
   "execution_count": null,
   "id": "e91a120e",
   "metadata": {},
   "outputs": [],
   "source": []
  },
  {
   "cell_type": "code",
   "execution_count": null,
   "id": "fe3d8775",
   "metadata": {},
   "outputs": [],
   "source": []
  },
  {
   "cell_type": "code",
   "execution_count": null,
   "id": "ea646fc2",
   "metadata": {},
   "outputs": [],
   "source": []
  },
  {
   "cell_type": "code",
   "execution_count": null,
   "id": "bf525a51",
   "metadata": {},
   "outputs": [],
   "source": []
  },
  {
   "cell_type": "code",
   "execution_count": null,
   "id": "6a0ab755",
   "metadata": {},
   "outputs": [],
   "source": []
  },
  {
   "cell_type": "code",
   "execution_count": null,
   "id": "0c1ee6c7",
   "metadata": {},
   "outputs": [],
   "source": []
  },
  {
   "cell_type": "code",
   "execution_count": null,
   "id": "64f8c870",
   "metadata": {},
   "outputs": [],
   "source": []
  },
  {
   "cell_type": "code",
   "execution_count": null,
   "id": "5cd8d1b6",
   "metadata": {},
   "outputs": [],
   "source": []
  },
  {
   "cell_type": "code",
   "execution_count": null,
   "id": "a9d1b223",
   "metadata": {},
   "outputs": [],
   "source": []
  },
  {
   "cell_type": "code",
   "execution_count": null,
   "id": "2de88dab",
   "metadata": {},
   "outputs": [],
   "source": []
  },
  {
   "cell_type": "code",
   "execution_count": null,
   "id": "41f9709a",
   "metadata": {},
   "outputs": [],
   "source": []
  },
  {
   "cell_type": "code",
   "execution_count": null,
   "id": "de9b4fc1",
   "metadata": {},
   "outputs": [],
   "source": []
  },
  {
   "cell_type": "code",
   "execution_count": null,
   "id": "bfcef5a5",
   "metadata": {},
   "outputs": [],
   "source": []
  },
  {
   "cell_type": "code",
   "execution_count": null,
   "id": "18952932",
   "metadata": {},
   "outputs": [],
   "source": []
  },
  {
   "cell_type": "code",
   "execution_count": null,
   "id": "bf385387",
   "metadata": {},
   "outputs": [],
   "source": []
  },
  {
   "cell_type": "code",
   "execution_count": null,
   "id": "0e845da8",
   "metadata": {},
   "outputs": [],
   "source": []
  },
  {
   "cell_type": "code",
   "execution_count": null,
   "id": "79b487de",
   "metadata": {},
   "outputs": [],
   "source": []
  },
  {
   "cell_type": "code",
   "execution_count": null,
   "id": "8e9add8f",
   "metadata": {},
   "outputs": [],
   "source": []
  },
  {
   "cell_type": "code",
   "execution_count": null,
   "id": "93e77416",
   "metadata": {},
   "outputs": [],
   "source": []
  },
  {
   "cell_type": "code",
   "execution_count": null,
   "id": "f175e84e",
   "metadata": {},
   "outputs": [],
   "source": []
  },
  {
   "cell_type": "code",
   "execution_count": null,
   "id": "4e95bf49",
   "metadata": {},
   "outputs": [],
   "source": []
  },
  {
   "cell_type": "code",
   "execution_count": null,
   "id": "f2b580c9",
   "metadata": {},
   "outputs": [],
   "source": []
  },
  {
   "cell_type": "code",
   "execution_count": null,
   "id": "a545ed80",
   "metadata": {},
   "outputs": [],
   "source": []
  },
  {
   "cell_type": "code",
   "execution_count": null,
   "id": "1c562285",
   "metadata": {},
   "outputs": [],
   "source": []
  },
  {
   "cell_type": "code",
   "execution_count": null,
   "id": "abe43597",
   "metadata": {},
   "outputs": [],
   "source": []
  },
  {
   "cell_type": "code",
   "execution_count": null,
   "id": "17d3db75",
   "metadata": {},
   "outputs": [],
   "source": []
  },
  {
   "cell_type": "code",
   "execution_count": null,
   "id": "ee9c0ba2",
   "metadata": {},
   "outputs": [],
   "source": []
  },
  {
   "cell_type": "code",
   "execution_count": null,
   "id": "dacbd4dc",
   "metadata": {},
   "outputs": [],
   "source": []
  },
  {
   "cell_type": "code",
   "execution_count": null,
   "id": "e95153cf",
   "metadata": {},
   "outputs": [],
   "source": []
  },
  {
   "cell_type": "code",
   "execution_count": null,
   "id": "411bbcc1",
   "metadata": {},
   "outputs": [],
   "source": []
  },
  {
   "cell_type": "code",
   "execution_count": null,
   "id": "026d16ff",
   "metadata": {},
   "outputs": [],
   "source": []
  },
  {
   "cell_type": "code",
   "execution_count": null,
   "id": "8e9a5518",
   "metadata": {},
   "outputs": [],
   "source": []
  },
  {
   "cell_type": "code",
   "execution_count": null,
   "id": "9616a5b9",
   "metadata": {},
   "outputs": [],
   "source": []
  },
  {
   "cell_type": "code",
   "execution_count": null,
   "id": "5016a8fe",
   "metadata": {},
   "outputs": [],
   "source": []
  },
  {
   "cell_type": "code",
   "execution_count": null,
   "id": "99b6e833",
   "metadata": {},
   "outputs": [],
   "source": []
  },
  {
   "cell_type": "code",
   "execution_count": null,
   "id": "fa632cfd",
   "metadata": {},
   "outputs": [],
   "source": []
  },
  {
   "cell_type": "code",
   "execution_count": null,
   "id": "88b5a95c",
   "metadata": {},
   "outputs": [],
   "source": []
  },
  {
   "cell_type": "code",
   "execution_count": null,
   "id": "8974aec1",
   "metadata": {},
   "outputs": [],
   "source": []
  },
  {
   "cell_type": "code",
   "execution_count": null,
   "id": "75d1fb11",
   "metadata": {},
   "outputs": [],
   "source": []
  },
  {
   "cell_type": "code",
   "execution_count": null,
   "id": "c0532090",
   "metadata": {},
   "outputs": [],
   "source": []
  },
  {
   "cell_type": "code",
   "execution_count": null,
   "id": "8604446d",
   "metadata": {},
   "outputs": [],
   "source": []
  },
  {
   "cell_type": "code",
   "execution_count": null,
   "id": "adf7bdd3",
   "metadata": {},
   "outputs": [],
   "source": []
  },
  {
   "cell_type": "code",
   "execution_count": null,
   "id": "8ef05cd7",
   "metadata": {},
   "outputs": [],
   "source": []
  },
  {
   "cell_type": "code",
   "execution_count": null,
   "id": "238e1acf",
   "metadata": {},
   "outputs": [],
   "source": []
  },
  {
   "cell_type": "code",
   "execution_count": null,
   "id": "bba4caea",
   "metadata": {},
   "outputs": [],
   "source": []
  },
  {
   "cell_type": "code",
   "execution_count": null,
   "id": "9d9a4f11",
   "metadata": {},
   "outputs": [],
   "source": []
  },
  {
   "cell_type": "code",
   "execution_count": null,
   "id": "0628778c",
   "metadata": {},
   "outputs": [],
   "source": []
  },
  {
   "cell_type": "code",
   "execution_count": null,
   "id": "0fd5cac4",
   "metadata": {},
   "outputs": [],
   "source": []
  },
  {
   "cell_type": "code",
   "execution_count": null,
   "id": "46c80059",
   "metadata": {},
   "outputs": [],
   "source": []
  },
  {
   "cell_type": "code",
   "execution_count": null,
   "id": "e32ca11a",
   "metadata": {},
   "outputs": [],
   "source": []
  },
  {
   "cell_type": "code",
   "execution_count": null,
   "id": "6de9b032",
   "metadata": {},
   "outputs": [],
   "source": []
  },
  {
   "cell_type": "code",
   "execution_count": null,
   "id": "6cd84333",
   "metadata": {},
   "outputs": [],
   "source": []
  },
  {
   "cell_type": "code",
   "execution_count": null,
   "id": "5073b88f",
   "metadata": {},
   "outputs": [],
   "source": []
  },
  {
   "cell_type": "code",
   "execution_count": null,
   "id": "659d0bde",
   "metadata": {},
   "outputs": [],
   "source": []
  },
  {
   "cell_type": "code",
   "execution_count": null,
   "id": "39fdc4a4",
   "metadata": {},
   "outputs": [],
   "source": []
  },
  {
   "cell_type": "code",
   "execution_count": null,
   "id": "d726d68f",
   "metadata": {},
   "outputs": [],
   "source": []
  },
  {
   "cell_type": "code",
   "execution_count": null,
   "id": "cd8d73a5",
   "metadata": {},
   "outputs": [],
   "source": []
  },
  {
   "cell_type": "code",
   "execution_count": null,
   "id": "d449a410",
   "metadata": {},
   "outputs": [],
   "source": []
  },
  {
   "cell_type": "code",
   "execution_count": null,
   "id": "e6ddebd4",
   "metadata": {},
   "outputs": [],
   "source": []
  },
  {
   "cell_type": "code",
   "execution_count": null,
   "id": "2f551c18",
   "metadata": {},
   "outputs": [],
   "source": []
  },
  {
   "cell_type": "code",
   "execution_count": null,
   "id": "886bc644",
   "metadata": {},
   "outputs": [],
   "source": []
  },
  {
   "cell_type": "code",
   "execution_count": null,
   "id": "4182e7c8",
   "metadata": {},
   "outputs": [],
   "source": []
  },
  {
   "cell_type": "code",
   "execution_count": null,
   "id": "d1d5c2f3",
   "metadata": {},
   "outputs": [],
   "source": []
  },
  {
   "cell_type": "code",
   "execution_count": null,
   "id": "7547ffb0",
   "metadata": {},
   "outputs": [],
   "source": []
  },
  {
   "cell_type": "code",
   "execution_count": null,
   "id": "ae4e9c4d",
   "metadata": {},
   "outputs": [],
   "source": []
  },
  {
   "cell_type": "code",
   "execution_count": null,
   "id": "83ff8fab",
   "metadata": {},
   "outputs": [],
   "source": []
  },
  {
   "cell_type": "code",
   "execution_count": null,
   "id": "9ea4040c",
   "metadata": {},
   "outputs": [],
   "source": []
  },
  {
   "cell_type": "code",
   "execution_count": null,
   "id": "e90dadf2",
   "metadata": {},
   "outputs": [],
   "source": []
  },
  {
   "cell_type": "code",
   "execution_count": null,
   "id": "b7402482",
   "metadata": {},
   "outputs": [],
   "source": []
  },
  {
   "cell_type": "code",
   "execution_count": null,
   "id": "4c8f611b",
   "metadata": {},
   "outputs": [],
   "source": [
    "\n",
    "\n",
    "\n",
    "\n",
    "\n",
    "\n",
    "\n",
    "\n",
    "\n",
    "\n",
    "\n",
    "\n",
    "\n",
    "\n",
    "\n",
    "\n",
    "\n",
    "\n",
    "\n",
    "\n",
    "\n",
    "\n",
    "\n",
    "\n",
    "\n",
    "\n",
    "\n",
    "\n",
    "\n",
    "\n",
    "\n",
    "\n",
    "\n",
    "\n",
    "\n",
    "\n",
    "\n",
    "\n",
    "\n",
    "\n",
    "\n",
    "\n",
    "\n",
    "\n",
    "\n",
    "\n",
    "\n",
    "\n",
    "\n",
    "\n",
    "\n",
    "\n",
    "\n",
    "\n",
    "\n",
    "\n",
    "\n",
    "\n",
    "\n",
    "\n",
    "\n",
    "\n",
    "\n",
    "\n",
    "\n",
    "\n",
    "\n",
    "\n",
    "\n",
    "\n",
    "\n",
    "\n",
    "\n",
    "\n",
    "\n",
    "\n",
    "\n",
    "\n",
    "\n",
    "\n",
    "\n",
    "\n",
    "\n",
    "\n",
    "\n",
    "\n",
    "\n",
    "\n",
    "\n",
    "\n",
    "\n",
    "\n"
   ]
  }
 ],
 "metadata": {
  "availableInstances": [
   {
    "_defaultOrder": 0,
    "_isFastLaunch": true,
    "category": "General purpose",
    "gpuNum": 0,
    "hideHardwareSpecs": false,
    "memoryGiB": 4,
    "name": "ml.t3.medium",
    "vcpuNum": 2
   },
   {
    "_defaultOrder": 1,
    "_isFastLaunch": false,
    "category": "General purpose",
    "gpuNum": 0,
    "hideHardwareSpecs": false,
    "memoryGiB": 8,
    "name": "ml.t3.large",
    "vcpuNum": 2
   },
   {
    "_defaultOrder": 2,
    "_isFastLaunch": false,
    "category": "General purpose",
    "gpuNum": 0,
    "hideHardwareSpecs": false,
    "memoryGiB": 16,
    "name": "ml.t3.xlarge",
    "vcpuNum": 4
   },
   {
    "_defaultOrder": 3,
    "_isFastLaunch": false,
    "category": "General purpose",
    "gpuNum": 0,
    "hideHardwareSpecs": false,
    "memoryGiB": 32,
    "name": "ml.t3.2xlarge",
    "vcpuNum": 8
   },
   {
    "_defaultOrder": 4,
    "_isFastLaunch": true,
    "category": "General purpose",
    "gpuNum": 0,
    "hideHardwareSpecs": false,
    "memoryGiB": 8,
    "name": "ml.m5.large",
    "vcpuNum": 2
   },
   {
    "_defaultOrder": 5,
    "_isFastLaunch": false,
    "category": "General purpose",
    "gpuNum": 0,
    "hideHardwareSpecs": false,
    "memoryGiB": 16,
    "name": "ml.m5.xlarge",
    "vcpuNum": 4
   },
   {
    "_defaultOrder": 6,
    "_isFastLaunch": false,
    "category": "General purpose",
    "gpuNum": 0,
    "hideHardwareSpecs": false,
    "memoryGiB": 32,
    "name": "ml.m5.2xlarge",
    "vcpuNum": 8
   },
   {
    "_defaultOrder": 7,
    "_isFastLaunch": false,
    "category": "General purpose",
    "gpuNum": 0,
    "hideHardwareSpecs": false,
    "memoryGiB": 64,
    "name": "ml.m5.4xlarge",
    "vcpuNum": 16
   },
   {
    "_defaultOrder": 8,
    "_isFastLaunch": false,
    "category": "General purpose",
    "gpuNum": 0,
    "hideHardwareSpecs": false,
    "memoryGiB": 128,
    "name": "ml.m5.8xlarge",
    "vcpuNum": 32
   },
   {
    "_defaultOrder": 9,
    "_isFastLaunch": false,
    "category": "General purpose",
    "gpuNum": 0,
    "hideHardwareSpecs": false,
    "memoryGiB": 192,
    "name": "ml.m5.12xlarge",
    "vcpuNum": 48
   },
   {
    "_defaultOrder": 10,
    "_isFastLaunch": false,
    "category": "General purpose",
    "gpuNum": 0,
    "hideHardwareSpecs": false,
    "memoryGiB": 256,
    "name": "ml.m5.16xlarge",
    "vcpuNum": 64
   },
   {
    "_defaultOrder": 11,
    "_isFastLaunch": false,
    "category": "General purpose",
    "gpuNum": 0,
    "hideHardwareSpecs": false,
    "memoryGiB": 384,
    "name": "ml.m5.24xlarge",
    "vcpuNum": 96
   },
   {
    "_defaultOrder": 12,
    "_isFastLaunch": false,
    "category": "General purpose",
    "gpuNum": 0,
    "hideHardwareSpecs": false,
    "memoryGiB": 8,
    "name": "ml.m5d.large",
    "vcpuNum": 2
   },
   {
    "_defaultOrder": 13,
    "_isFastLaunch": false,
    "category": "General purpose",
    "gpuNum": 0,
    "hideHardwareSpecs": false,
    "memoryGiB": 16,
    "name": "ml.m5d.xlarge",
    "vcpuNum": 4
   },
   {
    "_defaultOrder": 14,
    "_isFastLaunch": false,
    "category": "General purpose",
    "gpuNum": 0,
    "hideHardwareSpecs": false,
    "memoryGiB": 32,
    "name": "ml.m5d.2xlarge",
    "vcpuNum": 8
   },
   {
    "_defaultOrder": 15,
    "_isFastLaunch": false,
    "category": "General purpose",
    "gpuNum": 0,
    "hideHardwareSpecs": false,
    "memoryGiB": 64,
    "name": "ml.m5d.4xlarge",
    "vcpuNum": 16
   },
   {
    "_defaultOrder": 16,
    "_isFastLaunch": false,
    "category": "General purpose",
    "gpuNum": 0,
    "hideHardwareSpecs": false,
    "memoryGiB": 128,
    "name": "ml.m5d.8xlarge",
    "vcpuNum": 32
   },
   {
    "_defaultOrder": 17,
    "_isFastLaunch": false,
    "category": "General purpose",
    "gpuNum": 0,
    "hideHardwareSpecs": false,
    "memoryGiB": 192,
    "name": "ml.m5d.12xlarge",
    "vcpuNum": 48
   },
   {
    "_defaultOrder": 18,
    "_isFastLaunch": false,
    "category": "General purpose",
    "gpuNum": 0,
    "hideHardwareSpecs": false,
    "memoryGiB": 256,
    "name": "ml.m5d.16xlarge",
    "vcpuNum": 64
   },
   {
    "_defaultOrder": 19,
    "_isFastLaunch": false,
    "category": "General purpose",
    "gpuNum": 0,
    "hideHardwareSpecs": false,
    "memoryGiB": 384,
    "name": "ml.m5d.24xlarge",
    "vcpuNum": 96
   },
   {
    "_defaultOrder": 20,
    "_isFastLaunch": false,
    "category": "General purpose",
    "gpuNum": 0,
    "hideHardwareSpecs": true,
    "memoryGiB": 0,
    "name": "ml.geospatial.interactive",
    "supportedImageNames": [
     "sagemaker-geospatial-v1-0"
    ],
    "vcpuNum": 0
   },
   {
    "_defaultOrder": 21,
    "_isFastLaunch": true,
    "category": "Compute optimized",
    "gpuNum": 0,
    "hideHardwareSpecs": false,
    "memoryGiB": 4,
    "name": "ml.c5.large",
    "vcpuNum": 2
   },
   {
    "_defaultOrder": 22,
    "_isFastLaunch": false,
    "category": "Compute optimized",
    "gpuNum": 0,
    "hideHardwareSpecs": false,
    "memoryGiB": 8,
    "name": "ml.c5.xlarge",
    "vcpuNum": 4
   },
   {
    "_defaultOrder": 23,
    "_isFastLaunch": false,
    "category": "Compute optimized",
    "gpuNum": 0,
    "hideHardwareSpecs": false,
    "memoryGiB": 16,
    "name": "ml.c5.2xlarge",
    "vcpuNum": 8
   },
   {
    "_defaultOrder": 24,
    "_isFastLaunch": false,
    "category": "Compute optimized",
    "gpuNum": 0,
    "hideHardwareSpecs": false,
    "memoryGiB": 32,
    "name": "ml.c5.4xlarge",
    "vcpuNum": 16
   },
   {
    "_defaultOrder": 25,
    "_isFastLaunch": false,
    "category": "Compute optimized",
    "gpuNum": 0,
    "hideHardwareSpecs": false,
    "memoryGiB": 72,
    "name": "ml.c5.9xlarge",
    "vcpuNum": 36
   },
   {
    "_defaultOrder": 26,
    "_isFastLaunch": false,
    "category": "Compute optimized",
    "gpuNum": 0,
    "hideHardwareSpecs": false,
    "memoryGiB": 96,
    "name": "ml.c5.12xlarge",
    "vcpuNum": 48
   },
   {
    "_defaultOrder": 27,
    "_isFastLaunch": false,
    "category": "Compute optimized",
    "gpuNum": 0,
    "hideHardwareSpecs": false,
    "memoryGiB": 144,
    "name": "ml.c5.18xlarge",
    "vcpuNum": 72
   },
   {
    "_defaultOrder": 28,
    "_isFastLaunch": false,
    "category": "Compute optimized",
    "gpuNum": 0,
    "hideHardwareSpecs": false,
    "memoryGiB": 192,
    "name": "ml.c5.24xlarge",
    "vcpuNum": 96
   },
   {
    "_defaultOrder": 29,
    "_isFastLaunch": true,
    "category": "Accelerated computing",
    "gpuNum": 1,
    "hideHardwareSpecs": false,
    "memoryGiB": 16,
    "name": "ml.g4dn.xlarge",
    "vcpuNum": 4
   },
   {
    "_defaultOrder": 30,
    "_isFastLaunch": false,
    "category": "Accelerated computing",
    "gpuNum": 1,
    "hideHardwareSpecs": false,
    "memoryGiB": 32,
    "name": "ml.g4dn.2xlarge",
    "vcpuNum": 8
   },
   {
    "_defaultOrder": 31,
    "_isFastLaunch": false,
    "category": "Accelerated computing",
    "gpuNum": 1,
    "hideHardwareSpecs": false,
    "memoryGiB": 64,
    "name": "ml.g4dn.4xlarge",
    "vcpuNum": 16
   },
   {
    "_defaultOrder": 32,
    "_isFastLaunch": false,
    "category": "Accelerated computing",
    "gpuNum": 1,
    "hideHardwareSpecs": false,
    "memoryGiB": 128,
    "name": "ml.g4dn.8xlarge",
    "vcpuNum": 32
   },
   {
    "_defaultOrder": 33,
    "_isFastLaunch": false,
    "category": "Accelerated computing",
    "gpuNum": 4,
    "hideHardwareSpecs": false,
    "memoryGiB": 192,
    "name": "ml.g4dn.12xlarge",
    "vcpuNum": 48
   },
   {
    "_defaultOrder": 34,
    "_isFastLaunch": false,
    "category": "Accelerated computing",
    "gpuNum": 1,
    "hideHardwareSpecs": false,
    "memoryGiB": 256,
    "name": "ml.g4dn.16xlarge",
    "vcpuNum": 64
   },
   {
    "_defaultOrder": 35,
    "_isFastLaunch": false,
    "category": "Accelerated computing",
    "gpuNum": 1,
    "hideHardwareSpecs": false,
    "memoryGiB": 61,
    "name": "ml.p3.2xlarge",
    "vcpuNum": 8
   },
   {
    "_defaultOrder": 36,
    "_isFastLaunch": false,
    "category": "Accelerated computing",
    "gpuNum": 4,
    "hideHardwareSpecs": false,
    "memoryGiB": 244,
    "name": "ml.p3.8xlarge",
    "vcpuNum": 32
   },
   {
    "_defaultOrder": 37,
    "_isFastLaunch": false,
    "category": "Accelerated computing",
    "gpuNum": 8,
    "hideHardwareSpecs": false,
    "memoryGiB": 488,
    "name": "ml.p3.16xlarge",
    "vcpuNum": 64
   },
   {
    "_defaultOrder": 38,
    "_isFastLaunch": false,
    "category": "Accelerated computing",
    "gpuNum": 8,
    "hideHardwareSpecs": false,
    "memoryGiB": 768,
    "name": "ml.p3dn.24xlarge",
    "vcpuNum": 96
   },
   {
    "_defaultOrder": 39,
    "_isFastLaunch": false,
    "category": "Memory Optimized",
    "gpuNum": 0,
    "hideHardwareSpecs": false,
    "memoryGiB": 16,
    "name": "ml.r5.large",
    "vcpuNum": 2
   },
   {
    "_defaultOrder": 40,
    "_isFastLaunch": false,
    "category": "Memory Optimized",
    "gpuNum": 0,
    "hideHardwareSpecs": false,
    "memoryGiB": 32,
    "name": "ml.r5.xlarge",
    "vcpuNum": 4
   },
   {
    "_defaultOrder": 41,
    "_isFastLaunch": false,
    "category": "Memory Optimized",
    "gpuNum": 0,
    "hideHardwareSpecs": false,
    "memoryGiB": 64,
    "name": "ml.r5.2xlarge",
    "vcpuNum": 8
   },
   {
    "_defaultOrder": 42,
    "_isFastLaunch": false,
    "category": "Memory Optimized",
    "gpuNum": 0,
    "hideHardwareSpecs": false,
    "memoryGiB": 128,
    "name": "ml.r5.4xlarge",
    "vcpuNum": 16
   },
   {
    "_defaultOrder": 43,
    "_isFastLaunch": false,
    "category": "Memory Optimized",
    "gpuNum": 0,
    "hideHardwareSpecs": false,
    "memoryGiB": 256,
    "name": "ml.r5.8xlarge",
    "vcpuNum": 32
   },
   {
    "_defaultOrder": 44,
    "_isFastLaunch": false,
    "category": "Memory Optimized",
    "gpuNum": 0,
    "hideHardwareSpecs": false,
    "memoryGiB": 384,
    "name": "ml.r5.12xlarge",
    "vcpuNum": 48
   },
   {
    "_defaultOrder": 45,
    "_isFastLaunch": false,
    "category": "Memory Optimized",
    "gpuNum": 0,
    "hideHardwareSpecs": false,
    "memoryGiB": 512,
    "name": "ml.r5.16xlarge",
    "vcpuNum": 64
   },
   {
    "_defaultOrder": 46,
    "_isFastLaunch": false,
    "category": "Memory Optimized",
    "gpuNum": 0,
    "hideHardwareSpecs": false,
    "memoryGiB": 768,
    "name": "ml.r5.24xlarge",
    "vcpuNum": 96
   },
   {
    "_defaultOrder": 47,
    "_isFastLaunch": false,
    "category": "Accelerated computing",
    "gpuNum": 1,
    "hideHardwareSpecs": false,
    "memoryGiB": 16,
    "name": "ml.g5.xlarge",
    "vcpuNum": 4
   },
   {
    "_defaultOrder": 48,
    "_isFastLaunch": false,
    "category": "Accelerated computing",
    "gpuNum": 1,
    "hideHardwareSpecs": false,
    "memoryGiB": 32,
    "name": "ml.g5.2xlarge",
    "vcpuNum": 8
   },
   {
    "_defaultOrder": 49,
    "_isFastLaunch": false,
    "category": "Accelerated computing",
    "gpuNum": 1,
    "hideHardwareSpecs": false,
    "memoryGiB": 64,
    "name": "ml.g5.4xlarge",
    "vcpuNum": 16
   },
   {
    "_defaultOrder": 50,
    "_isFastLaunch": false,
    "category": "Accelerated computing",
    "gpuNum": 1,
    "hideHardwareSpecs": false,
    "memoryGiB": 128,
    "name": "ml.g5.8xlarge",
    "vcpuNum": 32
   },
   {
    "_defaultOrder": 51,
    "_isFastLaunch": false,
    "category": "Accelerated computing",
    "gpuNum": 1,
    "hideHardwareSpecs": false,
    "memoryGiB": 256,
    "name": "ml.g5.16xlarge",
    "vcpuNum": 64
   },
   {
    "_defaultOrder": 52,
    "_isFastLaunch": false,
    "category": "Accelerated computing",
    "gpuNum": 4,
    "hideHardwareSpecs": false,
    "memoryGiB": 192,
    "name": "ml.g5.12xlarge",
    "vcpuNum": 48
   },
   {
    "_defaultOrder": 53,
    "_isFastLaunch": false,
    "category": "Accelerated computing",
    "gpuNum": 4,
    "hideHardwareSpecs": false,
    "memoryGiB": 384,
    "name": "ml.g5.24xlarge",
    "vcpuNum": 96
   },
   {
    "_defaultOrder": 54,
    "_isFastLaunch": false,
    "category": "Accelerated computing",
    "gpuNum": 8,
    "hideHardwareSpecs": false,
    "memoryGiB": 768,
    "name": "ml.g5.48xlarge",
    "vcpuNum": 192
   },
   {
    "_defaultOrder": 55,
    "_isFastLaunch": false,
    "category": "Accelerated computing",
    "gpuNum": 8,
    "hideHardwareSpecs": false,
    "memoryGiB": 1152,
    "name": "ml.p4d.24xlarge",
    "vcpuNum": 96
   },
   {
    "_defaultOrder": 56,
    "_isFastLaunch": false,
    "category": "Accelerated computing",
    "gpuNum": 8,
    "hideHardwareSpecs": false,
    "memoryGiB": 1152,
    "name": "ml.p4de.24xlarge",
    "vcpuNum": 96
   },
   {
    "_defaultOrder": 57,
    "_isFastLaunch": false,
    "category": "Accelerated computing",
    "gpuNum": 0,
    "hideHardwareSpecs": false,
    "memoryGiB": 32,
    "name": "ml.trn1.2xlarge",
    "vcpuNum": 8
   },
   {
    "_defaultOrder": 58,
    "_isFastLaunch": false,
    "category": "Accelerated computing",
    "gpuNum": 0,
    "hideHardwareSpecs": false,
    "memoryGiB": 512,
    "name": "ml.trn1.32xlarge",
    "vcpuNum": 128
   },
   {
    "_defaultOrder": 59,
    "_isFastLaunch": false,
    "category": "Accelerated computing",
    "gpuNum": 0,
    "hideHardwareSpecs": false,
    "memoryGiB": 512,
    "name": "ml.trn1n.32xlarge",
    "vcpuNum": 128
   }
  ],
  "instance_type": "ml.t3.medium",
  "kernelspec": {
   "display_name": "genai-on-aws-p3.8",
   "language": "python",
   "name": "python3"
  },
  "language_info": {
   "codemirror_mode": {
    "name": "ipython",
    "version": 3
   },
   "file_extension": ".py",
   "mimetype": "text/x-python",
   "name": "python",
   "nbconvert_exporter": "python",
   "pygments_lexer": "ipython3",
   "version": "3.8.18"
  }
 },
 "nbformat": 4,
 "nbformat_minor": 5
}
