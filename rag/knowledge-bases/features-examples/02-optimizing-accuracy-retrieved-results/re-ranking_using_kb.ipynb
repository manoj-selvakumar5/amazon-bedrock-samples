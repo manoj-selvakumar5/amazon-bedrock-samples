{
 "cells": [
  {
   "cell_type": "markdown",
   "id": "15c08f81",
   "metadata": {},
   "source": [
    "# Re-ranking\n",
    "\n",
    "Amazon Bedrock provides access to reranker models that you can use when querying to improve the relevance of the retrieved results.  reranker model calculates the relevance of chunks to a query and reorders the results based on the scores that it calculates. By using a reranker model, you can return responses that are better suited to answering the query. \n",
    "\n",
    "Reranker models are trained to identify relevance signals based on a query and then use those signals to rank documents. Because of this, the models can provide more relevant, more accurate results.\n",
    "\n",
    "If you're using `Amazon Bedrock Knowledge Bases` for building your Retrieval Augmented Generation (RAG) application, use a reranker model while calling the `Retrieve` or `RetrieveAndGenerate operation`. The results from reranking override the default ranking that Amazon Bedrock Knowledge Bases determines.\n",
    "\n",
    "This notebook demonstrates the use of **reranking model** with Amazon Bedrock Knowledge Bases, through the Rerank API which will help to further improve the accuracy and relevance of RAG applications. With a reranker model, you can retrieve fewer, but more relevant, results. By feeding these results to the foundation model that you use to generate a response, you can also decrease cost and latency.\n",
    "\n",
    "Let's explore how to implement and utilize reranking models with Amazon Bedrock Knowledge Bases for an example use case."
   ]
  },
  {
   "cell_type": "markdown",
   "id": "ece99ba7",
   "metadata": {},
   "source": [
    "## 1. Setup\n",
    "Before running the rest of this notebook, you'll need to run the cells below to (ensure necessary libraries are installed and) connect to Bedrock.\n",
    "\n",
    "Please ignore any pip dependency error (if you see any while installing libraries)"
   ]
  },
  {
   "cell_type": "code",
   "execution_count": 42,
   "id": "dc89fe3a",
   "metadata": {},
   "outputs": [],
   "source": [
    "# %pip install --force-reinstall -q -r utils/requirements.txt --quiet"
   ]
  },
  {
   "cell_type": "code",
   "execution_count": 43,
   "id": "57056c5d",
   "metadata": {},
   "outputs": [],
   "source": [
    "# %pip install --upgrade boto3"
   ]
  },
  {
   "cell_type": "code",
   "execution_count": 44,
   "id": "165e5495",
   "metadata": {},
   "outputs": [],
   "source": [
    "# # restart kernel\n",
    "# from IPython.core.display import HTML\n",
    "# HTML(\"<script>Jupyter.notebook.kernel.restart()</script>\")"
   ]
  },
  {
   "cell_type": "code",
   "execution_count": 45,
   "id": "7c1c0eb1",
   "metadata": {},
   "outputs": [
    {
     "name": "stdout",
     "output_type": "stream",
     "text": [
      "1.35.80\n"
     ]
    }
   ],
   "source": [
    "import boto3\n",
    "print(boto3.__version__)"
   ]
  },
  {
   "cell_type": "code",
   "execution_count": 46,
   "id": "7173b4bf",
   "metadata": {},
   "outputs": [],
   "source": [
    "import warnings\n",
    "warnings.filterwarnings('ignore')"
   ]
  },
  {
   "cell_type": "code",
   "execution_count": 47,
   "id": "84241929",
   "metadata": {},
   "outputs": [],
   "source": [
    "import os\n",
    "import time\n",
    "import boto3\n",
    "import logging\n",
    "import pprint\n",
    "import json\n",
    "\n",
    "from utils.knowledge_base import BedrockKnowledgeBase"
   ]
  },
  {
   "cell_type": "code",
   "execution_count": 48,
   "id": "cda1c18f",
   "metadata": {},
   "outputs": [
    {
     "data": {
      "text/plain": [
       "('us-west-2', '533267284022')"
      ]
     },
     "execution_count": 48,
     "metadata": {},
     "output_type": "execute_result"
    }
   ],
   "source": [
    "#Clients\n",
    "s3_client = boto3.client('s3')\n",
    "sts_client = boto3.client('sts')\n",
    "session = boto3.session.Session(region_name = 'us-west-2')\n",
    "region =  session.region_name\n",
    "account_id = sts_client.get_caller_identity()[\"Account\"]\n",
    "bedrock_agent_client = boto3.client('bedrock-agent')\n",
    "bedrock_agent_runtime_client = boto3.client('bedrock-agent-runtime') \n",
    "logging.basicConfig(format='[%(asctime)s] p%(process)s {%(filename)s:%(lineno)d} %(levelname)s - %(message)s', level=logging.INFO)\n",
    "logger = logging.getLogger(__name__)\n",
    "region, account_id"
   ]
  },
  {
   "cell_type": "code",
   "execution_count": 49,
   "id": "5d74b5be",
   "metadata": {},
   "outputs": [],
   "source": [
    "import time\n",
    "\n",
    "# Get the current timestamp\n",
    "current_time = time.time()\n",
    "\n",
    "# Format the timestamp as a string\n",
    "timestamp_str = time.strftime(\"%Y%m%d%H%M%S\", time.localtime(current_time))[-7:]\n",
    "# Create the suffix using the timestamp\n",
    "suffix = f\"{timestamp_str}\"\n",
    "knowledge_base_name = 'reranking-kb'\n",
    "knowledge_base_description = \"Knowledge Base for re-ranking.\"\n",
    "bucket_name = f'{knowledge_base_name}-{suffix}'"
   ]
  },
  {
   "cell_type": "markdown",
   "id": "e5142d7f",
   "metadata": {},
   "source": [
    "## 2 - Create knowledge bases with fixed chunking strategy\n",
    "Let's start by creating a [Knowledge Base for Amazon Bedrock](https://aws.amazon.com/bedrock/knowledge-bases/) to store video games data in csv format. Knowledge Bases allow you to integrate with different vector databases including [Amazon OpenSearch Serverless](https://aws.amazon.com/opensearch-service/features/serverless/), [Amazon Aurora](https://aws.amazon.com/rds/aurora/), [Pinecone](http://app.pinecone.io/bedrock-integration), [Redis Enterprise]() and [MongoDB Atlas](). For this example, we will integrate the knowledge base with Amazon OpenSearch Serverless. To do so, we will use the helper class `BedrockKnowledgeBase` which will create the knowledge base and all of its pre-requisites:\n",
    "1. IAM roles and policies\n",
    "2. S3 bucket\n",
    "3. Amazon OpenSearch Serverless encryption, network and data access policies\n",
    "4. Amazon OpenSearch Serverless collection\n",
    "5. Amazon OpenSearch Serverless vector index\n",
    "6. Knowledge base\n",
    "7. Knowledge base data source"
   ]
  },
  {
   "cell_type": "markdown",
   "id": "8283567d",
   "metadata": {},
   "source": [
    "We will create a knowledge base using fixed chunking strategy. \n",
    "\n",
    "You can chhose different chunking strategies by changing the below parameter values: \n",
    "```\n",
    "\"chunkingStrategy\": \"FIXED_SIZE | NONE | HIERARCHICAL | SEMANTIC\"\n",
    "```"
   ]
  },
  {
   "cell_type": "code",
   "execution_count": 50,
   "id": "258fbb58",
   "metadata": {},
   "outputs": [
    {
     "name": "stderr",
     "output_type": "stream",
     "text": [
      "[2024-12-13 14:30:59,079] p15054 {credentials.py:1278} INFO - Found credentials in shared credentials file: ~/.aws/credentials\n",
      "[2024-12-13 14:31:00,240] p15054 {credentials.py:1278} INFO - Found credentials in shared credentials file: ~/.aws/credentials\n"
     ]
    },
    {
     "name": "stdout",
     "output_type": "stream",
     "text": [
      "========================================================================================\n",
      "Step 1 - Creating or retrieving S3 bucket(s) for Knowledge Base documents\n",
      "['reranking-kb-3143059']\n",
      "Creating bucket reranking-kb-3143059\n",
      "========================================================================================\n",
      "Step 2 - Creating Knowledge Base Execution Role (AmazonBedrockExecutionRoleForKnowledgeBase_3143059) and Policies\n",
      "========================================================================================\n",
      "Step 3 - Creating OSS encryption, network and data access policies\n",
      "========================================================================================\n",
      "Step 4 - Creating OSS Collection (this step takes a couple of minutes to complete)\n",
      "{ 'ResponseMetadata': { 'HTTPHeaders': { 'connection': 'keep-alive',\n",
      "                                         'content-length': '318',\n",
      "                                         'content-type': 'application/x-amz-json-1.0',\n",
      "                                         'date': 'Fri, 13 Dec 2024 22:31:03 '\n",
      "                                                 'GMT',\n",
      "                                         'x-amzn-requestid': '5995f78a-c314-4d52-9c8e-2ccdd0d616cc'},\n",
      "                        'HTTPStatusCode': 200,\n",
      "                        'RequestId': '5995f78a-c314-4d52-9c8e-2ccdd0d616cc',\n",
      "                        'RetryAttempts': 0},\n",
      "  'createCollectionDetail': { 'arn': 'arn:aws:aoss:us-west-2:533267284022:collection/kk273ysb8jggefz409eh',\n",
      "                              'createdDate': 1734129063480,\n",
      "                              'id': 'kk273ysb8jggefz409eh',\n",
      "                              'kmsKeyArn': 'auto',\n",
      "                              'lastModifiedDate': 1734129063480,\n",
      "                              'name': 'bedrock-sample-rag-3143059',\n",
      "                              'standbyReplicas': 'ENABLED',\n",
      "                              'status': 'CREATING',\n",
      "                              'type': 'VECTORSEARCH'}}\n",
      "kk273ysb8jggefz409eh.us-west-2.aoss.amazonaws.com\n",
      "Creating collection...\n",
      "..............................\n",
      "Collection successfully created:\n",
      "[ { 'arn': 'arn:aws:aoss:us-west-2:533267284022:collection/kk273ysb8jggefz409eh',\n",
      "    'collectionEndpoint': 'https://kk273ysb8jggefz409eh.us-west-2.aoss.amazonaws.com',\n",
      "    'createdDate': 1734129063480,\n",
      "    'dashboardEndpoint': 'https://kk273ysb8jggefz409eh.us-west-2.aoss.amazonaws.com/_dashboards',\n",
      "    'id': 'kk273ysb8jggefz409eh',\n",
      "    'kmsKeyArn': 'auto',\n",
      "    'lastModifiedDate': 1734129086915,\n",
      "    'name': 'bedrock-sample-rag-3143059',\n",
      "    'standbyReplicas': 'ENABLED',\n",
      "    'status': 'ACTIVE',\n",
      "    'type': 'VECTORSEARCH'}]\n",
      "Opensearch serverless arn:  arn:aws:iam::533267284022:policy/AmazonBedrockOSSPolicyForKnowledgeBase_3143059\n",
      "Sleeping for a minute to ensure data access rules have been enforced\n",
      "========================================================================================\n",
      "Step 5 - Creating OSS Vector Index\n"
     ]
    },
    {
     "name": "stderr",
     "output_type": "stream",
     "text": [
      "[2024-12-13 14:32:34,906] p15054 {base.py:258} INFO - PUT https://kk273ysb8jggefz409eh.us-west-2.aoss.amazonaws.com:443/bedrock-sample-rag-index-3143059 [status:200 request:0.494s]\n"
     ]
    },
    {
     "name": "stdout",
     "output_type": "stream",
     "text": [
      "\n",
      "Creating index:\n",
      "{ 'acknowledged': True,\n",
      "  'index': 'bedrock-sample-rag-index-3143059',\n",
      "  'shards_acknowledged': True}\n",
      "========================================================================================\n",
      "Step 6 - Will create Lambda Function if chunking strategy selected as CUSTOM\n",
      "Not creating lambda function as chunking strategy is FIXED_SIZE\n",
      "========================================================================================\n",
      "Step 7 - Creating Knowledge Base\n",
      "Creating KB with chunking strategy - FIXED_SIZE\n",
      "============Chunking config========\n",
      " {'chunkingConfiguration': {'chunkingStrategy': 'FIXED_SIZE', 'fixedSizeChunkingConfiguration': {'maxTokens': 300, 'overlapPercentage': 20}}}\n",
      "{ 'createdAt': datetime.datetime(2024, 12, 13, 22, 33, 35, 461302, tzinfo=tzutc()),\n",
      "  'description': 'Knowledge Base for re-ranking.',\n",
      "  'knowledgeBaseArn': 'arn:aws:bedrock:us-west-2:533267284022:knowledge-base/3ZF1JI2PGV',\n",
      "  'knowledgeBaseConfiguration': { 'type': 'VECTOR',\n",
      "                                  'vectorKnowledgeBaseConfiguration': { 'embeddingModelArn': 'arn:aws:bedrock:us-west-2::foundation-model/amazon.titan-embed-text-v2:0'}},\n",
      "  'knowledgeBaseId': '3ZF1JI2PGV',\n",
      "  'name': 'reranking-kb-3143059',\n",
      "  'roleArn': 'arn:aws:iam::533267284022:role/AmazonBedrockExecutionRoleForKnowledgeBase_3143059',\n",
      "  'status': 'CREATING',\n",
      "  'storageConfiguration': { 'opensearchServerlessConfiguration': { 'collectionArn': 'arn:aws:aoss:us-west-2:533267284022:collection/kk273ysb8jggefz409eh',\n",
      "                                                                   'fieldMapping': { 'metadataField': 'text-metadata',\n",
      "                                                                                     'textField': 'text',\n",
      "                                                                                     'vectorField': 'vector'},\n",
      "                                                                   'vectorIndexName': 'bedrock-sample-rag-index-3143059'},\n",
      "                            'type': 'OPENSEARCH_SERVERLESS'},\n",
      "  'updatedAt': datetime.datetime(2024, 12, 13, 22, 33, 35, 461302, tzinfo=tzutc())}\n",
      "reranking-kb-3143059\n",
      "3ZF1JI2PGV\n",
      "{'bucketArn': 'arn:aws:s3:::reranking-kb-3143059'}\n",
      "{ 'createdAt': datetime.datetime(2024, 12, 13, 22, 33, 36, 14104, tzinfo=tzutc()),\n",
      "  'dataDeletionPolicy': 'RETAIN',\n",
      "  'dataSourceConfiguration': { 's3Configuration': { 'bucketArn': 'arn:aws:s3:::reranking-kb-3143059'},\n",
      "                               'type': 'S3'},\n",
      "  'dataSourceId': 'LUGVPGOVKQ',\n",
      "  'description': 'Knowledge Base for re-ranking.',\n",
      "  'knowledgeBaseId': '3ZF1JI2PGV',\n",
      "  'name': 'reranking-kb-3143059',\n",
      "  'status': 'AVAILABLE',\n",
      "  'updatedAt': datetime.datetime(2024, 12, 13, 22, 33, 36, 14104, tzinfo=tzutc()),\n",
      "  'vectorIngestionConfiguration': { 'chunkingConfiguration': { 'chunkingStrategy': 'FIXED_SIZE',\n",
      "                                                               'fixedSizeChunkingConfiguration': { 'maxTokens': 300,\n",
      "                                                                                                   'overlapPercentage': 20}}}}\n",
      "========================================================================================\n"
     ]
    }
   ],
   "source": [
    "knowledge_base_reranking = BedrockKnowledgeBase(\n",
    "    kb_name=f'{knowledge_base_name}-{suffix}',\n",
    "    kb_description=knowledge_base_description,\n",
    "    data_bucket_name=bucket_name, \n",
    "    chunking_strategy = \"FIXED_SIZE\", \n",
    "    suffix = suffix\n",
    ")"
   ]
  },
  {
   "cell_type": "markdown",
   "id": "c79183c7",
   "metadata": {},
   "source": [
    "### 2.1 Download Amazon 2019, 2020, 2021, 2022, & 2023 annual reports and upload it to Amazon S3\n",
    "\n",
    "Now that we have created the knowledge base, let's populate it with the `sec-10-k reports` dataset to KB. This data is being downloaded from [here](https://ir.aboutamazon.com/annual-reports-proxies-and-shareholder-letters/default.aspx). This data is about Amazon's annual reports, proxies and shareholder letters."
   ]
  },
  {
   "cell_type": "code",
   "execution_count": 51,
   "id": "c758da68",
   "metadata": {},
   "outputs": [
    {
     "name": "stdout",
     "output_type": "stream",
     "text": [
      "Directory 'sec-10-k' created successfully.\n"
     ]
    }
   ],
   "source": [
    "import os\n",
    "\n",
    "def create_directory(directory_name):    \n",
    "    if not os.path.exists(directory_name):\n",
    "        os.makedirs(directory_name)\n",
    "        print(f\"Directory '{directory_name}' created successfully.\")\n",
    "    else:\n",
    "        print(f\"Directory '{directory_name}' already exists.\")\n",
    "\n",
    "# Call the function to create the directory\n",
    "create_directory(\"sec-10-k\")"
   ]
  },
  {
   "cell_type": "code",
   "execution_count": 52,
   "id": "2b5c6545",
   "metadata": {},
   "outputs": [],
   "source": [
    "    #   \"https://s2.q4cdn.com/299287126/files/doc_financials/annual/2016-Annual-Report.pdf\",\n",
    "    #     \"https://s2.q4cdn.com/299287126/files/doc_financials/annual/2015-Annual-Report.pdf\",\n",
    "    #     \"https://s2.q4cdn.com/299287126/files/doc_financials/annual/AMAZON-2014-Annual-Report.pdf\",\n",
    "    #     \"https://s2.q4cdn.com/299287126/files/doc_financials/annual/2013-Annual-Report.pdf\",]"
   ]
  },
  {
   "cell_type": "code",
   "execution_count": 53,
   "id": "a2bf67c7",
   "metadata": {},
   "outputs": [
    {
     "name": "stdout",
     "output_type": "stream",
     "text": [
      "File downloaded successfully: ./sec-10-k/Amazon-com-Inc-2023-Annual-Report.pdf\n",
      "File downloaded successfully: ./sec-10-k/Amazon-2022-Annual-Report.pdf\n",
      "File downloaded successfully: ./sec-10-k/Amazon-2021-Annual-Report.pdf\n",
      "File downloaded successfully: ./sec-10-k/Amazon-2020-Annual-Report.pdf\n",
      "File downloaded successfully: ./sec-10-k/2019-Annual-Report.pdf\n",
      "File downloaded successfully: ./sec-10-k/2018-Annual-Report.pdf\n"
     ]
    }
   ],
   "source": [
    "import requests\n",
    "\n",
    "def download_file(url, filename):\n",
    "    # Send a GET request to the URL\n",
    "    response = requests.get(url)\n",
    "    \n",
    "    # Check if the request was successful\n",
    "    if response.status_code == 200:\n",
    "        # Open the file in write-binary mode\n",
    "        with open(filename, 'wb') as file:\n",
    "            # Write the content of the response to the file\n",
    "            file.write(response.content)\n",
    "        print(f\"File downloaded successfully: {filename}\")\n",
    "    else:\n",
    "        print(f\"Failed to download file. Status code: {response.status_code}\")\n",
    "\n",
    "# URL of the files to download\n",
    "urls = [\"https://s2.q4cdn.com/299287126/files/doc_financials/2024/ar/Amazon-com-Inc-2023-Annual-Report.pdf\",\n",
    "        \"https://s2.q4cdn.com/299287126/files/doc_financials/2023/ar/Amazon-2022-Annual-Report.pdf\",\n",
    "        \"https://s2.q4cdn.com/299287126/files/doc_financials/2022/ar/Amazon-2021-Annual-Report.pdf\",\n",
    "        \"https://s2.q4cdn.com/299287126/files/doc_financials/2021/ar/Amazon-2020-Annual-Report.pdf\",\n",
    "        \"https://s2.q4cdn.com/299287126/files/doc_financials/2020/ar/2019-Annual-Report.pdf\",\n",
    "        \"https://s2.q4cdn.com/299287126/files/doc_financials/annual/2018-Annual-Report.pdf\",\n",
    "]\n",
    "\n",
    "\n",
    "for url in urls:\n",
    "    # Name for the downloaded file\n",
    "    filename = url.split('/')[-1]\n",
    "\n",
    "    # Path to save the downloaded file\n",
    "    filepath = f\"./sec-10-k/{filename}\"\n",
    "\n",
    "    # Call the function to download the file\n",
    "    download_file(url, filepath)"
   ]
  },
  {
   "cell_type": "markdown",
   "id": "70b83f68",
   "metadata": {},
   "source": [
    "Let's upload the annual reports data available in the `sec-10-k` folder to s3."
   ]
  },
  {
   "cell_type": "code",
   "execution_count": 54,
   "id": "40e12fc8",
   "metadata": {},
   "outputs": [
    {
     "name": "stdout",
     "output_type": "stream",
     "text": [
      "uploading file sec-10-k/Amazon-2022-Annual-Report.pdf to reranking-kb-3143059\n",
      "uploading file sec-10-k/2019-Annual-Report.pdf to reranking-kb-3143059\n",
      "uploading file sec-10-k/Amazon-2020-Annual-Report.pdf to reranking-kb-3143059\n",
      "uploading file sec-10-k/Amazon-com-Inc-2023-Annual-Report.pdf to reranking-kb-3143059\n",
      "uploading file sec-10-k/2018-Annual-Report.pdf to reranking-kb-3143059\n",
      "uploading file sec-10-k/Amazon-2021-Annual-Report.pdf to reranking-kb-3143059\n"
     ]
    }
   ],
   "source": [
    "def upload_directory(path, bucket_name):\n",
    "        for root,dirs,files in os.walk(path):\n",
    "            for file in files:\n",
    "                if not file.startswith('.DS_Store'):\n",
    "                    file_to_upload = os.path.join(root,file)\n",
    "                    print(f\"uploading file {file_to_upload} to {bucket_name}\")\n",
    "                    s3_client.upload_file(file_to_upload,bucket_name,file)\n",
    "\n",
    "# upload metadata file to S3\n",
    "upload_directory(\"sec-10-k\", bucket_name)"
   ]
  },
  {
   "cell_type": "markdown",
   "id": "b70a4b4b",
   "metadata": {},
   "source": [
    "Now start the ingestion job. Since, we are using the same documents as used for fixed chunking, we are skipping the step to upload documents to s3 bucket. "
   ]
  },
  {
   "cell_type": "code",
   "execution_count": 55,
   "id": "241a6ab9",
   "metadata": {},
   "outputs": [
    {
     "name": "stdout",
     "output_type": "stream",
     "text": [
      "{ 'dataSourceId': 'LUGVPGOVKQ',\n",
      "  'ingestionJobId': 'RXOEFLOJZQ',\n",
      "  'knowledgeBaseId': '3ZF1JI2PGV',\n",
      "  'startedAt': datetime.datetime(2024, 12, 13, 22, 34, 16, 711219, tzinfo=tzutc()),\n",
      "  'statistics': { 'numberOfDocumentsDeleted': 0,\n",
      "                  'numberOfDocumentsFailed': 0,\n",
      "                  'numberOfDocumentsScanned': 0,\n",
      "                  'numberOfMetadataDocumentsModified': 0,\n",
      "                  'numberOfMetadataDocumentsScanned': 0,\n",
      "                  'numberOfModifiedDocumentsIndexed': 0,\n",
      "                  'numberOfNewDocumentsIndexed': 0},\n",
      "  'status': 'STARTING',\n",
      "  'updatedAt': datetime.datetime(2024, 12, 13, 22, 34, 16, 711219, tzinfo=tzutc())}\n",
      "{ 'dataSourceId': 'LUGVPGOVKQ',\n",
      "  'ingestionJobId': 'RXOEFLOJZQ',\n",
      "  'knowledgeBaseId': '3ZF1JI2PGV',\n",
      "  'startedAt': datetime.datetime(2024, 12, 13, 22, 34, 16, 711219, tzinfo=tzutc()),\n",
      "  'statistics': { 'numberOfDocumentsDeleted': 0,\n",
      "                  'numberOfDocumentsFailed': 0,\n",
      "                  'numberOfDocumentsScanned': 6,\n",
      "                  'numberOfMetadataDocumentsModified': 0,\n",
      "                  'numberOfMetadataDocumentsScanned': 0,\n",
      "                  'numberOfModifiedDocumentsIndexed': 0,\n",
      "                  'numberOfNewDocumentsIndexed': 6},\n",
      "  'status': 'COMPLETE',\n",
      "  'updatedAt': datetime.datetime(2024, 12, 13, 22, 35, 12, 655524, tzinfo=tzutc())}\n",
      "........................................\r"
     ]
    }
   ],
   "source": [
    "# ensure that the kb is available\n",
    "time.sleep(30)\n",
    "# sync knowledge base\n",
    "knowledge_base_reranking.start_ingestion_job()"
   ]
  },
  {
   "cell_type": "markdown",
   "id": "bad55ab6",
   "metadata": {},
   "source": [
    "Finally we save the Knowledge Base Id to test the solution at a later stage. "
   ]
  },
  {
   "cell_type": "code",
   "execution_count": 56,
   "id": "677c97ce",
   "metadata": {},
   "outputs": [
    {
     "name": "stdout",
     "output_type": "stream",
     "text": [
      "'3ZF1JI2PGV'\n"
     ]
    }
   ],
   "source": [
    "kb_id = knowledge_base_reranking.get_knowledge_base_id()"
   ]
  },
  {
   "cell_type": "markdown",
   "id": "fcc80032",
   "metadata": {},
   "source": [
    "## 3. Evaluate the relevance of query responses with and without Re-ranking (using Ragas)"
   ]
  },
  {
   "cell_type": "markdown",
   "id": "1cea8edf",
   "metadata": {},
   "source": [
    "Define models for generation, evaluation and re-ranking"
   ]
  },
  {
   "cell_type": "code",
   "execution_count": 57,
   "id": "bfa5a6bb",
   "metadata": {},
   "outputs": [],
   "source": [
    "from langchain.llms.bedrock import Bedrock\n",
    "from langchain_aws import ChatBedrock\n",
    "from langchain_aws import BedrockEmbeddings\n",
    "\n",
    "bedrock_client = boto3.client('bedrock-runtime')\n",
    "\n",
    "TEXT_GENERATION_MODEL_ID = \"anthropic.claude-3-haiku-20240307-v1:0\"\n",
    "EVALUATION_MODEL_ID = \"anthropic.claude-3-sonnet-20240229-v1:0\"\n",
    "EMBEDDING_MODEL_ID = \"amazon.titan-embed-text-v2:0\"\n",
    "\n",
    "# Reranker model: there are two reranker models available at launch\n",
    "AMAZON_RERANKER_MODEL_ID = \"amazon.rerank-v1:0\"\n",
    "COHERE_RERANKER_MODEL_ID = \"cohere.rerank-v3-5:0\"\n",
    "\n",
    "\n",
    "llm_for_evaluation = ChatBedrock(model_id=EVALUATION_MODEL_ID, client=bedrock_client)\n",
    "bedrock_embeddings = BedrockEmbeddings(model_id=EMBEDDING_MODEL_ID, client=bedrock_client)\n"
   ]
  },
  {
   "cell_type": "markdown",
   "id": "1c336de9",
   "metadata": {},
   "source": [
    "#### 3.1 Update Knowledge Bases execution role"
   ]
  },
  {
   "cell_type": "code",
   "execution_count": 58,
   "id": "aeac148b",
   "metadata": {},
   "outputs": [],
   "source": [
    "# Before using autogenerated filters - update the knowledge base execution IAM role with right permissions\n",
    "\n",
    "iam = boto3.resource('iam')\n",
    "client = boto3.client('iam')\n",
    "\n",
    "def get_attached_policies(role_name):\n",
    "    response = client.list_attached_role_policies(RoleName=role_name)\n",
    "    attached_policies = response['AttachedPolicies']\n",
    "    return attached_policies\n",
    "\n",
    "# get the knowledge base IAM role name\n",
    "get_kb_response = bedrock_agent_client.get_knowledge_base(knowledgeBaseId = kb_id)\n",
    "role_arn = get_kb_response['knowledgeBase']['roleArn']\n",
    "role_name = role_arn.split('/')[-1]\n",
    "\n",
    "# get attached policies\n",
    "attached_policies = get_attached_policies(role_name)\n",
    "attached_policies\n",
    "\n",
    "def update_kb_execution_role(attached_policies, region_name):\n",
    "    \n",
    "    for policy in attached_policies:\n",
    "\n",
    "        print(policy['PolicyArn'])\n",
    "        policy_name = policy['PolicyName']\n",
    "        policy_arn = policy['PolicyArn']\n",
    "\n",
    "        if 'FoundationModel' in policy_arn:\n",
    "            print('Updating FoundationModel policy: ',policy_arn)\n",
    "            policy = iam.Policy(policy_arn)\n",
    "            version = policy.default_version\n",
    "            policyJson = version.document\n",
    "            policyJson['Statement'][0]['Resource'].append(f'arn:aws:bedrock:{region}::foundation-model/{TEXT_GENERATION_MODEL_ID}')\n",
    "            policyJson['Statement'][0]['Resource'].append(f'arn:aws:bedrock:{region}::foundation-model/{EVALUATION_MODEL_ID}')  \n",
    "            policyJson['Statement'][0]['Resource'].append(f'arn:aws:bedrock:{region}::foundation-model/{AMAZON_RERANKER_MODEL_ID}') \n",
    "            policyJson['Statement'][0]['Resource'].append(f'arn:aws:bedrock:{region}::foundation-model/{COHERE_RERANKER_MODEL_ID}') \n",
    "        \n",
    "            client.detach_role_policy(RoleName=role_name,\n",
    "                PolicyArn=policy_arn)\n",
    "            \n",
    "            response = client.delete_policy(\n",
    "                PolicyArn=policy_arn\n",
    "            )\n",
    "            print(response)\n",
    "           \n",
    "            response = client.create_policy(\n",
    "            PolicyName= policy_name,\n",
    "            PolicyDocument=json.dumps(policyJson)\n",
    "            )\n",
    "            print(response)\n",
    "        \n",
    "        client.attach_role_policy(\n",
    "            RoleName=role_name,\n",
    "            PolicyArn=policy_arn\n",
    "        )"
   ]
  },
  {
   "cell_type": "code",
   "execution_count": 59,
   "id": "b3521cb4",
   "metadata": {},
   "outputs": [
    {
     "name": "stdout",
     "output_type": "stream",
     "text": [
      "arn:aws:iam::533267284022:policy/AmazonBedrockFoundationModelPolicyForKnowledgeBase_3143059\n",
      "Updating FoundationModel policy:  arn:aws:iam::533267284022:policy/AmazonBedrockFoundationModelPolicyForKnowledgeBase_3143059\n",
      "{'ResponseMetadata': {'RequestId': '59c07a7e-872d-4238-8e0f-df03fa16baeb', 'HTTPStatusCode': 200, 'HTTPHeaders': {'date': 'Fri, 13 Dec 2024 22:35:53 GMT', 'x-amzn-requestid': '59c07a7e-872d-4238-8e0f-df03fa16baeb', 'content-type': 'text/xml', 'content-length': '204'}, 'RetryAttempts': 0}}\n",
      "{'Policy': {'PolicyName': 'AmazonBedrockFoundationModelPolicyForKnowledgeBase_3143059', 'PolicyId': 'ANPAXYKJVAA3NQS5NGW45', 'Arn': 'arn:aws:iam::533267284022:policy/AmazonBedrockFoundationModelPolicyForKnowledgeBase_3143059', 'Path': '/', 'DefaultVersionId': 'v1', 'AttachmentCount': 0, 'PermissionsBoundaryUsageCount': 0, 'IsAttachable': True, 'CreateDate': datetime.datetime(2024, 12, 13, 22, 35, 54, tzinfo=tzutc()), 'UpdateDate': datetime.datetime(2024, 12, 13, 22, 35, 54, tzinfo=tzutc())}, 'ResponseMetadata': {'RequestId': '362dfbd3-1bc2-4cb2-aec3-269e8242f246', 'HTTPStatusCode': 200, 'HTTPHeaders': {'date': 'Fri, 13 Dec 2024 22:35:53 GMT', 'x-amzn-requestid': '362dfbd3-1bc2-4cb2-aec3-269e8242f246', 'content-type': 'text/xml', 'content-length': '851'}, 'RetryAttempts': 0}}\n",
      "arn:aws:iam::533267284022:policy/AmazonBedrockOSSPolicyForKnowledgeBase_3143059\n",
      "arn:aws:iam::533267284022:policy/AmazonBedrockCloudWatchPolicyForKnowledgeBase_3143059\n",
      "arn:aws:iam::533267284022:policy/AmazonBedrockS3PolicyForKnowledgeBase_3143059\n"
     ]
    }
   ],
   "source": [
    "update_kb_execution_role(attached_policies, region)\n",
    "# time.sleep(30)"
   ]
  },
  {
   "cell_type": "markdown",
   "id": "529118c5",
   "metadata": {},
   "source": [
    "#### 3.2 Customize retrieve and generate configuraion"
   ]
  },
  {
   "cell_type": "code",
   "execution_count": 60,
   "id": "df68891d",
   "metadata": {},
   "outputs": [],
   "source": [
    "def retrieve_and_generate(query, reranker_model=None, kb_id=None, TEXT_GENERATION_MODEL_ID=None, metadata_filters=None):\n",
    "    \n",
    "    # Prepare retrieval configuration\n",
    "    retrieval_config = {\n",
    "        \"vectorSearchConfiguration\": {\n",
    "            \"numberOfResults\": 50 if reranker_model else 3\n",
    "        }\n",
    "    }\n",
    "\n",
    "    if reranker_model:\n",
    "        retrieval_config[\"vectorSearchConfiguration\"][\"rerankingConfiguration\"] = {\n",
    "            \"type\": \"BEDROCK_RERANKING_MODEL\",\n",
    "            \"bedrockRerankingConfiguration\": {\n",
    "                \"modelConfiguration\": {\n",
    "                    \"modelArn\": f'arn:aws:bedrock:{region}::foundation-model/{reranker_model}',\n",
    "                },\n",
    "                \"numberOfRerankedResults\": 3\n",
    "            }\n",
    "        }\n",
    "\n",
    "        if metadata_filters:\n",
    "            retrieval_config[\"vectorSearchConfiguration\"][\"rerankingConfiguration\"][\"bedrockRerankingConfiguration\"][\"metadataConfiguration\"] = {\n",
    "                                                                \"selectionMode\" : \"SELECTIVE\",\n",
    "                                                                \"selectiveModeConfiguration\" : {\n",
    "                                                                    \"fieldsToInclude\": [{\n",
    "                                                                        \"fieldName\": \"year\",\n",
    "                                                                    }]\n",
    "                                                                }\n",
    "                                                            }\n",
    "                    \n",
    "\n",
    "    # Call the retrieve and generate API\n",
    "    start = time.time()\n",
    "    response = bedrock_agent_runtime_client.retrieve_and_generate(\n",
    "        input={'text': query},\n",
    "        retrieveAndGenerateConfiguration={\n",
    "            'type': 'KNOWLEDGE_BASE',\n",
    "            'knowledgeBaseConfiguration': {\n",
    "                'knowledgeBaseId': kb_id,\n",
    "                'modelArn': f'arn:aws:bedrock:{region}::foundation-model/{TEXT_GENERATION_MODEL_ID}',\n",
    "                'retrievalConfiguration': retrieval_config,\n",
    "            },\n",
    "        }\n",
    "    )\n",
    "    time_spent = time.time() - start\n",
    "\n",
    "    print(f\"[Response] : {response['output']['text']}\\n\")\n",
    "    print(f\"[Invocation time] : {time_spent}\\n\")\n",
    "\n",
    "    return response\n"
   ]
  },
  {
   "cell_type": "markdown",
   "id": "fdc724b4",
   "metadata": {},
   "source": [
    "#### 3.3 Prepare dataset for evaluation"
   ]
  },
  {
   "cell_type": "code",
   "execution_count": 61,
   "id": "b086554a",
   "metadata": {},
   "outputs": [],
   "source": [
    "from datasets import Dataset\n",
    "from ragas import evaluate\n",
    "from ragas.metrics import (\n",
    "    context_relevancy,\n",
    "    context_recall,\n",
    "    context_precision,\n",
    "    context_entity_recall,\n",
    "    answer_correctness,\n",
    ")\n",
    "\n",
    "#specify the metrics here\n",
    "metrics = [\n",
    "    context_relevancy,\n",
    "    context_recall,\n",
    "    context_precision,\n",
    "    context_entity_recall,\n",
    "    answer_correctness,\n",
    "]\n",
    "\n",
    "\n",
    "questions = [\n",
    "    \"How many jobs did Amazon create in 2020, and what was its total global workforce after this expansion?\",\n",
    "    \"How does the 2023 net sales mix reflect Amazon's global priorities and strategic investments across segments?\",\n",
    "    \"How did foreign exchange rate fluctuations impact Amazon's net sales and the corresponding segment's performance in 2023?\",\n",
    "    \"What is the cumulative growth contribution of AWS and Advertising segments to Amazon's 2022 consolidated revenue?\",\n",
    "    \"How did Amazon's investments in technology infrastructure and fulfillment operations affect its cash flows and operating expenses in 2022?\",\n",
    "    \"What types of securities does Amazon invest its excess cash in 2019 and how are these investments classified in the balance sheet?\",\n",
    "]\n",
    "\n",
    "ground_truths = [\n",
    "    \"Amazon added 500,000 jobs in 2020, bringing its total workforce to approximately 1.3 million employees worldwide.\",\n",
    "    \"Amazon's 2023 net sales mix highlights its global priorities, with North America contributing 61%, International 23%, and AWS 16% of total sales. Year-over-year growth in each segment—12% for North America, 11% for International, and 13% for AWS—was driven by increased unit sales, advertising services, and subscription offerings. These trends reflect Amazon's balanced approach to expanding its core markets, strengthening its international presence, and investing in AWS's innovative cloud services to sustain long-term growth.\",\n",
    "    \"In 2023, foreign exchange rate fluctuations had a mixed impact on Amazon's financial performance. While these changes reduced consolidated net sales by $71 million, they positively influenced the International segment, increasing its net sales by $88 million. This highlights the nuanced effects of currency fluctuations, where gains in specific regions, such as the International segment, helped offset broader challenges at the consolidated level.\",\n",
    "    \"In 2022, AWS achieved a 29% year-over-year revenue growth, increasing from $62.2 billion in 2021 to $80.1 billion. Similarly, the Advertising segment experienced a 25% year-over-year growth, reaching $31 billion in revenue for the year. Together, these segments contributed significantly to Amazon's total consolidated revenue of $434 billion. AWS accounted for 19.59%, while Advertising contributed 7.14%, resulting in a cumulative contribution of approximately 26.73%.\",\n",
    "    \"In 2022, Amazon's substantial investments in technology infrastructure and fulfillment operations significantly impacted its cash flows and operating expenses. The company allocated $58.3 billion in cash capital expenditures to support AWS growth and expand its fulfillment network, resulting in a 31% increase in technology and content expenses due to higher payroll costs for technical teams and infrastructure spending on servers, networking equipment, and data centers. Fulfillment costs rose by 12%, driven by increased product sales volume, inventory levels, and wage rate incentives. These investments led to a decline in free cash flow to $(11,569) million, compared to $(9,069) million in 2021. Despite the higher costs, these expenditures were crucial for scaling operations, enhancing the customer experience, and sustaining long-term growth, particularly in AWS and global fulfillment capacity, highlighting Amazon’s commitment to maintaining its competitive edge in a rapidly evolving market.\",\n",
    "    \"Amazon typically invests its excess cash in AAA-rated money market funds and investment-grade short- to intermediate-term fixed income securities, which are classified as either Cash and cash equivalents or Marketable securities on its consolidated balance sheets. In 2019, Amazon's marketable securities portfolio included a variety of assets such as money market funds, equity securities, foreign government and agency securities, U.S. government and agency securities, corporate debt securities, asset-backed securities, and other fixed income securities. These marketable securities were categorized as either Level 1 or Level 2 securities on the balance sheet.\",\n",
    "]\n",
    "\n",
    "\n",
    "\n",
    "# questions = [\n",
    "#     \"How has Amazon's approach to product delivery speed evolved from 2019 to 2023?\",\n",
    "#     \"How has Amazon’s investment in green energy influenced its overall operational efficiency?\"\n",
    "# ]\n",
    "\n",
    "# ground_truths = [\n",
    "#     \"From 2019 to 2023, Amazon significantly enhanced delivery speeds by adopting a regionalized fulfillment network, reducing transportation distances and improving inventory placement accuracy. The company expanded its same-day and next-day delivery infrastructure, achieving record speeds with over 7 billion items delivered in 2023, supported by advanced machine learning for demand forecasting and inventory optimization. Investments in fulfillment centers, delivery stations, and Amazon Air further streamlined operations, while a customer-centric approach solidified fast delivery as a key feature of Amazon Prime, driving customer satisfaction and loyalty.\",\n",
    "#     \"Amazon's investment in green energy, including large-scale wind and solar projects, has significantly enhanced operational efficiency by reducing energy costs and supporting its commitment to sustainability. By achieving 100% renewable energy usage five years ahead of its original 2030 target, Amazon has lowered its carbon footprint and energy expenses across its operations, particularly in energy-intensive areas like AWS data centers. These efforts align with The Climate Pledge and demonstrate how sustainability initiatives can simultaneously drive cost savings and long-term resilience. \"\n",
    "# ]\n",
    "\n"
   ]
  },
  {
   "cell_type": "code",
   "execution_count": 62,
   "id": "4ff26dda",
   "metadata": {},
   "outputs": [],
   "source": [
    "def prepare_eval_dataset(questions, ground_truths, kb_id=None, TEXT_GENERATION_MODEL_ID=None, reranker_model=None, metadata_filters = None):\n",
    "    answers = []\n",
    "    contexts = []\n",
    "    \n",
    "    for query in questions:\n",
    "        response = retrieve_and_generate(\n",
    "            query,\n",
    "            reranker_model=reranker_model,\n",
    "            kb_id=kb_id,\n",
    "            TEXT_GENERATION_MODEL_ID=TEXT_GENERATION_MODEL_ID,\n",
    "            metadata_filters=metadata_filters\n",
    "        )\n",
    "        \n",
    "        answers.append(response[\"output\"][\"text\"])\n",
    "        \n",
    "        context_group = []\n",
    "        for citation in response[\"citations\"]:\n",
    "            context_group.extend([\n",
    "                ref[\"content\"][\"text\"]\n",
    "                for ref in citation[\"retrievedReferences\"]\n",
    "                if \"content\" in ref and \"text\" in ref[\"content\"]\n",
    "            ])\n",
    "        contexts.append(context_group)\n",
    "        time.sleep(15)\n",
    "\n",
    "    # Create dictionary\n",
    "    data = {\n",
    "        \"question\": questions,\n",
    "        \"answer\": answers,\n",
    "        \"contexts\": contexts,\n",
    "        \"ground_truth\": ground_truths\n",
    "    }\n",
    "\n",
    "    # Convert dict to dataset\n",
    "    dataset = Dataset.from_dict(data)\n",
    "    return dataset\n"
   ]
  },
  {
   "cell_type": "markdown",
   "id": "9c51b09a",
   "metadata": {},
   "source": [
    "#### 3.4 Evaluate dataset - without re-ranker"
   ]
  },
  {
   "cell_type": "code",
   "execution_count": 63,
   "id": "84dc3d78",
   "metadata": {},
   "outputs": [
    {
     "name": "stdout",
     "output_type": "stream",
     "text": [
      "[Response] : According to the search results, Amazon directly and indirectly supports nearly 4 million jobs globally. This includes over 680,000 jobs created by Amazon's investments in areas like construction, logistics, and professional services, as well as another 830,000 jobs created by small and medium-sized businesses selling on Amazon.\n",
      "\n",
      "[Invocation time] : 1.651289939880371\n",
      "\n",
      "[Response] : According to the search results, Amazon's 2023 net sales guidance reflects the following about its global priorities and strategic investments:\n",
      "\n",
      "- Amazon expects net sales to grow between 4-8% in Q1 2023 compared to Q1 2022, with an unfavorable impact of approximately 210 basis points from foreign exchange rates. This suggests Amazon is continuing to prioritize international expansion, particularly in emerging geographies like India, Brazil, Australia, Mexico, the Middle East, and Africa, which are expected to continue growing and becoming profitable in the long run. - Alongside its Stores business, Amazon's Advertising segment is also a priority, with 24% year-over-year growth expected from $38 billion in 2022 to $47 billion in 2023, primarily driven by sponsored ads. This indicates Amazon is continuing to invest in and grow its advertising business as a strategic revenue stream.\n",
      "\n",
      "[Invocation time] : 3.5632686614990234\n",
      "\n",
      "[Response] : According to the search results, foreign exchange rate fluctuations had the following impact on Amazon's net sales and operating income in 2023:\n",
      "\n",
      "- Net sales in 2023 were expected to be between $121.0 billion and $126.0 billion, with an unfavorable impact of approximately 210 basis points from foreign exchange rates.\n",
      "- Operating income in 2023 was expected to be between $0 and $4.0 billion, compared to $3.7 billion in the first quarter of 2022.\n",
      "\n",
      "[Invocation time] : 1.8376939296722412\n",
      "\n",
      "[Response] : According to the search results, Amazon's AWS revenue grew 13% year-over-year from $80 billion in 2022 to $91 billion in 2023. Additionally, Amazon's Advertising revenue grew 24% year-over-year from $38 billion in 2022 to $47 billion in 2023.\n",
      "\n",
      "[Invocation time] : 1.3439610004425049\n",
      "\n",
      "[Response] : According to the search results, Amazon's investments in technology infrastructure and fulfillment operations led to increased operating expenses in 2022. Specifically:\n",
      "\n",
      "- Technology and content costs increased due to investments in research and development, product and service development, and infrastructure costs to support AWS and other Amazon businesses. (Source 1, Source 3)\n",
      "\n",
      "- Fulfillment costs increased in 2022 compared to the prior year, primarily due to increased investments in the fulfillment network, variable costs from higher sales volume and inventory levels, and higher wage rates and incentives. (Source 1, Source 3)\n",
      "\n",
      "[Invocation time] : 2.1219160556793213\n",
      "\n",
      "[Response] : According to the search results, Amazon generally invests its excess cash in AAA-rated money market funds and investment grade short- to intermediate-term marketable debt securities. These investments are included in \"Cash and cash equivalents\" or \"Marketable securities\" on Amazon's consolidated balance sheets.\n",
      "\n",
      "[Invocation time] : 1.5638163089752197\n",
      "\n"
     ]
    }
   ],
   "source": [
    "without_reranker_dataset = prepare_eval_dataset(questions, ground_truths, kb_id, TEXT_GENERATION_MODEL_ID, reranker_model=None)"
   ]
  },
  {
   "cell_type": "code",
   "execution_count": 64,
   "id": "f9250cce",
   "metadata": {},
   "outputs": [
    {
     "data": {
      "application/vnd.jupyter.widget-view+json": {
       "model_id": "043c2f34bb87497089e76ab122ac264e",
       "version_major": 2,
       "version_minor": 0
      },
      "text/plain": [
       "Evaluating:   0%|          | 0/30 [00:00<?, ?it/s]"
      ]
     },
     "metadata": {},
     "output_type": "display_data"
    },
    {
     "name": "stderr",
     "output_type": "stream",
     "text": [
      "[2024-12-13 14:37:57,478] p15054 {connectionpool.py:329} WARNING - Connection pool is full, discarding connection: bedrock-runtime.us-west-2.amazonaws.com. Connection pool size: 10\n",
      "[2024-12-13 14:38:00,091] p15054 {connectionpool.py:329} WARNING - Connection pool is full, discarding connection: bedrock-runtime.us-west-2.amazonaws.com. Connection pool size: 10\n"
     ]
    }
   ],
   "source": [
    "without_reranker_result = evaluate(\n",
    "    dataset=without_reranker_dataset,\n",
    "    metrics=metrics,\n",
    "    llm=llm_for_evaluation,\n",
    "    embeddings=bedrock_embeddings,\n",
    ")\n",
    "\n",
    "without_reranker_result_df = without_reranker_result.to_pandas()"
   ]
  },
  {
   "cell_type": "markdown",
   "id": "61243e2d",
   "metadata": {},
   "source": [
    "#### 3.5 Evaluate dataset - with re-ranker"
   ]
  },
  {
   "cell_type": "code",
   "execution_count": 65,
   "id": "92591600",
   "metadata": {},
   "outputs": [
    {
     "name": "stdout",
     "output_type": "stream",
     "text": [
      "[Response] : According to the search results, in 2020 Amazon hired 500,000 new employees, bringing its total global workforce to 1.3 million people around the world.\n",
      "\n",
      "[Invocation time] : 2.1902129650115967\n",
      "\n",
      "[Response] : According to the search results, Amazon's 2023 net sales were distributed across its three main segments: North America (61%), International (23%), and Amazon Web Services (AWS) (16%). This sales mix reflects Amazon's global priorities and strategic investments: - The North America segment, which includes the company's online and physical stores in the US and Canada, accounted for the largest portion of net sales, indicating Amazon's focus on its core e-commerce business in its home market. - The International segment, which covers Amazon's online and physical stores outside of North America, saw 11% year-over-year growth, suggesting the company's strategic investments in expanding its global footprint. - AWS, Amazon's cloud computing division, accounted for 16% of net sales and grew 13% year-over-year, demonstrating the company's focus on its high-margin cloud services business and its strategic investments in this area.\n",
      "\n",
      "[Invocation time] : 4.215315103530884\n",
      "\n",
      "[Response] : According to the search results, changes in foreign exchange rates reduced Amazon's net sales by $71 million in 2023. The International segment, which accounted for 23% of Amazon's consolidated revenues in 2023, was impacted by foreign exchange rate fluctuations. Specifically, the search results state that \"as a result of fluctuations in foreign exchange rates throughout the year compared to rates in effect the prior year, International segment net sales increased by $88 million in comparison with the prior year.\"\n",
      "\n",
      "[Invocation time] : 2.6005289554595947\n",
      "\n",
      "[Response] : According to the search results, Amazon's AWS segment grew 29% year-over-year in 2022, contributing to the 13% growth in consolidated revenue excluding the effect of foreign exchange rates. Additionally, Amazon's Advertising business grew 24% year-over-year in 2022, from $38 billion to $47 billion.\n",
      "\n",
      "[Invocation time] : 9.56752896308899\n",
      "\n",
      "[Response] : According to the search results, Amazon's investments in technology infrastructure and fulfillment operations had the following effects on its cash flows and operating expenses in 2022:\n",
      "\n",
      "- The increase in AWS operating income in 2022 was primarily due to increased sales, partially offset by increased payroll and related expenses and spending on technology infrastructure, both of which were driven by additional investments to support AWS business growth. Changes in foreign exchange rates positively impacted AWS operating income by $1.4 billion in 2022. - The increase in fulfillment costs in 2022 was primarily due to increased investments in the fulfillment network, increased variable costs corresponding with higher product and service sales volume and inventory levels, and increased wage rates and incentives. Changes in foreign exchange rates reduced fulfillment costs by $2.5 billion in 2022.\n",
      "\n",
      "[Invocation time] : 3.331530809402466\n",
      "\n",
      "[Response] : According to the search results, Amazon generally invests its excess cash in AAA-rated money market funds and investment grade short- to intermediate-term fixed income securities. These investments are included in \"Cash and cash equivalents\" or \"Marketable securities\" on Amazon's consolidated balance sheets.\n",
      "\n",
      "[Invocation time] : 7.222134113311768\n",
      "\n"
     ]
    }
   ],
   "source": [
    "with_reranker_dataset = prepare_eval_dataset(questions, ground_truths, kb_id, TEXT_GENERATION_MODEL_ID, reranker_model=AMAZON_RERANKER_MODEL_ID)"
   ]
  },
  {
   "cell_type": "code",
   "execution_count": 66,
   "id": "d9e78450",
   "metadata": {},
   "outputs": [
    {
     "data": {
      "application/vnd.jupyter.widget-view+json": {
       "model_id": "059490f785934b90b1effcaf1aa070a0",
       "version_major": 2,
       "version_minor": 0
      },
      "text/plain": [
       "Evaluating:   0%|          | 0/30 [00:00<?, ?it/s]"
      ]
     },
     "metadata": {},
     "output_type": "display_data"
    },
    {
     "name": "stderr",
     "output_type": "stream",
     "text": [
      "[2024-12-13 14:40:20,540] p15054 {connectionpool.py:329} WARNING - Connection pool is full, discarding connection: bedrock-runtime.us-west-2.amazonaws.com. Connection pool size: 10\n",
      "[2024-12-13 14:40:21,880] p15054 {connectionpool.py:329} WARNING - Connection pool is full, discarding connection: bedrock-runtime.us-west-2.amazonaws.com. Connection pool size: 10\n"
     ]
    }
   ],
   "source": [
    "with_reranker_result = evaluate(\n",
    "dataset=with_reranker_dataset,\n",
    "metrics=metrics,\n",
    "llm=llm_for_evaluation,\n",
    "embeddings=bedrock_embeddings,\n",
    ")\n",
    "\n",
    "with_reranker_result_df = with_reranker_result.to_pandas()"
   ]
  },
  {
   "cell_type": "markdown",
   "id": "a2f2f965",
   "metadata": {},
   "source": [
    "#### 3.4 Evaluate dataset - with re-ranker + metadata configuration"
   ]
  },
  {
   "cell_type": "markdown",
   "id": "29c85464",
   "metadata": {},
   "source": [
    "##### 3.4.1 Prepare metadata for ingestion\n"
   ]
  },
  {
   "cell_type": "code",
   "execution_count": 67,
   "id": "17fe7e6c",
   "metadata": {},
   "outputs": [],
   "source": [
    "import json\n",
    "import re\n",
    "\n",
    "def generate_matadata(data_dir):\n",
    "    \n",
    "    # Loop through all PDF files in the directory\n",
    "    for filename in os.listdir(data_dir):\n",
    "        if not filename.startswith('.DS_Store'):\n",
    "            # Define the metadata dictionary\n",
    "            metadata ={}\n",
    "            \n",
    "            filename= f'{data_dir}/{filename}'\n",
    "            print(filename)\n",
    "            \n",
    "            # Create metadata\n",
    "            metadata[\"company\"] = \"Amazon\"\n",
    "            metadata[\"ticker\"] = \"AMZN\"\n",
    "            # metadata[\"year\"] = re.search(r'\\d+', filename.split('/')[-1]).group(0)\n",
    "            metadata[\"year\"] = re.search(r'(?:1[0-9]{3}|2[0-9]{3})', filename.split('/')[-1]).group(0)\n",
    "            \n",
    "\n",
    "            # Create a JSON object\n",
    "            json_data = {\"metadataAttributes\": metadata}\n",
    "\n",
    "            # print(json_data)\n",
    "\n",
    "            # Write the JSON object to a file\n",
    "            with open(f\"{filename.replace('.pdf', '.pdf.metadata.json')}\", \"w\") as f:\n",
    "                json.dump(json_data, f)\n"
   ]
  },
  {
   "cell_type": "code",
   "execution_count": 68,
   "id": "69a16a17",
   "metadata": {},
   "outputs": [
    {
     "name": "stdout",
     "output_type": "stream",
     "text": [
      "./sec-10-k/Amazon-2022-Annual-Report.pdf\n",
      "./sec-10-k/2019-Annual-Report.pdf\n",
      "./sec-10-k/Amazon-2020-Annual-Report.pdf\n",
      "./sec-10-k/Amazon-com-Inc-2023-Annual-Report.pdf\n",
      "./sec-10-k/2018-Annual-Report.pdf\n",
      "./sec-10-k/Amazon-2021-Annual-Report.pdf\n"
     ]
    }
   ],
   "source": [
    "data_dir = './sec-10-k'\n",
    "generate_matadata(data_dir)"
   ]
  },
  {
   "cell_type": "code",
   "execution_count": 69,
   "id": "4ca6d8c0",
   "metadata": {},
   "outputs": [
    {
     "name": "stdout",
     "output_type": "stream",
     "text": [
      "uploading file sec-10-k/2019-Annual-Report.pdf.metadata.json to reranking-kb-3143059\n",
      "uploading file sec-10-k/Amazon-com-Inc-2023-Annual-Report.pdf.metadata.json to reranking-kb-3143059\n",
      "uploading file sec-10-k/Amazon-2020-Annual-Report.pdf.metadata.json to reranking-kb-3143059\n",
      "uploading file sec-10-k/Amazon-2022-Annual-Report.pdf to reranking-kb-3143059\n",
      "uploading file sec-10-k/Amazon-2021-Annual-Report.pdf.metadata.json to reranking-kb-3143059\n",
      "uploading file sec-10-k/2019-Annual-Report.pdf to reranking-kb-3143059\n",
      "uploading file sec-10-k/Amazon-2020-Annual-Report.pdf to reranking-kb-3143059\n",
      "uploading file sec-10-k/Amazon-2022-Annual-Report.pdf.metadata.json to reranking-kb-3143059\n",
      "uploading file sec-10-k/Amazon-com-Inc-2023-Annual-Report.pdf to reranking-kb-3143059\n",
      "uploading file sec-10-k/2018-Annual-Report.pdf.metadata.json to reranking-kb-3143059\n",
      "uploading file sec-10-k/2018-Annual-Report.pdf to reranking-kb-3143059\n",
      "uploading file sec-10-k/Amazon-2021-Annual-Report.pdf to reranking-kb-3143059\n"
     ]
    }
   ],
   "source": [
    "# upload metadata file to S3\n",
    "upload_directory(\"sec-10-k\", bucket_name)"
   ]
  },
  {
   "cell_type": "markdown",
   "id": "c503656e",
   "metadata": {},
   "source": [
    "##### 3.4.2 Ingest metadata into Knowledge Bases\n"
   ]
  },
  {
   "cell_type": "markdown",
   "id": "576f6fe6",
   "metadata": {},
   "source": [
    "Now start the ingestion job. Since, we are using the same documents as used for fixed chunking, we are skipping the step to upload documents to s3 bucket. "
   ]
  },
  {
   "cell_type": "code",
   "execution_count": 70,
   "id": "bdfb5938",
   "metadata": {},
   "outputs": [
    {
     "name": "stdout",
     "output_type": "stream",
     "text": [
      "{ 'dataSourceId': 'LUGVPGOVKQ',\n",
      "  'ingestionJobId': '4YQN2M4Y4C',\n",
      "  'knowledgeBaseId': '3ZF1JI2PGV',\n",
      "  'startedAt': datetime.datetime(2024, 12, 13, 22, 40, 58, 965931, tzinfo=tzutc()),\n",
      "  'statistics': { 'numberOfDocumentsDeleted': 0,\n",
      "                  'numberOfDocumentsFailed': 0,\n",
      "                  'numberOfDocumentsScanned': 0,\n",
      "                  'numberOfMetadataDocumentsModified': 0,\n",
      "                  'numberOfMetadataDocumentsScanned': 0,\n",
      "                  'numberOfModifiedDocumentsIndexed': 0,\n",
      "                  'numberOfNewDocumentsIndexed': 0},\n",
      "  'status': 'STARTING',\n",
      "  'updatedAt': datetime.datetime(2024, 12, 13, 22, 40, 58, 965931, tzinfo=tzutc())}\n",
      "{ 'dataSourceId': 'LUGVPGOVKQ',\n",
      "  'ingestionJobId': '4YQN2M4Y4C',\n",
      "  'knowledgeBaseId': '3ZF1JI2PGV',\n",
      "  'startedAt': datetime.datetime(2024, 12, 13, 22, 40, 58, 965931, tzinfo=tzutc()),\n",
      "  'statistics': { 'numberOfDocumentsDeleted': 0,\n",
      "                  'numberOfDocumentsFailed': 0,\n",
      "                  'numberOfDocumentsScanned': 6,\n",
      "                  'numberOfMetadataDocumentsModified': 6,\n",
      "                  'numberOfMetadataDocumentsScanned': 6,\n",
      "                  'numberOfModifiedDocumentsIndexed': 0,\n",
      "                  'numberOfNewDocumentsIndexed': 0},\n",
      "  'status': 'COMPLETE',\n",
      "  'updatedAt': datetime.datetime(2024, 12, 13, 22, 41, 34, 163470, tzinfo=tzutc())}\n",
      "........................................\r"
     ]
    }
   ],
   "source": [
    "# ensure that the kb is available\n",
    "time.sleep(30)\n",
    "# sync knowledge base\n",
    "knowledge_base_reranking.start_ingestion_job()"
   ]
  },
  {
   "cell_type": "code",
   "execution_count": 71,
   "id": "12589fe6",
   "metadata": {},
   "outputs": [
    {
     "name": "stdout",
     "output_type": "stream",
     "text": [
      "[Response] : According to the search results, in 2020 Amazon hired 500,000 new employees, bringing its total global workforce to 1.3 million people around the world.\n",
      "\n",
      "[Invocation time] : 1.999211072921753\n",
      "\n",
      "[Response] : According to the search results, Amazon's 2023 net sales mix reflects the following global priorities and strategic investments:\n",
      "- The United States accounted for the largest portion of net sales at $395,637 million, indicating a continued focus on the North American market.\n",
      "- Germany, the United Kingdom, and Japan also represented significant portions of net sales at $37,588 million, $33,591 million, and $26,002 million respectively, suggesting strategic investments in key international markets.\n",
      "- The \"Rest of world\" category accounted for $81,967 million in net sales, indicating Amazon's efforts to expand its global footprint beyond its core markets. The search results also show that Amazon's North America segment revenue grew 12% year-over-year, the International segment grew 11%, and the AWS segment grew 13%. This suggests that Amazon is strategically investing across its major business segments to drive growth both domestically and internationally.\n",
      "\n",
      "[Invocation time] : 3.5527822971343994\n",
      "\n",
      "[Response] : According to the search results, changes in foreign exchange rates reduced Amazon's net sales by $71 million in 2023. The search results also state that for the International segment, net sales increased by $88 million in comparison with the prior year due to fluctuations in foreign exchange rates throughout the year.\n",
      "\n",
      "[Invocation time] : 2.0231029987335205\n",
      "\n",
      "[Response] : According to the search results, Amazon's Advertising revenue grew 25% year-over-year in 2022 on a $31 billion revenue base. Additionally, AWS revenue grew 29% year-over-year in 2022. Together, the Advertising and AWS segments contributed significantly to Amazon's consolidated revenue growth of 9% in 2022.\n",
      "\n",
      "[Invocation time] : 2.6969070434570312\n",
      "\n",
      "[Response] : According to the search results, Amazon's investments in technology infrastructure and fulfillment operations led to increased operating expenses in 2022:\n",
      "\n",
      "- Technology and content costs increased due to increased payroll and related costs for technical teams expanding existing products and services, as well as spending on technology infrastructure. (Source 1)\n",
      "- Fulfillment costs increased due to investments in the fulfillment network, increased variable costs from higher sales volume and inventory levels, and higher wage rates and incentives. (Source 2) The search results do not provide specific information on how these increased operating expenses affected Amazon's cash flows in 2022. The results focus on the factors driving the increases in technology and fulfillment costs, but do not discuss the overall impact on cash flows.\n",
      "\n",
      "[Invocation time] : 3.2214441299438477\n",
      "\n",
      "[Response] : According to the search results, Amazon generally invests its excess cash in AAA-rated money market funds and investment grade short- to intermediate-term fixed income securities. These investments are included in \"Cash and cash equivalents\" or \"Marketable securities\" on Amazon's consolidated balance sheets.\n",
      "\n",
      "[Invocation time] : 2.204594850540161\n",
      "\n"
     ]
    }
   ],
   "source": [
    "with_reranker_metadata_filters_dataset = prepare_eval_dataset(questions, ground_truths, kb_id, TEXT_GENERATION_MODEL_ID, reranker_model=AMAZON_RERANKER_MODEL_ID, metadata_filters=True)\n"
   ]
  },
  {
   "cell_type": "code",
   "execution_count": 72,
   "id": "21463f6f",
   "metadata": {},
   "outputs": [
    {
     "data": {
      "application/vnd.jupyter.widget-view+json": {
       "model_id": "732891efd3df4cf8bebe0d44067b6118",
       "version_major": 2,
       "version_minor": 0
      },
      "text/plain": [
       "Evaluating:   0%|          | 0/30 [00:00<?, ?it/s]"
      ]
     },
     "metadata": {},
     "output_type": "display_data"
    },
    {
     "name": "stderr",
     "output_type": "stream",
     "text": [
      "[2024-12-13 14:44:23,528] p15054 {connectionpool.py:329} WARNING - Connection pool is full, discarding connection: bedrock-runtime.us-west-2.amazonaws.com. Connection pool size: 10\n",
      "[2024-12-13 14:44:24,004] p15054 {connectionpool.py:329} WARNING - Connection pool is full, discarding connection: bedrock-runtime.us-west-2.amazonaws.com. Connection pool size: 10\n"
     ]
    }
   ],
   "source": [
    "with_reranker_metadata_filters_result = evaluate(\n",
    "dataset=with_reranker_metadata_filters_dataset,\n",
    "metrics=metrics,\n",
    "llm=llm_for_evaluation,\n",
    "embeddings=bedrock_embeddings,\n",
    ")\n",
    "\n",
    "with_reranker_metadata_filters_result_df = with_reranker_metadata_filters_result.to_pandas()"
   ]
  },
  {
   "cell_type": "markdown",
   "id": "c44ec665",
   "metadata": {},
   "source": [
    "#### 3.5 Prepare Comparison data frame"
   ]
  },
  {
   "cell_type": "code",
   "execution_count": 73,
   "id": "f5ca9fc4",
   "metadata": {},
   "outputs": [],
   "source": [
    "import pandas as pd\n",
    "\n",
    "# Create the side-by-side DataFrame\n",
    "comparison_df = pd.DataFrame({\n",
    "    'question': without_reranker_result_df['question'],\n",
    "    'ground_truth': without_reranker_result_df['ground_truth'],\n",
    "    'without_reranker_answer': without_reranker_result_df['answer'],\n",
    "    'with_reranker_answer': with_reranker_result_df['answer'],\n",
    "    'with_reranker_metadata_answer': with_reranker_metadata_filters_result_df['answer'],\n",
    "    \n",
    "    'without_reranker_answer_correctness': without_reranker_result_df['answer_correctness'],\n",
    "    'with_reranker_answer_correctness': with_reranker_result_df['answer_correctness'],\n",
    "    'with_reranker_metadata_correctness': with_reranker_metadata_filters_result_df['answer_correctness'],\n",
    "    })"
   ]
  },
  {
   "cell_type": "code",
   "execution_count": 74,
   "id": "30363097",
   "metadata": {},
   "outputs": [
    {
     "data": {
      "text/html": [
       "<div>\n",
       "<style scoped>\n",
       "    .dataframe tbody tr th:only-of-type {\n",
       "        vertical-align: middle;\n",
       "    }\n",
       "\n",
       "    .dataframe tbody tr th {\n",
       "        vertical-align: top;\n",
       "    }\n",
       "\n",
       "    .dataframe thead th {\n",
       "        text-align: right;\n",
       "    }\n",
       "</style>\n",
       "<table border=\"1\" class=\"dataframe\">\n",
       "  <thead>\n",
       "    <tr style=\"text-align: right;\">\n",
       "      <th></th>\n",
       "      <th>question</th>\n",
       "      <th>ground_truth</th>\n",
       "      <th>without_reranker_answer</th>\n",
       "      <th>with_reranker_answer</th>\n",
       "      <th>with_reranker_metadata_answer</th>\n",
       "      <th>without_reranker_answer_correctness</th>\n",
       "      <th>with_reranker_answer_correctness</th>\n",
       "      <th>with_reranker_metadata_correctness</th>\n",
       "    </tr>\n",
       "  </thead>\n",
       "  <tbody>\n",
       "    <tr>\n",
       "      <th>0</th>\n",
       "      <td>How many jobs did Amazon create in 2020, and what was its total global workforce after this expansion?</td>\n",
       "      <td>Amazon added 500,000 jobs in 2020, bringing its total workforce to approximately 1.3 million employees worldwide.</td>\n",
       "      <td>According to the search results, Amazon directly and indirectly supports nearly 4 million jobs globally. This includes over 680,000 jobs created by Amazon's investments in areas like construction, logistics, and professional services, as well as another 830,000 jobs created by small and medium-sized businesses selling on Amazon.</td>\n",
       "      <td>According to the search results, in 2020 Amazon hired 500,000 new employees, bringing its total global workforce to 1.3 million people around the world.</td>\n",
       "      <td>According to the search results, in 2020 Amazon hired 500,000 new employees, bringing its total global workforce to 1.3 million people around the world.</td>\n",
       "      <td>0.180119</td>\n",
       "      <td>0.988601</td>\n",
       "      <td>0.988601</td>\n",
       "    </tr>\n",
       "    <tr>\n",
       "      <th>1</th>\n",
       "      <td>How does the 2023 net sales mix reflect Amazon's global priorities and strategic investments across segments?</td>\n",
       "      <td>Amazon's 2023 net sales mix highlights its global priorities, with North America contributing 61%, International 23%, and AWS 16% of total sales. Year-over-year growth in each segment—12% for North America, 11% for International, and 13% for AWS—was driven by increased unit sales, advertising services, and subscription offerings. These trends reflect Amazon's balanced approach to expanding its core markets, strengthening its international presence, and investing in AWS's innovative cloud services to sustain long-term growth.</td>\n",
       "      <td>According to the search results, Amazon's 2023 net sales guidance reflects the following about its global priorities and strategic investments:\\n\\n- Amazon expects net sales to grow between 4-8% in Q1 2023 compared to Q1 2022, with an unfavorable impact of approximately 210 basis points from foreign exchange rates. This suggests Amazon is continuing to prioritize international expansion, particularly in emerging geographies like India, Brazil, Australia, Mexico, the Middle East, and Africa, which are expected to continue growing and becoming profitable in the long run. - Alongside its Stores business, Amazon's Advertising segment is also a priority, with 24% year-over-year growth expected from $38 billion in 2022 to $47 billion in 2023, primarily driven by sponsored ads. This indicates Amazon is continuing to invest in and grow its advertising business as a strategic revenue stream.</td>\n",
       "      <td>According to the search results, Amazon's 2023 net sales were distributed across its three main segments: North America (61%), International (23%), and Amazon Web Services (AWS) (16%). This sales mix reflects Amazon's global priorities and strategic investments: - The North America segment, which includes the company's online and physical stores in the US and Canada, accounted for the largest portion of net sales, indicating Amazon's focus on its core e-commerce business in its home market. - The International segment, which covers Amazon's online and physical stores outside of North America, saw 11% year-over-year growth, suggesting the company's strategic investments in expanding its global footprint. - AWS, Amazon's cloud computing division, accounted for 16% of net sales and grew 13% year-over-year, demonstrating the company's focus on its high-margin cloud services business and its strategic investments in this area.</td>\n",
       "      <td>According to the search results, Amazon's 2023 net sales mix reflects the following global priorities and strategic investments:\\n- The United States accounted for the largest portion of net sales at $395,637 million, indicating a continued focus on the North American market.\\n- Germany, the United Kingdom, and Japan also represented significant portions of net sales at $37,588 million, $33,591 million, and $26,002 million respectively, suggesting strategic investments in key international markets.\\n- The \"Rest of world\" category accounted for $81,967 million in net sales, indicating Amazon's efforts to expand its global footprint beyond its core markets. The search results also show that Amazon's North America segment revenue grew 12% year-over-year, the International segment grew 11%, and the AWS segment grew 13%. This suggests that Amazon is strategically investing across its major business segments to drive growth both domestically and internationally.</td>\n",
       "      <td>0.549051</td>\n",
       "      <td>0.605414</td>\n",
       "      <td>0.476847</td>\n",
       "    </tr>\n",
       "    <tr>\n",
       "      <th>2</th>\n",
       "      <td>How did foreign exchange rate fluctuations impact Amazon's net sales and the corresponding segment's performance in 2023?</td>\n",
       "      <td>In 2023, foreign exchange rate fluctuations had a mixed impact on Amazon's financial performance. While these changes reduced consolidated net sales by $71 million, they positively influenced the International segment, increasing its net sales by $88 million. This highlights the nuanced effects of currency fluctuations, where gains in specific regions, such as the International segment, helped offset broader challenges at the consolidated level.</td>\n",
       "      <td>According to the search results, foreign exchange rate fluctuations had the following impact on Amazon's net sales and operating income in 2023:\\n\\n- Net sales in 2023 were expected to be between $121.0 billion and $126.0 billion, with an unfavorable impact of approximately 210 basis points from foreign exchange rates.\\n- Operating income in 2023 was expected to be between $0 and $4.0 billion, compared to $3.7 billion in the first quarter of 2022.</td>\n",
       "      <td>According to the search results, changes in foreign exchange rates reduced Amazon's net sales by $71 million in 2023. The International segment, which accounted for 23% of Amazon's consolidated revenues in 2023, was impacted by foreign exchange rate fluctuations. Specifically, the search results state that \"as a result of fluctuations in foreign exchange rates throughout the year compared to rates in effect the prior year, International segment net sales increased by $88 million in comparison with the prior year.\"</td>\n",
       "      <td>According to the search results, changes in foreign exchange rates reduced Amazon's net sales by $71 million in 2023. The search results also state that for the International segment, net sales increased by $88 million in comparison with the prior year due to fluctuations in foreign exchange rates throughout the year.</td>\n",
       "      <td>0.418284</td>\n",
       "      <td>0.555009</td>\n",
       "      <td>0.635723</td>\n",
       "    </tr>\n",
       "    <tr>\n",
       "      <th>3</th>\n",
       "      <td>What is the cumulative growth contribution of AWS and Advertising segments to Amazon's 2022 consolidated revenue?</td>\n",
       "      <td>In 2022, AWS achieved a 29% year-over-year revenue growth, increasing from $62.2 billion in 2021 to $80.1 billion. Similarly, the Advertising segment experienced a 25% year-over-year growth, reaching $31 billion in revenue for the year. Together, these segments contributed significantly to Amazon's total consolidated revenue of $434 billion. AWS accounted for 19.59%, while Advertising contributed 7.14%, resulting in a cumulative contribution of approximately 26.73%.</td>\n",
       "      <td>According to the search results, Amazon's AWS revenue grew 13% year-over-year from $80 billion in 2022 to $91 billion in 2023. Additionally, Amazon's Advertising revenue grew 24% year-over-year from $38 billion in 2022 to $47 billion in 2023.</td>\n",
       "      <td>According to the search results, Amazon's AWS segment grew 29% year-over-year in 2022, contributing to the 13% growth in consolidated revenue excluding the effect of foreign exchange rates. Additionally, Amazon's Advertising business grew 24% year-over-year in 2022, from $38 billion to $47 billion.</td>\n",
       "      <td>According to the search results, Amazon's Advertising revenue grew 25% year-over-year in 2022 on a $31 billion revenue base. Additionally, AWS revenue grew 29% year-over-year in 2022. Together, the Advertising and AWS segments contributed significantly to Amazon's consolidated revenue growth of 9% in 2022.</td>\n",
       "      <td>0.455440</td>\n",
       "      <td>0.471084</td>\n",
       "      <td>0.683634</td>\n",
       "    </tr>\n",
       "    <tr>\n",
       "      <th>4</th>\n",
       "      <td>How did Amazon's investments in technology infrastructure and fulfillment operations affect its cash flows and operating expenses in 2022?</td>\n",
       "      <td>In 2022, Amazon's substantial investments in technology infrastructure and fulfillment operations significantly impacted its cash flows and operating expenses. The company allocated $58.3 billion in cash capital expenditures to support AWS growth and expand its fulfillment network, resulting in a 31% increase in technology and content expenses due to higher payroll costs for technical teams and infrastructure spending on servers, networking equipment, and data centers. Fulfillment costs rose by 12%, driven by increased product sales volume, inventory levels, and wage rate incentives. These investments led to a decline in free cash flow to $(11,569) million, compared to $(9,069) million in 2021. Despite the higher costs, these expenditures were crucial for scaling operations, enhancing the customer experience, and sustaining long-term growth, particularly in AWS and global fulfillment capacity, highlighting Amazon’s commitment to maintaining its competitive edge in a rapidly evolvin...</td>\n",
       "      <td>According to the search results, Amazon's investments in technology infrastructure and fulfillment operations led to increased operating expenses in 2022. Specifically:\\n\\n- Technology and content costs increased due to investments in research and development, product and service development, and infrastructure costs to support AWS and other Amazon businesses. (Source 1, Source 3)\\n\\n- Fulfillment costs increased in 2022 compared to the prior year, primarily due to increased investments in the fulfillment network, variable costs from higher sales volume and inventory levels, and higher wage rates and incentives. (Source 1, Source 3)</td>\n",
       "      <td>According to the search results, Amazon's investments in technology infrastructure and fulfillment operations had the following effects on its cash flows and operating expenses in 2022:\\n\\n- The increase in AWS operating income in 2022 was primarily due to increased sales, partially offset by increased payroll and related expenses and spending on technology infrastructure, both of which were driven by additional investments to support AWS business growth. Changes in foreign exchange rates positively impacted AWS operating income by $1.4 billion in 2022. - The increase in fulfillment costs in 2022 was primarily due to increased investments in the fulfillment network, increased variable costs corresponding with higher product and service sales volume and inventory levels, and increased wage rates and incentives. Changes in foreign exchange rates reduced fulfillment costs by $2.5 billion in 2022.</td>\n",
       "      <td>According to the search results, Amazon's investments in technology infrastructure and fulfillment operations led to increased operating expenses in 2022:\\n\\n- Technology and content costs increased due to increased payroll and related costs for technical teams expanding existing products and services, as well as spending on technology infrastructure. (Source 1)\\n- Fulfillment costs increased due to investments in the fulfillment network, increased variable costs from higher sales volume and inventory levels, and higher wage rates and incentives. (Source 2) The search results do not provide specific information on how these increased operating expenses affected Amazon's cash flows in 2022. The results focus on the factors driving the increases in technology and fulfillment costs, but do not discuss the overall impact on cash flows.</td>\n",
       "      <td>0.801152</td>\n",
       "      <td>0.658410</td>\n",
       "      <td>0.687350</td>\n",
       "    </tr>\n",
       "    <tr>\n",
       "      <th>5</th>\n",
       "      <td>What types of securities does Amazon invest its excess cash in 2019 and how are these investments classified in the balance sheet?</td>\n",
       "      <td>Amazon typically invests its excess cash in AAA-rated money market funds and investment-grade short- to intermediate-term fixed income securities, which are classified as either Cash and cash equivalents or Marketable securities on its consolidated balance sheets. In 2019, Amazon's marketable securities portfolio included a variety of assets such as money market funds, equity securities, foreign government and agency securities, U.S. government and agency securities, corporate debt securities, asset-backed securities, and other fixed income securities. These marketable securities were categorized as either Level 1 or Level 2 securities on the balance sheet.</td>\n",
       "      <td>According to the search results, Amazon generally invests its excess cash in AAA-rated money market funds and investment grade short- to intermediate-term marketable debt securities. These investments are included in \"Cash and cash equivalents\" or \"Marketable securities\" on Amazon's consolidated balance sheets.</td>\n",
       "      <td>According to the search results, Amazon generally invests its excess cash in AAA-rated money market funds and investment grade short- to intermediate-term fixed income securities. These investments are included in \"Cash and cash equivalents\" or \"Marketable securities\" on Amazon's consolidated balance sheets.</td>\n",
       "      <td>According to the search results, Amazon generally invests its excess cash in AAA-rated money market funds and investment grade short- to intermediate-term fixed income securities. These investments are included in \"Cash and cash equivalents\" or \"Marketable securities\" on Amazon's consolidated balance sheets.</td>\n",
       "      <td>0.484926</td>\n",
       "      <td>0.471310</td>\n",
       "      <td>0.486016</td>\n",
       "    </tr>\n",
       "  </tbody>\n",
       "</table>\n",
       "</div>"
      ],
      "text/plain": [
       "                                                                                                                                     question  \\\n",
       "0                                      How many jobs did Amazon create in 2020, and what was its total global workforce after this expansion?   \n",
       "1                               How does the 2023 net sales mix reflect Amazon's global priorities and strategic investments across segments?   \n",
       "2                   How did foreign exchange rate fluctuations impact Amazon's net sales and the corresponding segment's performance in 2023?   \n",
       "3                           What is the cumulative growth contribution of AWS and Advertising segments to Amazon's 2022 consolidated revenue?   \n",
       "4  How did Amazon's investments in technology infrastructure and fulfillment operations affect its cash flows and operating expenses in 2022?   \n",
       "5          What types of securities does Amazon invest its excess cash in 2019 and how are these investments classified in the balance sheet?   \n",
       "\n",
       "                                                                                                                                                                                                                                                                                                                                                                                                                                                                                                                                                                                                                                                                                                                                                                                                                                                                                                                                                                                                                              ground_truth  \\\n",
       "0                                                                                                                                                                                                                                                                                                                                                                                                                                                                                                                                                                                                                                                                                                                                                                                                                                                                                                                        Amazon added 500,000 jobs in 2020, bringing its total workforce to approximately 1.3 million employees worldwide.   \n",
       "1                                                                                                                                                                                                                                                                                                                                                                                                                                                                                       Amazon's 2023 net sales mix highlights its global priorities, with North America contributing 61%, International 23%, and AWS 16% of total sales. Year-over-year growth in each segment—12% for North America, 11% for International, and 13% for AWS—was driven by increased unit sales, advertising services, and subscription offerings. These trends reflect Amazon's balanced approach to expanding its core markets, strengthening its international presence, and investing in AWS's innovative cloud services to sustain long-term growth.   \n",
       "2                                                                                                                                                                                                                                                                                                                                                                                                                                                                                                                                                                        In 2023, foreign exchange rate fluctuations had a mixed impact on Amazon's financial performance. While these changes reduced consolidated net sales by $71 million, they positively influenced the International segment, increasing its net sales by $88 million. This highlights the nuanced effects of currency fluctuations, where gains in specific regions, such as the International segment, helped offset broader challenges at the consolidated level.   \n",
       "3                                                                                                                                                                                                                                                                                                                                                                                                                                                                                                                                                   In 2022, AWS achieved a 29% year-over-year revenue growth, increasing from $62.2 billion in 2021 to $80.1 billion. Similarly, the Advertising segment experienced a 25% year-over-year growth, reaching $31 billion in revenue for the year. Together, these segments contributed significantly to Amazon's total consolidated revenue of $434 billion. AWS accounted for 19.59%, while Advertising contributed 7.14%, resulting in a cumulative contribution of approximately 26.73%.   \n",
       "4  In 2022, Amazon's substantial investments in technology infrastructure and fulfillment operations significantly impacted its cash flows and operating expenses. The company allocated $58.3 billion in cash capital expenditures to support AWS growth and expand its fulfillment network, resulting in a 31% increase in technology and content expenses due to higher payroll costs for technical teams and infrastructure spending on servers, networking equipment, and data centers. Fulfillment costs rose by 12%, driven by increased product sales volume, inventory levels, and wage rate incentives. These investments led to a decline in free cash flow to $(11,569) million, compared to $(9,069) million in 2021. Despite the higher costs, these expenditures were crucial for scaling operations, enhancing the customer experience, and sustaining long-term growth, particularly in AWS and global fulfillment capacity, highlighting Amazon’s commitment to maintaining its competitive edge in a rapidly evolvin...   \n",
       "5                                                                                                                                                                                                                                                                                                                                                Amazon typically invests its excess cash in AAA-rated money market funds and investment-grade short- to intermediate-term fixed income securities, which are classified as either Cash and cash equivalents or Marketable securities on its consolidated balance sheets. In 2019, Amazon's marketable securities portfolio included a variety of assets such as money market funds, equity securities, foreign government and agency securities, U.S. government and agency securities, corporate debt securities, asset-backed securities, and other fixed income securities. These marketable securities were categorized as either Level 1 or Level 2 securities on the balance sheet.   \n",
       "\n",
       "                                                                                                                                                                                                                                                                                                                                                                                                                                                                                                                                                                                                                                                                                                                                                                                                                                                                                                           without_reranker_answer  \\\n",
       "0                                                                                                                                                                                                                                                                                                                                                                                                                                                                                                                                                                                       According to the search results, Amazon directly and indirectly supports nearly 4 million jobs globally. This includes over 680,000 jobs created by Amazon's investments in areas like construction, logistics, and professional services, as well as another 830,000 jobs created by small and medium-sized businesses selling on Amazon.   \n",
       "1  According to the search results, Amazon's 2023 net sales guidance reflects the following about its global priorities and strategic investments:\\n\\n- Amazon expects net sales to grow between 4-8% in Q1 2023 compared to Q1 2022, with an unfavorable impact of approximately 210 basis points from foreign exchange rates. This suggests Amazon is continuing to prioritize international expansion, particularly in emerging geographies like India, Brazil, Australia, Mexico, the Middle East, and Africa, which are expected to continue growing and becoming profitable in the long run. - Alongside its Stores business, Amazon's Advertising segment is also a priority, with 24% year-over-year growth expected from $38 billion in 2022 to $47 billion in 2023, primarily driven by sponsored ads. This indicates Amazon is continuing to invest in and grow its advertising business as a strategic revenue stream.   \n",
       "2                                                                                                                                                                                                                                                                                                                                                                                                                                                              According to the search results, foreign exchange rate fluctuations had the following impact on Amazon's net sales and operating income in 2023:\\n\\n- Net sales in 2023 were expected to be between $121.0 billion and $126.0 billion, with an unfavorable impact of approximately 210 basis points from foreign exchange rates.\\n- Operating income in 2023 was expected to be between $0 and $4.0 billion, compared to $3.7 billion in the first quarter of 2022.   \n",
       "3                                                                                                                                                                                                                                                                                                                                                                                                                                                                                                                                                                                                                                                                               According to the search results, Amazon's AWS revenue grew 13% year-over-year from $80 billion in 2022 to $91 billion in 2023. Additionally, Amazon's Advertising revenue grew 24% year-over-year from $38 billion in 2022 to $47 billion in 2023.   \n",
       "4                                                                                                                                                                                                                                                                 According to the search results, Amazon's investments in technology infrastructure and fulfillment operations led to increased operating expenses in 2022. Specifically:\\n\\n- Technology and content costs increased due to investments in research and development, product and service development, and infrastructure costs to support AWS and other Amazon businesses. (Source 1, Source 3)\\n\\n- Fulfillment costs increased in 2022 compared to the prior year, primarily due to increased investments in the fulfillment network, variable costs from higher sales volume and inventory levels, and higher wage rates and incentives. (Source 1, Source 3)   \n",
       "5                                                                                                                                                                                                                                                                                                                                                                                                                                                                                                                                                                                                         According to the search results, Amazon generally invests its excess cash in AAA-rated money market funds and investment grade short- to intermediate-term marketable debt securities. These investments are included in \"Cash and cash equivalents\" or \"Marketable securities\" on Amazon's consolidated balance sheets.   \n",
       "\n",
       "                                                                                                                                                                                                                                                                                                                                                                                                                                                                                                                                                                                                                                                                                                                                                                                                                                                                                                                                                      with_reranker_answer  \\\n",
       "0                                                                                                                                                                                                                                                                                                                                                                                                                                                                                                                                                                                                                                                                                                                                                                                                                 According to the search results, in 2020 Amazon hired 500,000 new employees, bringing its total global workforce to 1.3 million people around the world.   \n",
       "1  According to the search results, Amazon's 2023 net sales were distributed across its three main segments: North America (61%), International (23%), and Amazon Web Services (AWS) (16%). This sales mix reflects Amazon's global priorities and strategic investments: - The North America segment, which includes the company's online and physical stores in the US and Canada, accounted for the largest portion of net sales, indicating Amazon's focus on its core e-commerce business in its home market. - The International segment, which covers Amazon's online and physical stores outside of North America, saw 11% year-over-year growth, suggesting the company's strategic investments in expanding its global footprint. - AWS, Amazon's cloud computing division, accounted for 16% of net sales and grew 13% year-over-year, demonstrating the company's focus on its high-margin cloud services business and its strategic investments in this area.   \n",
       "2                                                                                                                                                                                                                                                                                                                                                                                                                                  According to the search results, changes in foreign exchange rates reduced Amazon's net sales by $71 million in 2023. The International segment, which accounted for 23% of Amazon's consolidated revenues in 2023, was impacted by foreign exchange rate fluctuations. Specifically, the search results state that \"as a result of fluctuations in foreign exchange rates throughout the year compared to rates in effect the prior year, International segment net sales increased by $88 million in comparison with the prior year.\"   \n",
       "3                                                                                                                                                                                                                                                                                                                                                                                                                                                                                                                                                                                                                                                              According to the search results, Amazon's AWS segment grew 29% year-over-year in 2022, contributing to the 13% growth in consolidated revenue excluding the effect of foreign exchange rates. Additionally, Amazon's Advertising business grew 24% year-over-year in 2022, from $38 billion to $47 billion.   \n",
       "4                               According to the search results, Amazon's investments in technology infrastructure and fulfillment operations had the following effects on its cash flows and operating expenses in 2022:\\n\\n- The increase in AWS operating income in 2022 was primarily due to increased sales, partially offset by increased payroll and related expenses and spending on technology infrastructure, both of which were driven by additional investments to support AWS business growth. Changes in foreign exchange rates positively impacted AWS operating income by $1.4 billion in 2022. - The increase in fulfillment costs in 2022 was primarily due to increased investments in the fulfillment network, increased variable costs corresponding with higher product and service sales volume and inventory levels, and increased wage rates and incentives. Changes in foreign exchange rates reduced fulfillment costs by $2.5 billion in 2022.   \n",
       "5                                                                                                                                                                                                                                                                                                                                                                                                                                                                                                                                                                                                                                                    According to the search results, Amazon generally invests its excess cash in AAA-rated money market funds and investment grade short- to intermediate-term fixed income securities. These investments are included in \"Cash and cash equivalents\" or \"Marketable securities\" on Amazon's consolidated balance sheets.   \n",
       "\n",
       "                                                                                                                                                                                                                                                                                                                                                                                                                                                                                                                                                                                                                                                                                                                                                                                                                                                                                                                                                                                with_reranker_metadata_answer  \\\n",
       "0                                                                                                                                                                                                                                                                                                                                                                                                                                                                                                                                                                                                                                                                                                                                                                                                                                                    According to the search results, in 2020 Amazon hired 500,000 new employees, bringing its total global workforce to 1.3 million people around the world.   \n",
       "1  According to the search results, Amazon's 2023 net sales mix reflects the following global priorities and strategic investments:\\n- The United States accounted for the largest portion of net sales at $395,637 million, indicating a continued focus on the North American market.\\n- Germany, the United Kingdom, and Japan also represented significant portions of net sales at $37,588 million, $33,591 million, and $26,002 million respectively, suggesting strategic investments in key international markets.\\n- The \"Rest of world\" category accounted for $81,967 million in net sales, indicating Amazon's efforts to expand its global footprint beyond its core markets. The search results also show that Amazon's North America segment revenue grew 12% year-over-year, the International segment grew 11%, and the AWS segment grew 13%. This suggests that Amazon is strategically investing across its major business segments to drive growth both domestically and internationally.   \n",
       "2                                                                                                                                                                                                                                                                                                                                                                                                                                                                                                                                                                                                                                                                             According to the search results, changes in foreign exchange rates reduced Amazon's net sales by $71 million in 2023. The search results also state that for the International segment, net sales increased by $88 million in comparison with the prior year due to fluctuations in foreign exchange rates throughout the year.   \n",
       "3                                                                                                                                                                                                                                                                                                                                                                                                                                                                                                                                                                                                                                                                                         According to the search results, Amazon's Advertising revenue grew 25% year-over-year in 2022 on a $31 billion revenue base. Additionally, AWS revenue grew 29% year-over-year in 2022. Together, the Advertising and AWS segments contributed significantly to Amazon's consolidated revenue growth of 9% in 2022.   \n",
       "4                                                                                                                                 According to the search results, Amazon's investments in technology infrastructure and fulfillment operations led to increased operating expenses in 2022:\\n\\n- Technology and content costs increased due to increased payroll and related costs for technical teams expanding existing products and services, as well as spending on technology infrastructure. (Source 1)\\n- Fulfillment costs increased due to investments in the fulfillment network, increased variable costs from higher sales volume and inventory levels, and higher wage rates and incentives. (Source 2) The search results do not provide specific information on how these increased operating expenses affected Amazon's cash flows in 2022. The results focus on the factors driving the increases in technology and fulfillment costs, but do not discuss the overall impact on cash flows.   \n",
       "5                                                                                                                                                                                                                                                                                                                                                                                                                                                                                                                                                                                                                                                                                       According to the search results, Amazon generally invests its excess cash in AAA-rated money market funds and investment grade short- to intermediate-term fixed income securities. These investments are included in \"Cash and cash equivalents\" or \"Marketable securities\" on Amazon's consolidated balance sheets.   \n",
       "\n",
       "   without_reranker_answer_correctness  with_reranker_answer_correctness  \\\n",
       "0                             0.180119                          0.988601   \n",
       "1                             0.549051                          0.605414   \n",
       "2                             0.418284                          0.555009   \n",
       "3                             0.455440                          0.471084   \n",
       "4                             0.801152                          0.658410   \n",
       "5                             0.484926                          0.471310   \n",
       "\n",
       "   with_reranker_metadata_correctness  \n",
       "0                            0.988601  \n",
       "1                            0.476847  \n",
       "2                            0.635723  \n",
       "3                            0.683634  \n",
       "4                            0.687350  \n",
       "5                            0.486016  "
      ]
     },
     "execution_count": 74,
     "metadata": {},
     "output_type": "execute_result"
    }
   ],
   "source": [
    "pd.options.display.max_colwidth = 1000\n",
    "comparison_df"
   ]
  },
  {
   "cell_type": "code",
   "execution_count": 75,
   "id": "a3e83ab3",
   "metadata": {},
   "outputs": [
    {
     "name": "stdout",
     "output_type": "stream",
     "text": [
      "\n",
      "Average Correctness without Reranker: 0.4815\n",
      "Average Correctness with Reranker: 0.6250\n",
      "Average Correctness with Reranker and metadata filter: 0.6597\n"
     ]
    }
   ],
   "source": [
    "# Calculate average correctness\n",
    "without_reranker_avg_correctness = without_reranker_result_df['answer_correctness'].mean()\n",
    "with_reranker_avg_correctness = with_reranker_result_df['answer_correctness'].mean()\n",
    "with_reranker_metadata_avg_correctness = with_reranker_metadata_filters_result_df['answer_correctness'].mean()\n",
    "\n",
    "print(f\"\\nAverage Correctness without Reranker: {without_reranker_avg_correctness:.4f}\")\n",
    "print(f\"Average Correctness with Reranker: {with_reranker_avg_correctness:.4f}\")\n",
    "print(f\"Average Correctness with Reranker and metadata filter: {with_reranker_metadata_avg_correctness:.4f}\")"
   ]
  },
  {
   "cell_type": "markdown",
   "id": "5577ab01-5239-4a19-9042-a263e8a3de6b",
   "metadata": {},
   "source": [
    "### 2.7 Clean up\n",
    "Please make sure to uncomment and run below cells to delete the resources created in this notebook."
   ]
  },
  {
   "cell_type": "code",
   "execution_count": 76,
   "id": "33f8a07a",
   "metadata": {},
   "outputs": [],
   "source": [
    "# # delete local directory\n",
    "# import shutil\n",
    "\n",
    "# dir_path = \"sec-10-k\" # Replace with the actual path\n",
    "\n",
    "# try:\n",
    "#     shutil.rmtree(dir_path)\n",
    "#     print(f\"Directory '{dir_path}' and its contents have been deleted successfully.\")\n",
    "# except FileNotFoundError:\n",
    "#     print(f\"Directory '{dir_path}' not found.\")\n",
    "# except Exception as e:\n",
    "#         print(f\"An error occurred: {e}\")"
   ]
  },
  {
   "cell_type": "code",
   "execution_count": 77,
   "id": "9ab05eb1-76c9-47b7-8d28-16ee720966d9",
   "metadata": {
    "tags": []
   },
   "outputs": [],
   "source": [
    "# ## Empty and delete S3 Bucket\n",
    "\n",
    "# objects = s3_client.list_objects(Bucket=bucket_name)  \n",
    "# if 'Contents' in objects:\n",
    "#     for obj in objects['Contents']:\n",
    "#         s3_client.delete_object(Bucket=bucket_name, Key=obj['Key']) \n",
    "# s3_client.delete_bucket(Bucket=bucket_name)"
   ]
  },
  {
   "cell_type": "code",
   "execution_count": 78,
   "id": "a0cab3a2-e121-4d65-9254-4d318cf428f1",
   "metadata": {
    "tags": []
   },
   "outputs": [],
   "source": [
    "# # print(\"===============================Knowledge base==============================\")\n",
    "# knowledge_base_reranking.delete_kb(delete_s3_bucket=True, delete_iam_roles_and_policies=True)"
   ]
  },
  {
   "cell_type": "code",
   "execution_count": null,
   "id": "90166cae",
   "metadata": {},
   "outputs": [],
   "source": []
  },
  {
   "cell_type": "code",
   "execution_count": 79,
   "id": "50c633ef",
   "metadata": {},
   "outputs": [
    {
     "name": "stdout",
     "output_type": "stream",
     "text": [
      "retrieval_config: {'vectorSearchConfiguration': {'numberOfResults': 5}}\n",
      "retrieval_config: {'vectorSearchConfiguration': {'numberOfResults': 30, 'rerankingConfiguration': {'type': 'BEDROCK_RERANKING_MODEL', 'bedrockRerankingConfiguration': {'modelConfiguration': {'modelArn': 'arn:aws:bedrock:us-west-2::foundation-model/amazon.rerank-v1:0'}, 'numberOfRerankedResults': 5}}}}\n",
      "retrieval_config: {'vectorSearchConfiguration': {'numberOfResults': 30, 'rerankingConfiguration': {'type': 'BEDROCK_RERANKING_MODEL', 'bedrockRerankingConfiguration': {'modelConfiguration': {'modelArn': 'arn:aws:bedrock:us-west-2::foundation-model/amazon.rerank-v1:0'}, 'numberOfRerankedResults': 5, 'metadataConfiguration': {'selectionMode': 'SELECTIVE', 'selectiveModeConfiguration': {'fieldsToInclude': [{'fieldName': 'year'}]}}}}}}\n"
     ]
    },
    {
     "data": {
      "application/vnd.jupyter.widget-view+json": {
       "model_id": "2487420938574619b13239e280f26571",
       "version_major": 2,
       "version_minor": 0
      },
      "text/plain": [
       "Evaluating:   0%|          | 0/3 [00:00<?, ?it/s]"
      ]
     },
     "metadata": {},
     "output_type": "display_data"
    },
    {
     "data": {
      "text/html": [
       "<div>\n",
       "<style scoped>\n",
       "    .dataframe tbody tr th:only-of-type {\n",
       "        vertical-align: middle;\n",
       "    }\n",
       "\n",
       "    .dataframe tbody tr th {\n",
       "        vertical-align: top;\n",
       "    }\n",
       "\n",
       "    .dataframe thead th {\n",
       "        text-align: right;\n",
       "    }\n",
       "</style>\n",
       "<table border=\"1\" class=\"dataframe\">\n",
       "  <thead>\n",
       "    <tr style=\"text-align: right;\">\n",
       "      <th></th>\n",
       "      <th>question</th>\n",
       "      <th>answer</th>\n",
       "      <th>ground_truth</th>\n",
       "      <th>answer_correctness</th>\n",
       "    </tr>\n",
       "  </thead>\n",
       "  <tbody>\n",
       "    <tr>\n",
       "      <th>0</th>\n",
       "      <td>What types of securities does Amazon invest its excess cash in 2019 and how these investments are classified in the balance sheet?</td>\n",
       "      <td>According to the search results, Amazon generally invests its excess cash in AAA-rated money market funds and investment grade short- to intermediate-term marketable debt securities. These investments are included in \"Cash and cash equivalents\" or \"Marketable securities\" on Amazon's consolidated balance sheets. The marketable debt securities are classified as available-for-sale and reported at fair value, with unrealized gains and losses included in \"Accumulated other comprehensive income (loss)\" on the balance sheet.</td>\n",
       "      <td>Amazon typically invests its excess cash in AAA-rated money market funds and investment-grade short- to intermediate-term fixed income securities, which are classified as either Cash and cash equivalents or Marketable securities on its consolidated balance sheets. In 2019, Amazon's marketable securities portfolio included a variety of assets such as money market funds, equity securities, foreign government and agency securities, U.S. government and agency securities, corporate debt securities, asset-backed securities, and other fixed income securities. These marketable securities were categorized as either Level 1 or Level 2 securities on the balance sheet</td>\n",
       "      <td>0.652589</td>\n",
       "    </tr>\n",
       "    <tr>\n",
       "      <th>1</th>\n",
       "      <td>What types of securities does Amazon invest its excess cash in 2019 and how these investments are classified in the balance sheet?</td>\n",
       "      <td>According to the search results, Amazon generally invests its excess cash in AAA-rated money market funds and investment grade short- to intermediate-term fixed income securities. These investments are included in the \"Cash and cash equivalents\" or \"Marketable securities\" line items on Amazon's consolidated balance sheets. The marketable fixed income securities are classified as available-for-sale and reported at fair value, with unrealized gains and losses included in the \"Accumulated other comprehensive income (loss)\" on the balance sheet. Each reporting period, Amazon evaluates whether declines in fair value below carrying value are due to expected credit losses, and any expected credit losses are recorded as an allowance through \"Other income (expense), net\" on the consolidated statements of operations.</td>\n",
       "      <td>Amazon typically invests its excess cash in AAA-rated money market funds and investment-grade short- to intermediate-term fixed income securities, which are classified as either Cash and cash equivalents or Marketable securities on its consolidated balance sheets. In 2019, Amazon's marketable securities portfolio included a variety of assets such as money market funds, equity securities, foreign government and agency securities, U.S. government and agency securities, corporate debt securities, asset-backed securities, and other fixed income securities. These marketable securities were categorized as either Level 1 or Level 2 securities on the balance sheet</td>\n",
       "      <td>0.601746</td>\n",
       "    </tr>\n",
       "    <tr>\n",
       "      <th>2</th>\n",
       "      <td>What types of securities does Amazon invest its excess cash in 2019 and how these investments are classified in the balance sheet?</td>\n",
       "      <td>According to the search results, Amazon generally invests its excess cash in AAA-rated money market funds and investment grade short- to intermediate-term fixed income securities such as foreign government and agency securities, U.S. government and agency securities, corporate debt securities, asset-backed securities, and other fixed income securities. These investments are included in the \"Cash and cash equivalents\" or \"Marketable securities\" line items on Amazon's consolidated balance sheets. The marketable fixed income securities are classified as available-for-sale and reported at fair value, with unrealized gains and losses included in the \"Accumulated other comprehensive loss\" account on the balance sheet.</td>\n",
       "      <td>Amazon typically invests its excess cash in AAA-rated money market funds and investment-grade short- to intermediate-term fixed income securities, which are classified as either Cash and cash equivalents or Marketable securities on its consolidated balance sheets. In 2019, Amazon's marketable securities portfolio included a variety of assets such as money market funds, equity securities, foreign government and agency securities, U.S. government and agency securities, corporate debt securities, asset-backed securities, and other fixed income securities. These marketable securities were categorized as either Level 1 or Level 2 securities on the balance sheet</td>\n",
       "      <td>0.914801</td>\n",
       "    </tr>\n",
       "  </tbody>\n",
       "</table>\n",
       "</div>"
      ],
      "text/plain": [
       "                                                                                                                             question  \\\n",
       "0  What types of securities does Amazon invest its excess cash in 2019 and how these investments are classified in the balance sheet?   \n",
       "1  What types of securities does Amazon invest its excess cash in 2019 and how these investments are classified in the balance sheet?   \n",
       "2  What types of securities does Amazon invest its excess cash in 2019 and how these investments are classified in the balance sheet?   \n",
       "\n",
       "                                                                                                                                                                                                                                                                                                                                                                                                                                                                                                                                                                                                                                                                                                                                                                                                                                               answer  \\\n",
       "0                                                                                                                                                                                                                                                                                                         According to the search results, Amazon generally invests its excess cash in AAA-rated money market funds and investment grade short- to intermediate-term marketable debt securities. These investments are included in \"Cash and cash equivalents\" or \"Marketable securities\" on Amazon's consolidated balance sheets. The marketable debt securities are classified as available-for-sale and reported at fair value, with unrealized gains and losses included in \"Accumulated other comprehensive income (loss)\" on the balance sheet.   \n",
       "1  According to the search results, Amazon generally invests its excess cash in AAA-rated money market funds and investment grade short- to intermediate-term fixed income securities. These investments are included in the \"Cash and cash equivalents\" or \"Marketable securities\" line items on Amazon's consolidated balance sheets. The marketable fixed income securities are classified as available-for-sale and reported at fair value, with unrealized gains and losses included in the \"Accumulated other comprehensive income (loss)\" on the balance sheet. Each reporting period, Amazon evaluates whether declines in fair value below carrying value are due to expected credit losses, and any expected credit losses are recorded as an allowance through \"Other income (expense), net\" on the consolidated statements of operations.   \n",
       "2                                                                                                   According to the search results, Amazon generally invests its excess cash in AAA-rated money market funds and investment grade short- to intermediate-term fixed income securities such as foreign government and agency securities, U.S. government and agency securities, corporate debt securities, asset-backed securities, and other fixed income securities. These investments are included in the \"Cash and cash equivalents\" or \"Marketable securities\" line items on Amazon's consolidated balance sheets. The marketable fixed income securities are classified as available-for-sale and reported at fair value, with unrealized gains and losses included in the \"Accumulated other comprehensive loss\" account on the balance sheet.   \n",
       "\n",
       "                                                                                                                                                                                                                                                                                                                                                                                                                                                                                                                                                                                                                                                                               ground_truth  \\\n",
       "0  Amazon typically invests its excess cash in AAA-rated money market funds and investment-grade short- to intermediate-term fixed income securities, which are classified as either Cash and cash equivalents or Marketable securities on its consolidated balance sheets. In 2019, Amazon's marketable securities portfolio included a variety of assets such as money market funds, equity securities, foreign government and agency securities, U.S. government and agency securities, corporate debt securities, asset-backed securities, and other fixed income securities. These marketable securities were categorized as either Level 1 or Level 2 securities on the balance sheet   \n",
       "1  Amazon typically invests its excess cash in AAA-rated money market funds and investment-grade short- to intermediate-term fixed income securities, which are classified as either Cash and cash equivalents or Marketable securities on its consolidated balance sheets. In 2019, Amazon's marketable securities portfolio included a variety of assets such as money market funds, equity securities, foreign government and agency securities, U.S. government and agency securities, corporate debt securities, asset-backed securities, and other fixed income securities. These marketable securities were categorized as either Level 1 or Level 2 securities on the balance sheet   \n",
       "2  Amazon typically invests its excess cash in AAA-rated money market funds and investment-grade short- to intermediate-term fixed income securities, which are classified as either Cash and cash equivalents or Marketable securities on its consolidated balance sheets. In 2019, Amazon's marketable securities portfolio included a variety of assets such as money market funds, equity securities, foreign government and agency securities, U.S. government and agency securities, corporate debt securities, asset-backed securities, and other fixed income securities. These marketable securities were categorized as either Level 1 or Level 2 securities on the balance sheet   \n",
       "\n",
       "   answer_correctness  \n",
       "0            0.652589  \n",
       "1            0.601746  \n",
       "2            0.914801  "
      ]
     },
     "execution_count": 79,
     "metadata": {},
     "output_type": "execute_result"
    }
   ],
   "source": [
    "from ragas import evaluate\n",
    "from ragas.metrics import (answer_correctness)\n",
    "\n",
    "REGION = region\n",
    "# Initialize the Bedrock client and the evaluation model\n",
    "bedrock_client = boto3.client('bedrock-runtime')\n",
    "llm_for_evaluation = ChatBedrock(model_id=EVALUATION_MODEL_ID, client=bedrock_client)\n",
    "bedrock_embeddings = BedrockEmbeddings(model_id=EMBEDDING_MODEL_ID, client=bedrock_client)\n",
    "\n",
    "# Define the function to retrieve responses and evaluate them\n",
    "def evaluate_responses_with_scores(question, ground_truth):\n",
    "    def retrieve_and_generate(query, reranker_model=None, kb_id=None, TEXT_GENERATION_MODEL_ID=None, metadata_filters=None):\n",
    "        # Prepare retrieval configuration\n",
    "        retrieval_config = {\n",
    "            \"vectorSearchConfiguration\": {\n",
    "                \"numberOfResults\": 30 if reranker_model else 5\n",
    "            }\n",
    "        }\n",
    "\n",
    "        if reranker_model:\n",
    "            retrieval_config[\"vectorSearchConfiguration\"][\"rerankingConfiguration\"] = {\n",
    "                \"type\": \"BEDROCK_RERANKING_MODEL\",\n",
    "                \"bedrockRerankingConfiguration\": {\n",
    "                    \"modelConfiguration\": {\n",
    "                        \"modelArn\": f'arn:aws:bedrock:{REGION}::foundation-model/{reranker_model}',\n",
    "                    },\n",
    "                    \"numberOfRerankedResults\": 5\n",
    "                }\n",
    "            }\n",
    "\n",
    "            if metadata_filters:\n",
    "                retrieval_config[\"vectorSearchConfiguration\"][\"rerankingConfiguration\"][\"bedrockRerankingConfiguration\"][\"metadataConfiguration\"] = {\n",
    "                    \"selectionMode\": \"SELECTIVE\",\n",
    "                    \"selectiveModeConfiguration\": {\n",
    "                        \"fieldsToInclude\": [{\n",
    "                            \"fieldName\": \"year\",\n",
    "                        }]\n",
    "                    }\n",
    "                }\n",
    "        \n",
    "        print(f\"retrieval_config: {retrieval_config}\")\n",
    "        # Call the retrieve and generate API\n",
    "        start = time.time()\n",
    "        response = bedrock_agent_runtime_client.retrieve_and_generate(\n",
    "            input={'text': query},\n",
    "            retrieveAndGenerateConfiguration={\n",
    "                'type': 'KNOWLEDGE_BASE',\n",
    "                'knowledgeBaseConfiguration': {\n",
    "                    'knowledgeBaseId': kb_id,\n",
    "                    'modelArn': f'arn:aws:bedrock:{REGION}::foundation-model/{TEXT_GENERATION_MODEL_ID}',\n",
    "                    'retrievalConfiguration': retrieval_config,\n",
    "                },\n",
    "            }\n",
    "        )\n",
    "        time_spent = time.time() - start\n",
    "\n",
    "        # print(f\"[Response] : {response['output']['text']}\\n\")\n",
    "        # print(f\"[Invocation time] : {time_spent}\\n\")\n",
    "\n",
    "        return response\n",
    "\n",
    "    # Retrieve responses with different configurations\n",
    "    response_without_reranker = retrieve_and_generate(\n",
    "        query=question,\n",
    "        kb_id=kb_id,\n",
    "        TEXT_GENERATION_MODEL_ID=EVALUATION_MODEL_ID,\n",
    "        reranker_model=None  # No reranker\n",
    "    )\n",
    "\n",
    "    response_with_reranker = retrieve_and_generate(\n",
    "        query=question,\n",
    "        kb_id=kb_id,\n",
    "        TEXT_GENERATION_MODEL_ID=EVALUATION_MODEL_ID,\n",
    "        reranker_model=\"amazon.rerank-v1:0\"  # With reranker\n",
    "    )\n",
    "\n",
    "    response_with_reranker_metadata = retrieve_and_generate(\n",
    "        query=question,\n",
    "        kb_id=kb_id,\n",
    "        TEXT_GENERATION_MODEL_ID=EVALUATION_MODEL_ID,\n",
    "        reranker_model=\"amazon.rerank-v1:0\",  # With reranker\n",
    "        metadata_filters=True  # With metadata filters\n",
    "    )\n",
    "\n",
    "    # Prepare dataset for evaluation\n",
    "    data = {\n",
    "        \"question\": [question] * 3,\n",
    "        \"answer\": [\n",
    "            response_without_reranker['output']['text'],\n",
    "            response_with_reranker['output']['text'],\n",
    "            response_with_reranker_metadata['output']['text']\n",
    "        ],\n",
    "        \"ground_truth\": [ground_truth] * 3\n",
    "    }\n",
    "    dataset = Dataset.from_dict(data)\n",
    "\n",
    "    result_df = evaluate(dataset=dataset, metrics=[answer_correctness], llm=llm_for_evaluation, embeddings=bedrock_embeddings).to_pandas()\n",
    "\n",
    "    # # Evaluate the responses using the `answer_correctness` metric\n",
    "    # metrics = [answer_correctness]\n",
    "    # result = evaluate(\n",
    "    #     dataset=dataset,\n",
    "    #     metrics=metrics,\n",
    "    #     llm=llm_for_evaluation,\n",
    "    #     embeddings = bedrock_embeddings,\n",
    "    # )\n",
    "\n",
    "    # # Convert the results to a Pandas DataFrame for better readability\n",
    "    # result_df = result.to_pandas()\n",
    "\n",
    "    # # Generate markdown output\n",
    "    # markdown_output = \"\"\"## Evaluation Results\\n\\n\"\"\"\n",
    "    # categories = [\"Without Reranker\", \"With Reranker\", \"With Reranker and Metadata Filters\"]\n",
    "    # for i, category in enumerate(categories):\n",
    "    #     markdown_output += f\"### {category}:\\n\\nResponse:\\n{data['answer'][i]}\\n\\nScore: {result_df.iloc[i]['score']}\\n\\n\"\n",
    "\n",
    "    # return markdown_output\n",
    "    return result_df\n",
    "\n",
    "# Example usage\n",
    "# question = \"How many jobs did Amazon create in 2020, and what was its total global workforce after this expansion?\"\n",
    "# ground_truth = \"Amazon added 500,000 jobs in 2020, bringing its total workforce to approximately 1.3 million employees worldwide.\"\n",
    "\n",
    "# question = \"How does the 2023 net sales mix reflect Amazon's global priorities and strategic investments across segments?\"\n",
    "# ground_truth = \"Amazon's 2023 net sales mix highlights its global priorities, with North America contributing 61%, International 23%, and AWS 16% of total sales. Year-over-year growth in each segment—12% for North America, 11% for International, and 13% for AWS—was driven by increased unit sales, advertising services, and subscription offerings. These trends reflect Amazon's balanced approach to expanding its core markets, strengthening its international presence, and investing in AWS's innovative cloud services to sustain long-term growth.\"\n",
    "\n",
    "# question = \"How did foreign exchange rate fluctuations impact Amazon's net sales and the corresponding segment's performance in 2023?\"\n",
    "# ground_truth = \"In 2023, foreign exchange rate fluctuations had a mixed impact on Amazon's financial performance. While these changes reduced consolidated net sales by $71 million, they positively influenced the International segment, increasing its net sales by $88 million. This highlights the nuanced effects of currency fluctuations, where gains in specific regions, such as the International segment, helped offset broader challenges at the consolidated level.\"\n",
    "\n",
    "# question = \"What is the cumulative growth contribution of AWS and Advertising segments to Amazon's 2022 consolidated revenue?\"\n",
    "# ground_truth = \"In 2022, AWS achieved a 29% year-over-year revenue growth, increasing from $62.2 billion in 2021 to $80.1 billion. Similarly, the Advertising segment experienced a 25% year-over-year growth, reaching $31 billion in revenue for the year. Together, these segments contributed significantly to Amazon's total consolidated revenue of $434 billion. AWS accounted for 19.59%, while Advertising contributed 7.14%, resulting in a cumulative contribution of approximately 26.73%.\"\n",
    "\n",
    "\n",
    "# question = \"How did Amazon's investments in technology infrastructure and fulfillment operations affect its cash flows and operating expenses in 2022?\"\n",
    "# ground_truth = \"In 2022, Amazon's substantial investments in technology infrastructure and fulfillment operations significantly impacted its cash flows and operating expenses. The company allocated $58.3 billion in cash capital expenditures to support AWS growth and expand its fulfillment network, resulting in a 31% increase in technology and content expenses due to higher payroll costs for technical teams and infrastructure spending on servers, networking equipment, and data centers. Fulfillment costs rose by 12%, driven by increased product sales volume, inventory levels, and wage rate incentives. These investments led to a decline in free cash flow to $(11,569) million, compared to $(9,069) million in 2021. Despite the higher costs, these expenditures were crucial for scaling operations, enhancing the customer experience, and sustaining long-term growth, particularly in AWS and global fulfillment capacity, highlighting Amazon’s commitment to maintaining its competitive edge in a rapidly evolving market.\"\n",
    "\n",
    "\n",
    "question = \"What types of securities does Amazon invest its excess cash in 2019 and how these investments are classified in the balance sheet?\"\n",
    "ground_truth = \"Amazon typically invests its excess cash in AAA-rated money market funds and investment-grade short- to intermediate-term fixed income securities, which are classified as either Cash and cash equivalents or Marketable securities on its consolidated balance sheets. In 2019, Amazon's marketable securities portfolio included a variety of assets such as money market funds, equity securities, foreign government and agency securities, U.S. government and agency securities, corporate debt securities, asset-backed securities, and other fixed income securities. These marketable securities were categorized as either Level 1 or Level 2 securities on the balance sheet\"\n",
    "\n",
    "\n",
    "output = evaluate_responses_with_scores(question, ground_truth)\n",
    "output\n"
   ]
  },
  {
   "cell_type": "code",
   "execution_count": 80,
   "id": "828c8fd4",
   "metadata": {},
   "outputs": [],
   "source": [
    "# evaluate(dataset=output, metrics=[answer_correctness], llm=llm_for_evaluation, embeddings=bedrock_embeddings).to_pandas()"
   ]
  },
  {
   "cell_type": "markdown",
   "id": "c818aa26",
   "metadata": {},
   "source": []
  },
  {
   "cell_type": "code",
   "execution_count": null,
   "id": "f4e9279a",
   "metadata": {},
   "outputs": [],
   "source": []
  },
  {
   "cell_type": "code",
   "execution_count": null,
   "id": "9ba68c76",
   "metadata": {},
   "outputs": [],
   "source": []
  },
  {
   "cell_type": "code",
   "execution_count": null,
   "id": "78bea7f6",
   "metadata": {},
   "outputs": [],
   "source": []
  },
  {
   "cell_type": "code",
   "execution_count": null,
   "id": "132b7c90",
   "metadata": {},
   "outputs": [],
   "source": []
  },
  {
   "cell_type": "code",
   "execution_count": null,
   "id": "dc4d1539",
   "metadata": {},
   "outputs": [],
   "source": []
  },
  {
   "cell_type": "code",
   "execution_count": null,
   "id": "3e98715e",
   "metadata": {},
   "outputs": [],
   "source": []
  },
  {
   "cell_type": "code",
   "execution_count": null,
   "id": "d2321e04",
   "metadata": {},
   "outputs": [],
   "source": []
  },
  {
   "cell_type": "code",
   "execution_count": null,
   "id": "d799d90c",
   "metadata": {},
   "outputs": [],
   "source": []
  },
  {
   "cell_type": "code",
   "execution_count": null,
   "id": "8602efc2",
   "metadata": {},
   "outputs": [],
   "source": []
  },
  {
   "cell_type": "code",
   "execution_count": null,
   "id": "eff14de5",
   "metadata": {},
   "outputs": [],
   "source": []
  },
  {
   "cell_type": "code",
   "execution_count": null,
   "id": "138c71bc",
   "metadata": {},
   "outputs": [],
   "source": []
  },
  {
   "cell_type": "code",
   "execution_count": null,
   "id": "42dd0710",
   "metadata": {},
   "outputs": [],
   "source": []
  },
  {
   "cell_type": "code",
   "execution_count": null,
   "id": "3ae87cf5",
   "metadata": {},
   "outputs": [],
   "source": []
  },
  {
   "cell_type": "code",
   "execution_count": null,
   "id": "2f90ad8f",
   "metadata": {},
   "outputs": [],
   "source": []
  },
  {
   "cell_type": "code",
   "execution_count": null,
   "id": "99741801",
   "metadata": {},
   "outputs": [],
   "source": []
  },
  {
   "cell_type": "code",
   "execution_count": null,
   "id": "74bb4aba",
   "metadata": {},
   "outputs": [],
   "source": []
  },
  {
   "cell_type": "code",
   "execution_count": null,
   "id": "e4501a2e",
   "metadata": {},
   "outputs": [],
   "source": []
  },
  {
   "cell_type": "code",
   "execution_count": null,
   "id": "0caa8f4f",
   "metadata": {},
   "outputs": [],
   "source": []
  },
  {
   "cell_type": "code",
   "execution_count": null,
   "id": "80993aa3",
   "metadata": {},
   "outputs": [],
   "source": []
  },
  {
   "cell_type": "code",
   "execution_count": null,
   "id": "b57267ca",
   "metadata": {},
   "outputs": [],
   "source": []
  },
  {
   "cell_type": "code",
   "execution_count": null,
   "id": "62822a3e",
   "metadata": {},
   "outputs": [],
   "source": []
  },
  {
   "cell_type": "code",
   "execution_count": null,
   "id": "5783a7ee",
   "metadata": {},
   "outputs": [],
   "source": []
  },
  {
   "cell_type": "code",
   "execution_count": null,
   "id": "5c9e1925",
   "metadata": {},
   "outputs": [],
   "source": []
  },
  {
   "cell_type": "code",
   "execution_count": null,
   "id": "d14de920",
   "metadata": {},
   "outputs": [],
   "source": []
  },
  {
   "cell_type": "code",
   "execution_count": null,
   "id": "0415deed",
   "metadata": {},
   "outputs": [],
   "source": []
  },
  {
   "cell_type": "code",
   "execution_count": null,
   "id": "21f22997",
   "metadata": {},
   "outputs": [],
   "source": []
  },
  {
   "cell_type": "code",
   "execution_count": null,
   "id": "1633313b",
   "metadata": {},
   "outputs": [],
   "source": []
  },
  {
   "cell_type": "code",
   "execution_count": null,
   "id": "f0f19588",
   "metadata": {},
   "outputs": [],
   "source": []
  },
  {
   "cell_type": "code",
   "execution_count": null,
   "id": "0f610017",
   "metadata": {},
   "outputs": [],
   "source": []
  },
  {
   "cell_type": "code",
   "execution_count": null,
   "id": "d679af7c",
   "metadata": {},
   "outputs": [],
   "source": []
  },
  {
   "cell_type": "code",
   "execution_count": null,
   "id": "e2005723",
   "metadata": {},
   "outputs": [],
   "source": []
  },
  {
   "cell_type": "code",
   "execution_count": null,
   "id": "c4ba76c6",
   "metadata": {},
   "outputs": [],
   "source": []
  },
  {
   "cell_type": "code",
   "execution_count": null,
   "id": "644a671f",
   "metadata": {},
   "outputs": [],
   "source": []
  },
  {
   "cell_type": "code",
   "execution_count": null,
   "id": "6fec89d2",
   "metadata": {},
   "outputs": [],
   "source": []
  },
  {
   "cell_type": "code",
   "execution_count": null,
   "id": "10629020",
   "metadata": {},
   "outputs": [],
   "source": []
  },
  {
   "cell_type": "code",
   "execution_count": null,
   "id": "159ea940",
   "metadata": {},
   "outputs": [],
   "source": []
  },
  {
   "cell_type": "code",
   "execution_count": null,
   "id": "41003cc7",
   "metadata": {},
   "outputs": [],
   "source": []
  },
  {
   "cell_type": "code",
   "execution_count": null,
   "id": "b09750be",
   "metadata": {},
   "outputs": [],
   "source": []
  },
  {
   "cell_type": "code",
   "execution_count": null,
   "id": "8a2e19a2",
   "metadata": {},
   "outputs": [],
   "source": []
  },
  {
   "cell_type": "code",
   "execution_count": null,
   "id": "54c86c73",
   "metadata": {},
   "outputs": [],
   "source": []
  },
  {
   "cell_type": "code",
   "execution_count": null,
   "id": "612e688d",
   "metadata": {},
   "outputs": [],
   "source": []
  },
  {
   "cell_type": "code",
   "execution_count": null,
   "id": "593e5a99",
   "metadata": {},
   "outputs": [],
   "source": []
  },
  {
   "cell_type": "code",
   "execution_count": null,
   "id": "ac94b9b4",
   "metadata": {},
   "outputs": [],
   "source": []
  },
  {
   "cell_type": "code",
   "execution_count": null,
   "id": "cb8d3788",
   "metadata": {},
   "outputs": [],
   "source": []
  },
  {
   "cell_type": "code",
   "execution_count": null,
   "id": "8dc269fd",
   "metadata": {},
   "outputs": [],
   "source": []
  },
  {
   "cell_type": "code",
   "execution_count": null,
   "id": "bca5db09",
   "metadata": {},
   "outputs": [],
   "source": []
  },
  {
   "cell_type": "code",
   "execution_count": null,
   "id": "5cdd4e67",
   "metadata": {},
   "outputs": [],
   "source": []
  },
  {
   "cell_type": "code",
   "execution_count": null,
   "id": "d8a822e2",
   "metadata": {},
   "outputs": [],
   "source": []
  },
  {
   "cell_type": "code",
   "execution_count": null,
   "id": "479eb3f4",
   "metadata": {},
   "outputs": [],
   "source": []
  },
  {
   "cell_type": "code",
   "execution_count": null,
   "id": "296e027b",
   "metadata": {},
   "outputs": [],
   "source": []
  },
  {
   "cell_type": "code",
   "execution_count": null,
   "id": "88301a5c",
   "metadata": {},
   "outputs": [],
   "source": []
  },
  {
   "cell_type": "code",
   "execution_count": null,
   "id": "5a57f0e5",
   "metadata": {},
   "outputs": [],
   "source": []
  },
  {
   "cell_type": "code",
   "execution_count": null,
   "id": "5d4ece4c",
   "metadata": {},
   "outputs": [],
   "source": []
  },
  {
   "cell_type": "code",
   "execution_count": null,
   "id": "86b052d6",
   "metadata": {},
   "outputs": [],
   "source": []
  },
  {
   "cell_type": "code",
   "execution_count": null,
   "id": "1dacdf3b",
   "metadata": {},
   "outputs": [],
   "source": []
  },
  {
   "cell_type": "code",
   "execution_count": null,
   "id": "c883ba09",
   "metadata": {},
   "outputs": [],
   "source": []
  },
  {
   "cell_type": "code",
   "execution_count": null,
   "id": "7df6b954",
   "metadata": {},
   "outputs": [],
   "source": []
  },
  {
   "cell_type": "code",
   "execution_count": null,
   "id": "77f981aa",
   "metadata": {},
   "outputs": [],
   "source": []
  },
  {
   "cell_type": "code",
   "execution_count": null,
   "id": "c28252a4",
   "metadata": {},
   "outputs": [],
   "source": []
  },
  {
   "cell_type": "code",
   "execution_count": null,
   "id": "47b05c95",
   "metadata": {},
   "outputs": [],
   "source": []
  },
  {
   "cell_type": "code",
   "execution_count": null,
   "id": "0f8e94b6",
   "metadata": {},
   "outputs": [],
   "source": []
  },
  {
   "cell_type": "code",
   "execution_count": null,
   "id": "3dd05773",
   "metadata": {},
   "outputs": [],
   "source": []
  },
  {
   "cell_type": "code",
   "execution_count": null,
   "id": "eb9906a9",
   "metadata": {},
   "outputs": [],
   "source": []
  },
  {
   "cell_type": "code",
   "execution_count": null,
   "id": "1ad234fd",
   "metadata": {},
   "outputs": [],
   "source": []
  },
  {
   "cell_type": "code",
   "execution_count": null,
   "id": "ab3cb751",
   "metadata": {},
   "outputs": [],
   "source": []
  },
  {
   "cell_type": "code",
   "execution_count": null,
   "id": "4d73850b",
   "metadata": {},
   "outputs": [],
   "source": []
  },
  {
   "cell_type": "code",
   "execution_count": null,
   "id": "0cabb3e7",
   "metadata": {},
   "outputs": [],
   "source": []
  },
  {
   "cell_type": "code",
   "execution_count": null,
   "id": "affd5458",
   "metadata": {},
   "outputs": [],
   "source": []
  },
  {
   "cell_type": "code",
   "execution_count": null,
   "id": "8f0cfe98",
   "metadata": {},
   "outputs": [],
   "source": []
  },
  {
   "cell_type": "code",
   "execution_count": null,
   "id": "4439e4a7",
   "metadata": {},
   "outputs": [],
   "source": []
  },
  {
   "cell_type": "code",
   "execution_count": null,
   "id": "365af276",
   "metadata": {},
   "outputs": [],
   "source": []
  },
  {
   "cell_type": "code",
   "execution_count": null,
   "id": "00b56065",
   "metadata": {},
   "outputs": [],
   "source": []
  },
  {
   "cell_type": "code",
   "execution_count": null,
   "id": "eaf6d6f6",
   "metadata": {},
   "outputs": [],
   "source": []
  },
  {
   "cell_type": "code",
   "execution_count": null,
   "id": "cc747557",
   "metadata": {},
   "outputs": [],
   "source": []
  },
  {
   "cell_type": "code",
   "execution_count": null,
   "id": "68416f02",
   "metadata": {},
   "outputs": [],
   "source": []
  },
  {
   "cell_type": "code",
   "execution_count": null,
   "id": "e6d86202",
   "metadata": {},
   "outputs": [],
   "source": []
  },
  {
   "cell_type": "code",
   "execution_count": null,
   "id": "7fa96a38",
   "metadata": {},
   "outputs": [],
   "source": []
  },
  {
   "cell_type": "code",
   "execution_count": null,
   "id": "9a200d2b",
   "metadata": {},
   "outputs": [],
   "source": []
  },
  {
   "cell_type": "code",
   "execution_count": null,
   "id": "be5f70e2",
   "metadata": {},
   "outputs": [],
   "source": []
  },
  {
   "cell_type": "code",
   "execution_count": null,
   "id": "f82d483e",
   "metadata": {},
   "outputs": [],
   "source": []
  },
  {
   "cell_type": "code",
   "execution_count": null,
   "id": "0e25b26a",
   "metadata": {},
   "outputs": [],
   "source": []
  },
  {
   "cell_type": "code",
   "execution_count": null,
   "id": "042914de",
   "metadata": {},
   "outputs": [],
   "source": []
  },
  {
   "cell_type": "code",
   "execution_count": null,
   "id": "50ed2357",
   "metadata": {},
   "outputs": [],
   "source": []
  },
  {
   "cell_type": "code",
   "execution_count": null,
   "id": "5971c72d",
   "metadata": {},
   "outputs": [],
   "source": []
  },
  {
   "cell_type": "code",
   "execution_count": null,
   "id": "ae7e9668",
   "metadata": {},
   "outputs": [],
   "source": []
  },
  {
   "cell_type": "code",
   "execution_count": null,
   "id": "ffb74fd4",
   "metadata": {},
   "outputs": [],
   "source": []
  },
  {
   "cell_type": "code",
   "execution_count": null,
   "id": "2ac05625",
   "metadata": {},
   "outputs": [],
   "source": []
  },
  {
   "cell_type": "code",
   "execution_count": null,
   "id": "4cf1198a",
   "metadata": {},
   "outputs": [],
   "source": []
  },
  {
   "cell_type": "code",
   "execution_count": null,
   "id": "5304b63c",
   "metadata": {},
   "outputs": [],
   "source": []
  },
  {
   "cell_type": "code",
   "execution_count": null,
   "id": "a0d4fea3",
   "metadata": {},
   "outputs": [],
   "source": []
  },
  {
   "cell_type": "code",
   "execution_count": null,
   "id": "4f5be6f1",
   "metadata": {},
   "outputs": [],
   "source": []
  },
  {
   "cell_type": "code",
   "execution_count": null,
   "id": "edb2bd1b",
   "metadata": {},
   "outputs": [],
   "source": []
  },
  {
   "cell_type": "code",
   "execution_count": null,
   "id": "d58603ad",
   "metadata": {},
   "outputs": [],
   "source": []
  },
  {
   "cell_type": "code",
   "execution_count": null,
   "id": "ee027ed0",
   "metadata": {},
   "outputs": [],
   "source": []
  },
  {
   "cell_type": "code",
   "execution_count": null,
   "id": "6757a255",
   "metadata": {},
   "outputs": [],
   "source": []
  },
  {
   "cell_type": "code",
   "execution_count": null,
   "id": "3e96dda5",
   "metadata": {},
   "outputs": [],
   "source": []
  },
  {
   "cell_type": "code",
   "execution_count": null,
   "id": "7b1fcffa",
   "metadata": {},
   "outputs": [],
   "source": []
  },
  {
   "cell_type": "code",
   "execution_count": null,
   "id": "94dfa07d",
   "metadata": {},
   "outputs": [],
   "source": []
  },
  {
   "cell_type": "code",
   "execution_count": null,
   "id": "1c069182",
   "metadata": {},
   "outputs": [],
   "source": []
  },
  {
   "cell_type": "code",
   "execution_count": null,
   "id": "2e01e73d",
   "metadata": {},
   "outputs": [],
   "source": []
  },
  {
   "cell_type": "code",
   "execution_count": null,
   "id": "29fdc7ca",
   "metadata": {},
   "outputs": [],
   "source": []
  },
  {
   "cell_type": "code",
   "execution_count": null,
   "id": "9d2cad35",
   "metadata": {},
   "outputs": [],
   "source": []
  },
  {
   "cell_type": "code",
   "execution_count": null,
   "id": "c154678b",
   "metadata": {},
   "outputs": [],
   "source": []
  },
  {
   "cell_type": "code",
   "execution_count": null,
   "id": "7ad3bef6",
   "metadata": {},
   "outputs": [],
   "source": []
  },
  {
   "cell_type": "code",
   "execution_count": null,
   "id": "aba16c86",
   "metadata": {},
   "outputs": [],
   "source": []
  },
  {
   "cell_type": "code",
   "execution_count": null,
   "id": "b828e4a0",
   "metadata": {},
   "outputs": [],
   "source": []
  },
  {
   "cell_type": "code",
   "execution_count": null,
   "id": "beb1e95c",
   "metadata": {},
   "outputs": [],
   "source": []
  },
  {
   "cell_type": "code",
   "execution_count": null,
   "id": "c3a46cc5",
   "metadata": {},
   "outputs": [],
   "source": []
  },
  {
   "cell_type": "code",
   "execution_count": null,
   "id": "25584e46",
   "metadata": {},
   "outputs": [],
   "source": []
  },
  {
   "cell_type": "code",
   "execution_count": null,
   "id": "3a448520",
   "metadata": {},
   "outputs": [],
   "source": []
  },
  {
   "cell_type": "code",
   "execution_count": null,
   "id": "8cde2836",
   "metadata": {},
   "outputs": [],
   "source": []
  },
  {
   "cell_type": "code",
   "execution_count": null,
   "id": "61b3576d",
   "metadata": {},
   "outputs": [],
   "source": []
  },
  {
   "cell_type": "code",
   "execution_count": null,
   "id": "629a3443",
   "metadata": {},
   "outputs": [],
   "source": []
  },
  {
   "cell_type": "code",
   "execution_count": null,
   "id": "68551a1b",
   "metadata": {},
   "outputs": [],
   "source": []
  },
  {
   "cell_type": "code",
   "execution_count": null,
   "id": "e2a3aec1",
   "metadata": {},
   "outputs": [],
   "source": []
  },
  {
   "cell_type": "code",
   "execution_count": null,
   "id": "14555ccb",
   "metadata": {},
   "outputs": [],
   "source": []
  },
  {
   "cell_type": "code",
   "execution_count": null,
   "id": "cb6f0506",
   "metadata": {},
   "outputs": [],
   "source": []
  },
  {
   "cell_type": "code",
   "execution_count": null,
   "id": "b37c8943",
   "metadata": {},
   "outputs": [],
   "source": []
  },
  {
   "cell_type": "code",
   "execution_count": null,
   "id": "b78bbb6a",
   "metadata": {},
   "outputs": [],
   "source": []
  },
  {
   "cell_type": "code",
   "execution_count": null,
   "id": "d4075426",
   "metadata": {},
   "outputs": [],
   "source": []
  },
  {
   "cell_type": "code",
   "execution_count": null,
   "id": "3cb5451c",
   "metadata": {},
   "outputs": [],
   "source": []
  },
  {
   "cell_type": "code",
   "execution_count": null,
   "id": "51fcb652",
   "metadata": {},
   "outputs": [],
   "source": []
  },
  {
   "cell_type": "code",
   "execution_count": null,
   "id": "4cac4e98",
   "metadata": {},
   "outputs": [],
   "source": []
  },
  {
   "cell_type": "code",
   "execution_count": null,
   "id": "fd7dc0a5",
   "metadata": {},
   "outputs": [],
   "source": []
  },
  {
   "cell_type": "code",
   "execution_count": null,
   "id": "52235a9b",
   "metadata": {},
   "outputs": [],
   "source": []
  },
  {
   "cell_type": "code",
   "execution_count": null,
   "id": "3d5dd9f6",
   "metadata": {},
   "outputs": [],
   "source": []
  },
  {
   "cell_type": "code",
   "execution_count": null,
   "id": "4f5b2d6f",
   "metadata": {},
   "outputs": [],
   "source": []
  },
  {
   "cell_type": "code",
   "execution_count": null,
   "id": "4f2e6dd5",
   "metadata": {},
   "outputs": [],
   "source": []
  },
  {
   "cell_type": "code",
   "execution_count": null,
   "id": "41f41add",
   "metadata": {},
   "outputs": [],
   "source": []
  },
  {
   "cell_type": "code",
   "execution_count": null,
   "id": "b5b8dad0",
   "metadata": {},
   "outputs": [],
   "source": []
  },
  {
   "cell_type": "code",
   "execution_count": null,
   "id": "6af119b1",
   "metadata": {},
   "outputs": [],
   "source": []
  },
  {
   "cell_type": "code",
   "execution_count": null,
   "id": "f443579c",
   "metadata": {},
   "outputs": [],
   "source": []
  },
  {
   "cell_type": "code",
   "execution_count": null,
   "id": "ec63313c",
   "metadata": {},
   "outputs": [],
   "source": []
  },
  {
   "cell_type": "code",
   "execution_count": null,
   "id": "0cd0fa9e",
   "metadata": {},
   "outputs": [],
   "source": []
  },
  {
   "cell_type": "code",
   "execution_count": null,
   "id": "7c8dfc2c",
   "metadata": {},
   "outputs": [],
   "source": []
  },
  {
   "cell_type": "code",
   "execution_count": null,
   "id": "eef6e6e2",
   "metadata": {},
   "outputs": [],
   "source": []
  },
  {
   "cell_type": "code",
   "execution_count": null,
   "id": "6a61d20c",
   "metadata": {},
   "outputs": [],
   "source": []
  },
  {
   "cell_type": "code",
   "execution_count": null,
   "id": "ee8676fe",
   "metadata": {},
   "outputs": [],
   "source": []
  },
  {
   "cell_type": "code",
   "execution_count": null,
   "id": "2cf00e00",
   "metadata": {},
   "outputs": [],
   "source": []
  },
  {
   "cell_type": "code",
   "execution_count": null,
   "id": "552dd2e7",
   "metadata": {},
   "outputs": [],
   "source": []
  },
  {
   "cell_type": "code",
   "execution_count": null,
   "id": "09818023",
   "metadata": {},
   "outputs": [],
   "source": []
  },
  {
   "cell_type": "code",
   "execution_count": null,
   "id": "7de9d014",
   "metadata": {},
   "outputs": [],
   "source": []
  },
  {
   "cell_type": "code",
   "execution_count": null,
   "id": "268d394d",
   "metadata": {},
   "outputs": [],
   "source": []
  },
  {
   "cell_type": "code",
   "execution_count": null,
   "id": "897de688",
   "metadata": {},
   "outputs": [],
   "source": []
  },
  {
   "cell_type": "code",
   "execution_count": null,
   "id": "82f3a246",
   "metadata": {},
   "outputs": [],
   "source": []
  },
  {
   "cell_type": "code",
   "execution_count": null,
   "id": "c4f61e4e",
   "metadata": {},
   "outputs": [],
   "source": []
  },
  {
   "cell_type": "code",
   "execution_count": null,
   "id": "b85b0d3d",
   "metadata": {},
   "outputs": [],
   "source": []
  },
  {
   "cell_type": "code",
   "execution_count": null,
   "id": "1535b913",
   "metadata": {},
   "outputs": [],
   "source": []
  },
  {
   "cell_type": "code",
   "execution_count": null,
   "id": "71fa93ac",
   "metadata": {},
   "outputs": [],
   "source": []
  },
  {
   "cell_type": "code",
   "execution_count": null,
   "id": "aeb2b513",
   "metadata": {},
   "outputs": [],
   "source": []
  },
  {
   "cell_type": "code",
   "execution_count": null,
   "id": "d6799675",
   "metadata": {},
   "outputs": [],
   "source": []
  },
  {
   "cell_type": "code",
   "execution_count": null,
   "id": "49c62d9b",
   "metadata": {},
   "outputs": [],
   "source": []
  },
  {
   "cell_type": "code",
   "execution_count": null,
   "id": "6e8a030d",
   "metadata": {},
   "outputs": [],
   "source": []
  },
  {
   "cell_type": "code",
   "execution_count": null,
   "id": "e24b2966",
   "metadata": {},
   "outputs": [],
   "source": []
  },
  {
   "cell_type": "code",
   "execution_count": null,
   "id": "02367c0e",
   "metadata": {},
   "outputs": [],
   "source": []
  },
  {
   "cell_type": "code",
   "execution_count": null,
   "id": "a9c4dc39",
   "metadata": {},
   "outputs": [],
   "source": []
  },
  {
   "cell_type": "code",
   "execution_count": null,
   "id": "9939f0ce",
   "metadata": {},
   "outputs": [],
   "source": []
  },
  {
   "cell_type": "code",
   "execution_count": null,
   "id": "37b7179e",
   "metadata": {},
   "outputs": [],
   "source": []
  },
  {
   "cell_type": "code",
   "execution_count": null,
   "id": "df43aae3",
   "metadata": {},
   "outputs": [],
   "source": []
  },
  {
   "cell_type": "code",
   "execution_count": null,
   "id": "45857fff",
   "metadata": {},
   "outputs": [],
   "source": []
  },
  {
   "cell_type": "code",
   "execution_count": null,
   "id": "f99f5a2a",
   "metadata": {},
   "outputs": [],
   "source": []
  },
  {
   "cell_type": "code",
   "execution_count": null,
   "id": "4d1bafcd",
   "metadata": {},
   "outputs": [],
   "source": []
  },
  {
   "cell_type": "code",
   "execution_count": null,
   "id": "04282a45",
   "metadata": {},
   "outputs": [],
   "source": []
  },
  {
   "cell_type": "code",
   "execution_count": null,
   "id": "b9cbb3bb",
   "metadata": {},
   "outputs": [],
   "source": []
  },
  {
   "cell_type": "code",
   "execution_count": null,
   "id": "98505063",
   "metadata": {},
   "outputs": [],
   "source": []
  },
  {
   "cell_type": "code",
   "execution_count": null,
   "id": "12c34e8a",
   "metadata": {},
   "outputs": [],
   "source": []
  },
  {
   "cell_type": "code",
   "execution_count": null,
   "id": "fd59c0bf",
   "metadata": {},
   "outputs": [],
   "source": []
  },
  {
   "cell_type": "code",
   "execution_count": null,
   "id": "85ae1df7",
   "metadata": {},
   "outputs": [],
   "source": []
  },
  {
   "cell_type": "code",
   "execution_count": null,
   "id": "394a08d2",
   "metadata": {},
   "outputs": [],
   "source": []
  },
  {
   "cell_type": "code",
   "execution_count": null,
   "id": "170b0f94",
   "metadata": {},
   "outputs": [],
   "source": []
  },
  {
   "cell_type": "code",
   "execution_count": null,
   "id": "35f0858b",
   "metadata": {},
   "outputs": [],
   "source": []
  },
  {
   "cell_type": "code",
   "execution_count": null,
   "id": "7a23ab7b",
   "metadata": {},
   "outputs": [],
   "source": []
  },
  {
   "cell_type": "code",
   "execution_count": null,
   "id": "a0ad4917",
   "metadata": {},
   "outputs": [],
   "source": []
  },
  {
   "cell_type": "code",
   "execution_count": null,
   "id": "b3003554",
   "metadata": {},
   "outputs": [],
   "source": []
  },
  {
   "cell_type": "code",
   "execution_count": null,
   "id": "1ffe0064",
   "metadata": {},
   "outputs": [],
   "source": []
  },
  {
   "cell_type": "code",
   "execution_count": null,
   "id": "20502c8e",
   "metadata": {},
   "outputs": [],
   "source": []
  },
  {
   "cell_type": "code",
   "execution_count": null,
   "id": "e91a120e",
   "metadata": {},
   "outputs": [],
   "source": []
  },
  {
   "cell_type": "code",
   "execution_count": null,
   "id": "fe3d8775",
   "metadata": {},
   "outputs": [],
   "source": []
  },
  {
   "cell_type": "code",
   "execution_count": null,
   "id": "ea646fc2",
   "metadata": {},
   "outputs": [],
   "source": []
  },
  {
   "cell_type": "code",
   "execution_count": null,
   "id": "bf525a51",
   "metadata": {},
   "outputs": [],
   "source": []
  },
  {
   "cell_type": "code",
   "execution_count": null,
   "id": "6a0ab755",
   "metadata": {},
   "outputs": [],
   "source": []
  },
  {
   "cell_type": "code",
   "execution_count": null,
   "id": "0c1ee6c7",
   "metadata": {},
   "outputs": [],
   "source": []
  },
  {
   "cell_type": "code",
   "execution_count": null,
   "id": "64f8c870",
   "metadata": {},
   "outputs": [],
   "source": []
  },
  {
   "cell_type": "code",
   "execution_count": null,
   "id": "5cd8d1b6",
   "metadata": {},
   "outputs": [],
   "source": []
  },
  {
   "cell_type": "code",
   "execution_count": null,
   "id": "a9d1b223",
   "metadata": {},
   "outputs": [],
   "source": []
  },
  {
   "cell_type": "code",
   "execution_count": null,
   "id": "2de88dab",
   "metadata": {},
   "outputs": [],
   "source": []
  },
  {
   "cell_type": "code",
   "execution_count": null,
   "id": "41f9709a",
   "metadata": {},
   "outputs": [],
   "source": []
  },
  {
   "cell_type": "code",
   "execution_count": null,
   "id": "de9b4fc1",
   "metadata": {},
   "outputs": [],
   "source": []
  },
  {
   "cell_type": "code",
   "execution_count": null,
   "id": "bfcef5a5",
   "metadata": {},
   "outputs": [],
   "source": []
  },
  {
   "cell_type": "code",
   "execution_count": null,
   "id": "18952932",
   "metadata": {},
   "outputs": [],
   "source": []
  },
  {
   "cell_type": "code",
   "execution_count": null,
   "id": "bf385387",
   "metadata": {},
   "outputs": [],
   "source": []
  },
  {
   "cell_type": "code",
   "execution_count": null,
   "id": "0e845da8",
   "metadata": {},
   "outputs": [],
   "source": []
  },
  {
   "cell_type": "code",
   "execution_count": null,
   "id": "79b487de",
   "metadata": {},
   "outputs": [],
   "source": []
  },
  {
   "cell_type": "code",
   "execution_count": null,
   "id": "8e9add8f",
   "metadata": {},
   "outputs": [],
   "source": []
  },
  {
   "cell_type": "code",
   "execution_count": null,
   "id": "93e77416",
   "metadata": {},
   "outputs": [],
   "source": []
  },
  {
   "cell_type": "code",
   "execution_count": null,
   "id": "f175e84e",
   "metadata": {},
   "outputs": [],
   "source": []
  },
  {
   "cell_type": "code",
   "execution_count": null,
   "id": "4e95bf49",
   "metadata": {},
   "outputs": [],
   "source": []
  },
  {
   "cell_type": "code",
   "execution_count": null,
   "id": "f2b580c9",
   "metadata": {},
   "outputs": [],
   "source": []
  },
  {
   "cell_type": "code",
   "execution_count": null,
   "id": "a545ed80",
   "metadata": {},
   "outputs": [],
   "source": []
  },
  {
   "cell_type": "code",
   "execution_count": null,
   "id": "1c562285",
   "metadata": {},
   "outputs": [],
   "source": []
  },
  {
   "cell_type": "code",
   "execution_count": null,
   "id": "abe43597",
   "metadata": {},
   "outputs": [],
   "source": []
  },
  {
   "cell_type": "code",
   "execution_count": null,
   "id": "17d3db75",
   "metadata": {},
   "outputs": [],
   "source": []
  },
  {
   "cell_type": "code",
   "execution_count": null,
   "id": "ee9c0ba2",
   "metadata": {},
   "outputs": [],
   "source": []
  },
  {
   "cell_type": "code",
   "execution_count": null,
   "id": "dacbd4dc",
   "metadata": {},
   "outputs": [],
   "source": []
  },
  {
   "cell_type": "code",
   "execution_count": null,
   "id": "e95153cf",
   "metadata": {},
   "outputs": [],
   "source": []
  },
  {
   "cell_type": "code",
   "execution_count": null,
   "id": "411bbcc1",
   "metadata": {},
   "outputs": [],
   "source": []
  },
  {
   "cell_type": "code",
   "execution_count": null,
   "id": "026d16ff",
   "metadata": {},
   "outputs": [],
   "source": []
  },
  {
   "cell_type": "code",
   "execution_count": null,
   "id": "8e9a5518",
   "metadata": {},
   "outputs": [],
   "source": []
  },
  {
   "cell_type": "code",
   "execution_count": null,
   "id": "9616a5b9",
   "metadata": {},
   "outputs": [],
   "source": []
  },
  {
   "cell_type": "code",
   "execution_count": null,
   "id": "5016a8fe",
   "metadata": {},
   "outputs": [],
   "source": []
  },
  {
   "cell_type": "code",
   "execution_count": null,
   "id": "99b6e833",
   "metadata": {},
   "outputs": [],
   "source": []
  },
  {
   "cell_type": "code",
   "execution_count": null,
   "id": "fa632cfd",
   "metadata": {},
   "outputs": [],
   "source": []
  },
  {
   "cell_type": "code",
   "execution_count": null,
   "id": "88b5a95c",
   "metadata": {},
   "outputs": [],
   "source": []
  },
  {
   "cell_type": "code",
   "execution_count": null,
   "id": "8974aec1",
   "metadata": {},
   "outputs": [],
   "source": []
  },
  {
   "cell_type": "code",
   "execution_count": null,
   "id": "75d1fb11",
   "metadata": {},
   "outputs": [],
   "source": []
  },
  {
   "cell_type": "code",
   "execution_count": null,
   "id": "c0532090",
   "metadata": {},
   "outputs": [],
   "source": []
  },
  {
   "cell_type": "code",
   "execution_count": null,
   "id": "8604446d",
   "metadata": {},
   "outputs": [],
   "source": []
  },
  {
   "cell_type": "code",
   "execution_count": null,
   "id": "adf7bdd3",
   "metadata": {},
   "outputs": [],
   "source": []
  },
  {
   "cell_type": "code",
   "execution_count": null,
   "id": "8ef05cd7",
   "metadata": {},
   "outputs": [],
   "source": []
  },
  {
   "cell_type": "code",
   "execution_count": null,
   "id": "238e1acf",
   "metadata": {},
   "outputs": [],
   "source": []
  },
  {
   "cell_type": "code",
   "execution_count": null,
   "id": "bba4caea",
   "metadata": {},
   "outputs": [],
   "source": []
  },
  {
   "cell_type": "code",
   "execution_count": null,
   "id": "9d9a4f11",
   "metadata": {},
   "outputs": [],
   "source": []
  },
  {
   "cell_type": "code",
   "execution_count": null,
   "id": "0628778c",
   "metadata": {},
   "outputs": [],
   "source": []
  },
  {
   "cell_type": "code",
   "execution_count": null,
   "id": "0fd5cac4",
   "metadata": {},
   "outputs": [],
   "source": []
  },
  {
   "cell_type": "code",
   "execution_count": null,
   "id": "46c80059",
   "metadata": {},
   "outputs": [],
   "source": []
  },
  {
   "cell_type": "code",
   "execution_count": null,
   "id": "e32ca11a",
   "metadata": {},
   "outputs": [],
   "source": []
  },
  {
   "cell_type": "code",
   "execution_count": null,
   "id": "6de9b032",
   "metadata": {},
   "outputs": [],
   "source": []
  },
  {
   "cell_type": "code",
   "execution_count": null,
   "id": "6cd84333",
   "metadata": {},
   "outputs": [],
   "source": []
  },
  {
   "cell_type": "code",
   "execution_count": null,
   "id": "5073b88f",
   "metadata": {},
   "outputs": [],
   "source": []
  },
  {
   "cell_type": "code",
   "execution_count": null,
   "id": "659d0bde",
   "metadata": {},
   "outputs": [],
   "source": []
  },
  {
   "cell_type": "code",
   "execution_count": null,
   "id": "39fdc4a4",
   "metadata": {},
   "outputs": [],
   "source": []
  },
  {
   "cell_type": "code",
   "execution_count": null,
   "id": "d726d68f",
   "metadata": {},
   "outputs": [],
   "source": []
  },
  {
   "cell_type": "code",
   "execution_count": null,
   "id": "cd8d73a5",
   "metadata": {},
   "outputs": [],
   "source": []
  },
  {
   "cell_type": "code",
   "execution_count": null,
   "id": "d449a410",
   "metadata": {},
   "outputs": [],
   "source": []
  },
  {
   "cell_type": "code",
   "execution_count": null,
   "id": "e6ddebd4",
   "metadata": {},
   "outputs": [],
   "source": []
  },
  {
   "cell_type": "code",
   "execution_count": null,
   "id": "2f551c18",
   "metadata": {},
   "outputs": [],
   "source": []
  },
  {
   "cell_type": "code",
   "execution_count": null,
   "id": "886bc644",
   "metadata": {},
   "outputs": [],
   "source": []
  },
  {
   "cell_type": "code",
   "execution_count": null,
   "id": "4182e7c8",
   "metadata": {},
   "outputs": [],
   "source": []
  },
  {
   "cell_type": "code",
   "execution_count": null,
   "id": "d1d5c2f3",
   "metadata": {},
   "outputs": [],
   "source": []
  },
  {
   "cell_type": "code",
   "execution_count": null,
   "id": "7547ffb0",
   "metadata": {},
   "outputs": [],
   "source": []
  },
  {
   "cell_type": "code",
   "execution_count": null,
   "id": "ae4e9c4d",
   "metadata": {},
   "outputs": [],
   "source": []
  },
  {
   "cell_type": "code",
   "execution_count": null,
   "id": "83ff8fab",
   "metadata": {},
   "outputs": [],
   "source": []
  },
  {
   "cell_type": "code",
   "execution_count": null,
   "id": "9ea4040c",
   "metadata": {},
   "outputs": [],
   "source": []
  },
  {
   "cell_type": "code",
   "execution_count": null,
   "id": "e90dadf2",
   "metadata": {},
   "outputs": [],
   "source": []
  },
  {
   "cell_type": "code",
   "execution_count": null,
   "id": "b7402482",
   "metadata": {},
   "outputs": [],
   "source": []
  },
  {
   "cell_type": "code",
   "execution_count": null,
   "id": "4c8f611b",
   "metadata": {},
   "outputs": [],
   "source": [
    "\n",
    "\n",
    "\n",
    "\n",
    "\n",
    "\n",
    "\n",
    "\n",
    "\n",
    "\n",
    "\n",
    "\n",
    "\n",
    "\n",
    "\n",
    "\n",
    "\n",
    "\n",
    "\n",
    "\n",
    "\n",
    "\n",
    "\n",
    "\n",
    "\n",
    "\n",
    "\n",
    "\n",
    "\n",
    "\n",
    "\n",
    "\n",
    "\n",
    "\n",
    "\n",
    "\n",
    "\n",
    "\n",
    "\n",
    "\n",
    "\n",
    "\n",
    "\n",
    "\n",
    "\n",
    "\n",
    "\n",
    "\n",
    "\n",
    "\n",
    "\n",
    "\n",
    "\n",
    "\n",
    "\n",
    "\n",
    "\n",
    "\n",
    "\n",
    "\n",
    "\n",
    "\n",
    "\n",
    "\n",
    "\n",
    "\n",
    "\n",
    "\n",
    "\n",
    "\n",
    "\n",
    "\n",
    "\n",
    "\n",
    "\n",
    "\n",
    "\n",
    "\n",
    "\n",
    "\n",
    "\n",
    "\n",
    "\n",
    "\n",
    "\n",
    "\n",
    "\n",
    "\n",
    "\n",
    "\n",
    "\n",
    "\n"
   ]
  }
 ],
 "metadata": {
  "availableInstances": [
   {
    "_defaultOrder": 0,
    "_isFastLaunch": true,
    "category": "General purpose",
    "gpuNum": 0,
    "hideHardwareSpecs": false,
    "memoryGiB": 4,
    "name": "ml.t3.medium",
    "vcpuNum": 2
   },
   {
    "_defaultOrder": 1,
    "_isFastLaunch": false,
    "category": "General purpose",
    "gpuNum": 0,
    "hideHardwareSpecs": false,
    "memoryGiB": 8,
    "name": "ml.t3.large",
    "vcpuNum": 2
   },
   {
    "_defaultOrder": 2,
    "_isFastLaunch": false,
    "category": "General purpose",
    "gpuNum": 0,
    "hideHardwareSpecs": false,
    "memoryGiB": 16,
    "name": "ml.t3.xlarge",
    "vcpuNum": 4
   },
   {
    "_defaultOrder": 3,
    "_isFastLaunch": false,
    "category": "General purpose",
    "gpuNum": 0,
    "hideHardwareSpecs": false,
    "memoryGiB": 32,
    "name": "ml.t3.2xlarge",
    "vcpuNum": 8
   },
   {
    "_defaultOrder": 4,
    "_isFastLaunch": true,
    "category": "General purpose",
    "gpuNum": 0,
    "hideHardwareSpecs": false,
    "memoryGiB": 8,
    "name": "ml.m5.large",
    "vcpuNum": 2
   },
   {
    "_defaultOrder": 5,
    "_isFastLaunch": false,
    "category": "General purpose",
    "gpuNum": 0,
    "hideHardwareSpecs": false,
    "memoryGiB": 16,
    "name": "ml.m5.xlarge",
    "vcpuNum": 4
   },
   {
    "_defaultOrder": 6,
    "_isFastLaunch": false,
    "category": "General purpose",
    "gpuNum": 0,
    "hideHardwareSpecs": false,
    "memoryGiB": 32,
    "name": "ml.m5.2xlarge",
    "vcpuNum": 8
   },
   {
    "_defaultOrder": 7,
    "_isFastLaunch": false,
    "category": "General purpose",
    "gpuNum": 0,
    "hideHardwareSpecs": false,
    "memoryGiB": 64,
    "name": "ml.m5.4xlarge",
    "vcpuNum": 16
   },
   {
    "_defaultOrder": 8,
    "_isFastLaunch": false,
    "category": "General purpose",
    "gpuNum": 0,
    "hideHardwareSpecs": false,
    "memoryGiB": 128,
    "name": "ml.m5.8xlarge",
    "vcpuNum": 32
   },
   {
    "_defaultOrder": 9,
    "_isFastLaunch": false,
    "category": "General purpose",
    "gpuNum": 0,
    "hideHardwareSpecs": false,
    "memoryGiB": 192,
    "name": "ml.m5.12xlarge",
    "vcpuNum": 48
   },
   {
    "_defaultOrder": 10,
    "_isFastLaunch": false,
    "category": "General purpose",
    "gpuNum": 0,
    "hideHardwareSpecs": false,
    "memoryGiB": 256,
    "name": "ml.m5.16xlarge",
    "vcpuNum": 64
   },
   {
    "_defaultOrder": 11,
    "_isFastLaunch": false,
    "category": "General purpose",
    "gpuNum": 0,
    "hideHardwareSpecs": false,
    "memoryGiB": 384,
    "name": "ml.m5.24xlarge",
    "vcpuNum": 96
   },
   {
    "_defaultOrder": 12,
    "_isFastLaunch": false,
    "category": "General purpose",
    "gpuNum": 0,
    "hideHardwareSpecs": false,
    "memoryGiB": 8,
    "name": "ml.m5d.large",
    "vcpuNum": 2
   },
   {
    "_defaultOrder": 13,
    "_isFastLaunch": false,
    "category": "General purpose",
    "gpuNum": 0,
    "hideHardwareSpecs": false,
    "memoryGiB": 16,
    "name": "ml.m5d.xlarge",
    "vcpuNum": 4
   },
   {
    "_defaultOrder": 14,
    "_isFastLaunch": false,
    "category": "General purpose",
    "gpuNum": 0,
    "hideHardwareSpecs": false,
    "memoryGiB": 32,
    "name": "ml.m5d.2xlarge",
    "vcpuNum": 8
   },
   {
    "_defaultOrder": 15,
    "_isFastLaunch": false,
    "category": "General purpose",
    "gpuNum": 0,
    "hideHardwareSpecs": false,
    "memoryGiB": 64,
    "name": "ml.m5d.4xlarge",
    "vcpuNum": 16
   },
   {
    "_defaultOrder": 16,
    "_isFastLaunch": false,
    "category": "General purpose",
    "gpuNum": 0,
    "hideHardwareSpecs": false,
    "memoryGiB": 128,
    "name": "ml.m5d.8xlarge",
    "vcpuNum": 32
   },
   {
    "_defaultOrder": 17,
    "_isFastLaunch": false,
    "category": "General purpose",
    "gpuNum": 0,
    "hideHardwareSpecs": false,
    "memoryGiB": 192,
    "name": "ml.m5d.12xlarge",
    "vcpuNum": 48
   },
   {
    "_defaultOrder": 18,
    "_isFastLaunch": false,
    "category": "General purpose",
    "gpuNum": 0,
    "hideHardwareSpecs": false,
    "memoryGiB": 256,
    "name": "ml.m5d.16xlarge",
    "vcpuNum": 64
   },
   {
    "_defaultOrder": 19,
    "_isFastLaunch": false,
    "category": "General purpose",
    "gpuNum": 0,
    "hideHardwareSpecs": false,
    "memoryGiB": 384,
    "name": "ml.m5d.24xlarge",
    "vcpuNum": 96
   },
   {
    "_defaultOrder": 20,
    "_isFastLaunch": false,
    "category": "General purpose",
    "gpuNum": 0,
    "hideHardwareSpecs": true,
    "memoryGiB": 0,
    "name": "ml.geospatial.interactive",
    "supportedImageNames": [
     "sagemaker-geospatial-v1-0"
    ],
    "vcpuNum": 0
   },
   {
    "_defaultOrder": 21,
    "_isFastLaunch": true,
    "category": "Compute optimized",
    "gpuNum": 0,
    "hideHardwareSpecs": false,
    "memoryGiB": 4,
    "name": "ml.c5.large",
    "vcpuNum": 2
   },
   {
    "_defaultOrder": 22,
    "_isFastLaunch": false,
    "category": "Compute optimized",
    "gpuNum": 0,
    "hideHardwareSpecs": false,
    "memoryGiB": 8,
    "name": "ml.c5.xlarge",
    "vcpuNum": 4
   },
   {
    "_defaultOrder": 23,
    "_isFastLaunch": false,
    "category": "Compute optimized",
    "gpuNum": 0,
    "hideHardwareSpecs": false,
    "memoryGiB": 16,
    "name": "ml.c5.2xlarge",
    "vcpuNum": 8
   },
   {
    "_defaultOrder": 24,
    "_isFastLaunch": false,
    "category": "Compute optimized",
    "gpuNum": 0,
    "hideHardwareSpecs": false,
    "memoryGiB": 32,
    "name": "ml.c5.4xlarge",
    "vcpuNum": 16
   },
   {
    "_defaultOrder": 25,
    "_isFastLaunch": false,
    "category": "Compute optimized",
    "gpuNum": 0,
    "hideHardwareSpecs": false,
    "memoryGiB": 72,
    "name": "ml.c5.9xlarge",
    "vcpuNum": 36
   },
   {
    "_defaultOrder": 26,
    "_isFastLaunch": false,
    "category": "Compute optimized",
    "gpuNum": 0,
    "hideHardwareSpecs": false,
    "memoryGiB": 96,
    "name": "ml.c5.12xlarge",
    "vcpuNum": 48
   },
   {
    "_defaultOrder": 27,
    "_isFastLaunch": false,
    "category": "Compute optimized",
    "gpuNum": 0,
    "hideHardwareSpecs": false,
    "memoryGiB": 144,
    "name": "ml.c5.18xlarge",
    "vcpuNum": 72
   },
   {
    "_defaultOrder": 28,
    "_isFastLaunch": false,
    "category": "Compute optimized",
    "gpuNum": 0,
    "hideHardwareSpecs": false,
    "memoryGiB": 192,
    "name": "ml.c5.24xlarge",
    "vcpuNum": 96
   },
   {
    "_defaultOrder": 29,
    "_isFastLaunch": true,
    "category": "Accelerated computing",
    "gpuNum": 1,
    "hideHardwareSpecs": false,
    "memoryGiB": 16,
    "name": "ml.g4dn.xlarge",
    "vcpuNum": 4
   },
   {
    "_defaultOrder": 30,
    "_isFastLaunch": false,
    "category": "Accelerated computing",
    "gpuNum": 1,
    "hideHardwareSpecs": false,
    "memoryGiB": 32,
    "name": "ml.g4dn.2xlarge",
    "vcpuNum": 8
   },
   {
    "_defaultOrder": 31,
    "_isFastLaunch": false,
    "category": "Accelerated computing",
    "gpuNum": 1,
    "hideHardwareSpecs": false,
    "memoryGiB": 64,
    "name": "ml.g4dn.4xlarge",
    "vcpuNum": 16
   },
   {
    "_defaultOrder": 32,
    "_isFastLaunch": false,
    "category": "Accelerated computing",
    "gpuNum": 1,
    "hideHardwareSpecs": false,
    "memoryGiB": 128,
    "name": "ml.g4dn.8xlarge",
    "vcpuNum": 32
   },
   {
    "_defaultOrder": 33,
    "_isFastLaunch": false,
    "category": "Accelerated computing",
    "gpuNum": 4,
    "hideHardwareSpecs": false,
    "memoryGiB": 192,
    "name": "ml.g4dn.12xlarge",
    "vcpuNum": 48
   },
   {
    "_defaultOrder": 34,
    "_isFastLaunch": false,
    "category": "Accelerated computing",
    "gpuNum": 1,
    "hideHardwareSpecs": false,
    "memoryGiB": 256,
    "name": "ml.g4dn.16xlarge",
    "vcpuNum": 64
   },
   {
    "_defaultOrder": 35,
    "_isFastLaunch": false,
    "category": "Accelerated computing",
    "gpuNum": 1,
    "hideHardwareSpecs": false,
    "memoryGiB": 61,
    "name": "ml.p3.2xlarge",
    "vcpuNum": 8
   },
   {
    "_defaultOrder": 36,
    "_isFastLaunch": false,
    "category": "Accelerated computing",
    "gpuNum": 4,
    "hideHardwareSpecs": false,
    "memoryGiB": 244,
    "name": "ml.p3.8xlarge",
    "vcpuNum": 32
   },
   {
    "_defaultOrder": 37,
    "_isFastLaunch": false,
    "category": "Accelerated computing",
    "gpuNum": 8,
    "hideHardwareSpecs": false,
    "memoryGiB": 488,
    "name": "ml.p3.16xlarge",
    "vcpuNum": 64
   },
   {
    "_defaultOrder": 38,
    "_isFastLaunch": false,
    "category": "Accelerated computing",
    "gpuNum": 8,
    "hideHardwareSpecs": false,
    "memoryGiB": 768,
    "name": "ml.p3dn.24xlarge",
    "vcpuNum": 96
   },
   {
    "_defaultOrder": 39,
    "_isFastLaunch": false,
    "category": "Memory Optimized",
    "gpuNum": 0,
    "hideHardwareSpecs": false,
    "memoryGiB": 16,
    "name": "ml.r5.large",
    "vcpuNum": 2
   },
   {
    "_defaultOrder": 40,
    "_isFastLaunch": false,
    "category": "Memory Optimized",
    "gpuNum": 0,
    "hideHardwareSpecs": false,
    "memoryGiB": 32,
    "name": "ml.r5.xlarge",
    "vcpuNum": 4
   },
   {
    "_defaultOrder": 41,
    "_isFastLaunch": false,
    "category": "Memory Optimized",
    "gpuNum": 0,
    "hideHardwareSpecs": false,
    "memoryGiB": 64,
    "name": "ml.r5.2xlarge",
    "vcpuNum": 8
   },
   {
    "_defaultOrder": 42,
    "_isFastLaunch": false,
    "category": "Memory Optimized",
    "gpuNum": 0,
    "hideHardwareSpecs": false,
    "memoryGiB": 128,
    "name": "ml.r5.4xlarge",
    "vcpuNum": 16
   },
   {
    "_defaultOrder": 43,
    "_isFastLaunch": false,
    "category": "Memory Optimized",
    "gpuNum": 0,
    "hideHardwareSpecs": false,
    "memoryGiB": 256,
    "name": "ml.r5.8xlarge",
    "vcpuNum": 32
   },
   {
    "_defaultOrder": 44,
    "_isFastLaunch": false,
    "category": "Memory Optimized",
    "gpuNum": 0,
    "hideHardwareSpecs": false,
    "memoryGiB": 384,
    "name": "ml.r5.12xlarge",
    "vcpuNum": 48
   },
   {
    "_defaultOrder": 45,
    "_isFastLaunch": false,
    "category": "Memory Optimized",
    "gpuNum": 0,
    "hideHardwareSpecs": false,
    "memoryGiB": 512,
    "name": "ml.r5.16xlarge",
    "vcpuNum": 64
   },
   {
    "_defaultOrder": 46,
    "_isFastLaunch": false,
    "category": "Memory Optimized",
    "gpuNum": 0,
    "hideHardwareSpecs": false,
    "memoryGiB": 768,
    "name": "ml.r5.24xlarge",
    "vcpuNum": 96
   },
   {
    "_defaultOrder": 47,
    "_isFastLaunch": false,
    "category": "Accelerated computing",
    "gpuNum": 1,
    "hideHardwareSpecs": false,
    "memoryGiB": 16,
    "name": "ml.g5.xlarge",
    "vcpuNum": 4
   },
   {
    "_defaultOrder": 48,
    "_isFastLaunch": false,
    "category": "Accelerated computing",
    "gpuNum": 1,
    "hideHardwareSpecs": false,
    "memoryGiB": 32,
    "name": "ml.g5.2xlarge",
    "vcpuNum": 8
   },
   {
    "_defaultOrder": 49,
    "_isFastLaunch": false,
    "category": "Accelerated computing",
    "gpuNum": 1,
    "hideHardwareSpecs": false,
    "memoryGiB": 64,
    "name": "ml.g5.4xlarge",
    "vcpuNum": 16
   },
   {
    "_defaultOrder": 50,
    "_isFastLaunch": false,
    "category": "Accelerated computing",
    "gpuNum": 1,
    "hideHardwareSpecs": false,
    "memoryGiB": 128,
    "name": "ml.g5.8xlarge",
    "vcpuNum": 32
   },
   {
    "_defaultOrder": 51,
    "_isFastLaunch": false,
    "category": "Accelerated computing",
    "gpuNum": 1,
    "hideHardwareSpecs": false,
    "memoryGiB": 256,
    "name": "ml.g5.16xlarge",
    "vcpuNum": 64
   },
   {
    "_defaultOrder": 52,
    "_isFastLaunch": false,
    "category": "Accelerated computing",
    "gpuNum": 4,
    "hideHardwareSpecs": false,
    "memoryGiB": 192,
    "name": "ml.g5.12xlarge",
    "vcpuNum": 48
   },
   {
    "_defaultOrder": 53,
    "_isFastLaunch": false,
    "category": "Accelerated computing",
    "gpuNum": 4,
    "hideHardwareSpecs": false,
    "memoryGiB": 384,
    "name": "ml.g5.24xlarge",
    "vcpuNum": 96
   },
   {
    "_defaultOrder": 54,
    "_isFastLaunch": false,
    "category": "Accelerated computing",
    "gpuNum": 8,
    "hideHardwareSpecs": false,
    "memoryGiB": 768,
    "name": "ml.g5.48xlarge",
    "vcpuNum": 192
   },
   {
    "_defaultOrder": 55,
    "_isFastLaunch": false,
    "category": "Accelerated computing",
    "gpuNum": 8,
    "hideHardwareSpecs": false,
    "memoryGiB": 1152,
    "name": "ml.p4d.24xlarge",
    "vcpuNum": 96
   },
   {
    "_defaultOrder": 56,
    "_isFastLaunch": false,
    "category": "Accelerated computing",
    "gpuNum": 8,
    "hideHardwareSpecs": false,
    "memoryGiB": 1152,
    "name": "ml.p4de.24xlarge",
    "vcpuNum": 96
   },
   {
    "_defaultOrder": 57,
    "_isFastLaunch": false,
    "category": "Accelerated computing",
    "gpuNum": 0,
    "hideHardwareSpecs": false,
    "memoryGiB": 32,
    "name": "ml.trn1.2xlarge",
    "vcpuNum": 8
   },
   {
    "_defaultOrder": 58,
    "_isFastLaunch": false,
    "category": "Accelerated computing",
    "gpuNum": 0,
    "hideHardwareSpecs": false,
    "memoryGiB": 512,
    "name": "ml.trn1.32xlarge",
    "vcpuNum": 128
   },
   {
    "_defaultOrder": 59,
    "_isFastLaunch": false,
    "category": "Accelerated computing",
    "gpuNum": 0,
    "hideHardwareSpecs": false,
    "memoryGiB": 512,
    "name": "ml.trn1n.32xlarge",
    "vcpuNum": 128
   }
  ],
  "instance_type": "ml.t3.medium",
  "kernelspec": {
   "display_name": "aws_p3.10",
   "language": "python",
   "name": "python3"
  },
  "language_info": {
   "codemirror_mode": {
    "name": "ipython",
    "version": 3
   },
   "file_extension": ".py",
   "mimetype": "text/x-python",
   "name": "python",
   "nbconvert_exporter": "python",
   "pygments_lexer": "ipython3",
   "version": "3.10.14"
  }
 },
 "nbformat": 4,
 "nbformat_minor": 5
}
