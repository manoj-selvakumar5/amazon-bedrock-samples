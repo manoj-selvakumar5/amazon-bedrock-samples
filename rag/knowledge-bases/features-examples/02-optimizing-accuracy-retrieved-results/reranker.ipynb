{
 "cells": [
  {
   "cell_type": "code",
   "execution_count": 1,
   "metadata": {},
   "outputs": [],
   "source": [
    "import os\n",
    "import time\n",
    "import boto3\n",
    "import logging\n",
    "import pprint\n",
    "import json\n",
    "\n",
    "from utils.knowledge_base import BedrockKnowledgeBase"
   ]
  },
  {
   "cell_type": "code",
   "execution_count": 2,
   "metadata": {},
   "outputs": [],
   "source": [
    "# boto3.setup_default_session(region_name='us-west-2')"
   ]
  },
  {
   "cell_type": "code",
   "execution_count": 3,
   "metadata": {},
   "outputs": [
    {
     "name": "stdout",
     "output_type": "stream",
     "text": [
      "us-west-2 533267284022\n"
     ]
    }
   ],
   "source": [
    "\n",
    "# ReRanking models are available in US West 2\n",
    "# region = 'us-west-2'\n",
    "\n",
    "# Initialize clients with the specified region\n",
    "s3_client = boto3.client('s3', region_name='us-west-2')\n",
    "sts_client = boto3.client('sts', region_name='us-west-2')\n",
    "session = boto3.session.Session(region_name='us-west-2')\n",
    "region =  session.region_name\n",
    "account_id = sts_client.get_caller_identity()[\"Account\"]\n",
    "\n",
    "bedrock_agent_client = boto3.client('bedrock-agent', region_name=region)\n",
    "bedrock_agent_runtime_client = boto3.client('bedrock-agent-runtime', region_name=region)\n",
    "\n",
    "# Logging setup\n",
    "logging.basicConfig(\n",
    "    format='[%(asctime)s] p%(process)s {%(filename)s:%(lineno)d} %(levelname)s - %(message)s',\n",
    "    level=logging.INFO\n",
    ")\n",
    "logger = logging.getLogger(__name__)\n",
    "\n",
    "# Print to verify\n",
    "print(region, account_id)\n"
   ]
  },
  {
   "cell_type": "code",
   "execution_count": 4,
   "metadata": {},
   "outputs": [],
   "source": [
    "import time\n",
    "\n",
    "# Get the current timestamp\n",
    "current_time = time.time()\n",
    "\n",
    "# Format the timestamp as a string\n",
    "timestamp_str = time.strftime(\"%Y%m%d%H%M%S\", time.localtime(current_time))[-7:]\n",
    "# Create the suffix using the timestamp\n",
    "suffix = f\"{timestamp_str}\"\n",
    "knowledge_base_name = 'reranker-kb'\n",
    "knowledge_base_description = \"Knowledge Base containing files to demonstrate the reranker feature\"\n",
    "bucket_name = f'{knowledge_base_name}-{suffix}'\n"
   ]
  },
  {
   "cell_type": "code",
   "execution_count": 5,
   "metadata": {},
   "outputs": [],
   "source": [
    "TEXT_GENERATION_MODEL_ID = \"anthropic.claude-3-sonnet-20240229-v1:0\"\n",
    "\n",
    "# Reranker model: there are two reranker models available at launch\n",
    "AMAZON_RERANKER_MODEL = \"arn:aws:bedrock:us-west-2::foundation-model/amazon.rerank-v1:0\"\n",
    "COHERE_RERANKER_MODEL = \"arn:aws:bedrock:us-west-2::foundation-model/cohere.rerank-v3-5:0\""
   ]
  },
  {
   "cell_type": "code",
   "execution_count": 6,
   "metadata": {},
   "outputs": [
    {
     "name": "stderr",
     "output_type": "stream",
     "text": [
      "[2024-12-12 08:26:46,126] p21922 {credentials.py:1278} INFO - Found credentials in shared credentials file: ~/.aws/credentials\n",
      "[2024-12-12 08:26:47,850] p21922 {credentials.py:1278} INFO - Found credentials in shared credentials file: ~/.aws/credentials\n"
     ]
    },
    {
     "name": "stdout",
     "output_type": "stream",
     "text": [
      "========================================================================================\n",
      "\n",
      " Region:  us-west-2\n",
      "Step 1 - Creating or retrieving S3 bucket(s) for Knowledge Base documents\n",
      "['reranker-kb-2082646']\n",
      "Creating bucket reranker-kb-2082646\n",
      "========================================================================================\n",
      "Step 2 - Creating Knowledge Base Execution Role (AmazonBedrockExecutionRoleForKnowledgeBase_2082646) and Policies\n",
      "========================================================================================\n",
      "Step 3 - Creating OSS encryption, network and data access policies\n",
      "========================================================================================\n",
      "Step 4 - Creating OSS Collection (this step takes a couple of minutes to complete)\n",
      "{ 'ResponseMetadata': { 'HTTPHeaders': { 'connection': 'keep-alive',\n",
      "                                         'content-length': '318',\n",
      "                                         'content-type': 'application/x-amz-json-1.0',\n",
      "                                         'date': 'Thu, 12 Dec 2024 16:26:51 '\n",
      "                                                 'GMT',\n",
      "                                         'x-amzn-requestid': '26cbbb4c-5f65-437e-bb98-f466a8e7df3b'},\n",
      "                        'HTTPStatusCode': 200,\n",
      "                        'RequestId': '26cbbb4c-5f65-437e-bb98-f466a8e7df3b',\n",
      "                        'RetryAttempts': 0},\n",
      "  'createCollectionDetail': { 'arn': 'arn:aws:aoss:us-west-2:533267284022:collection/k6xg4kvihug2x207f5q0',\n",
      "                              'createdDate': 1734020811610,\n",
      "                              'id': 'k6xg4kvihug2x207f5q0',\n",
      "                              'kmsKeyArn': 'auto',\n",
      "                              'lastModifiedDate': 1734020811610,\n",
      "                              'name': 'bedrock-sample-rag-2082646',\n",
      "                              'standbyReplicas': 'ENABLED',\n",
      "                              'status': 'CREATING',\n",
      "                              'type': 'VECTORSEARCH'}}\n",
      "k6xg4kvihug2x207f5q0.us-west-2.aoss.amazonaws.com\n",
      "Creating collection...\n",
      "..............................\n",
      "Collection successfully created:\n",
      "[ { 'arn': 'arn:aws:aoss:us-west-2:533267284022:collection/k6xg4kvihug2x207f5q0',\n",
      "    'collectionEndpoint': 'https://k6xg4kvihug2x207f5q0.us-west-2.aoss.amazonaws.com',\n",
      "    'createdDate': 1734020811610,\n",
      "    'dashboardEndpoint': 'https://k6xg4kvihug2x207f5q0.us-west-2.aoss.amazonaws.com/_dashboards',\n",
      "    'id': 'k6xg4kvihug2x207f5q0',\n",
      "    'kmsKeyArn': 'auto',\n",
      "    'lastModifiedDate': 1734020835205,\n",
      "    'name': 'bedrock-sample-rag-2082646',\n",
      "    'standbyReplicas': 'ENABLED',\n",
      "    'status': 'ACTIVE',\n",
      "    'type': 'VECTORSEARCH'}]\n",
      "Opensearch serverless arn:  arn:aws:iam::533267284022:policy/AmazonBedrockOSSPolicyForKnowledgeBase_2082646\n",
      "Sleeping for a minute to ensure data access rules have been enforced\n",
      "========================================================================================\n",
      "Step 5 - Creating OSS Vector Index\n"
     ]
    },
    {
     "name": "stderr",
     "output_type": "stream",
     "text": [
      "[2024-12-12 08:28:23,053] p21922 {base.py:258} INFO - PUT https://k6xg4kvihug2x207f5q0.us-west-2.aoss.amazonaws.com:443/bedrock-sample-rag-index-2082646 [status:200 request:0.527s]\n"
     ]
    },
    {
     "name": "stdout",
     "output_type": "stream",
     "text": [
      "\n",
      "Creating index:\n",
      "{ 'acknowledged': True,\n",
      "  'index': 'bedrock-sample-rag-index-2082646',\n",
      "  'shards_acknowledged': True}\n",
      "========================================================================================\n",
      "Step 6 - Will create Lambda Function if chunking strategy selected as CUSTOM\n",
      "Not creating lambda function as chunking strategy is FIXED_SIZE\n",
      "========================================================================================\n",
      "Step 7 - Creating Knowledge Base\n",
      "Creating KB with chunking strategy - FIXED_SIZE\n",
      "============Chunking config========\n",
      " {'chunkingConfiguration': {'chunkingStrategy': 'FIXED_SIZE', 'fixedSizeChunkingConfiguration': {'maxTokens': 300, 'overlapPercentage': 20}}}\n",
      "{ 'createdAt': datetime.datetime(2024, 12, 12, 16, 29, 23, 533706, tzinfo=tzutc()),\n",
      "  'description': 'Knowledge Base containing files to demonstrate the reranker '\n",
      "                 'feature',\n",
      "  'knowledgeBaseArn': 'arn:aws:bedrock:us-west-2:533267284022:knowledge-base/WE74FTZS4H',\n",
      "  'knowledgeBaseConfiguration': { 'type': 'VECTOR',\n",
      "                                  'vectorKnowledgeBaseConfiguration': { 'embeddingModelArn': 'arn:aws:bedrock:us-west-2::foundation-model/amazon.titan-embed-text-v2:0'}},\n",
      "  'knowledgeBaseId': 'WE74FTZS4H',\n",
      "  'name': 'reranker-kb-2082646',\n",
      "  'roleArn': 'arn:aws:iam::533267284022:role/AmazonBedrockExecutionRoleForKnowledgeBase_2082646',\n",
      "  'status': 'CREATING',\n",
      "  'storageConfiguration': { 'opensearchServerlessConfiguration': { 'collectionArn': 'arn:aws:aoss:us-west-2:533267284022:collection/k6xg4kvihug2x207f5q0',\n",
      "                                                                   'fieldMapping': { 'metadataField': 'text-metadata',\n",
      "                                                                                     'textField': 'text',\n",
      "                                                                                     'vectorField': 'vector'},\n",
      "                                                                   'vectorIndexName': 'bedrock-sample-rag-index-2082646'},\n",
      "                            'type': 'OPENSEARCH_SERVERLESS'},\n",
      "  'updatedAt': datetime.datetime(2024, 12, 12, 16, 29, 23, 533706, tzinfo=tzutc())}\n",
      "reranker-kb-2082646\n",
      "WE74FTZS4H\n",
      "{'bucketArn': 'arn:aws:s3:::reranker-kb-2082646'}\n",
      "{ 'createdAt': datetime.datetime(2024, 12, 12, 16, 29, 23, 982569, tzinfo=tzutc()),\n",
      "  'dataDeletionPolicy': 'RETAIN',\n",
      "  'dataSourceConfiguration': { 's3Configuration': { 'bucketArn': 'arn:aws:s3:::reranker-kb-2082646'},\n",
      "                               'type': 'S3'},\n",
      "  'dataSourceId': 'DOWGZTCS6M',\n",
      "  'description': 'Knowledge Base containing files to demonstrate the reranker '\n",
      "                 'feature',\n",
      "  'knowledgeBaseId': 'WE74FTZS4H',\n",
      "  'name': 'reranker-kb-2082646',\n",
      "  'status': 'AVAILABLE',\n",
      "  'updatedAt': datetime.datetime(2024, 12, 12, 16, 29, 23, 982569, tzinfo=tzutc()),\n",
      "  'vectorIngestionConfiguration': { 'chunkingConfiguration': { 'chunkingStrategy': 'FIXED_SIZE',\n",
      "                                                               'fixedSizeChunkingConfiguration': { 'maxTokens': 300,\n",
      "                                                                                                   'overlapPercentage': 20}}}}\n",
      "========================================================================================\n"
     ]
    }
   ],
   "source": [
    "knowledge_base_reranker = BedrockKnowledgeBase(\n",
    "    kb_name=f'{knowledge_base_name}-{suffix}',\n",
    "    kb_description=knowledge_base_description,\n",
    "    data_bucket_name=bucket_name, \n",
    "    chunking_strategy = \"FIXED_SIZE\", \n",
    "    suffix = suffix,\n",
    "    reranking_model=\"cohere.rerank-v3-5:0\",\n",
    "    generation_model=TEXT_GENERATION_MODEL_ID\n",
    ")"
   ]
  },
  {
   "cell_type": "code",
   "execution_count": 7,
   "metadata": {},
   "outputs": [
    {
     "name": "stdout",
     "output_type": "stream",
     "text": [
      "Directory 'sec-10-k' already exists.\n"
     ]
    }
   ],
   "source": [
    "import os\n",
    "\n",
    "def create_directory(directory_name):    \n",
    "    if not os.path.exists(directory_name):\n",
    "        os.makedirs(directory_name)\n",
    "        print(f\"Directory '{directory_name}' created successfully.\")\n",
    "    else:\n",
    "        print(f\"Directory '{directory_name}' already exists.\")\n",
    "\n",
    "# Call the function to create the directory\n",
    "create_directory(\"sec-10-k\")"
   ]
  },
  {
   "cell_type": "code",
   "execution_count": 8,
   "metadata": {},
   "outputs": [
    {
     "name": "stdout",
     "output_type": "stream",
     "text": [
      "File downloaded successfully: ./sec-10-k/Amazon-com-Inc-2023-Annual-Report.pdf\n"
     ]
    }
   ],
   "source": [
    "import requests\n",
    "\n",
    "def download_file(url, filename):\n",
    "    # Send a GET request to the URL\n",
    "    response = requests.get(url)\n",
    "    \n",
    "    # Check if the request was successful\n",
    "    if response.status_code == 200:\n",
    "        # Open the file in write-binary mode\n",
    "        with open(filename, 'wb') as file:\n",
    "            # Write the content of the response to the file\n",
    "            file.write(response.content)\n",
    "        print(f\"File downloaded successfully: {filename}\")\n",
    "    else:\n",
    "        print(f\"Failed to download file. Status code: {response.status_code}\")\n",
    "\n",
    "# URL of the files to download\n",
    "urls = [\"https://s2.q4cdn.com/299287126/files/doc_financials/2024/ar/Amazon-com-Inc-2023-Annual-Report.pdf\"]\n",
    "\n",
    "\n",
    "for url in urls:\n",
    "    # Name for the downloaded file\n",
    "    filename = url.split('/')[-1]\n",
    "\n",
    "    # Path to save the downloaded file\n",
    "    filepath = f\"./sec-10-k/{filename}\"\n",
    "\n",
    "    # Call the function to download the file\n",
    "    download_file(url, filepath)"
   ]
  },
  {
   "cell_type": "code",
   "execution_count": 9,
   "metadata": {},
   "outputs": [
    {
     "name": "stdout",
     "output_type": "stream",
     "text": [
      "uploading file sec-10-k/Amazon-com-Inc-2023-Annual-Report.pdf to reranker-kb-2082646\n"
     ]
    }
   ],
   "source": [
    "def upload_directory(path, bucket_name):\n",
    "        for root,dirs,files in os.walk(path):\n",
    "            for file in files:\n",
    "                if not file.startswith('.DS_Store'):\n",
    "                    file_to_upload = os.path.join(root,file)\n",
    "                    print(f\"uploading file {file_to_upload} to {bucket_name}\")\n",
    "                    s3_client.upload_file(file_to_upload,bucket_name,file)\n",
    "\n",
    "upload_directory(\"sec-10-k\", bucket_name)"
   ]
  },
  {
   "cell_type": "code",
   "execution_count": 10,
   "metadata": {},
   "outputs": [
    {
     "name": "stdout",
     "output_type": "stream",
     "text": [
      "{ 'dataSourceId': 'DOWGZTCS6M',\n",
      "  'ingestionJobId': '6ZCA6KR1S6',\n",
      "  'knowledgeBaseId': 'WE74FTZS4H',\n",
      "  'startedAt': datetime.datetime(2024, 12, 12, 16, 29, 56, 997789, tzinfo=tzutc()),\n",
      "  'statistics': { 'numberOfDocumentsDeleted': 0,\n",
      "                  'numberOfDocumentsFailed': 0,\n",
      "                  'numberOfDocumentsScanned': 0,\n",
      "                  'numberOfMetadataDocumentsModified': 0,\n",
      "                  'numberOfMetadataDocumentsScanned': 0,\n",
      "                  'numberOfModifiedDocumentsIndexed': 0,\n",
      "                  'numberOfNewDocumentsIndexed': 0},\n",
      "  'status': 'STARTING',\n",
      "  'updatedAt': datetime.datetime(2024, 12, 12, 16, 29, 56, 997789, tzinfo=tzutc())}\n",
      "{ 'dataSourceId': 'DOWGZTCS6M',\n",
      "  'ingestionJobId': '6ZCA6KR1S6',\n",
      "  'knowledgeBaseId': 'WE74FTZS4H',\n",
      "  'startedAt': datetime.datetime(2024, 12, 12, 16, 29, 56, 997789, tzinfo=tzutc()),\n",
      "  'statistics': { 'numberOfDocumentsDeleted': 0,\n",
      "                  'numberOfDocumentsFailed': 0,\n",
      "                  'numberOfDocumentsScanned': 1,\n",
      "                  'numberOfMetadataDocumentsModified': 0,\n",
      "                  'numberOfMetadataDocumentsScanned': 0,\n",
      "                  'numberOfModifiedDocumentsIndexed': 0,\n",
      "                  'numberOfNewDocumentsIndexed': 1},\n",
      "  'status': 'COMPLETE',\n",
      "  'updatedAt': datetime.datetime(2024, 12, 12, 16, 30, 9, 306617, tzinfo=tzutc())}\n",
      "........................................\r"
     ]
    }
   ],
   "source": [
    "# ensure that the kb is available\n",
    "time.sleep(30)\n",
    "# sync knowledge base\n",
    "knowledge_base_reranker.start_ingestion_job()"
   ]
  },
  {
   "cell_type": "code",
   "execution_count": 11,
   "metadata": {},
   "outputs": [
    {
     "name": "stdout",
     "output_type": "stream",
     "text": [
      "'WE74FTZS4H'\n"
     ]
    }
   ],
   "source": [
    "kb_id = knowledge_base_reranker.get_knowledge_base_id()"
   ]
  },
  {
   "cell_type": "code",
   "execution_count": 12,
   "metadata": {},
   "outputs": [
    {
     "name": "stdout",
     "output_type": "stream",
     "text": [
      "======== Vector Index, collection and associated policies deleted =========\n",
      "======== Knowledge base and data source deleted =========\n",
      "======== S3 data bucket deleted =========\n",
      "No intermediate bucket found\n",
      "Found role AmazonBedrockExecutionRoleForKnowledgeBase_2082646\n",
      "======Attached policies with role AmazonBedrockExecutionRoleForKnowledgeBase_2082646========\n",
      " [{'PolicyName': 'AmazonBedrockCloudWatchPolicyForKnowledgeBase_2082646', 'PolicyArn': 'arn:aws:iam::533267284022:policy/AmazonBedrockCloudWatchPolicyForKnowledgeBase_2082646'}, {'PolicyName': 'AmazonBedrockFoundationModelPolicyForKnowledgeBase_2082646', 'PolicyArn': 'arn:aws:iam::533267284022:policy/AmazonBedrockFoundationModelPolicyForKnowledgeBase_2082646'}, {'PolicyName': 'AmazonBedrockS3PolicyForKnowledgeBase_2082646', 'PolicyArn': 'arn:aws:iam::533267284022:policy/AmazonBedrockS3PolicyForKnowledgeBase_2082646'}, {'PolicyName': 'AmazonBedrockOSSPolicyForKnowledgeBase_2082646', 'PolicyArn': 'arn:aws:iam::533267284022:policy/AmazonBedrockOSSPolicyForKnowledgeBase_2082646'}]\n",
      "Detached policy AmazonBedrockCloudWatchPolicyForKnowledgeBase_2082646 from role AmazonBedrockExecutionRoleForKnowledgeBase_2082646\n",
      "Deleted policy AmazonBedrockCloudWatchPolicyForKnowledgeBase_2082646 from role AmazonBedrockExecutionRoleForKnowledgeBase_2082646\n",
      "Detached policy AmazonBedrockFoundationModelPolicyForKnowledgeBase_2082646 from role AmazonBedrockExecutionRoleForKnowledgeBase_2082646\n",
      "Deleted policy AmazonBedrockFoundationModelPolicyForKnowledgeBase_2082646 from role AmazonBedrockExecutionRoleForKnowledgeBase_2082646\n",
      "Detached policy AmazonBedrockS3PolicyForKnowledgeBase_2082646 from role AmazonBedrockExecutionRoleForKnowledgeBase_2082646\n",
      "Deleted policy AmazonBedrockS3PolicyForKnowledgeBase_2082646 from role AmazonBedrockExecutionRoleForKnowledgeBase_2082646\n",
      "Detached policy AmazonBedrockOSSPolicyForKnowledgeBase_2082646 from role AmazonBedrockExecutionRoleForKnowledgeBase_2082646\n",
      "Deleted policy AmazonBedrockOSSPolicyForKnowledgeBase_2082646 from role AmazonBedrockExecutionRoleForKnowledgeBase_2082646\n",
      "Deleted role AmazonBedrockExecutionRoleForKnowledgeBase_2082646\n",
      "======== All IAM roles and policies deleted =========\n",
      "Parameter validation failed:\n",
      "Invalid type for parameter FunctionName, value: None, type: <class 'NoneType'>, valid types: <class 'str'>\n",
      "Deleted Lambda function None\n"
     ]
    }
   ],
   "source": [
    "# knowledge_base_reranker.delete_kb(delete_s3_bucket=True,delete_iam_roles_and_policies=True, delete_lambda_function = True)"
   ]
  },
  {
   "cell_type": "code",
   "execution_count": 14,
   "metadata": {},
   "outputs": [],
   "source": [
    "query = \"What is Amazon's core business philosophy?\"\n"
   ]
  },
  {
   "cell_type": "code",
   "execution_count": 25,
   "metadata": {},
   "outputs": [],
   "source": [
    "def retrieve_from_knowledge_base(knowledge_base_id, query, number_of_results=5, reranker_model=None):\n",
    "    if reranker_model:\n",
    "        retrieval_config = {\n",
    "            \"vectorSearchConfiguration\": {\n",
    "                \"numberOfResults\": number_of_results,\n",
    "                \"rerankingConfiguration\": {\n",
    "                    \"type\": \"BEDROCK_RERANKING_MODEL\",\n",
    "                    \"bedrockRerankingConfiguration\": {\n",
    "                        \"modelConfiguration\": {\n",
    "                            \"modelArn\": reranker_model\n",
    "                        },\n",
    "                        \"numberOfRerankedResults\": 2\n",
    "                    }\n",
    "                }\n",
    "            }\n",
    "        }\n",
    "    else:\n",
    "        retrieval_config = {\n",
    "            \"vectorSearchConfiguration\": {\n",
    "                \"numberOfResults\": number_of_results\n",
    "            }\n",
    "        }\n",
    "\n",
    "    response = bedrock_agent_runtime_client.retrieve(\n",
    "        knowledgeBaseId=knowledge_base_id,\n",
    "        retrievalQuery={\"text\": query},\n",
    "        retrievalConfiguration=retrieval_config\n",
    "    )\n",
    "    return response['retrievalResults']"
   ]
  },
  {
   "cell_type": "code",
   "execution_count": 26,
   "metadata": {},
   "outputs": [
    {
     "data": {
      "text/plain": [
       "'arn:aws:bedrock:us-west-2::foundation-model/amazon.rerank-v1:0'"
      ]
     },
     "execution_count": 26,
     "metadata": {},
     "output_type": "execute_result"
    }
   ],
   "source": [
    "AMAZON_RERANKER_MODEL"
   ]
  },
  {
   "cell_type": "code",
   "execution_count": 27,
   "metadata": {},
   "outputs": [],
   "source": [
    "retrieved_contexts_with_amazon_reranker = retrieve_from_knowledge_base(kb_id, query, reranker_model=COHERE_RERANKER_MODEL)"
   ]
  },
  {
   "cell_type": "code",
   "execution_count": 28,
   "metadata": {},
   "outputs": [],
   "source": [
    "\n",
    "retrieved_contexts_combined = \"\\n\\n\".join(\n",
    "    [f\"=== Context {i+1} ===\\n{result['content']['text']}\" for i, result in enumerate(retrieved_contexts_with_amazon_reranker)]\n",
    ")"
   ]
  },
  {
   "cell_type": "code",
   "execution_count": 29,
   "metadata": {},
   "outputs": [
    {
     "data": {
      "text/markdown": [
       "=== Context 1 ===\n",
       "Form 10-K Summary 77 Signatures 78     2AMAZON.COM, INC.     PART I     Item 1. Business     This Annual Report on Form 10-K and the documents incorporated herein by reference contain forward-looking statements based on expectations, estimates, and projections as of the date of this filing. Actual results and outcomes may differ materially from those expressed in forward-looking statements. See Item 1A of Part I — “Risk Factors.” As used herein, “Amazon.com,” “we,” “our,” and similar terms include Amazon.com, Inc. and its subsidiaries, unless the context indicates otherwise.     General     We seek to be Earth’s most customer-centric company. We are guided by four principles: customer obsession rather than competitor focus, passion for invention, commitment to operational excellence, and long-term thinking. In each of our segments, we serve our primary customer sets, consisting of consumers, sellers, developers, enterprises, content creators, advertisers, and employees.     We have organized our operations into three segments: North America, International, and Amazon Web Services (“AWS”). These segments reflect the way the Company evaluates its business performance and manages its operations. Information on our net sales is contained in Item 8 of Part II, “Financial Statements and Supplementary Data — Note 10 — Segment Information.”     Consumers     We serve consumers through our online and physical stores and focus on selection, price, and convenience.\n",
       "\n",
       "=== Context 2 ===\n",
       "notes to consolidated financial statements.     41AMAZON.COM, INC. NOTES TO CONSOLIDATED FINANCIAL STATEMENTS     Note 1 — DESCRIPTION OF BUSINESS, ACCOUNTING POLICIES, AND SUPPLEMENTAL DISCLOSURES     Description of Business     We seek to be Earth’s most customer-centric company. In each of our segments, we serve our primary customer sets, consisting of consumers, sellers, developers, enterprises, content creators, advertisers, and employees. We serve consumers through our online and physical stores and focus on selection, price, and convenience. We offer programs that enable sellers to grow their businesses, sell their products in our stores, and fulfill orders using our services, and programs that allow authors, independent publishers, musicians, filmmakers, Twitch streamers, skill and app developers, and others to publish and sell content. We serve developers and enterprises of all sizes through AWS, which offers a broad set of on-demand technology services, including compute, storage, database, analytics, and machine learning, and other services. We also manufacture and sell electronic devices. In addition, we provide advertising services to sellers, vendors, publishers, authors, and others, through programs such as sponsored ads, display, and video advertising.     We have organized our operations into three segments: North America, International, and AWS. See “Note 10 — Segment Information.”"
      ],
      "text/plain": [
       "<IPython.core.display.Markdown object>"
      ]
     },
     "metadata": {},
     "output_type": "display_data"
    }
   ],
   "source": [
    "from IPython.display import Markdown, display\n",
    "\n",
    "def print_markdown(text):\n",
    "    display(Markdown(text))\n",
    "\n",
    "\n",
    "print_markdown(retrieved_contexts_combined)"
   ]
  },
  {
   "cell_type": "code",
   "execution_count": null,
   "metadata": {},
   "outputs": [],
   "source": []
  },
  {
   "cell_type": "code",
   "execution_count": null,
   "metadata": {},
   "outputs": [],
   "source": [
    "def retrieve_from_knowledge_base(knowledge_base_id, query, number_of_results=5):\n",
    "    response = bedrock_agent_runtime_client.retrieve(\n",
    "        knowledgeBaseId=knowledge_base_id,\n",
    "        retrievalQuery={\"text\": query},\n",
    "        retrievalConfiguration={\n",
    "            \"vectorSearchConfiguration\": {\n",
    "                \"numberOfResults\": number_of_results\n",
    "            }\n",
    "        }\n",
    "    )\n",
    "    return response['retrievalResults']"
   ]
  },
  {
   "cell_type": "code",
   "execution_count": 11,
   "metadata": {},
   "outputs": [],
   "source": [
    "def get_retrieval_config(reranker_model=None):\n",
    "    retrieval_config = None\n",
    "    if reranker_model:\n",
    "        retrieval_config = {\n",
    "            \"vectorSearchConfiguration\": {\n",
    "                \"numberOfResults\": 30,\n",
    "                \"rerankingConfiguration\": {\n",
    "                    \"type\": \"BEDROCK_RERANKING_MODEL\",\n",
    "                    \"bedrockRerankingConfiguration\": {\n",
    "                        \"modelConfiguration\": {\n",
    "                            \"modelArn\": reranker_model\n",
    "                        },\n",
    "                        \"numberOfRerankedResults\": 3\n",
    "                    }\n",
    "                }\n",
    "            }\n",
    "        }\n",
    "    else:\n",
    "        retrieval_config = {\n",
    "            \"vectorSearchConfiguration\": {\n",
    "                \"numberOfResults\": 3\n",
    "            }\n",
    "        }\n",
    "    return retrieval_config"
   ]
  },
  {
   "cell_type": "code",
   "execution_count": 19,
   "metadata": {},
   "outputs": [],
   "source": [
    "def retrieve_and_generate(query, retrieval_config):\n",
    "    start = time.time()\n",
    "    response = bedrock_agent_runtime_client.retrieve_and_generate(\n",
    "        input={\n",
    "                'text': query\n",
    "            },\n",
    "            retrieveAndGenerateConfiguration={\n",
    "                'type': 'KNOWLEDGE_BASE',\n",
    "                'knowledgeBaseConfiguration': {\n",
    "                    'knowledgeBaseId': kb_id,\n",
    "                    'modelArn': TEXT_GENERATION_MODEL_ID,\n",
    "                    'retrievalConfiguration': retrieval_config,\n",
    "                },\n",
    "            }\n",
    "        )\n",
    "    time_spent = time.time() - start\n",
    "    print(f\"[Response]\\n{response['output']['text']}\\n\")\n",
    "    print(f\"[Invocation time]\\n{time_spent}\\n\")\n",
    "\n",
    "    return response"
   ]
  },
  {
   "cell_type": "code",
   "execution_count": 23,
   "metadata": {},
   "outputs": [],
   "source": [
    "def retrieve_docs(query, retrieval_config):\n",
    "    start = time.time()\n",
    "    response = bedrock_agent_runtime_client.retrieve(\n",
    "        retrievalQuery={\n",
    "            'text': query\n",
    "        },\n",
    "        knowledgeBaseId=kb_id,\n",
    "        retrievalConfiguration=retrieval_config\n",
    "    )\n",
    "    time_spent = time.time() - start\n",
    "    # print(f\"[Retrieved docs]\\n{json.dumps(response['retrievalResults'], indent=2)}\\n\")\n",
    "    # print(f\"[Invocation time]\\n{time_spent}\\n\")\n",
    "\n",
    "    return response"
   ]
  },
  {
   "cell_type": "code",
   "execution_count": 20,
   "metadata": {},
   "outputs": [],
   "source": [
    "query = \"What is Amazon's core business philosophy?\"\n",
    "\n",
    "# without reranker\n",
    "retrieval_config = get_retrieval_config(reranker_model=None)"
   ]
  },
  {
   "cell_type": "code",
   "execution_count": 24,
   "metadata": {},
   "outputs": [],
   "source": [
    "retrieved_contexts = retrieve_docs(query, retrieval_config)\n"
   ]
  },
  {
   "cell_type": "code",
   "execution_count": 25,
   "metadata": {},
   "outputs": [
    {
     "data": {
      "text/plain": [
       "{'ResponseMetadata': {'RequestId': '08fb6d27-dd0b-496c-abe8-63fb0979305a',\n",
       "  'HTTPStatusCode': 200,\n",
       "  'HTTPHeaders': {'date': 'Wed, 11 Dec 2024 23:49:16 GMT',\n",
       "   'content-type': 'application/json',\n",
       "   'content-length': '5605',\n",
       "   'connection': 'keep-alive',\n",
       "   'x-amzn-requestid': '08fb6d27-dd0b-496c-abe8-63fb0979305a'},\n",
       "  'RetryAttempts': 0},\n",
       " 'retrievalResults': [{'content': {'text': 'Form 10-K Summary 77 Signatures 78     2AMAZON.COM, INC.     PART I     Item 1. Business     This Annual Report on Form 10-K and the documents incorporated herein by reference contain forward-looking statements based on expectations, estimates, and projections as of the date of this filing. Actual results and outcomes may differ materially from those expressed in forward-looking statements. See Item 1A of Part I — “Risk Factors.” As used herein, “Amazon.com,” “we,” “our,” and similar terms include Amazon.com, Inc. and its subsidiaries, unless the context indicates otherwise.     General     We seek to be Earth’s most customer-centric company. We are guided by four principles: customer obsession rather than competitor focus, passion for invention, commitment to operational excellence, and long-term thinking. In each of our segments, we serve our primary customer sets, consisting of consumers, sellers, developers, enterprises, content creators, advertisers, and employees.     We have organized our operations into three segments: North America, International, and Amazon Web Services (“AWS”). These segments reflect the way the Company evaluates its business performance and manages its operations. Information on our net sales is contained in Item 8 of Part II, “Financial Statements and Supplementary Data — Note 10 — Segment Information.”     Consumers     We serve consumers through our online and physical stores and focus on selection, price, and convenience.'},\n",
       "   'location': {'s3Location': {'uri': 's3://reranker-kb-1142806/Amazon-com-Inc-2023-Annual-Report.pdf'},\n",
       "    'type': 'S3'},\n",
       "   'metadata': {'x-amz-bedrock-kb-source-uri': 's3://reranker-kb-1142806/Amazon-com-Inc-2023-Annual-Report.pdf',\n",
       "    'x-amz-bedrock-kb-document-page-number': 14.0,\n",
       "    'x-amz-bedrock-kb-chunk-id': '1%3A0%3AF88GuJMBv4zSjyI7xKTk',\n",
       "    'x-amz-bedrock-kb-data-source-id': 'NKG8ZJXNVM'},\n",
       "   'score': 0.5256526},\n",
       "  {'content': {'text': 'Customers’ AI models contain some of their most sensitive data. AWS and its partners offer the strongest security capabilities and track record in the world; and as a result, more and more customers want to run their GenAI on AWS.)     ===     Recently, I was asked a provocative question—how does Amazon remain resilient? While simple in its wording, it’s profound because it gets to the heart of our success to date as well as for the future. The answer lies in our discipline around deeply held principles: 1/ hiring builders who are motivated to continually improve and expand what’s possible; 2/ solving real customer challenges, rather than what we think may be interesting technology; 3/ building in primitives so that we can innovate and experiment at the highest rate; 4/ not wasting time trying to fight gravity (spoiler alert: you always lose)—when we discover technology that enables better customer experiences, we embrace it; 5/ accepting and learning from failed experiments— actually becoming more energized to try again, with new knowledge to employ.     Today, we continue to operate in times of unprecedented change that come with unusual opportunities for growth across the areas in which we operate. For instance, while we have a nearly $500B consumer business, about 80% of the worldwide retail market segment still resides in physical stores.'},\n",
       "   'location': {'s3Location': {'uri': 's3://reranker-kb-1142806/Amazon-com-Inc-2023-Annual-Report.pdf'},\n",
       "    'type': 'S3'},\n",
       "   'metadata': {'x-amz-bedrock-kb-source-uri': 's3://reranker-kb-1142806/Amazon-com-Inc-2023-Annual-Report.pdf',\n",
       "    'x-amz-bedrock-kb-document-page-number': 8.0,\n",
       "    'x-amz-bedrock-kb-chunk-id': '1%3A0%3ABs8GuJMBv4zSjyI7xKTk',\n",
       "    'x-amz-bedrock-kb-data-source-id': 'NKG8ZJXNVM'},\n",
       "   'score': 0.5042558},\n",
       "  {'content': {'text': 'These results represent a lot of invention, collaboration, discipline, execution, and reimaginationacross Amazon. Yet, I think every one of us at Amazon believes that we have a long way to go, in every one of our businesses, before we exhaust how we can make customers’ lives better and easier, and there is considerable upside in each of the businesses in which we’re investing.     ===     In my annual letter over the last three years, I’ve tried to give shareholders more insight into how we’re thinking about the company, the businesses we’re pursuing, our future opportunities, and what makes us tick. We operate in a diverse number of market segments, but what ties Amazon together is our joint mission to make customers’ lives better and easier every day. This is true across every customer segment we serve (consumers, sellers, brands, developers, enterprises, and creators). At our best, we’re not just customer obsessed, but also inventive, thinking several years out, learning like crazy, scrappy, delivering quickly, and operating like the world’s biggest start-up.     We spend enormous energy thinking about how to empower builders, inside and outside of our company. We characterize builders as people who like to invent. They like to dissect a customer experience, assess what’s wrong with it, and reinvent it. Builders tend not to be satisfied until the customer experience is perfect.'},\n",
       "   'location': {'s3Location': {'uri': 's3://reranker-kb-1142806/Amazon-com-Inc-2023-Annual-Report.pdf'},\n",
       "    'type': 'S3'},\n",
       "   'metadata': {'x-amz-bedrock-kb-source-uri': 's3://reranker-kb-1142806/Amazon-com-Inc-2023-Annual-Report.pdf',\n",
       "    'x-amz-bedrock-kb-document-page-number': 3.0,\n",
       "    'x-amz-bedrock-kb-chunk-id': '1%3A0%3A8s8GuJMBv4zSjyI7xKPj',\n",
       "    'x-amz-bedrock-kb-data-source-id': 'NKG8ZJXNVM'},\n",
       "   'score': 0.499713}]}"
      ]
     },
     "execution_count": 25,
     "metadata": {},
     "output_type": "execute_result"
    }
   ],
   "source": [
    "retrieved_contexts"
   ]
  },
  {
   "cell_type": "code",
   "execution_count": 26,
   "metadata": {},
   "outputs": [
    {
     "name": "stdout",
     "output_type": "stream",
     "text": [
      "[Response]\n",
      "Amazon's core business philosophy is centered around being the most customer-centric company. They are guided by four key principles:\n",
      "\n",
      "1) Customer obsession rather than competitor focus\n",
      "2) Passion for invention\n",
      "3) Commitment to operational excellence\n",
      "4) Long-term thinking Amazon focuses on continually improving and expanding what's possible for customers across all their business segments, whether it's consumers, sellers, developers, enterprises, content creators, advertisers, or employees. They aim to solve real customer challenges and embrace new technologies that enable better customer experiences.\n",
      "\n",
      "[Invocation time]\n",
      "8.823477029800415\n",
      "\n"
     ]
    },
    {
     "data": {
      "text/plain": [
       "{'ResponseMetadata': {'RequestId': '3b4c4021-0915-421b-a2d5-e2d273083cf6',\n",
       "  'HTTPStatusCode': 200,\n",
       "  'HTTPHeaders': {'date': 'Wed, 11 Dec 2024 23:50:15 GMT',\n",
       "   'content-type': 'application/json',\n",
       "   'content-length': '7068',\n",
       "   'connection': 'keep-alive',\n",
       "   'x-amzn-requestid': '3b4c4021-0915-421b-a2d5-e2d273083cf6'},\n",
       "  'RetryAttempts': 0},\n",
       " 'citations': [{'generatedResponsePart': {'textResponsePart': {'span': {'end': 271,\n",
       "      'start': 0},\n",
       "     'text': \"Amazon's core business philosophy is centered around being the most customer-centric company. They are guided by four key principles:\\n\\n1) Customer obsession rather than competitor focus\\n2) Passion for invention\\n3) Commitment to operational excellence\\n4) Long-term thinking\"}},\n",
       "   'retrievedReferences': [{'content': {'text': 'Form 10-K Summary 77 Signatures 78     2AMAZON.COM, INC.     PART I     Item 1. Business     This Annual Report on Form 10-K and the documents incorporated herein by reference contain forward-looking statements based on expectations, estimates, and projections as of the date of this filing. Actual results and outcomes may differ materially from those expressed in forward-looking statements. See Item 1A of Part I — “Risk Factors.” As used herein, “Amazon.com,” “we,” “our,” and similar terms include Amazon.com, Inc. and its subsidiaries, unless the context indicates otherwise.     General     We seek to be Earth’s most customer-centric company. We are guided by four principles: customer obsession rather than competitor focus, passion for invention, commitment to operational excellence, and long-term thinking. In each of our segments, we serve our primary customer sets, consisting of consumers, sellers, developers, enterprises, content creators, advertisers, and employees.     We have organized our operations into three segments: North America, International, and Amazon Web Services (“AWS”). These segments reflect the way the Company evaluates its business performance and manages its operations. Information on our net sales is contained in Item 8 of Part II, “Financial Statements and Supplementary Data — Note 10 — Segment Information.”     Consumers     We serve consumers through our online and physical stores and focus on selection, price, and convenience.'},\n",
       "     'location': {'s3Location': {'uri': 's3://reranker-kb-1142806/Amazon-com-Inc-2023-Annual-Report.pdf'},\n",
       "      'type': 'S3'},\n",
       "     'metadata': {'x-amz-bedrock-kb-source-uri': 's3://reranker-kb-1142806/Amazon-com-Inc-2023-Annual-Report.pdf',\n",
       "      'x-amz-bedrock-kb-document-page-number': 14.0,\n",
       "      'x-amz-bedrock-kb-chunk-id': '1%3A0%3AF88GuJMBv4zSjyI7xKTk',\n",
       "      'x-amz-bedrock-kb-data-source-id': 'NKG8ZJXNVM'}}]},\n",
       "  {'generatedResponsePart': {'textResponsePart': {'span': {'end': 607,\n",
       "      'start': 273},\n",
       "     'text': \"Amazon focuses on continually improving and expanding what's possible for customers across all their business segments, whether it's consumers, sellers, developers, enterprises, content creators, advertisers, or employees. They aim to solve real customer challenges and embrace new technologies that enable better customer experiences.\"}},\n",
       "   'retrievedReferences': [{'content': {'text': 'These results represent a lot of invention, collaboration, discipline, execution, and reimaginationacross Amazon. Yet, I think every one of us at Amazon believes that we have a long way to go, in every one of our businesses, before we exhaust how we can make customers’ lives better and easier, and there is considerable upside in each of the businesses in which we’re investing.     ===     In my annual letter over the last three years, I’ve tried to give shareholders more insight into how we’re thinking about the company, the businesses we’re pursuing, our future opportunities, and what makes us tick. We operate in a diverse number of market segments, but what ties Amazon together is our joint mission to make customers’ lives better and easier every day. This is true across every customer segment we serve (consumers, sellers, brands, developers, enterprises, and creators). At our best, we’re not just customer obsessed, but also inventive, thinking several years out, learning like crazy, scrappy, delivering quickly, and operating like the world’s biggest start-up.     We spend enormous energy thinking about how to empower builders, inside and outside of our company. We characterize builders as people who like to invent. They like to dissect a customer experience, assess what’s wrong with it, and reinvent it. Builders tend not to be satisfied until the customer experience is perfect.'},\n",
       "     'location': {'s3Location': {'uri': 's3://reranker-kb-1142806/Amazon-com-Inc-2023-Annual-Report.pdf'},\n",
       "      'type': 'S3'},\n",
       "     'metadata': {'x-amz-bedrock-kb-source-uri': 's3://reranker-kb-1142806/Amazon-com-Inc-2023-Annual-Report.pdf',\n",
       "      'x-amz-bedrock-kb-document-page-number': 3.0,\n",
       "      'x-amz-bedrock-kb-chunk-id': '1%3A0%3A8s8GuJMBv4zSjyI7xKPj',\n",
       "      'x-amz-bedrock-kb-data-source-id': 'NKG8ZJXNVM'}},\n",
       "    {'content': {'text': 'Customers’ AI models contain some of their most sensitive data. AWS and its partners offer the strongest security capabilities and track record in the world; and as a result, more and more customers want to run their GenAI on AWS.)     ===     Recently, I was asked a provocative question—how does Amazon remain resilient? While simple in its wording, it’s profound because it gets to the heart of our success to date as well as for the future. The answer lies in our discipline around deeply held principles: 1/ hiring builders who are motivated to continually improve and expand what’s possible; 2/ solving real customer challenges, rather than what we think may be interesting technology; 3/ building in primitives so that we can innovate and experiment at the highest rate; 4/ not wasting time trying to fight gravity (spoiler alert: you always lose)—when we discover technology that enables better customer experiences, we embrace it; 5/ accepting and learning from failed experiments— actually becoming more energized to try again, with new knowledge to employ.     Today, we continue to operate in times of unprecedented change that come with unusual opportunities for growth across the areas in which we operate. For instance, while we have a nearly $500B consumer business, about 80% of the worldwide retail market segment still resides in physical stores.'},\n",
       "     'location': {'s3Location': {'uri': 's3://reranker-kb-1142806/Amazon-com-Inc-2023-Annual-Report.pdf'},\n",
       "      'type': 'S3'},\n",
       "     'metadata': {'x-amz-bedrock-kb-source-uri': 's3://reranker-kb-1142806/Amazon-com-Inc-2023-Annual-Report.pdf',\n",
       "      'x-amz-bedrock-kb-document-page-number': 8.0,\n",
       "      'x-amz-bedrock-kb-chunk-id': '1%3A0%3ABs8GuJMBv4zSjyI7xKTk',\n",
       "      'x-amz-bedrock-kb-data-source-id': 'NKG8ZJXNVM'}}]}],\n",
       " 'output': {'text': \"Amazon's core business philosophy is centered around being the most customer-centric company. They are guided by four key principles:\\n\\n1) Customer obsession rather than competitor focus\\n2) Passion for invention\\n3) Commitment to operational excellence\\n4) Long-term thinking Amazon focuses on continually improving and expanding what's possible for customers across all their business segments, whether it's consumers, sellers, developers, enterprises, content creators, advertisers, or employees. They aim to solve real customer challenges and embrace new technologies that enable better customer experiences.\"},\n",
       " 'sessionId': '9af17446-4308-4ec7-8e30-3de44ee025c1'}"
      ]
     },
     "execution_count": 26,
     "metadata": {},
     "output_type": "execute_result"
    }
   ],
   "source": [
    "retrieve_and_generate(query, retrieval_config)"
   ]
  },
  {
   "cell_type": "code",
   "execution_count": null,
   "metadata": {},
   "outputs": [],
   "source": [
    "def retrieve_from_knowledge_base(knowledge_base_id, query, number_of_results=5, reranker_model=None):\n",
    "    if reranker_model:\n",
    "        retrieval_config = {\n",
    "            \"vectorSearchConfiguration\": {\n",
    "                \"numberOfResults\": number_of_results,\n",
    "                \"rerankingConfiguration\": {\n",
    "                    \"type\": \"BEDROCK_RERANKING_MODEL\",\n",
    "                    \"bedrockRerankingConfiguration\": {\n",
    "                        \"modelConfiguration\": {\n",
    "                            \"modelArn\": reranker_model\n",
    "                        },\n",
    "                        \"numberOfRerankedResults\": 3\n",
    "                    }\n",
    "                }\n",
    "            }\n",
    "        }\n",
    "    else:\n",
    "        retrieval_config = {\n",
    "            \"vectorSearchConfiguration\": {\n",
    "                \"numberOfResults\": number_of_results\n",
    "            }\n",
    "        }\n",
    "\n",
    "    response = bedrock_agent_runtime_client.retrieve(\n",
    "        knowledgeBaseId=knowledge_base_id,\n",
    "        retrievalQuery={\"text\": query},\n",
    "        retrievalConfiguration=retrieval_config\n",
    "    )\n",
    "    return response['retrievalResults']"
   ]
  },
  {
   "cell_type": "code",
   "execution_count": 38,
   "metadata": {},
   "outputs": [
    {
     "ename": "ParamValidationError",
     "evalue": "Parameter validation failed:\nUnknown parameter in retrievalConfiguration.vectorSearchConfiguration: \"rerankingConfiguration\", must be one of: filter, numberOfResults, overrideSearchType",
     "output_type": "error",
     "traceback": [
      "\u001b[0;31m---------------------------------------------------------------------------\u001b[0m",
      "\u001b[0;31mParamValidationError\u001b[0m                      Traceback (most recent call last)",
      "Cell \u001b[0;32mIn[38], line 31\u001b[0m\n\u001b[1;32m     28\u001b[0m     \u001b[38;5;28;01mreturn\u001b[39;00m response[\u001b[38;5;124m'\u001b[39m\u001b[38;5;124mretrievalResults\u001b[39m\u001b[38;5;124m'\u001b[39m]\n\u001b[1;32m     30\u001b[0m \u001b[38;5;66;03m# Example usage\u001b[39;00m\n\u001b[0;32m---> 31\u001b[0m retrieved_contexts_with_reranker \u001b[38;5;241m=\u001b[39m \u001b[43mretrieve_from_knowledge_base\u001b[49m\u001b[43m(\u001b[49m\u001b[43mkb_id\u001b[49m\u001b[43m,\u001b[49m\u001b[43m \u001b[49m\u001b[43mquery\u001b[49m\u001b[43m,\u001b[49m\u001b[43m \u001b[49m\u001b[43mnumber_of_results\u001b[49m\u001b[38;5;241;43m=\u001b[39;49m\u001b[38;5;241;43m10\u001b[39;49m\u001b[43m,\u001b[49m\u001b[43m \u001b[49m\u001b[43mreranker_model\u001b[49m\u001b[38;5;241;43m=\u001b[39;49m\u001b[43mAMAZON_RERANKER_MODEL\u001b[49m\u001b[43m)\u001b[49m\n",
      "Cell \u001b[0;32mIn[38], line 22\u001b[0m, in \u001b[0;36mretrieve_from_knowledge_base\u001b[0;34m(knowledge_base_id, query, number_of_results, reranker_model)\u001b[0m\n\u001b[1;32m     11\u001b[0m     retrieval_config[\u001b[38;5;124m\"\u001b[39m\u001b[38;5;124mvectorSearchConfiguration\u001b[39m\u001b[38;5;124m\"\u001b[39m][\u001b[38;5;124m\"\u001b[39m\u001b[38;5;124mrerankingConfiguration\u001b[39m\u001b[38;5;124m\"\u001b[39m] \u001b[38;5;241m=\u001b[39m {\n\u001b[1;32m     12\u001b[0m         \u001b[38;5;124m\"\u001b[39m\u001b[38;5;124mtype\u001b[39m\u001b[38;5;124m\"\u001b[39m: \u001b[38;5;124m\"\u001b[39m\u001b[38;5;124mBEDROCK_RERANKING_MODEL\u001b[39m\u001b[38;5;124m\"\u001b[39m,\n\u001b[1;32m     13\u001b[0m         \u001b[38;5;124m\"\u001b[39m\u001b[38;5;124mbedrockRerankingConfiguration\u001b[39m\u001b[38;5;124m\"\u001b[39m: {\n\u001b[0;32m   (...)\u001b[0m\n\u001b[1;32m     18\u001b[0m         }\n\u001b[1;32m     19\u001b[0m     }\n\u001b[1;32m     21\u001b[0m \u001b[38;5;66;03m# Make the API call with the constructed configuration\u001b[39;00m\n\u001b[0;32m---> 22\u001b[0m response \u001b[38;5;241m=\u001b[39m \u001b[43mbedrock_agent_runtime_client\u001b[49m\u001b[38;5;241;43m.\u001b[39;49m\u001b[43mretrieve\u001b[49m\u001b[43m(\u001b[49m\n\u001b[1;32m     23\u001b[0m \u001b[43m    \u001b[49m\u001b[43mknowledgeBaseId\u001b[49m\u001b[38;5;241;43m=\u001b[39;49m\u001b[43mknowledge_base_id\u001b[49m\u001b[43m,\u001b[49m\n\u001b[1;32m     24\u001b[0m \u001b[43m    \u001b[49m\u001b[43mretrievalQuery\u001b[49m\u001b[38;5;241;43m=\u001b[39;49m\u001b[43m{\u001b[49m\u001b[38;5;124;43m\"\u001b[39;49m\u001b[38;5;124;43mtext\u001b[39;49m\u001b[38;5;124;43m\"\u001b[39;49m\u001b[43m:\u001b[49m\u001b[43m \u001b[49m\u001b[43mquery\u001b[49m\u001b[43m}\u001b[49m\u001b[43m,\u001b[49m\n\u001b[1;32m     25\u001b[0m \u001b[43m    \u001b[49m\u001b[43mretrievalConfiguration\u001b[49m\u001b[38;5;241;43m=\u001b[39;49m\u001b[43mretrieval_config\u001b[49m\n\u001b[1;32m     26\u001b[0m \u001b[43m\u001b[49m\u001b[43m)\u001b[49m\n\u001b[1;32m     28\u001b[0m \u001b[38;5;28;01mreturn\u001b[39;00m response[\u001b[38;5;124m'\u001b[39m\u001b[38;5;124mretrievalResults\u001b[39m\u001b[38;5;124m'\u001b[39m]\n",
      "File \u001b[0;32m/opt/homebrew/Caskroom/miniforge/base/envs/genai-on-aws-p3.8/lib/python3.8/site-packages/botocore/client.py:565\u001b[0m, in \u001b[0;36mClientCreator._create_api_method.<locals>._api_call\u001b[0;34m(self, *args, **kwargs)\u001b[0m\n\u001b[1;32m    561\u001b[0m     \u001b[38;5;28;01mraise\u001b[39;00m \u001b[38;5;167;01mTypeError\u001b[39;00m(\n\u001b[1;32m    562\u001b[0m         \u001b[38;5;124mf\u001b[39m\u001b[38;5;124m\"\u001b[39m\u001b[38;5;132;01m{\u001b[39;00mpy_operation_name\u001b[38;5;132;01m}\u001b[39;00m\u001b[38;5;124m() only accepts keyword arguments.\u001b[39m\u001b[38;5;124m\"\u001b[39m\n\u001b[1;32m    563\u001b[0m     )\n\u001b[1;32m    564\u001b[0m \u001b[38;5;66;03m# The \"self\" in this scope is referring to the BaseClient.\u001b[39;00m\n\u001b[0;32m--> 565\u001b[0m \u001b[38;5;28;01mreturn\u001b[39;00m \u001b[38;5;28;43mself\u001b[39;49m\u001b[38;5;241;43m.\u001b[39;49m\u001b[43m_make_api_call\u001b[49m\u001b[43m(\u001b[49m\u001b[43moperation_name\u001b[49m\u001b[43m,\u001b[49m\u001b[43m \u001b[49m\u001b[43mkwargs\u001b[49m\u001b[43m)\u001b[49m\n",
      "File \u001b[0;32m/opt/homebrew/Caskroom/miniforge/base/envs/genai-on-aws-p3.8/lib/python3.8/site-packages/botocore/client.py:974\u001b[0m, in \u001b[0;36mBaseClient._make_api_call\u001b[0;34m(self, operation_name, api_params)\u001b[0m\n\u001b[1;32m    970\u001b[0m \u001b[38;5;28;01mif\u001b[39;00m properties:\n\u001b[1;32m    971\u001b[0m     \u001b[38;5;66;03m# Pass arbitrary endpoint info with the Request\u001b[39;00m\n\u001b[1;32m    972\u001b[0m     \u001b[38;5;66;03m# for use during construction.\u001b[39;00m\n\u001b[1;32m    973\u001b[0m     request_context[\u001b[38;5;124m'\u001b[39m\u001b[38;5;124mendpoint_properties\u001b[39m\u001b[38;5;124m'\u001b[39m] \u001b[38;5;241m=\u001b[39m properties\n\u001b[0;32m--> 974\u001b[0m request_dict \u001b[38;5;241m=\u001b[39m \u001b[38;5;28;43mself\u001b[39;49m\u001b[38;5;241;43m.\u001b[39;49m\u001b[43m_convert_to_request_dict\u001b[49m\u001b[43m(\u001b[49m\n\u001b[1;32m    975\u001b[0m \u001b[43m    \u001b[49m\u001b[43mapi_params\u001b[49m\u001b[38;5;241;43m=\u001b[39;49m\u001b[43mapi_params\u001b[49m\u001b[43m,\u001b[49m\n\u001b[1;32m    976\u001b[0m \u001b[43m    \u001b[49m\u001b[43moperation_model\u001b[49m\u001b[38;5;241;43m=\u001b[39;49m\u001b[43moperation_model\u001b[49m\u001b[43m,\u001b[49m\n\u001b[1;32m    977\u001b[0m \u001b[43m    \u001b[49m\u001b[43mendpoint_url\u001b[49m\u001b[38;5;241;43m=\u001b[39;49m\u001b[43mendpoint_url\u001b[49m\u001b[43m,\u001b[49m\n\u001b[1;32m    978\u001b[0m \u001b[43m    \u001b[49m\u001b[43mcontext\u001b[49m\u001b[38;5;241;43m=\u001b[39;49m\u001b[43mrequest_context\u001b[49m\u001b[43m,\u001b[49m\n\u001b[1;32m    979\u001b[0m \u001b[43m    \u001b[49m\u001b[43mheaders\u001b[49m\u001b[38;5;241;43m=\u001b[39;49m\u001b[43madditional_headers\u001b[49m\u001b[43m,\u001b[49m\n\u001b[1;32m    980\u001b[0m \u001b[43m\u001b[49m\u001b[43m)\u001b[49m\n\u001b[1;32m    981\u001b[0m resolve_checksum_context(request_dict, operation_model, api_params)\n\u001b[1;32m    983\u001b[0m service_id \u001b[38;5;241m=\u001b[39m \u001b[38;5;28mself\u001b[39m\u001b[38;5;241m.\u001b[39m_service_model\u001b[38;5;241m.\u001b[39mservice_id\u001b[38;5;241m.\u001b[39mhyphenize()\n",
      "File \u001b[0;32m/opt/homebrew/Caskroom/miniforge/base/envs/genai-on-aws-p3.8/lib/python3.8/site-packages/botocore/client.py:1041\u001b[0m, in \u001b[0;36mBaseClient._convert_to_request_dict\u001b[0;34m(self, api_params, operation_model, endpoint_url, context, headers, set_user_agent_header)\u001b[0m\n\u001b[1;32m   1032\u001b[0m \u001b[38;5;28;01mdef\u001b[39;00m \u001b[38;5;21m_convert_to_request_dict\u001b[39m(\n\u001b[1;32m   1033\u001b[0m     \u001b[38;5;28mself\u001b[39m,\n\u001b[1;32m   1034\u001b[0m     api_params,\n\u001b[0;32m   (...)\u001b[0m\n\u001b[1;32m   1039\u001b[0m     set_user_agent_header\u001b[38;5;241m=\u001b[39m\u001b[38;5;28;01mTrue\u001b[39;00m,\n\u001b[1;32m   1040\u001b[0m ):\n\u001b[0;32m-> 1041\u001b[0m     request_dict \u001b[38;5;241m=\u001b[39m \u001b[38;5;28;43mself\u001b[39;49m\u001b[38;5;241;43m.\u001b[39;49m\u001b[43m_serializer\u001b[49m\u001b[38;5;241;43m.\u001b[39;49m\u001b[43mserialize_to_request\u001b[49m\u001b[43m(\u001b[49m\n\u001b[1;32m   1042\u001b[0m \u001b[43m        \u001b[49m\u001b[43mapi_params\u001b[49m\u001b[43m,\u001b[49m\u001b[43m \u001b[49m\u001b[43moperation_model\u001b[49m\n\u001b[1;32m   1043\u001b[0m \u001b[43m    \u001b[49m\u001b[43m)\u001b[49m\n\u001b[1;32m   1044\u001b[0m     \u001b[38;5;28;01mif\u001b[39;00m \u001b[38;5;129;01mnot\u001b[39;00m \u001b[38;5;28mself\u001b[39m\u001b[38;5;241m.\u001b[39m_client_config\u001b[38;5;241m.\u001b[39minject_host_prefix:\n\u001b[1;32m   1045\u001b[0m         request_dict\u001b[38;5;241m.\u001b[39mpop(\u001b[38;5;124m'\u001b[39m\u001b[38;5;124mhost_prefix\u001b[39m\u001b[38;5;124m'\u001b[39m, \u001b[38;5;28;01mNone\u001b[39;00m)\n",
      "File \u001b[0;32m/opt/homebrew/Caskroom/miniforge/base/envs/genai-on-aws-p3.8/lib/python3.8/site-packages/botocore/validate.py:381\u001b[0m, in \u001b[0;36mParamValidationDecorator.serialize_to_request\u001b[0;34m(self, parameters, operation_model)\u001b[0m\n\u001b[1;32m    377\u001b[0m     report \u001b[38;5;241m=\u001b[39m \u001b[38;5;28mself\u001b[39m\u001b[38;5;241m.\u001b[39m_param_validator\u001b[38;5;241m.\u001b[39mvalidate(\n\u001b[1;32m    378\u001b[0m         parameters, operation_model\u001b[38;5;241m.\u001b[39minput_shape\n\u001b[1;32m    379\u001b[0m     )\n\u001b[1;32m    380\u001b[0m     \u001b[38;5;28;01mif\u001b[39;00m report\u001b[38;5;241m.\u001b[39mhas_errors():\n\u001b[0;32m--> 381\u001b[0m         \u001b[38;5;28;01mraise\u001b[39;00m ParamValidationError(report\u001b[38;5;241m=\u001b[39mreport\u001b[38;5;241m.\u001b[39mgenerate_report())\n\u001b[1;32m    382\u001b[0m \u001b[38;5;28;01mreturn\u001b[39;00m \u001b[38;5;28mself\u001b[39m\u001b[38;5;241m.\u001b[39m_serializer\u001b[38;5;241m.\u001b[39mserialize_to_request(\n\u001b[1;32m    383\u001b[0m     parameters, operation_model\n\u001b[1;32m    384\u001b[0m )\n",
      "\u001b[0;31mParamValidationError\u001b[0m: Parameter validation failed:\nUnknown parameter in retrievalConfiguration.vectorSearchConfiguration: \"rerankingConfiguration\", must be one of: filter, numberOfResults, overrideSearchType"
     ]
    }
   ],
   "source": [
    "def retrieve_from_knowledge_base(knowledge_base_id, query, number_of_results=5, reranker_model=None):\n",
    "    # Construct the base retrieval configuration\n",
    "    retrieval_config = {\n",
    "        \"vectorSearchConfiguration\": {\n",
    "            \"numberOfResults\": number_of_results\n",
    "        }\n",
    "    }\n",
    "\n",
    "    # Add reranking configuration if a reranker model is provided\n",
    "    if reranker_model:\n",
    "        retrieval_config[\"vectorSearchConfiguration\"][\"rerankingConfiguration\"] = {\n",
    "            \"type\": \"BEDROCK_RERANKING_MODEL\",\n",
    "            \"bedrockRerankingConfiguration\": {\n",
    "                \"modelConfiguration\": {\n",
    "                    \"modelArn\": reranker_model\n",
    "                },\n",
    "                \"numberOfRerankedResults\": 3\n",
    "            }\n",
    "        }\n",
    "\n",
    "    # Make the API call with the constructed configuration\n",
    "    response = bedrock_agent_runtime_client.retrieve(\n",
    "        knowledgeBaseId=knowledge_base_id,\n",
    "        retrievalQuery={\"text\": query},\n",
    "        retrievalConfiguration=retrieval_config\n",
    "    )\n",
    "\n",
    "    return response['retrievalResults']\n",
    "\n",
    "# Example usage\n",
    "retrieved_contexts_with_reranker = retrieve_from_knowledge_base(kb_id, query, number_of_results=10, reranker_model=AMAZON_RERANKER_MODEL)\n"
   ]
  },
  {
   "cell_type": "code",
   "execution_count": 28,
   "metadata": {},
   "outputs": [],
   "source": [
    "retrieved_contexts = retrieve_from_knowledge_base(kb_id, query, number_of_results=5, reranker_model=None)"
   ]
  },
  {
   "cell_type": "code",
   "execution_count": 29,
   "metadata": {},
   "outputs": [],
   "source": [
    "retrieved_contexts = \"\\n\\n\".join(\n",
    "    [f\"=== Context {i+1} ===\\n{result['content']['text']}\" for i, result in enumerate(retrieved_contexts)]\n",
    ")"
   ]
  },
  {
   "cell_type": "code",
   "execution_count": 31,
   "metadata": {},
   "outputs": [],
   "source": [
    "from IPython.display import Markdown, display\n",
    "\n",
    "def print_markdown(text):\n",
    "    display(Markdown(text))"
   ]
  },
  {
   "cell_type": "code",
   "execution_count": 32,
   "metadata": {},
   "outputs": [
    {
     "data": {
      "text/markdown": [
       "=== Context 1 ===\n",
       "Form 10-K Summary 77 Signatures 78     2AMAZON.COM, INC.     PART I     Item 1. Business     This Annual Report on Form 10-K and the documents incorporated herein by reference contain forward-looking statements based on expectations, estimates, and projections as of the date of this filing. Actual results and outcomes may differ materially from those expressed in forward-looking statements. See Item 1A of Part I — “Risk Factors.” As used herein, “Amazon.com,” “we,” “our,” and similar terms include Amazon.com, Inc. and its subsidiaries, unless the context indicates otherwise.     General     We seek to be Earth’s most customer-centric company. We are guided by four principles: customer obsession rather than competitor focus, passion for invention, commitment to operational excellence, and long-term thinking. In each of our segments, we serve our primary customer sets, consisting of consumers, sellers, developers, enterprises, content creators, advertisers, and employees.     We have organized our operations into three segments: North America, International, and Amazon Web Services (“AWS”). These segments reflect the way the Company evaluates its business performance and manages its operations. Information on our net sales is contained in Item 8 of Part II, “Financial Statements and Supplementary Data — Note 10 — Segment Information.”     Consumers     We serve consumers through our online and physical stores and focus on selection, price, and convenience.\n",
       "\n",
       "=== Context 2 ===\n",
       "Customers’ AI models contain some of their most sensitive data. AWS and its partners offer the strongest security capabilities and track record in the world; and as a result, more and more customers want to run their GenAI on AWS.)     ===     Recently, I was asked a provocative question—how does Amazon remain resilient? While simple in its wording, it’s profound because it gets to the heart of our success to date as well as for the future. The answer lies in our discipline around deeply held principles: 1/ hiring builders who are motivated to continually improve and expand what’s possible; 2/ solving real customer challenges, rather than what we think may be interesting technology; 3/ building in primitives so that we can innovate and experiment at the highest rate; 4/ not wasting time trying to fight gravity (spoiler alert: you always lose)—when we discover technology that enables better customer experiences, we embrace it; 5/ accepting and learning from failed experiments— actually becoming more energized to try again, with new knowledge to employ.     Today, we continue to operate in times of unprecedented change that come with unusual opportunities for growth across the areas in which we operate. For instance, while we have a nearly $500B consumer business, about 80% of the worldwide retail market segment still resides in physical stores.\n",
       "\n",
       "=== Context 3 ===\n",
       "These results represent a lot of invention, collaboration, discipline, execution, and reimaginationacross Amazon. Yet, I think every one of us at Amazon believes that we have a long way to go, in every one of our businesses, before we exhaust how we can make customers’ lives better and easier, and there is considerable upside in each of the businesses in which we’re investing.     ===     In my annual letter over the last three years, I’ve tried to give shareholders more insight into how we’re thinking about the company, the businesses we’re pursuing, our future opportunities, and what makes us tick. We operate in a diverse number of market segments, but what ties Amazon together is our joint mission to make customers’ lives better and easier every day. This is true across every customer segment we serve (consumers, sellers, brands, developers, enterprises, and creators). At our best, we’re not just customer obsessed, but also inventive, thinking several years out, learning like crazy, scrappy, delivering quickly, and operating like the world’s biggest start-up.     We spend enormous energy thinking about how to empower builders, inside and outside of our company. We characterize builders as people who like to invent. They like to dissect a customer experience, assess what’s wrong with it, and reinvent it. Builders tend not to be satisfied until the customer experience is perfect.\n",
       "\n",
       "=== Context 4 ===\n",
       "notes to consolidated financial statements.     41AMAZON.COM, INC. NOTES TO CONSOLIDATED FINANCIAL STATEMENTS     Note 1 — DESCRIPTION OF BUSINESS, ACCOUNTING POLICIES, AND SUPPLEMENTAL DISCLOSURES     Description of Business     We seek to be Earth’s most customer-centric company. In each of our segments, we serve our primary customer sets, consisting of consumers, sellers, developers, enterprises, content creators, advertisers, and employees. We serve consumers through our online and physical stores and focus on selection, price, and convenience. We offer programs that enable sellers to grow their businesses, sell their products in our stores, and fulfill orders using our services, and programs that allow authors, independent publishers, musicians, filmmakers, Twitch streamers, skill and app developers, and others to publish and sell content. We serve developers and enterprises of all sizes through AWS, which offers a broad set of on-demand technology services, including compute, storage, database, analytics, and machine learning, and other services. We also manufacture and sell electronic devices. In addition, we provide advertising services to sellers, vendors, publishers, authors, and others, through programs such as sponsored ads, display, and video advertising.     We have organized our operations into three segments: North America, International, and AWS. See “Note 10 — Segment Information.”\n",
       "\n",
       "=== Context 5 ===\n",
       "Setting the bar high in our approach to hiring has been, and will continue to be, the single most important element of Amazon.com’s success.     It’s not easy to work here (when I interview people I tell them, “You can work long, hard, or smart, but at Amazon.com you can’t choose two out of three”), but we are working to build something important, something that matters to our customers, something that we can all tell our grandchildren about. Such things aren’t meant to be easy. We are incredibly fortunate to have this group of dedicated employees whose sacrifices and passion build Amazon.com.     Goals for 1998 We are still in the early stages of learning how to bring new value to our customers through Internet     commerce and merchandising. Our goal remains to continue to solidify and extend our brand and customer base. This requires sustained investment in systems and infrastructure to support outstanding customer convenience, selection, and service while we grow. We are planning to add music to our product offering, and over time we believe that other products may be prudent investments. We also believe there are significant opportunities to better serve our customers overseas, such as reducing delivery times and better tailoring the customer experience. To be certain, a big part of the challenge for us will lie not in finding new ways to expand our business, but in prioritizing our investments."
      ],
      "text/plain": [
       "<IPython.core.display.Markdown object>"
      ]
     },
     "metadata": {},
     "output_type": "display_data"
    }
   ],
   "source": [
    "print_markdown(retrieved_contexts)"
   ]
  },
  {
   "cell_type": "code",
   "execution_count": 37,
   "metadata": {},
   "outputs": [
    {
     "ename": "ParamValidationError",
     "evalue": "Parameter validation failed:\nUnknown parameter in retrievalConfiguration.vectorSearchConfiguration: \"rerankingConfiguration\", must be one of: filter, numberOfResults, overrideSearchType",
     "output_type": "error",
     "traceback": [
      "\u001b[0;31m---------------------------------------------------------------------------\u001b[0m",
      "\u001b[0;31mParamValidationError\u001b[0m                      Traceback (most recent call last)",
      "Cell \u001b[0;32mIn[37], line 1\u001b[0m\n\u001b[0;32m----> 1\u001b[0m retrieved_contexts_with_reranker \u001b[38;5;241m=\u001b[39m \u001b[43mretrieve_from_knowledge_base\u001b[49m\u001b[43m(\u001b[49m\u001b[43mkb_id\u001b[49m\u001b[43m,\u001b[49m\u001b[43m \u001b[49m\u001b[43mquery\u001b[49m\u001b[43m,\u001b[49m\u001b[43m \u001b[49m\u001b[43mnumber_of_results\u001b[49m\u001b[38;5;241;43m=\u001b[39;49m\u001b[38;5;241;43m10\u001b[39;49m\u001b[43m,\u001b[49m\u001b[43m \u001b[49m\u001b[43mreranker_model\u001b[49m\u001b[38;5;241;43m=\u001b[39;49m\u001b[43mAMAZON_RERANKER_MODEL\u001b[49m\u001b[43m)\u001b[49m\n",
      "Cell \u001b[0;32mIn[36], line 24\u001b[0m, in \u001b[0;36mretrieve_from_knowledge_base\u001b[0;34m(knowledge_base_id, query, number_of_results, reranker_model)\u001b[0m\n\u001b[1;32m     17\u001b[0m \u001b[38;5;28;01melse\u001b[39;00m:\n\u001b[1;32m     18\u001b[0m     retrieval_config \u001b[38;5;241m=\u001b[39m {\n\u001b[1;32m     19\u001b[0m         \u001b[38;5;124m\"\u001b[39m\u001b[38;5;124mvectorSearchConfiguration\u001b[39m\u001b[38;5;124m\"\u001b[39m: {\n\u001b[1;32m     20\u001b[0m             \u001b[38;5;124m\"\u001b[39m\u001b[38;5;124mnumberOfResults\u001b[39m\u001b[38;5;124m\"\u001b[39m: number_of_results\n\u001b[1;32m     21\u001b[0m         }\n\u001b[1;32m     22\u001b[0m     }\n\u001b[0;32m---> 24\u001b[0m response \u001b[38;5;241m=\u001b[39m \u001b[43mbedrock_agent_runtime_client\u001b[49m\u001b[38;5;241;43m.\u001b[39;49m\u001b[43mretrieve\u001b[49m\u001b[43m(\u001b[49m\n\u001b[1;32m     25\u001b[0m \u001b[43m    \u001b[49m\u001b[43mknowledgeBaseId\u001b[49m\u001b[38;5;241;43m=\u001b[39;49m\u001b[43mknowledge_base_id\u001b[49m\u001b[43m,\u001b[49m\n\u001b[1;32m     26\u001b[0m \u001b[43m    \u001b[49m\u001b[43mretrievalQuery\u001b[49m\u001b[38;5;241;43m=\u001b[39;49m\u001b[43m{\u001b[49m\u001b[38;5;124;43m\"\u001b[39;49m\u001b[38;5;124;43mtext\u001b[39;49m\u001b[38;5;124;43m\"\u001b[39;49m\u001b[43m:\u001b[49m\u001b[43m \u001b[49m\u001b[43mquery\u001b[49m\u001b[43m}\u001b[49m\u001b[43m,\u001b[49m\n\u001b[1;32m     27\u001b[0m \u001b[43m    \u001b[49m\u001b[43mretrievalConfiguration\u001b[49m\u001b[38;5;241;43m=\u001b[39;49m\u001b[43mretrieval_config\u001b[49m\n\u001b[1;32m     28\u001b[0m \u001b[43m\u001b[49m\u001b[43m)\u001b[49m\n\u001b[1;32m     29\u001b[0m \u001b[38;5;28;01mreturn\u001b[39;00m response[\u001b[38;5;124m'\u001b[39m\u001b[38;5;124mretrievalResults\u001b[39m\u001b[38;5;124m'\u001b[39m]\n",
      "File \u001b[0;32m/opt/homebrew/Caskroom/miniforge/base/envs/genai-on-aws-p3.8/lib/python3.8/site-packages/botocore/client.py:565\u001b[0m, in \u001b[0;36mClientCreator._create_api_method.<locals>._api_call\u001b[0;34m(self, *args, **kwargs)\u001b[0m\n\u001b[1;32m    561\u001b[0m     \u001b[38;5;28;01mraise\u001b[39;00m \u001b[38;5;167;01mTypeError\u001b[39;00m(\n\u001b[1;32m    562\u001b[0m         \u001b[38;5;124mf\u001b[39m\u001b[38;5;124m\"\u001b[39m\u001b[38;5;132;01m{\u001b[39;00mpy_operation_name\u001b[38;5;132;01m}\u001b[39;00m\u001b[38;5;124m() only accepts keyword arguments.\u001b[39m\u001b[38;5;124m\"\u001b[39m\n\u001b[1;32m    563\u001b[0m     )\n\u001b[1;32m    564\u001b[0m \u001b[38;5;66;03m# The \"self\" in this scope is referring to the BaseClient.\u001b[39;00m\n\u001b[0;32m--> 565\u001b[0m \u001b[38;5;28;01mreturn\u001b[39;00m \u001b[38;5;28;43mself\u001b[39;49m\u001b[38;5;241;43m.\u001b[39;49m\u001b[43m_make_api_call\u001b[49m\u001b[43m(\u001b[49m\u001b[43moperation_name\u001b[49m\u001b[43m,\u001b[49m\u001b[43m \u001b[49m\u001b[43mkwargs\u001b[49m\u001b[43m)\u001b[49m\n",
      "File \u001b[0;32m/opt/homebrew/Caskroom/miniforge/base/envs/genai-on-aws-p3.8/lib/python3.8/site-packages/botocore/client.py:974\u001b[0m, in \u001b[0;36mBaseClient._make_api_call\u001b[0;34m(self, operation_name, api_params)\u001b[0m\n\u001b[1;32m    970\u001b[0m \u001b[38;5;28;01mif\u001b[39;00m properties:\n\u001b[1;32m    971\u001b[0m     \u001b[38;5;66;03m# Pass arbitrary endpoint info with the Request\u001b[39;00m\n\u001b[1;32m    972\u001b[0m     \u001b[38;5;66;03m# for use during construction.\u001b[39;00m\n\u001b[1;32m    973\u001b[0m     request_context[\u001b[38;5;124m'\u001b[39m\u001b[38;5;124mendpoint_properties\u001b[39m\u001b[38;5;124m'\u001b[39m] \u001b[38;5;241m=\u001b[39m properties\n\u001b[0;32m--> 974\u001b[0m request_dict \u001b[38;5;241m=\u001b[39m \u001b[38;5;28;43mself\u001b[39;49m\u001b[38;5;241;43m.\u001b[39;49m\u001b[43m_convert_to_request_dict\u001b[49m\u001b[43m(\u001b[49m\n\u001b[1;32m    975\u001b[0m \u001b[43m    \u001b[49m\u001b[43mapi_params\u001b[49m\u001b[38;5;241;43m=\u001b[39;49m\u001b[43mapi_params\u001b[49m\u001b[43m,\u001b[49m\n\u001b[1;32m    976\u001b[0m \u001b[43m    \u001b[49m\u001b[43moperation_model\u001b[49m\u001b[38;5;241;43m=\u001b[39;49m\u001b[43moperation_model\u001b[49m\u001b[43m,\u001b[49m\n\u001b[1;32m    977\u001b[0m \u001b[43m    \u001b[49m\u001b[43mendpoint_url\u001b[49m\u001b[38;5;241;43m=\u001b[39;49m\u001b[43mendpoint_url\u001b[49m\u001b[43m,\u001b[49m\n\u001b[1;32m    978\u001b[0m \u001b[43m    \u001b[49m\u001b[43mcontext\u001b[49m\u001b[38;5;241;43m=\u001b[39;49m\u001b[43mrequest_context\u001b[49m\u001b[43m,\u001b[49m\n\u001b[1;32m    979\u001b[0m \u001b[43m    \u001b[49m\u001b[43mheaders\u001b[49m\u001b[38;5;241;43m=\u001b[39;49m\u001b[43madditional_headers\u001b[49m\u001b[43m,\u001b[49m\n\u001b[1;32m    980\u001b[0m \u001b[43m\u001b[49m\u001b[43m)\u001b[49m\n\u001b[1;32m    981\u001b[0m resolve_checksum_context(request_dict, operation_model, api_params)\n\u001b[1;32m    983\u001b[0m service_id \u001b[38;5;241m=\u001b[39m \u001b[38;5;28mself\u001b[39m\u001b[38;5;241m.\u001b[39m_service_model\u001b[38;5;241m.\u001b[39mservice_id\u001b[38;5;241m.\u001b[39mhyphenize()\n",
      "File \u001b[0;32m/opt/homebrew/Caskroom/miniforge/base/envs/genai-on-aws-p3.8/lib/python3.8/site-packages/botocore/client.py:1041\u001b[0m, in \u001b[0;36mBaseClient._convert_to_request_dict\u001b[0;34m(self, api_params, operation_model, endpoint_url, context, headers, set_user_agent_header)\u001b[0m\n\u001b[1;32m   1032\u001b[0m \u001b[38;5;28;01mdef\u001b[39;00m \u001b[38;5;21m_convert_to_request_dict\u001b[39m(\n\u001b[1;32m   1033\u001b[0m     \u001b[38;5;28mself\u001b[39m,\n\u001b[1;32m   1034\u001b[0m     api_params,\n\u001b[0;32m   (...)\u001b[0m\n\u001b[1;32m   1039\u001b[0m     set_user_agent_header\u001b[38;5;241m=\u001b[39m\u001b[38;5;28;01mTrue\u001b[39;00m,\n\u001b[1;32m   1040\u001b[0m ):\n\u001b[0;32m-> 1041\u001b[0m     request_dict \u001b[38;5;241m=\u001b[39m \u001b[38;5;28;43mself\u001b[39;49m\u001b[38;5;241;43m.\u001b[39;49m\u001b[43m_serializer\u001b[49m\u001b[38;5;241;43m.\u001b[39;49m\u001b[43mserialize_to_request\u001b[49m\u001b[43m(\u001b[49m\n\u001b[1;32m   1042\u001b[0m \u001b[43m        \u001b[49m\u001b[43mapi_params\u001b[49m\u001b[43m,\u001b[49m\u001b[43m \u001b[49m\u001b[43moperation_model\u001b[49m\n\u001b[1;32m   1043\u001b[0m \u001b[43m    \u001b[49m\u001b[43m)\u001b[49m\n\u001b[1;32m   1044\u001b[0m     \u001b[38;5;28;01mif\u001b[39;00m \u001b[38;5;129;01mnot\u001b[39;00m \u001b[38;5;28mself\u001b[39m\u001b[38;5;241m.\u001b[39m_client_config\u001b[38;5;241m.\u001b[39minject_host_prefix:\n\u001b[1;32m   1045\u001b[0m         request_dict\u001b[38;5;241m.\u001b[39mpop(\u001b[38;5;124m'\u001b[39m\u001b[38;5;124mhost_prefix\u001b[39m\u001b[38;5;124m'\u001b[39m, \u001b[38;5;28;01mNone\u001b[39;00m)\n",
      "File \u001b[0;32m/opt/homebrew/Caskroom/miniforge/base/envs/genai-on-aws-p3.8/lib/python3.8/site-packages/botocore/validate.py:381\u001b[0m, in \u001b[0;36mParamValidationDecorator.serialize_to_request\u001b[0;34m(self, parameters, operation_model)\u001b[0m\n\u001b[1;32m    377\u001b[0m     report \u001b[38;5;241m=\u001b[39m \u001b[38;5;28mself\u001b[39m\u001b[38;5;241m.\u001b[39m_param_validator\u001b[38;5;241m.\u001b[39mvalidate(\n\u001b[1;32m    378\u001b[0m         parameters, operation_model\u001b[38;5;241m.\u001b[39minput_shape\n\u001b[1;32m    379\u001b[0m     )\n\u001b[1;32m    380\u001b[0m     \u001b[38;5;28;01mif\u001b[39;00m report\u001b[38;5;241m.\u001b[39mhas_errors():\n\u001b[0;32m--> 381\u001b[0m         \u001b[38;5;28;01mraise\u001b[39;00m ParamValidationError(report\u001b[38;5;241m=\u001b[39mreport\u001b[38;5;241m.\u001b[39mgenerate_report())\n\u001b[1;32m    382\u001b[0m \u001b[38;5;28;01mreturn\u001b[39;00m \u001b[38;5;28mself\u001b[39m\u001b[38;5;241m.\u001b[39m_serializer\u001b[38;5;241m.\u001b[39mserialize_to_request(\n\u001b[1;32m    383\u001b[0m     parameters, operation_model\n\u001b[1;32m    384\u001b[0m )\n",
      "\u001b[0;31mParamValidationError\u001b[0m: Parameter validation failed:\nUnknown parameter in retrievalConfiguration.vectorSearchConfiguration: \"rerankingConfiguration\", must be one of: filter, numberOfResults, overrideSearchType"
     ]
    }
   ],
   "source": [
    "retrieved_contexts_with_reranker = retrieve_from_knowledge_base(kb_id, query, number_of_results=10, reranker_model=AMAZON_RERANKER_MODEL)"
   ]
  },
  {
   "cell_type": "code",
   "execution_count": 40,
   "metadata": {},
   "outputs": [],
   "source": [
    "reranker_retrieval_config = get_retrieval_config(reranker_model=AMAZON_RERANKER_MODEL)\n"
   ]
  },
  {
   "cell_type": "code",
   "execution_count": 41,
   "metadata": {},
   "outputs": [
    {
     "data": {
      "text/plain": [
       "{'vectorSearchConfiguration': {'numberOfResults': 30,\n",
       "  'rerankingConfiguration': {'type': 'BEDROCK_RERANKING_MODEL',\n",
       "   'bedrockRerankingConfiguration': {'modelConfiguration': {'modelArn': 'arn:aws:bedrock:us-east-1::foundation-model/amazon.rerank-v1:0'},\n",
       "    'numberOfRerankedResults': 3}}}}"
      ]
     },
     "execution_count": 41,
     "metadata": {},
     "output_type": "execute_result"
    }
   ],
   "source": [
    "reranker_retrieval_config"
   ]
  },
  {
   "cell_type": "code",
   "execution_count": 42,
   "metadata": {},
   "outputs": [
    {
     "ename": "ParamValidationError",
     "evalue": "Parameter validation failed:\nUnknown parameter in retrieveAndGenerateConfiguration.knowledgeBaseConfiguration.retrievalConfiguration.vectorSearchConfiguration: \"rerankingConfiguration\", must be one of: filter, numberOfResults, overrideSearchType",
     "output_type": "error",
     "traceback": [
      "\u001b[0;31m---------------------------------------------------------------------------\u001b[0m",
      "\u001b[0;31mParamValidationError\u001b[0m                      Traceback (most recent call last)",
      "Cell \u001b[0;32mIn[42], line 1\u001b[0m\n\u001b[0;32m----> 1\u001b[0m \u001b[43mretrieve_and_generate\u001b[49m\u001b[43m(\u001b[49m\u001b[43mquery\u001b[49m\u001b[43m,\u001b[49m\u001b[43m \u001b[49m\u001b[43mreranker_retrieval_config\u001b[49m\u001b[43m)\u001b[49m\n",
      "Cell \u001b[0;32mIn[19], line 3\u001b[0m, in \u001b[0;36mretrieve_and_generate\u001b[0;34m(query, retrieval_config)\u001b[0m\n\u001b[1;32m      1\u001b[0m \u001b[38;5;28;01mdef\u001b[39;00m \u001b[38;5;21mretrieve_and_generate\u001b[39m(query, retrieval_config):\n\u001b[1;32m      2\u001b[0m     start \u001b[38;5;241m=\u001b[39m time\u001b[38;5;241m.\u001b[39mtime()\n\u001b[0;32m----> 3\u001b[0m     response \u001b[38;5;241m=\u001b[39m \u001b[43mbedrock_agent_runtime_client\u001b[49m\u001b[38;5;241;43m.\u001b[39;49m\u001b[43mretrieve_and_generate\u001b[49m\u001b[43m(\u001b[49m\n\u001b[1;32m      4\u001b[0m \u001b[43m        \u001b[49m\u001b[38;5;28;43minput\u001b[39;49m\u001b[38;5;241;43m=\u001b[39;49m\u001b[43m{\u001b[49m\n\u001b[1;32m      5\u001b[0m \u001b[43m                \u001b[49m\u001b[38;5;124;43m'\u001b[39;49m\u001b[38;5;124;43mtext\u001b[39;49m\u001b[38;5;124;43m'\u001b[39;49m\u001b[43m:\u001b[49m\u001b[43m \u001b[49m\u001b[43mquery\u001b[49m\n\u001b[1;32m      6\u001b[0m \u001b[43m            \u001b[49m\u001b[43m}\u001b[49m\u001b[43m,\u001b[49m\n\u001b[1;32m      7\u001b[0m \u001b[43m            \u001b[49m\u001b[43mretrieveAndGenerateConfiguration\u001b[49m\u001b[38;5;241;43m=\u001b[39;49m\u001b[43m{\u001b[49m\n\u001b[1;32m      8\u001b[0m \u001b[43m                \u001b[49m\u001b[38;5;124;43m'\u001b[39;49m\u001b[38;5;124;43mtype\u001b[39;49m\u001b[38;5;124;43m'\u001b[39;49m\u001b[43m:\u001b[49m\u001b[43m \u001b[49m\u001b[38;5;124;43m'\u001b[39;49m\u001b[38;5;124;43mKNOWLEDGE_BASE\u001b[39;49m\u001b[38;5;124;43m'\u001b[39;49m\u001b[43m,\u001b[49m\n\u001b[1;32m      9\u001b[0m \u001b[43m                \u001b[49m\u001b[38;5;124;43m'\u001b[39;49m\u001b[38;5;124;43mknowledgeBaseConfiguration\u001b[39;49m\u001b[38;5;124;43m'\u001b[39;49m\u001b[43m:\u001b[49m\u001b[43m \u001b[49m\u001b[43m{\u001b[49m\n\u001b[1;32m     10\u001b[0m \u001b[43m                    \u001b[49m\u001b[38;5;124;43m'\u001b[39;49m\u001b[38;5;124;43mknowledgeBaseId\u001b[39;49m\u001b[38;5;124;43m'\u001b[39;49m\u001b[43m:\u001b[49m\u001b[43m \u001b[49m\u001b[43mkb_id\u001b[49m\u001b[43m,\u001b[49m\n\u001b[1;32m     11\u001b[0m \u001b[43m                    \u001b[49m\u001b[38;5;124;43m'\u001b[39;49m\u001b[38;5;124;43mmodelArn\u001b[39;49m\u001b[38;5;124;43m'\u001b[39;49m\u001b[43m:\u001b[49m\u001b[43m \u001b[49m\u001b[43mTEXT_GENERATION_MODEL_ID\u001b[49m\u001b[43m,\u001b[49m\n\u001b[1;32m     12\u001b[0m \u001b[43m                    \u001b[49m\u001b[38;5;124;43m'\u001b[39;49m\u001b[38;5;124;43mretrievalConfiguration\u001b[39;49m\u001b[38;5;124;43m'\u001b[39;49m\u001b[43m:\u001b[49m\u001b[43m \u001b[49m\u001b[43mretrieval_config\u001b[49m\u001b[43m,\u001b[49m\n\u001b[1;32m     13\u001b[0m \u001b[43m                \u001b[49m\u001b[43m}\u001b[49m\u001b[43m,\u001b[49m\n\u001b[1;32m     14\u001b[0m \u001b[43m            \u001b[49m\u001b[43m}\u001b[49m\n\u001b[1;32m     15\u001b[0m \u001b[43m        \u001b[49m\u001b[43m)\u001b[49m\n\u001b[1;32m     16\u001b[0m     time_spent \u001b[38;5;241m=\u001b[39m time\u001b[38;5;241m.\u001b[39mtime() \u001b[38;5;241m-\u001b[39m start\n\u001b[1;32m     17\u001b[0m     \u001b[38;5;28mprint\u001b[39m(\u001b[38;5;124mf\u001b[39m\u001b[38;5;124m\"\u001b[39m\u001b[38;5;124m[Response]\u001b[39m\u001b[38;5;130;01m\\n\u001b[39;00m\u001b[38;5;132;01m{\u001b[39;00mresponse[\u001b[38;5;124m'\u001b[39m\u001b[38;5;124moutput\u001b[39m\u001b[38;5;124m'\u001b[39m][\u001b[38;5;124m'\u001b[39m\u001b[38;5;124mtext\u001b[39m\u001b[38;5;124m'\u001b[39m]\u001b[38;5;132;01m}\u001b[39;00m\u001b[38;5;130;01m\\n\u001b[39;00m\u001b[38;5;124m\"\u001b[39m)\n",
      "File \u001b[0;32m/opt/homebrew/Caskroom/miniforge/base/envs/genai-on-aws-p3.8/lib/python3.8/site-packages/botocore/client.py:565\u001b[0m, in \u001b[0;36mClientCreator._create_api_method.<locals>._api_call\u001b[0;34m(self, *args, **kwargs)\u001b[0m\n\u001b[1;32m    561\u001b[0m     \u001b[38;5;28;01mraise\u001b[39;00m \u001b[38;5;167;01mTypeError\u001b[39;00m(\n\u001b[1;32m    562\u001b[0m         \u001b[38;5;124mf\u001b[39m\u001b[38;5;124m\"\u001b[39m\u001b[38;5;132;01m{\u001b[39;00mpy_operation_name\u001b[38;5;132;01m}\u001b[39;00m\u001b[38;5;124m() only accepts keyword arguments.\u001b[39m\u001b[38;5;124m\"\u001b[39m\n\u001b[1;32m    563\u001b[0m     )\n\u001b[1;32m    564\u001b[0m \u001b[38;5;66;03m# The \"self\" in this scope is referring to the BaseClient.\u001b[39;00m\n\u001b[0;32m--> 565\u001b[0m \u001b[38;5;28;01mreturn\u001b[39;00m \u001b[38;5;28;43mself\u001b[39;49m\u001b[38;5;241;43m.\u001b[39;49m\u001b[43m_make_api_call\u001b[49m\u001b[43m(\u001b[49m\u001b[43moperation_name\u001b[49m\u001b[43m,\u001b[49m\u001b[43m \u001b[49m\u001b[43mkwargs\u001b[49m\u001b[43m)\u001b[49m\n",
      "File \u001b[0;32m/opt/homebrew/Caskroom/miniforge/base/envs/genai-on-aws-p3.8/lib/python3.8/site-packages/botocore/client.py:974\u001b[0m, in \u001b[0;36mBaseClient._make_api_call\u001b[0;34m(self, operation_name, api_params)\u001b[0m\n\u001b[1;32m    970\u001b[0m \u001b[38;5;28;01mif\u001b[39;00m properties:\n\u001b[1;32m    971\u001b[0m     \u001b[38;5;66;03m# Pass arbitrary endpoint info with the Request\u001b[39;00m\n\u001b[1;32m    972\u001b[0m     \u001b[38;5;66;03m# for use during construction.\u001b[39;00m\n\u001b[1;32m    973\u001b[0m     request_context[\u001b[38;5;124m'\u001b[39m\u001b[38;5;124mendpoint_properties\u001b[39m\u001b[38;5;124m'\u001b[39m] \u001b[38;5;241m=\u001b[39m properties\n\u001b[0;32m--> 974\u001b[0m request_dict \u001b[38;5;241m=\u001b[39m \u001b[38;5;28;43mself\u001b[39;49m\u001b[38;5;241;43m.\u001b[39;49m\u001b[43m_convert_to_request_dict\u001b[49m\u001b[43m(\u001b[49m\n\u001b[1;32m    975\u001b[0m \u001b[43m    \u001b[49m\u001b[43mapi_params\u001b[49m\u001b[38;5;241;43m=\u001b[39;49m\u001b[43mapi_params\u001b[49m\u001b[43m,\u001b[49m\n\u001b[1;32m    976\u001b[0m \u001b[43m    \u001b[49m\u001b[43moperation_model\u001b[49m\u001b[38;5;241;43m=\u001b[39;49m\u001b[43moperation_model\u001b[49m\u001b[43m,\u001b[49m\n\u001b[1;32m    977\u001b[0m \u001b[43m    \u001b[49m\u001b[43mendpoint_url\u001b[49m\u001b[38;5;241;43m=\u001b[39;49m\u001b[43mendpoint_url\u001b[49m\u001b[43m,\u001b[49m\n\u001b[1;32m    978\u001b[0m \u001b[43m    \u001b[49m\u001b[43mcontext\u001b[49m\u001b[38;5;241;43m=\u001b[39;49m\u001b[43mrequest_context\u001b[49m\u001b[43m,\u001b[49m\n\u001b[1;32m    979\u001b[0m \u001b[43m    \u001b[49m\u001b[43mheaders\u001b[49m\u001b[38;5;241;43m=\u001b[39;49m\u001b[43madditional_headers\u001b[49m\u001b[43m,\u001b[49m\n\u001b[1;32m    980\u001b[0m \u001b[43m\u001b[49m\u001b[43m)\u001b[49m\n\u001b[1;32m    981\u001b[0m resolve_checksum_context(request_dict, operation_model, api_params)\n\u001b[1;32m    983\u001b[0m service_id \u001b[38;5;241m=\u001b[39m \u001b[38;5;28mself\u001b[39m\u001b[38;5;241m.\u001b[39m_service_model\u001b[38;5;241m.\u001b[39mservice_id\u001b[38;5;241m.\u001b[39mhyphenize()\n",
      "File \u001b[0;32m/opt/homebrew/Caskroom/miniforge/base/envs/genai-on-aws-p3.8/lib/python3.8/site-packages/botocore/client.py:1041\u001b[0m, in \u001b[0;36mBaseClient._convert_to_request_dict\u001b[0;34m(self, api_params, operation_model, endpoint_url, context, headers, set_user_agent_header)\u001b[0m\n\u001b[1;32m   1032\u001b[0m \u001b[38;5;28;01mdef\u001b[39;00m \u001b[38;5;21m_convert_to_request_dict\u001b[39m(\n\u001b[1;32m   1033\u001b[0m     \u001b[38;5;28mself\u001b[39m,\n\u001b[1;32m   1034\u001b[0m     api_params,\n\u001b[0;32m   (...)\u001b[0m\n\u001b[1;32m   1039\u001b[0m     set_user_agent_header\u001b[38;5;241m=\u001b[39m\u001b[38;5;28;01mTrue\u001b[39;00m,\n\u001b[1;32m   1040\u001b[0m ):\n\u001b[0;32m-> 1041\u001b[0m     request_dict \u001b[38;5;241m=\u001b[39m \u001b[38;5;28;43mself\u001b[39;49m\u001b[38;5;241;43m.\u001b[39;49m\u001b[43m_serializer\u001b[49m\u001b[38;5;241;43m.\u001b[39;49m\u001b[43mserialize_to_request\u001b[49m\u001b[43m(\u001b[49m\n\u001b[1;32m   1042\u001b[0m \u001b[43m        \u001b[49m\u001b[43mapi_params\u001b[49m\u001b[43m,\u001b[49m\u001b[43m \u001b[49m\u001b[43moperation_model\u001b[49m\n\u001b[1;32m   1043\u001b[0m \u001b[43m    \u001b[49m\u001b[43m)\u001b[49m\n\u001b[1;32m   1044\u001b[0m     \u001b[38;5;28;01mif\u001b[39;00m \u001b[38;5;129;01mnot\u001b[39;00m \u001b[38;5;28mself\u001b[39m\u001b[38;5;241m.\u001b[39m_client_config\u001b[38;5;241m.\u001b[39minject_host_prefix:\n\u001b[1;32m   1045\u001b[0m         request_dict\u001b[38;5;241m.\u001b[39mpop(\u001b[38;5;124m'\u001b[39m\u001b[38;5;124mhost_prefix\u001b[39m\u001b[38;5;124m'\u001b[39m, \u001b[38;5;28;01mNone\u001b[39;00m)\n",
      "File \u001b[0;32m/opt/homebrew/Caskroom/miniforge/base/envs/genai-on-aws-p3.8/lib/python3.8/site-packages/botocore/validate.py:381\u001b[0m, in \u001b[0;36mParamValidationDecorator.serialize_to_request\u001b[0;34m(self, parameters, operation_model)\u001b[0m\n\u001b[1;32m    377\u001b[0m     report \u001b[38;5;241m=\u001b[39m \u001b[38;5;28mself\u001b[39m\u001b[38;5;241m.\u001b[39m_param_validator\u001b[38;5;241m.\u001b[39mvalidate(\n\u001b[1;32m    378\u001b[0m         parameters, operation_model\u001b[38;5;241m.\u001b[39minput_shape\n\u001b[1;32m    379\u001b[0m     )\n\u001b[1;32m    380\u001b[0m     \u001b[38;5;28;01mif\u001b[39;00m report\u001b[38;5;241m.\u001b[39mhas_errors():\n\u001b[0;32m--> 381\u001b[0m         \u001b[38;5;28;01mraise\u001b[39;00m ParamValidationError(report\u001b[38;5;241m=\u001b[39mreport\u001b[38;5;241m.\u001b[39mgenerate_report())\n\u001b[1;32m    382\u001b[0m \u001b[38;5;28;01mreturn\u001b[39;00m \u001b[38;5;28mself\u001b[39m\u001b[38;5;241m.\u001b[39m_serializer\u001b[38;5;241m.\u001b[39mserialize_to_request(\n\u001b[1;32m    383\u001b[0m     parameters, operation_model\n\u001b[1;32m    384\u001b[0m )\n",
      "\u001b[0;31mParamValidationError\u001b[0m: Parameter validation failed:\nUnknown parameter in retrieveAndGenerateConfiguration.knowledgeBaseConfiguration.retrievalConfiguration.vectorSearchConfiguration: \"rerankingConfiguration\", must be one of: filter, numberOfResults, overrideSearchType"
     ]
    }
   ],
   "source": [
    "retrieve_and_generate(query, reranker_retrieval_config)"
   ]
  },
  {
   "cell_type": "code",
   "execution_count": 43,
   "metadata": {},
   "outputs": [],
   "source": [
    "def retrieve_from_knowledge_base(knowledge_base_id, query, number_of_results=5, reranker_model=None):\n",
    "    if reranker_model:\n",
    "        retrieval_config = {\n",
    "            \"vectorSearchConfiguration\": {\n",
    "                \"numberOfResults\": number_of_results,\n",
    "                \"rerankingConfiguration\": {\n",
    "                    \"type\": \"BEDROCK_RERANKING_MODEL\",\n",
    "                    \"bedrockRerankingConfiguration\": {\n",
    "                        \"modelConfiguration\": {\n",
    "                            \"modelArn\": reranker_model,\n",
    "                            \"additionalModelRequestFields\": {}  # Add if specific fields are required\n",
    "                        },\n",
    "                        \"numberOfRerankedResults\": min(number_of_results, 3),  # Ensure reranked results <= total results\n",
    "                        \"metadataConfiguration\": {\n",
    "                            \"selectionMode\": \"ALL\"  # Adjust to 'SELECTIVE' if needed\n",
    "                        }\n",
    "                    }\n",
    "                }\n",
    "            }\n",
    "        }\n",
    "    else:\n",
    "        retrieval_config = {\n",
    "            \"vectorSearchConfiguration\": {\n",
    "                \"numberOfResults\": number_of_results\n",
    "            }\n",
    "        }\n",
    "\n",
    "    try:\n",
    "        response = bedrock_agent_runtime_client.retrieve(\n",
    "            knowledgeBaseId=knowledge_base_id,\n",
    "            retrievalQuery={\"text\": query},\n",
    "            retrievalConfiguration=retrieval_config\n",
    "        )\n",
    "        return response.get('retrievalResults', [])\n",
    "    except Exception as e:\n",
    "        raise RuntimeError(f\"Failed to retrieve results: {str(e)}\")\n"
   ]
  },
  {
   "cell_type": "code",
   "execution_count": 44,
   "metadata": {},
   "outputs": [
    {
     "ename": "RuntimeError",
     "evalue": "Failed to retrieve results: Parameter validation failed:\nUnknown parameter in retrievalConfiguration.vectorSearchConfiguration: \"rerankingConfiguration\", must be one of: filter, numberOfResults, overrideSearchType",
     "output_type": "error",
     "traceback": [
      "\u001b[0;31m---------------------------------------------------------------------------\u001b[0m",
      "\u001b[0;31mParamValidationError\u001b[0m                      Traceback (most recent call last)",
      "Cell \u001b[0;32mIn[43], line 29\u001b[0m, in \u001b[0;36mretrieve_from_knowledge_base\u001b[0;34m(knowledge_base_id, query, number_of_results, reranker_model)\u001b[0m\n\u001b[1;32m     28\u001b[0m \u001b[38;5;28;01mtry\u001b[39;00m:\n\u001b[0;32m---> 29\u001b[0m     response \u001b[38;5;241m=\u001b[39m \u001b[43mbedrock_agent_runtime_client\u001b[49m\u001b[38;5;241;43m.\u001b[39;49m\u001b[43mretrieve\u001b[49m\u001b[43m(\u001b[49m\n\u001b[1;32m     30\u001b[0m \u001b[43m        \u001b[49m\u001b[43mknowledgeBaseId\u001b[49m\u001b[38;5;241;43m=\u001b[39;49m\u001b[43mknowledge_base_id\u001b[49m\u001b[43m,\u001b[49m\n\u001b[1;32m     31\u001b[0m \u001b[43m        \u001b[49m\u001b[43mretrievalQuery\u001b[49m\u001b[38;5;241;43m=\u001b[39;49m\u001b[43m{\u001b[49m\u001b[38;5;124;43m\"\u001b[39;49m\u001b[38;5;124;43mtext\u001b[39;49m\u001b[38;5;124;43m\"\u001b[39;49m\u001b[43m:\u001b[49m\u001b[43m \u001b[49m\u001b[43mquery\u001b[49m\u001b[43m}\u001b[49m\u001b[43m,\u001b[49m\n\u001b[1;32m     32\u001b[0m \u001b[43m        \u001b[49m\u001b[43mretrievalConfiguration\u001b[49m\u001b[38;5;241;43m=\u001b[39;49m\u001b[43mretrieval_config\u001b[49m\n\u001b[1;32m     33\u001b[0m \u001b[43m    \u001b[49m\u001b[43m)\u001b[49m\n\u001b[1;32m     34\u001b[0m     \u001b[38;5;28;01mreturn\u001b[39;00m response\u001b[38;5;241m.\u001b[39mget(\u001b[38;5;124m'\u001b[39m\u001b[38;5;124mretrievalResults\u001b[39m\u001b[38;5;124m'\u001b[39m, [])\n",
      "File \u001b[0;32m/opt/homebrew/Caskroom/miniforge/base/envs/genai-on-aws-p3.8/lib/python3.8/site-packages/botocore/client.py:565\u001b[0m, in \u001b[0;36mClientCreator._create_api_method.<locals>._api_call\u001b[0;34m(self, *args, **kwargs)\u001b[0m\n\u001b[1;32m    564\u001b[0m \u001b[38;5;66;03m# The \"self\" in this scope is referring to the BaseClient.\u001b[39;00m\n\u001b[0;32m--> 565\u001b[0m \u001b[38;5;28;01mreturn\u001b[39;00m \u001b[38;5;28;43mself\u001b[39;49m\u001b[38;5;241;43m.\u001b[39;49m\u001b[43m_make_api_call\u001b[49m\u001b[43m(\u001b[49m\u001b[43moperation_name\u001b[49m\u001b[43m,\u001b[49m\u001b[43m \u001b[49m\u001b[43mkwargs\u001b[49m\u001b[43m)\u001b[49m\n",
      "File \u001b[0;32m/opt/homebrew/Caskroom/miniforge/base/envs/genai-on-aws-p3.8/lib/python3.8/site-packages/botocore/client.py:974\u001b[0m, in \u001b[0;36mBaseClient._make_api_call\u001b[0;34m(self, operation_name, api_params)\u001b[0m\n\u001b[1;32m    973\u001b[0m     request_context[\u001b[38;5;124m'\u001b[39m\u001b[38;5;124mendpoint_properties\u001b[39m\u001b[38;5;124m'\u001b[39m] \u001b[38;5;241m=\u001b[39m properties\n\u001b[0;32m--> 974\u001b[0m request_dict \u001b[38;5;241m=\u001b[39m \u001b[38;5;28;43mself\u001b[39;49m\u001b[38;5;241;43m.\u001b[39;49m\u001b[43m_convert_to_request_dict\u001b[49m\u001b[43m(\u001b[49m\n\u001b[1;32m    975\u001b[0m \u001b[43m    \u001b[49m\u001b[43mapi_params\u001b[49m\u001b[38;5;241;43m=\u001b[39;49m\u001b[43mapi_params\u001b[49m\u001b[43m,\u001b[49m\n\u001b[1;32m    976\u001b[0m \u001b[43m    \u001b[49m\u001b[43moperation_model\u001b[49m\u001b[38;5;241;43m=\u001b[39;49m\u001b[43moperation_model\u001b[49m\u001b[43m,\u001b[49m\n\u001b[1;32m    977\u001b[0m \u001b[43m    \u001b[49m\u001b[43mendpoint_url\u001b[49m\u001b[38;5;241;43m=\u001b[39;49m\u001b[43mendpoint_url\u001b[49m\u001b[43m,\u001b[49m\n\u001b[1;32m    978\u001b[0m \u001b[43m    \u001b[49m\u001b[43mcontext\u001b[49m\u001b[38;5;241;43m=\u001b[39;49m\u001b[43mrequest_context\u001b[49m\u001b[43m,\u001b[49m\n\u001b[1;32m    979\u001b[0m \u001b[43m    \u001b[49m\u001b[43mheaders\u001b[49m\u001b[38;5;241;43m=\u001b[39;49m\u001b[43madditional_headers\u001b[49m\u001b[43m,\u001b[49m\n\u001b[1;32m    980\u001b[0m \u001b[43m\u001b[49m\u001b[43m)\u001b[49m\n\u001b[1;32m    981\u001b[0m resolve_checksum_context(request_dict, operation_model, api_params)\n",
      "File \u001b[0;32m/opt/homebrew/Caskroom/miniforge/base/envs/genai-on-aws-p3.8/lib/python3.8/site-packages/botocore/client.py:1041\u001b[0m, in \u001b[0;36mBaseClient._convert_to_request_dict\u001b[0;34m(self, api_params, operation_model, endpoint_url, context, headers, set_user_agent_header)\u001b[0m\n\u001b[1;32m   1032\u001b[0m \u001b[38;5;28;01mdef\u001b[39;00m \u001b[38;5;21m_convert_to_request_dict\u001b[39m(\n\u001b[1;32m   1033\u001b[0m     \u001b[38;5;28mself\u001b[39m,\n\u001b[1;32m   1034\u001b[0m     api_params,\n\u001b[0;32m   (...)\u001b[0m\n\u001b[1;32m   1039\u001b[0m     set_user_agent_header\u001b[38;5;241m=\u001b[39m\u001b[38;5;28;01mTrue\u001b[39;00m,\n\u001b[1;32m   1040\u001b[0m ):\n\u001b[0;32m-> 1041\u001b[0m     request_dict \u001b[38;5;241m=\u001b[39m \u001b[38;5;28;43mself\u001b[39;49m\u001b[38;5;241;43m.\u001b[39;49m\u001b[43m_serializer\u001b[49m\u001b[38;5;241;43m.\u001b[39;49m\u001b[43mserialize_to_request\u001b[49m\u001b[43m(\u001b[49m\n\u001b[1;32m   1042\u001b[0m \u001b[43m        \u001b[49m\u001b[43mapi_params\u001b[49m\u001b[43m,\u001b[49m\u001b[43m \u001b[49m\u001b[43moperation_model\u001b[49m\n\u001b[1;32m   1043\u001b[0m \u001b[43m    \u001b[49m\u001b[43m)\u001b[49m\n\u001b[1;32m   1044\u001b[0m     \u001b[38;5;28;01mif\u001b[39;00m \u001b[38;5;129;01mnot\u001b[39;00m \u001b[38;5;28mself\u001b[39m\u001b[38;5;241m.\u001b[39m_client_config\u001b[38;5;241m.\u001b[39minject_host_prefix:\n",
      "File \u001b[0;32m/opt/homebrew/Caskroom/miniforge/base/envs/genai-on-aws-p3.8/lib/python3.8/site-packages/botocore/validate.py:381\u001b[0m, in \u001b[0;36mParamValidationDecorator.serialize_to_request\u001b[0;34m(self, parameters, operation_model)\u001b[0m\n\u001b[1;32m    380\u001b[0m     \u001b[38;5;28;01mif\u001b[39;00m report\u001b[38;5;241m.\u001b[39mhas_errors():\n\u001b[0;32m--> 381\u001b[0m         \u001b[38;5;28;01mraise\u001b[39;00m ParamValidationError(report\u001b[38;5;241m=\u001b[39mreport\u001b[38;5;241m.\u001b[39mgenerate_report())\n\u001b[1;32m    382\u001b[0m \u001b[38;5;28;01mreturn\u001b[39;00m \u001b[38;5;28mself\u001b[39m\u001b[38;5;241m.\u001b[39m_serializer\u001b[38;5;241m.\u001b[39mserialize_to_request(\n\u001b[1;32m    383\u001b[0m     parameters, operation_model\n\u001b[1;32m    384\u001b[0m )\n",
      "\u001b[0;31mParamValidationError\u001b[0m: Parameter validation failed:\nUnknown parameter in retrievalConfiguration.vectorSearchConfiguration: \"rerankingConfiguration\", must be one of: filter, numberOfResults, overrideSearchType",
      "\nDuring handling of the above exception, another exception occurred:\n",
      "\u001b[0;31mRuntimeError\u001b[0m                              Traceback (most recent call last)",
      "Cell \u001b[0;32mIn[44], line 1\u001b[0m\n\u001b[0;32m----> 1\u001b[0m retrieved_contexts_with_reranker \u001b[38;5;241m=\u001b[39m \u001b[43mretrieve_from_knowledge_base\u001b[49m\u001b[43m(\u001b[49m\u001b[43mkb_id\u001b[49m\u001b[43m,\u001b[49m\u001b[43m \u001b[49m\u001b[43mquery\u001b[49m\u001b[43m,\u001b[49m\u001b[43m \u001b[49m\u001b[43mnumber_of_results\u001b[49m\u001b[38;5;241;43m=\u001b[39;49m\u001b[38;5;241;43m10\u001b[39;49m\u001b[43m,\u001b[49m\u001b[43m \u001b[49m\u001b[43mreranker_model\u001b[49m\u001b[38;5;241;43m=\u001b[39;49m\u001b[43mAMAZON_RERANKER_MODEL\u001b[49m\u001b[43m)\u001b[49m\n",
      "Cell \u001b[0;32mIn[43], line 36\u001b[0m, in \u001b[0;36mretrieve_from_knowledge_base\u001b[0;34m(knowledge_base_id, query, number_of_results, reranker_model)\u001b[0m\n\u001b[1;32m     34\u001b[0m     \u001b[38;5;28;01mreturn\u001b[39;00m response\u001b[38;5;241m.\u001b[39mget(\u001b[38;5;124m'\u001b[39m\u001b[38;5;124mretrievalResults\u001b[39m\u001b[38;5;124m'\u001b[39m, [])\n\u001b[1;32m     35\u001b[0m \u001b[38;5;28;01mexcept\u001b[39;00m \u001b[38;5;167;01mException\u001b[39;00m \u001b[38;5;28;01mas\u001b[39;00m e:\n\u001b[0;32m---> 36\u001b[0m     \u001b[38;5;28;01mraise\u001b[39;00m \u001b[38;5;167;01mRuntimeError\u001b[39;00m(\u001b[38;5;124mf\u001b[39m\u001b[38;5;124m\"\u001b[39m\u001b[38;5;124mFailed to retrieve results: \u001b[39m\u001b[38;5;132;01m{\u001b[39;00m\u001b[38;5;28mstr\u001b[39m(e)\u001b[38;5;132;01m}\u001b[39;00m\u001b[38;5;124m\"\u001b[39m)\n",
      "\u001b[0;31mRuntimeError\u001b[0m: Failed to retrieve results: Parameter validation failed:\nUnknown parameter in retrievalConfiguration.vectorSearchConfiguration: \"rerankingConfiguration\", must be one of: filter, numberOfResults, overrideSearchType"
     ]
    }
   ],
   "source": [
    "retrieved_contexts_with_reranker = retrieve_from_knowledge_base(kb_id, query, number_of_results=10, reranker_model=AMAZON_RERANKER_MODEL)"
   ]
  },
  {
   "cell_type": "code",
   "execution_count": 45,
   "metadata": {},
   "outputs": [],
   "source": [
    "def retrieve_from_knowledge_base(knowledge_base_id, query, number_of_results=5, reranker_model=None):\n",
    "    # Basic vector search configuration\n",
    "    retrieval_config = {\n",
    "        \"vectorSearchConfiguration\": {\n",
    "            \"numberOfResults\": number_of_results\n",
    "        }\n",
    "    }\n",
    "\n",
    "    # Add reranking configuration if a reranker model is provided\n",
    "    if reranker_model:\n",
    "        retrieval_config[\"rerankingConfiguration\"] = {\n",
    "            \"type\": \"BEDROCK_RERANKING_MODEL\",\n",
    "            \"bedrockRerankingConfiguration\": {\n",
    "                \"modelConfiguration\": {\n",
    "                    \"modelArn\": reranker_model\n",
    "                },\n",
    "                \"numberOfRerankedResults\": min(number_of_results, 3),  # Ensure this number is valid\n",
    "                \"metadataConfiguration\": {\n",
    "                    \"selectionMode\": \"ALL\"  # Adjust based on use case\n",
    "                }\n",
    "            }\n",
    "        }\n",
    "\n",
    "    try:\n",
    "        response = bedrock_agent_runtime_client.retrieve(\n",
    "            knowledgeBaseId=knowledge_base_id,\n",
    "            retrievalQuery={\"text\": query},\n",
    "            retrievalConfiguration=retrieval_config\n",
    "        )\n",
    "        return response.get(\"retrievalResults\", [])\n",
    "    except Exception as e:\n",
    "        raise RuntimeError(f\"Failed to retrieve results: {str(e)}\")\n"
   ]
  },
  {
   "cell_type": "code",
   "execution_count": 46,
   "metadata": {},
   "outputs": [
    {
     "ename": "RuntimeError",
     "evalue": "Failed to retrieve results: Parameter validation failed:\nUnknown parameter in retrievalConfiguration: \"rerankingConfiguration\", must be one of: vectorSearchConfiguration",
     "output_type": "error",
     "traceback": [
      "\u001b[0;31m---------------------------------------------------------------------------\u001b[0m",
      "\u001b[0;31mParamValidationError\u001b[0m                      Traceback (most recent call last)",
      "Cell \u001b[0;32mIn[45], line 25\u001b[0m, in \u001b[0;36mretrieve_from_knowledge_base\u001b[0;34m(knowledge_base_id, query, number_of_results, reranker_model)\u001b[0m\n\u001b[1;32m     24\u001b[0m \u001b[38;5;28;01mtry\u001b[39;00m:\n\u001b[0;32m---> 25\u001b[0m     response \u001b[38;5;241m=\u001b[39m \u001b[43mbedrock_agent_runtime_client\u001b[49m\u001b[38;5;241;43m.\u001b[39;49m\u001b[43mretrieve\u001b[49m\u001b[43m(\u001b[49m\n\u001b[1;32m     26\u001b[0m \u001b[43m        \u001b[49m\u001b[43mknowledgeBaseId\u001b[49m\u001b[38;5;241;43m=\u001b[39;49m\u001b[43mknowledge_base_id\u001b[49m\u001b[43m,\u001b[49m\n\u001b[1;32m     27\u001b[0m \u001b[43m        \u001b[49m\u001b[43mretrievalQuery\u001b[49m\u001b[38;5;241;43m=\u001b[39;49m\u001b[43m{\u001b[49m\u001b[38;5;124;43m\"\u001b[39;49m\u001b[38;5;124;43mtext\u001b[39;49m\u001b[38;5;124;43m\"\u001b[39;49m\u001b[43m:\u001b[49m\u001b[43m \u001b[49m\u001b[43mquery\u001b[49m\u001b[43m}\u001b[49m\u001b[43m,\u001b[49m\n\u001b[1;32m     28\u001b[0m \u001b[43m        \u001b[49m\u001b[43mretrievalConfiguration\u001b[49m\u001b[38;5;241;43m=\u001b[39;49m\u001b[43mretrieval_config\u001b[49m\n\u001b[1;32m     29\u001b[0m \u001b[43m    \u001b[49m\u001b[43m)\u001b[49m\n\u001b[1;32m     30\u001b[0m     \u001b[38;5;28;01mreturn\u001b[39;00m response\u001b[38;5;241m.\u001b[39mget(\u001b[38;5;124m\"\u001b[39m\u001b[38;5;124mretrievalResults\u001b[39m\u001b[38;5;124m\"\u001b[39m, [])\n",
      "File \u001b[0;32m/opt/homebrew/Caskroom/miniforge/base/envs/genai-on-aws-p3.8/lib/python3.8/site-packages/botocore/client.py:565\u001b[0m, in \u001b[0;36mClientCreator._create_api_method.<locals>._api_call\u001b[0;34m(self, *args, **kwargs)\u001b[0m\n\u001b[1;32m    564\u001b[0m \u001b[38;5;66;03m# The \"self\" in this scope is referring to the BaseClient.\u001b[39;00m\n\u001b[0;32m--> 565\u001b[0m \u001b[38;5;28;01mreturn\u001b[39;00m \u001b[38;5;28;43mself\u001b[39;49m\u001b[38;5;241;43m.\u001b[39;49m\u001b[43m_make_api_call\u001b[49m\u001b[43m(\u001b[49m\u001b[43moperation_name\u001b[49m\u001b[43m,\u001b[49m\u001b[43m \u001b[49m\u001b[43mkwargs\u001b[49m\u001b[43m)\u001b[49m\n",
      "File \u001b[0;32m/opt/homebrew/Caskroom/miniforge/base/envs/genai-on-aws-p3.8/lib/python3.8/site-packages/botocore/client.py:974\u001b[0m, in \u001b[0;36mBaseClient._make_api_call\u001b[0;34m(self, operation_name, api_params)\u001b[0m\n\u001b[1;32m    973\u001b[0m     request_context[\u001b[38;5;124m'\u001b[39m\u001b[38;5;124mendpoint_properties\u001b[39m\u001b[38;5;124m'\u001b[39m] \u001b[38;5;241m=\u001b[39m properties\n\u001b[0;32m--> 974\u001b[0m request_dict \u001b[38;5;241m=\u001b[39m \u001b[38;5;28;43mself\u001b[39;49m\u001b[38;5;241;43m.\u001b[39;49m\u001b[43m_convert_to_request_dict\u001b[49m\u001b[43m(\u001b[49m\n\u001b[1;32m    975\u001b[0m \u001b[43m    \u001b[49m\u001b[43mapi_params\u001b[49m\u001b[38;5;241;43m=\u001b[39;49m\u001b[43mapi_params\u001b[49m\u001b[43m,\u001b[49m\n\u001b[1;32m    976\u001b[0m \u001b[43m    \u001b[49m\u001b[43moperation_model\u001b[49m\u001b[38;5;241;43m=\u001b[39;49m\u001b[43moperation_model\u001b[49m\u001b[43m,\u001b[49m\n\u001b[1;32m    977\u001b[0m \u001b[43m    \u001b[49m\u001b[43mendpoint_url\u001b[49m\u001b[38;5;241;43m=\u001b[39;49m\u001b[43mendpoint_url\u001b[49m\u001b[43m,\u001b[49m\n\u001b[1;32m    978\u001b[0m \u001b[43m    \u001b[49m\u001b[43mcontext\u001b[49m\u001b[38;5;241;43m=\u001b[39;49m\u001b[43mrequest_context\u001b[49m\u001b[43m,\u001b[49m\n\u001b[1;32m    979\u001b[0m \u001b[43m    \u001b[49m\u001b[43mheaders\u001b[49m\u001b[38;5;241;43m=\u001b[39;49m\u001b[43madditional_headers\u001b[49m\u001b[43m,\u001b[49m\n\u001b[1;32m    980\u001b[0m \u001b[43m\u001b[49m\u001b[43m)\u001b[49m\n\u001b[1;32m    981\u001b[0m resolve_checksum_context(request_dict, operation_model, api_params)\n",
      "File \u001b[0;32m/opt/homebrew/Caskroom/miniforge/base/envs/genai-on-aws-p3.8/lib/python3.8/site-packages/botocore/client.py:1041\u001b[0m, in \u001b[0;36mBaseClient._convert_to_request_dict\u001b[0;34m(self, api_params, operation_model, endpoint_url, context, headers, set_user_agent_header)\u001b[0m\n\u001b[1;32m   1032\u001b[0m \u001b[38;5;28;01mdef\u001b[39;00m \u001b[38;5;21m_convert_to_request_dict\u001b[39m(\n\u001b[1;32m   1033\u001b[0m     \u001b[38;5;28mself\u001b[39m,\n\u001b[1;32m   1034\u001b[0m     api_params,\n\u001b[0;32m   (...)\u001b[0m\n\u001b[1;32m   1039\u001b[0m     set_user_agent_header\u001b[38;5;241m=\u001b[39m\u001b[38;5;28;01mTrue\u001b[39;00m,\n\u001b[1;32m   1040\u001b[0m ):\n\u001b[0;32m-> 1041\u001b[0m     request_dict \u001b[38;5;241m=\u001b[39m \u001b[38;5;28;43mself\u001b[39;49m\u001b[38;5;241;43m.\u001b[39;49m\u001b[43m_serializer\u001b[49m\u001b[38;5;241;43m.\u001b[39;49m\u001b[43mserialize_to_request\u001b[49m\u001b[43m(\u001b[49m\n\u001b[1;32m   1042\u001b[0m \u001b[43m        \u001b[49m\u001b[43mapi_params\u001b[49m\u001b[43m,\u001b[49m\u001b[43m \u001b[49m\u001b[43moperation_model\u001b[49m\n\u001b[1;32m   1043\u001b[0m \u001b[43m    \u001b[49m\u001b[43m)\u001b[49m\n\u001b[1;32m   1044\u001b[0m     \u001b[38;5;28;01mif\u001b[39;00m \u001b[38;5;129;01mnot\u001b[39;00m \u001b[38;5;28mself\u001b[39m\u001b[38;5;241m.\u001b[39m_client_config\u001b[38;5;241m.\u001b[39minject_host_prefix:\n",
      "File \u001b[0;32m/opt/homebrew/Caskroom/miniforge/base/envs/genai-on-aws-p3.8/lib/python3.8/site-packages/botocore/validate.py:381\u001b[0m, in \u001b[0;36mParamValidationDecorator.serialize_to_request\u001b[0;34m(self, parameters, operation_model)\u001b[0m\n\u001b[1;32m    380\u001b[0m     \u001b[38;5;28;01mif\u001b[39;00m report\u001b[38;5;241m.\u001b[39mhas_errors():\n\u001b[0;32m--> 381\u001b[0m         \u001b[38;5;28;01mraise\u001b[39;00m ParamValidationError(report\u001b[38;5;241m=\u001b[39mreport\u001b[38;5;241m.\u001b[39mgenerate_report())\n\u001b[1;32m    382\u001b[0m \u001b[38;5;28;01mreturn\u001b[39;00m \u001b[38;5;28mself\u001b[39m\u001b[38;5;241m.\u001b[39m_serializer\u001b[38;5;241m.\u001b[39mserialize_to_request(\n\u001b[1;32m    383\u001b[0m     parameters, operation_model\n\u001b[1;32m    384\u001b[0m )\n",
      "\u001b[0;31mParamValidationError\u001b[0m: Parameter validation failed:\nUnknown parameter in retrievalConfiguration: \"rerankingConfiguration\", must be one of: vectorSearchConfiguration",
      "\nDuring handling of the above exception, another exception occurred:\n",
      "\u001b[0;31mRuntimeError\u001b[0m                              Traceback (most recent call last)",
      "Cell \u001b[0;32mIn[46], line 1\u001b[0m\n\u001b[0;32m----> 1\u001b[0m retrieved_contexts_with_reranker \u001b[38;5;241m=\u001b[39m \u001b[43mretrieve_from_knowledge_base\u001b[49m\u001b[43m(\u001b[49m\u001b[43mkb_id\u001b[49m\u001b[43m,\u001b[49m\u001b[43m \u001b[49m\u001b[43mquery\u001b[49m\u001b[43m,\u001b[49m\u001b[43m \u001b[49m\u001b[43mnumber_of_results\u001b[49m\u001b[38;5;241;43m=\u001b[39;49m\u001b[38;5;241;43m10\u001b[39;49m\u001b[43m,\u001b[49m\u001b[43m \u001b[49m\u001b[43mreranker_model\u001b[49m\u001b[38;5;241;43m=\u001b[39;49m\u001b[43mAMAZON_RERANKER_MODEL\u001b[49m\u001b[43m)\u001b[49m\n",
      "Cell \u001b[0;32mIn[45], line 32\u001b[0m, in \u001b[0;36mretrieve_from_knowledge_base\u001b[0;34m(knowledge_base_id, query, number_of_results, reranker_model)\u001b[0m\n\u001b[1;32m     30\u001b[0m     \u001b[38;5;28;01mreturn\u001b[39;00m response\u001b[38;5;241m.\u001b[39mget(\u001b[38;5;124m\"\u001b[39m\u001b[38;5;124mretrievalResults\u001b[39m\u001b[38;5;124m\"\u001b[39m, [])\n\u001b[1;32m     31\u001b[0m \u001b[38;5;28;01mexcept\u001b[39;00m \u001b[38;5;167;01mException\u001b[39;00m \u001b[38;5;28;01mas\u001b[39;00m e:\n\u001b[0;32m---> 32\u001b[0m     \u001b[38;5;28;01mraise\u001b[39;00m \u001b[38;5;167;01mRuntimeError\u001b[39;00m(\u001b[38;5;124mf\u001b[39m\u001b[38;5;124m\"\u001b[39m\u001b[38;5;124mFailed to retrieve results: \u001b[39m\u001b[38;5;132;01m{\u001b[39;00m\u001b[38;5;28mstr\u001b[39m(e)\u001b[38;5;132;01m}\u001b[39;00m\u001b[38;5;124m\"\u001b[39m)\n",
      "\u001b[0;31mRuntimeError\u001b[0m: Failed to retrieve results: Parameter validation failed:\nUnknown parameter in retrievalConfiguration: \"rerankingConfiguration\", must be one of: vectorSearchConfiguration"
     ]
    }
   ],
   "source": [
    "retrieved_contexts_with_reranker = retrieve_from_knowledge_base(kb_id, query, number_of_results=10, reranker_model=AMAZON_RERANKER_MODEL)"
   ]
  },
  {
   "cell_type": "code",
   "execution_count": 51,
   "metadata": {},
   "outputs": [],
   "source": [
    "def retrieve_from_knowledge_base(knowledge_base_id, query, number_of_results=5, reranker_model=None):\n",
    "    # Basic retrieval configuration\n",
    "    retrieval_config = {\n",
    "        \"vectorSearchConfiguration\": {\n",
    "            \"numberOfResults\": number_of_results\n",
    "        }\n",
    "    }\n",
    "\n",
    "    # Add reranking configuration if a reranker model is provided\n",
    "    if reranker_model:\n",
    "        retrieval_config[\"vectorSearchConfiguration\"].update({\n",
    "            \"overrideSearchType\": \"SEMANTIC\",  # Optional: Use SEMANTIC or HYBRID as per your needs\n",
    "            \"bedrockRerankingConfiguration\": {\n",
    "                \"modelConfiguration\": {\n",
    "                    \"modelArn\": reranker_model\n",
    "                },\n",
    "                \"numberOfRerankedResults\": min(number_of_results, 3),  # Ensure reranked results <= total results\n",
    "                \"metadataConfiguration\": {\n",
    "                    \"selectionMode\": \"ALL\"  # Adjust to 'SELECTIVE' if specific fields need to be used\n",
    "                }\n",
    "            }\n",
    "        })\n",
    "\n",
    "    try:\n",
    "        response = bedrock_agent_runtime_client.retrieve(\n",
    "            knowledgeBaseId=knowledge_base_id,\n",
    "            retrievalQuery={\"text\": query},\n",
    "            retrievalConfiguration=retrieval_config\n",
    "        )\n",
    "        return response.get(\"retrievalResults\", [])\n",
    "    except Exception as e:\n",
    "        raise RuntimeError(f\"Failed to retrieve results: {str(e)}\")\n"
   ]
  },
  {
   "cell_type": "code",
   "execution_count": 52,
   "metadata": {},
   "outputs": [
    {
     "ename": "RuntimeError",
     "evalue": "Failed to retrieve results: Parameter validation failed:\nUnknown parameter in retrievalConfiguration.vectorSearchConfiguration: \"bedrockRerankingConfiguration\", must be one of: filter, numberOfResults, overrideSearchType",
     "output_type": "error",
     "traceback": [
      "\u001b[0;31m---------------------------------------------------------------------------\u001b[0m",
      "\u001b[0;31mParamValidationError\u001b[0m                      Traceback (most recent call last)",
      "Cell \u001b[0;32mIn[51], line 25\u001b[0m, in \u001b[0;36mretrieve_from_knowledge_base\u001b[0;34m(knowledge_base_id, query, number_of_results, reranker_model)\u001b[0m\n\u001b[1;32m     24\u001b[0m \u001b[38;5;28;01mtry\u001b[39;00m:\n\u001b[0;32m---> 25\u001b[0m     response \u001b[38;5;241m=\u001b[39m \u001b[43mbedrock_agent_runtime_client\u001b[49m\u001b[38;5;241;43m.\u001b[39;49m\u001b[43mretrieve\u001b[49m\u001b[43m(\u001b[49m\n\u001b[1;32m     26\u001b[0m \u001b[43m        \u001b[49m\u001b[43mknowledgeBaseId\u001b[49m\u001b[38;5;241;43m=\u001b[39;49m\u001b[43mknowledge_base_id\u001b[49m\u001b[43m,\u001b[49m\n\u001b[1;32m     27\u001b[0m \u001b[43m        \u001b[49m\u001b[43mretrievalQuery\u001b[49m\u001b[38;5;241;43m=\u001b[39;49m\u001b[43m{\u001b[49m\u001b[38;5;124;43m\"\u001b[39;49m\u001b[38;5;124;43mtext\u001b[39;49m\u001b[38;5;124;43m\"\u001b[39;49m\u001b[43m:\u001b[49m\u001b[43m \u001b[49m\u001b[43mquery\u001b[49m\u001b[43m}\u001b[49m\u001b[43m,\u001b[49m\n\u001b[1;32m     28\u001b[0m \u001b[43m        \u001b[49m\u001b[43mretrievalConfiguration\u001b[49m\u001b[38;5;241;43m=\u001b[39;49m\u001b[43mretrieval_config\u001b[49m\n\u001b[1;32m     29\u001b[0m \u001b[43m    \u001b[49m\u001b[43m)\u001b[49m\n\u001b[1;32m     30\u001b[0m     \u001b[38;5;28;01mreturn\u001b[39;00m response\u001b[38;5;241m.\u001b[39mget(\u001b[38;5;124m\"\u001b[39m\u001b[38;5;124mretrievalResults\u001b[39m\u001b[38;5;124m\"\u001b[39m, [])\n",
      "File \u001b[0;32m/opt/homebrew/Caskroom/miniforge/base/envs/genai-on-aws-p3.8/lib/python3.8/site-packages/botocore/client.py:565\u001b[0m, in \u001b[0;36mClientCreator._create_api_method.<locals>._api_call\u001b[0;34m(self, *args, **kwargs)\u001b[0m\n\u001b[1;32m    564\u001b[0m \u001b[38;5;66;03m# The \"self\" in this scope is referring to the BaseClient.\u001b[39;00m\n\u001b[0;32m--> 565\u001b[0m \u001b[38;5;28;01mreturn\u001b[39;00m \u001b[38;5;28;43mself\u001b[39;49m\u001b[38;5;241;43m.\u001b[39;49m\u001b[43m_make_api_call\u001b[49m\u001b[43m(\u001b[49m\u001b[43moperation_name\u001b[49m\u001b[43m,\u001b[49m\u001b[43m \u001b[49m\u001b[43mkwargs\u001b[49m\u001b[43m)\u001b[49m\n",
      "File \u001b[0;32m/opt/homebrew/Caskroom/miniforge/base/envs/genai-on-aws-p3.8/lib/python3.8/site-packages/botocore/client.py:974\u001b[0m, in \u001b[0;36mBaseClient._make_api_call\u001b[0;34m(self, operation_name, api_params)\u001b[0m\n\u001b[1;32m    973\u001b[0m     request_context[\u001b[38;5;124m'\u001b[39m\u001b[38;5;124mendpoint_properties\u001b[39m\u001b[38;5;124m'\u001b[39m] \u001b[38;5;241m=\u001b[39m properties\n\u001b[0;32m--> 974\u001b[0m request_dict \u001b[38;5;241m=\u001b[39m \u001b[38;5;28;43mself\u001b[39;49m\u001b[38;5;241;43m.\u001b[39;49m\u001b[43m_convert_to_request_dict\u001b[49m\u001b[43m(\u001b[49m\n\u001b[1;32m    975\u001b[0m \u001b[43m    \u001b[49m\u001b[43mapi_params\u001b[49m\u001b[38;5;241;43m=\u001b[39;49m\u001b[43mapi_params\u001b[49m\u001b[43m,\u001b[49m\n\u001b[1;32m    976\u001b[0m \u001b[43m    \u001b[49m\u001b[43moperation_model\u001b[49m\u001b[38;5;241;43m=\u001b[39;49m\u001b[43moperation_model\u001b[49m\u001b[43m,\u001b[49m\n\u001b[1;32m    977\u001b[0m \u001b[43m    \u001b[49m\u001b[43mendpoint_url\u001b[49m\u001b[38;5;241;43m=\u001b[39;49m\u001b[43mendpoint_url\u001b[49m\u001b[43m,\u001b[49m\n\u001b[1;32m    978\u001b[0m \u001b[43m    \u001b[49m\u001b[43mcontext\u001b[49m\u001b[38;5;241;43m=\u001b[39;49m\u001b[43mrequest_context\u001b[49m\u001b[43m,\u001b[49m\n\u001b[1;32m    979\u001b[0m \u001b[43m    \u001b[49m\u001b[43mheaders\u001b[49m\u001b[38;5;241;43m=\u001b[39;49m\u001b[43madditional_headers\u001b[49m\u001b[43m,\u001b[49m\n\u001b[1;32m    980\u001b[0m \u001b[43m\u001b[49m\u001b[43m)\u001b[49m\n\u001b[1;32m    981\u001b[0m resolve_checksum_context(request_dict, operation_model, api_params)\n",
      "File \u001b[0;32m/opt/homebrew/Caskroom/miniforge/base/envs/genai-on-aws-p3.8/lib/python3.8/site-packages/botocore/client.py:1041\u001b[0m, in \u001b[0;36mBaseClient._convert_to_request_dict\u001b[0;34m(self, api_params, operation_model, endpoint_url, context, headers, set_user_agent_header)\u001b[0m\n\u001b[1;32m   1032\u001b[0m \u001b[38;5;28;01mdef\u001b[39;00m \u001b[38;5;21m_convert_to_request_dict\u001b[39m(\n\u001b[1;32m   1033\u001b[0m     \u001b[38;5;28mself\u001b[39m,\n\u001b[1;32m   1034\u001b[0m     api_params,\n\u001b[0;32m   (...)\u001b[0m\n\u001b[1;32m   1039\u001b[0m     set_user_agent_header\u001b[38;5;241m=\u001b[39m\u001b[38;5;28;01mTrue\u001b[39;00m,\n\u001b[1;32m   1040\u001b[0m ):\n\u001b[0;32m-> 1041\u001b[0m     request_dict \u001b[38;5;241m=\u001b[39m \u001b[38;5;28;43mself\u001b[39;49m\u001b[38;5;241;43m.\u001b[39;49m\u001b[43m_serializer\u001b[49m\u001b[38;5;241;43m.\u001b[39;49m\u001b[43mserialize_to_request\u001b[49m\u001b[43m(\u001b[49m\n\u001b[1;32m   1042\u001b[0m \u001b[43m        \u001b[49m\u001b[43mapi_params\u001b[49m\u001b[43m,\u001b[49m\u001b[43m \u001b[49m\u001b[43moperation_model\u001b[49m\n\u001b[1;32m   1043\u001b[0m \u001b[43m    \u001b[49m\u001b[43m)\u001b[49m\n\u001b[1;32m   1044\u001b[0m     \u001b[38;5;28;01mif\u001b[39;00m \u001b[38;5;129;01mnot\u001b[39;00m \u001b[38;5;28mself\u001b[39m\u001b[38;5;241m.\u001b[39m_client_config\u001b[38;5;241m.\u001b[39minject_host_prefix:\n",
      "File \u001b[0;32m/opt/homebrew/Caskroom/miniforge/base/envs/genai-on-aws-p3.8/lib/python3.8/site-packages/botocore/validate.py:381\u001b[0m, in \u001b[0;36mParamValidationDecorator.serialize_to_request\u001b[0;34m(self, parameters, operation_model)\u001b[0m\n\u001b[1;32m    380\u001b[0m     \u001b[38;5;28;01mif\u001b[39;00m report\u001b[38;5;241m.\u001b[39mhas_errors():\n\u001b[0;32m--> 381\u001b[0m         \u001b[38;5;28;01mraise\u001b[39;00m ParamValidationError(report\u001b[38;5;241m=\u001b[39mreport\u001b[38;5;241m.\u001b[39mgenerate_report())\n\u001b[1;32m    382\u001b[0m \u001b[38;5;28;01mreturn\u001b[39;00m \u001b[38;5;28mself\u001b[39m\u001b[38;5;241m.\u001b[39m_serializer\u001b[38;5;241m.\u001b[39mserialize_to_request(\n\u001b[1;32m    383\u001b[0m     parameters, operation_model\n\u001b[1;32m    384\u001b[0m )\n",
      "\u001b[0;31mParamValidationError\u001b[0m: Parameter validation failed:\nUnknown parameter in retrievalConfiguration.vectorSearchConfiguration: \"bedrockRerankingConfiguration\", must be one of: filter, numberOfResults, overrideSearchType",
      "\nDuring handling of the above exception, another exception occurred:\n",
      "\u001b[0;31mRuntimeError\u001b[0m                              Traceback (most recent call last)",
      "Cell \u001b[0;32mIn[52], line 1\u001b[0m\n\u001b[0;32m----> 1\u001b[0m retrieved_contexts_with_reranker \u001b[38;5;241m=\u001b[39m \u001b[43mretrieve_from_knowledge_base\u001b[49m\u001b[43m(\u001b[49m\u001b[43mkb_id\u001b[49m\u001b[43m,\u001b[49m\u001b[43m \u001b[49m\u001b[43mquery\u001b[49m\u001b[43m,\u001b[49m\u001b[43m \u001b[49m\u001b[43mnumber_of_results\u001b[49m\u001b[38;5;241;43m=\u001b[39;49m\u001b[38;5;241;43m10\u001b[39;49m\u001b[43m,\u001b[49m\u001b[43m \u001b[49m\u001b[43mreranker_model\u001b[49m\u001b[38;5;241;43m=\u001b[39;49m\u001b[43mAMAZON_RERANKER_MODEL\u001b[49m\u001b[43m)\u001b[49m\n",
      "Cell \u001b[0;32mIn[51], line 32\u001b[0m, in \u001b[0;36mretrieve_from_knowledge_base\u001b[0;34m(knowledge_base_id, query, number_of_results, reranker_model)\u001b[0m\n\u001b[1;32m     30\u001b[0m     \u001b[38;5;28;01mreturn\u001b[39;00m response\u001b[38;5;241m.\u001b[39mget(\u001b[38;5;124m\"\u001b[39m\u001b[38;5;124mretrievalResults\u001b[39m\u001b[38;5;124m\"\u001b[39m, [])\n\u001b[1;32m     31\u001b[0m \u001b[38;5;28;01mexcept\u001b[39;00m \u001b[38;5;167;01mException\u001b[39;00m \u001b[38;5;28;01mas\u001b[39;00m e:\n\u001b[0;32m---> 32\u001b[0m     \u001b[38;5;28;01mraise\u001b[39;00m \u001b[38;5;167;01mRuntimeError\u001b[39;00m(\u001b[38;5;124mf\u001b[39m\u001b[38;5;124m\"\u001b[39m\u001b[38;5;124mFailed to retrieve results: \u001b[39m\u001b[38;5;132;01m{\u001b[39;00m\u001b[38;5;28mstr\u001b[39m(e)\u001b[38;5;132;01m}\u001b[39;00m\u001b[38;5;124m\"\u001b[39m)\n",
      "\u001b[0;31mRuntimeError\u001b[0m: Failed to retrieve results: Parameter validation failed:\nUnknown parameter in retrievalConfiguration.vectorSearchConfiguration: \"bedrockRerankingConfiguration\", must be one of: filter, numberOfResults, overrideSearchType"
     ]
    }
   ],
   "source": [
    "retrieved_contexts_with_reranker = retrieve_from_knowledge_base(kb_id, query, number_of_results=10, reranker_model=AMAZON_RERANKER_MODEL)\n"
   ]
  },
  {
   "cell_type": "code",
   "execution_count": null,
   "metadata": {},
   "outputs": [],
   "source": []
  }
 ],
 "metadata": {
  "kernelspec": {
   "display_name": "genai-on-aws-p3.8",
   "language": "python",
   "name": "python3"
  },
  "language_info": {
   "codemirror_mode": {
    "name": "ipython",
    "version": 3
   },
   "file_extension": ".py",
   "mimetype": "text/x-python",
   "name": "python",
   "nbconvert_exporter": "python",
   "pygments_lexer": "ipython3",
   "version": "3.8.18"
  }
 },
 "nbformat": 4,
 "nbformat_minor": 2
}
